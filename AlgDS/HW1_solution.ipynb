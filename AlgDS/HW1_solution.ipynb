{
 "cells": [
  {
   "cell_type": "markdown",
   "metadata": {},
   "source": [
    "Exercise 1.1 KNN"
   ]
  },
  {
   "cell_type": "code",
   "execution_count": 3,
   "metadata": {},
   "outputs": [
    {
     "name": "stdout",
     "output_type": "stream",
     "text": [
      "[ 1  1  1  1 -1]\n",
      "[ 1 -1 -1  1  1]\n",
      "[ 1 -1 -1 -1 -1]\n",
      "[ 1 -1 -1 -1 -1]\n",
      "The 3-closed points' distance of [4, 3, 3] are [1.  2.  2.2]\n",
      "3-closed points index from train_x are [9 0 2]\n",
      "The 3-closed points' distance of [4, -1, 1] are [3.1 4.9 6. ]\n",
      "3-closed points index from train_x are [ 6 10  1]\n",
      "The 3-closed points' distance of [-2, 4, 5] are [3.5 7.  7.2]\n",
      "3-closed points index from train_x are [5 0 2]\n",
      "The 3-closed points' distance of [-2, -6, -1] are [ 7.  12.2 13. ]\n",
      "3-closed points index from train_x are [13 18  1]\n",
      "The 3-closed points' distance of [6, 0, 2] are [5.1 6.  6.2]\n",
      "3-closed points index from train_x are [ 6 15 14]\n"
     ]
    }
   ],
   "source": [
    "'''\n",
    "EXERCISE 2.\n",
    "\n",
    "The training set S is \n",
    "'''\n",
    "data = [([4, 4, 4], 1),\n",
    "([4, -4, 4], 1),     \n",
    "([4.2, 3.1, 4.9], 1),\n",
    "([4.6, 4.8, 3.4], 1),\n",
    "([4.6, 4.8, 2.8], -1),\n",
    "([0, 4.2, 3.7], -1),\n",
    "([4, -1, 4.1], -1),\n",
    "([6.3, 5.1, 4.2], -1),\n",
    "([5, 5, 5], 1), \n",
    "([4, 3, 4], 1),\n",
    "([4.2, -3.1, 3.6], 1),\n",
    "([2.5, 3.6, 2.5], -1), \n",
    "([4.1, 4.3, -1], -1),\n",
    "([-4, -4, -4], -1),\n",
    "([2, 2, 2.2], -1), \n",
    "([7, 4, 3], -1), \n",
    "([12, 15, 6], -1),\n",
    "([3.6, -4.1, 5.6], -1), \n",
    "([3.1, -4.8, 4.9], 1), \n",
    "([2.8, 4.6, 3.1], -1)]\n",
    "\n",
    "from sklearn.neighbors import KNeighborsClassifier\n",
    "\n",
    "train_X = [] \n",
    "train_Y = []\n",
    "\n",
    "for item in data:\n",
    "    train_X.append(item[0])\n",
    "    train_Y.append(item[1])\n",
    "\n",
    "KNN_1 = KNeighborsClassifier(n_neighbors=3, p=1)\n",
    "KNN_2 = KNeighborsClassifier(n_neighbors=3, p=2)\n",
    "KNN_3 = KNeighborsClassifier(n_neighbors=2, p=1)\n",
    "KNN_4 = KNeighborsClassifier(n_neighbors=2, p=2)\n",
    "\n",
    "KNN_1.fit(train_X,train_Y)\n",
    "KNN_2.fit(train_X,train_Y)\n",
    "KNN_3.fit(train_X,train_Y)\n",
    "KNN_4.fit(train_X,train_Y)\n",
    "\n",
    "test_X = [[4,3,3], [4,-1,1], [-2,4,5], [-2,-6,-1],[6,0,2]]\n",
    "\n",
    "predict_X_1 = KNN_1.predict(test_X)\n",
    "predict_X_2 = KNN_2.predict(test_X)\n",
    "predict_X_3 = KNN_3.predict(test_X)\n",
    "predict_X_4 = KNN_4.predict(test_X)\n",
    "print(predict_X_1)\n",
    "print(predict_X_2)\n",
    "print(predict_X_3)\n",
    "print(predict_X_4)\n",
    "\n",
    "# show detailed calculation results\n",
    "information = KNN_1.kneighbors(test_X, n_neighbors=3,return_distance=True)\n",
    "# print(type(information))\n",
    "for i,datapoint in enumerate(test_X):\n",
    "    print(\"The 3-closed points' distance of\", datapoint,'are',information[0][i])\n",
    "    print('3-closed points index from train_x are',information[1][i])"
   ]
  }
 ],
 "metadata": {
  "kernelspec": {
   "display_name": "Python 3",
   "language": "python",
   "name": "python3"
  },
  "language_info": {
   "codemirror_mode": {
    "name": "ipython",
    "version": 3
   },
   "file_extension": ".py",
   "mimetype": "text/x-python",
   "name": "python",
   "nbconvert_exporter": "python",
   "pygments_lexer": "ipython3",
   "version": "3.7.4"
  }
 },
 "nbformat": 4,
 "nbformat_minor": 2
}
