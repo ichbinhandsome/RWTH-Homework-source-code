{
 "cells": [
  {
   "cell_type": "code",
   "execution_count": 7,
   "metadata": {},
   "outputs": [
    {
     "name": "stdout",
     "output_type": "stream",
     "text": [
      "{1: 1, 2: 2, 3: 2, 4: 3, 5: 2, 6: 4, 8: 2, 10: 2, 12: 4, 9: 1, 15: 2, 18: 2, 16: 1, 20: 2, 24: 2, 25: 1, 30: 2, 36: 1}\n",
      "12.25\n",
      "441\n",
      "79.96527777777777\n"
     ]
    }
   ],
   "source": [
    "dices = [1,2,3,4,5,6]\n",
    "count = {}\n",
    "n = 36\n",
    "s = 0\n",
    "for i in dices:\n",
    "    for j in dices:\n",
    "        re = i*j\n",
    "        s += re\n",
    "        if re not in count:\n",
    "            count[re] = 1\n",
    "        else:\n",
    "            count [re] +=1\n",
    "#         n += 1\n",
    "ex = 0\n",
    "print(count)\n",
    "for i,v in count.items():\n",
    "    ex += i*v/n\n",
    "print(ex)\n",
    "print(s)\n",
    "var = 0\n",
    "for i,v in count.items():\n",
    "    var += (i-ex)**2*v/n  \n",
    "print(var)"
   ]
  },
  {
   "cell_type": "code",
   "execution_count": 21,
   "metadata": {},
   "outputs": [
    {
     "name": "stdout",
     "output_type": "stream",
     "text": [
      "42.875\n",
      "{1: 1, 2: 3, 3: 3, 4: 6, 5: 3, 6: 9, 8: 7, 10: 6, 12: 15, 9: 3, 15: 6, 18: 9, 16: 6, 20: 9, 24: 15, 25: 3, 30: 12, 36: 12, 32: 3, 40: 6, 48: 9, 50: 3, 60: 12, 72: 9, 27: 1, 45: 3, 54: 3, 75: 3, 90: 6, 108: 3, 64: 1, 80: 3, 96: 3, 100: 3, 120: 6, 144: 3, 125: 1, 150: 3, 180: 3, 216: 1}\n",
      "1650.4890046296298\n"
     ]
    }
   ],
   "source": [
    "dices = [1,2,3,4,5,6]\n",
    "count = {}\n",
    "n = 6**3\n",
    "for i in dices:\n",
    "    for j in dices:\n",
    "        for k in dices:\n",
    "            re = i*j*k\n",
    "            if re not in count:\n",
    "                count[re] = 1\n",
    "            else:\n",
    "                count [re] +=1\n",
    "ex = 0\n",
    "for i,v in count.items():\n",
    "    ex += i*v/n\n",
    "print(ex)\n",
    "print(count)\n",
    "var = 0\n",
    "for i,v in count.items():\n",
    "    var += (i-ex)**2*v/n  \n",
    "print(var)"
   ]
  }
 ],
 "metadata": {
  "kernelspec": {
   "display_name": "Python 3",
   "language": "python",
   "name": "python3"
  },
  "language_info": {
   "codemirror_mode": {
    "name": "ipython",
    "version": 3
   },
   "file_extension": ".py",
   "mimetype": "text/x-python",
   "name": "python",
   "nbconvert_exporter": "python",
   "pygments_lexer": "ipython3",
   "version": "3.7.4"
  }
 },
 "nbformat": 4,
 "nbformat_minor": 2
}
