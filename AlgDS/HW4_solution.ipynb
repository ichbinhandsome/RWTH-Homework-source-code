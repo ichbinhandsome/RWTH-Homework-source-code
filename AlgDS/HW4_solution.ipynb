{
 "cells": [
  {
   "cell_type": "markdown",
   "metadata": {},
   "source": [
    "## EX. 1"
   ]
  },
  {
   "cell_type": "code",
   "execution_count": 1,
   "metadata": {},
   "outputs": [],
   "source": [
    "import numpy as np\n",
    "\n",
    "def zeroMean(dataMat):      \n",
    "    meanVal=np.mean(dataMat,axis=0)     #按列求均值，即求各个特征的均值\n",
    "    newData=dataMat-meanVal\n",
    "    return newData,meanVal\n",
    "\n",
    "def pca(dataMat,n):\n",
    "    newData,meanVal=zeroMean(dataMat)\n",
    "    print(newData)\n",
    "    print('mean_vector', meanVal, '\\n')\n",
    "    # newData = dataMat\n",
    "    covMat=np.cov(newData,rowvar=0)    #求协方差矩阵,return ndarray；若rowvar非0，一列代表一个样本，为0，一行代表一个样本\n",
    "    \n",
    "    eigVals,eigVects=np.linalg.eig(np.mat(covMat))#求特征值和特征向量,特征向量是按列放的，即一列代表一个特征向量\n",
    "    print('eigenvalues:', eigVals,'\\n')\n",
    "    print('eigenvectors:',eigVects, '\\n')\n",
    "    eigValIndice=np.argsort(eigVals)            #对特征值从小到大排序\n",
    "    n_eigValIndice=eigValIndice[-1:-(n+1):-1]   #最大的n个特征值的下标\n",
    "    n_eigVect=eigVects[:,n_eigValIndice]        #最大的n个特征值对应的特征向量\n",
    "    for i in n_eigValIndice:\n",
    "        print('the', i+1, 'st', 'eigenvalue is: ', eigVals[i],'\\n')\n",
    "        print('the', i+1, 'st', 'eigenvector is: ',eigVects[:,i], '\\n' )\n",
    "    # lowDDataMat=newData*n_eigVect               #低维特征空间的数据\n",
    "    # reconMat=(lowDDataMat*n_eigVect.T)+meanVal  #重构数据\n",
    "    # return lowDDataMat,reconMat\n",
    "    return n_eigValIndice, n_eigVect"
   ]
  },
  {
   "cell_type": "code",
   "execution_count": 2,
   "metadata": {},
   "outputs": [
    {
     "output_type": "stream",
     "name": "stdout",
     "text": "[[ 3.   1.   1. ]\n [ 6.5  1.   1.5]\n [ 5.5  3.   2.5]\n [ 0.5 -1.  -0.5]\n [-0.5  1.   0.5]] \n\n[[ 0.   0.   0. ]\n [ 3.5  0.   0.5]\n [ 2.5  2.   1.5]\n [-2.5 -2.  -1.5]\n [-3.5  0.  -0.5]]\nmean_vector [3. 1. 1.] \n\neigenvalues: [1.10000000e+01 1.50000000e+00 1.84339738e-16] \n\neigenvectors: [[ 0.90453403  0.40824829 -0.12309149]\n [ 0.30151134 -0.81649658 -0.49236596]\n [ 0.30151134 -0.40824829  0.86164044]] \n\nthe 1 st eigenvalue is:  11.000000000000002 \n\nthe 1 st eigenvector is:  [[0.90453403]\n [0.30151134]\n [0.30151134]] \n\nthe 2 st eigenvalue is:  1.500000000000002 \n\nthe 2 st eigenvector is:  [[ 0.40824829]\n [-0.81649658]\n [-0.40824829]] \n\n"
    },
    {
     "output_type": "execute_result",
     "data": {
      "text/plain": "(array([0, 1], dtype=int64), matrix([[ 0.90453403,  0.40824829],\n         [ 0.30151134, -0.81649658],\n         [ 0.30151134, -0.40824829]]))"
     },
     "metadata": {},
     "execution_count": 2
    }
   ],
   "source": [
    "data = np.array([[3,1,1],[6.5,1,1.5],[5.5,3,2.5],[0.5,-1,-0.5],[-0.5,1,0.5]])\n",
    "print(data, '\\n')\n",
    "pca(data, 2)"
   ]
  },
  {
   "cell_type": "markdown",
   "metadata": {},
   "source": [
    "## EX. 3"
   ]
  },
  {
   "cell_type": "markdown",
   "metadata": {},
   "source": [
    "### a)"
   ]
  },
  {
   "cell_type": "code",
   "execution_count": 3,
   "metadata": {},
   "outputs": [],
   "source": [
    "# power iteration method\n",
    "import numpy as np\n",
    "def power_iteration (A, num_simulations ):\n",
    " # Ideally choose a random vector\n",
    " # To decrease the chance that our vector\n",
    " # Is orthogonal to the eigenvector\n",
    " b_k = np.ones(A.shape[0])/ np.sqrt(A.shape[0])\n",
    " print('init eigenvector:', b_k,'\\n')\n",
    " for _ in range(num_simulations):\n",
    "    # calculate the matrix-by-vector product Ab\n",
    "    b_k1 = np.dot(A, b_k)\n",
    "    # calculate the norm\n",
    "    b_k1_norm = np.linalg.norm(b_k1)\n",
    "    # re normalize the vector\n",
    "    b_k = b_k1 / b_k1_norm\n",
    "\n",
    "    ev_new = eigenvalue(A, b_k)\n",
    "    print(_+1, 'st iteration eigenvalue:', ev_new)\n",
    "    print(_+1, 'st iteration eigenvector:', b_k, '\\n')\n",
    " return b_k\n",
    "\n",
    "def eigenvalue(A, v):\n",
    "    Av = A.dot(v)\n",
    "    return v.dot(Av)"
   ]
  },
  {
   "cell_type": "code",
   "execution_count": 4,
   "metadata": {},
   "outputs": [
    {
     "output_type": "stream",
     "name": "stdout",
     "text": "init eigenvector: [0.70710678 0.70710678] \n\n1 st iteration eigenvalue: -2.758620689655172\n1 st iteration eigenvector: [-0.92847669 -0.37139068] \n\n2 st iteration eigenvalue: -2.2760180995475108\n2 st iteration eigenvector: [0.94174191 0.3363364 ] \n\n3 st iteration eigenvalue: -2.1213973799126644\n3 st iteration eigenvector: [-0.9456866  -0.32507977] \n\n4 st iteration eigenvalue: -2.0572482049291687\n4 st iteration eigenvector: [0.94728103 0.32040388] \n\n5 st iteration eigenvalue: -2.027832546196526\n5 st iteration eigenvector: [-0.94800398 -0.31825848] \n\ninit eigenvector: [0.57735027 0.57735027 0.57735027] \n\n1 st iteration eigenvalue: 2.1428571428571423\n1 st iteration eigenvector: [0.50709255 0.16903085 0.84515425] \n\n2 st iteration eigenvalue: 2.9298245614035086\n2 st iteration eigenvector: [0.38235956 0.38235956 0.84119102] \n\n3 st iteration eigenvalue: 3.101694915254238\n3 st iteration eigenvector: [0.39056673 0.4426423  0.80717125] \n\n4 st iteration eigenvalue: 3.0067553303778762\n4 st iteration eigenvector: [0.41103969 0.41103969 0.81369082] \n\n5 st iteration eigenvalue: 2.988558797661947\n5 st iteration eigenvector: [0.41010447 0.40452482 0.81741911] \n\n"
    },
    {
     "output_type": "execute_result",
     "data": {
      "text/plain": "array([0.41010447, 0.40452482, 0.81741911])"
     },
     "metadata": {},
     "execution_count": 4
    }
   ],
   "source": [
    "m1 = np.array([[2,-12],[1,-5]])\n",
    "m2 = np.array([[1,2,0],[-2,1,2],[1,3,1]])\n",
    "\n",
    "power_iteration(m1,5)\n",
    "power_iteration(m2,5)"
   ]
  },
  {
   "cell_type": "markdown",
   "metadata": {},
   "source": [
    "### b)"
   ]
  },
  {
   "cell_type": "code",
   "execution_count": 5,
   "metadata": {},
   "outputs": [
    {
     "output_type": "stream",
     "name": "stdout",
     "text": "init eigenvector: [0.57735027 0.57735027 0.57735027] \n\n1 st iteration eigenvalue: 0.6666666666666669\n1 st iteration eigenvector: [ 0.57735027  0.57735027 -0.57735027] \n\n2 st iteration eigenvalue: 0.6666666666666666\n2 st iteration eigenvector: [0.57735027 0.57735027 0.57735027] \n\n3 st iteration eigenvalue: 0.6666666666666666\n3 st iteration eigenvector: [ 0.57735027  0.57735027 -0.57735027] \n\n"
    },
    {
     "output_type": "execute_result",
     "data": {
      "text/plain": "array([ 0.57735027,  0.57735027, -0.57735027])"
     },
     "metadata": {},
     "execution_count": 5
    }
   ],
   "source": [
    "m3 = np.array([[1,1,0],[3,-1,0],[0,0,-2]])\n",
    "power_iteration(m3,3)\n",
    "# it didn't converge, beacuse m3 doesn't have eigenvalue and eigenvector."
   ]
  },
  {
   "cell_type": "markdown",
   "metadata": {},
   "source": [
    "### c)"
   ]
  },
  {
   "cell_type": "code",
   "execution_count": 6,
   "metadata": {},
   "outputs": [],
   "source": [
    "import numpy as np\n",
    "def power_iteration_2 (A, num_simulations ):\n",
    " # Ideally choose a random vector\n",
    " # To decrease the chance that our vector\n",
    " # Is orthogonal to the eigenvector\n",
    " b_k = np.ones(A.shape[0])\n",
    " print('init:', b_k)\n",
    " for _ in range(num_simulations):\n",
    "    # calculate the matrix-by-vector product Ab\n",
    "    b_k1 = np.dot(A, b_k)\n",
    "    print(b_k1)\n",
    "    # calculate the norm\n",
    "    b_k1_norm = max(b_k1)\n",
    "    print(_+1, 'st iteration eigenvalue:',b_k1_norm)\n",
    "    # re normalize the vector\n",
    "    b_k = b_k1 / b_k1_norm\n",
    "\n",
    "    print(_+1, 'st iteration eigenvector:', b_k, '\\n')\n",
    " return b_k1_norm,b_k"
   ]
  },
  {
   "cell_type": "code",
   "execution_count": 7,
   "metadata": {},
   "outputs": [
    {
     "output_type": "stream",
     "name": "stdout",
     "text": "init: [1. 1.]\n[-10.  -4.]\n1 st iteration eigenvalue: -4.0\n1 st iteration eigenvector: [2.5 1. ] \n\n[-7.  -2.5]\n2 st iteration eigenvalue: -2.5\n2 st iteration eigenvector: [2.8 1. ] \n\n[-6.4 -2.2]\n3 st iteration eigenvalue: -2.2\n3 st iteration eigenvector: [2.90909091 1.        ] \n\n[-6.18181818 -2.09090909]\n4 st iteration eigenvalue: -2.090909090909091\n4 st iteration eigenvector: [2.95652174 1.        ] \n\n[-6.08695652 -2.04347826]\n5 st iteration eigenvalue: -2.043478260869565\n5 st iteration eigenvector: [2.9787234 1.       ] \n\n[-6.04255319 -2.0212766 ]\n6 st iteration eigenvalue: -2.0212765957446805\n6 st iteration eigenvector: [2.98947368 1.        ] \n\n[-6.02105263 -2.01052632]\n7 st iteration eigenvalue: -2.0105263157894737\n7 st iteration eigenvector: [2.9947644 1.       ] \n\n[-6.0104712 -2.0052356]\n8 st iteration eigenvalue: -2.005235602094241\n8 st iteration eigenvector: [2.99738903 1.        ] \n\n[-6.00522193 -2.00261097]\n9 st iteration eigenvalue: -2.0026109660574414\n9 st iteration eigenvector: [2.99869622 1.        ] \n\n[-6.00260756 -2.00130378]\n10 st iteration eigenvalue: -2.0013037809647978\n10 st iteration eigenvector: [2.99934853 1.        ] \n\n[-6.00130293 -2.00065147]\n11 st iteration eigenvalue: -2.0006514657980454\n11 st iteration eigenvector: [2.99967437 1.        ] \n\n[-6.00065125 -2.00032563]\n12 st iteration eigenvalue: -2.0003256268316507\n12 st iteration eigenvector: [2.99983721 1.        ] \n\n[-6.00032557 -2.00016279]\n13 st iteration eigenvalue: -2.000162786911932\n13 st iteration eigenvector: [2.99991861 1.        ] \n\n[-6.00016277 -2.00008139]\n14 st iteration eigenvalue: -2.0000813868316105\n14 st iteration eigenvector: [2.99995931 1.        ] \n\n[-6.00008138 -2.00004069]\n15 st iteration eigenvalue: -2.0000406917599185\n15 st iteration eigenvector: [2.99997965 1.        ] \n\n"
    },
    {
     "output_type": "execute_result",
     "data": {
      "text/plain": "(-2.0000406917599185, array([2.99997965, 1.        ]))"
     },
     "metadata": {},
     "execution_count": 7
    }
   ],
   "source": [
    "m1 = np.array([[2,-12],[1,-5]])\n",
    "power_iteration_2(m1,15)    "
   ]
  },
  {
   "cell_type": "markdown",
   "metadata": {},
   "source": [
    "### d)"
   ]
  },
  {
   "cell_type": "code",
   "execution_count": 8,
   "metadata": {},
   "outputs": [],
   "source": [
    "def power_iteration_3 (A):\n",
    " # Ideally choose a random vector\n",
    " # To decrease the chance that our vector\n",
    " # Is orthogonal to the eigenvector\n",
    " b_k = np.ones(A.shape[0])/ np.sqrt(A.shape[0])\n",
    " print('begin')\n",
    " i = 1\n",
    " while True:\n",
    "    temp = b_k\n",
    "    # calculate the matrix-by-vector product Ab\n",
    "    b_k1 = np.dot(A, b_k)\n",
    "    # calculate the norm\n",
    "    b_k1_norm = np.linalg.norm(b_k1)\n",
    "    # re normalize the vector\n",
    "    b_k = b_k1 / b_k1_norm\n",
    "    ev_new = eigenvalue(A, b_k)\n",
    "    # print(i, 'st iteration: eigenvalue:', ev_new, '\\n')\n",
    "    # print(i, 'st iteration eigenvector:', b_k, '\\n')\n",
    "    if max(b_k - temp) < 0.001:\n",
    "        print('end:', i ,'th iteration', '\\n')\n",
    "        break\n",
    "    i += 1\n",
    " return b_k"
   ]
  },
  {
   "cell_type": "code",
   "execution_count": 9,
   "metadata": {},
   "outputs": [
    {
     "output_type": "stream",
     "name": "stdout",
     "text": "begin\nend: 3 th iteration \n\nbegin\nend: 51 th iteration \n\n"
    },
    {
     "output_type": "execute_result",
     "data": {
      "text/plain": "array([0.58059186, 0.81419475])"
     },
     "metadata": {},
     "execution_count": 9
    }
   ],
   "source": [
    "m4 = np.array([[4,5],[6,5]])\n",
    "m5 = np.array([[-4,10],[7,5]])\n",
    "\n",
    "power_iteration_3(m4)\n",
    "power_iteration_3(m5)"
   ]
  },
  {
   "cell_type": "markdown",
   "metadata": {},
   "source": [
    "## EX. 4"
   ]
  },
  {
   "cell_type": "markdown",
   "metadata": {},
   "source": [
    "### a)"
   ]
  },
  {
   "cell_type": "code",
   "execution_count": 10,
   "metadata": {},
   "outputs": [],
   "source": [
    "L = [[2,-1,-1,0,0,0,0,0,0],\n",
    "     [-1,3,-1,-1,0,0,0,0,0],\n",
    "     [-1,-1,3,0,0,0,-1,0,0],\n",
    "     [0,-1,0,3,-1,-1,0,0,0],\n",
    "     [0,0,0,-1,2,-1,0,0,0],\n",
    "     [0,0,0,-1,-1,3,0,-1,0],\n",
    "     [0,0,-1,0,0,0,3,-1,-1],\n",
    "     [0,0,0,0,0,-1,-1,3,-1],\n",
    "     [0,0,0,0,0,0,-1,-1,2]\n",
    "    ]"
   ]
  },
  {
   "cell_type": "code",
   "execution_count": 11,
   "metadata": {},
   "outputs": [
    {
     "output_type": "stream",
     "name": "stdout",
     "text": "(9, 9)\n[[ True  True  True  True  True  True  True  True  True]\n [ True  True  True  True  True  True  True  True  True]\n [ True  True  True  True  True  True  True  True  True]\n [ True  True  True  True  True  True  True  True  True]\n [ True  True  True  True  True  True  True  True  True]\n [ True  True  True  True  True  True  True  True  True]\n [ True  True  True  True  True  True  True  True  True]\n [ True  True  True  True  True  True  True  True  True]\n [ True  True  True  True  True  True  True  True  True]]\n"
    }
   ],
   "source": [
    "import numpy as np\n",
    "\n",
    "L = np.array(L)\n",
    "\n",
    "print(L.shape)\n",
    "print(np.transpose(L) == L)"
   ]
  },
  {
   "cell_type": "markdown",
   "metadata": {},
   "source": [
    "### b)"
   ]
  },
  {
   "cell_type": "code",
   "execution_count": 12,
   "metadata": {},
   "outputs": [],
   "source": [
    "eigenvalue,featurevector=np.linalg.eig(L)"
   ]
  },
  {
   "cell_type": "code",
   "execution_count": 13,
   "metadata": {},
   "outputs": [
    {
     "output_type": "stream",
     "name": "stdout",
     "text": "[4.30278 3.      0.69722 0.      0.69722 3.      5.      4.30278 3.     ]\nindex: 0 \n 4.30278\nindex: 1 \n 3.0\nindex: 2 \n 0.69722\nindex: 3 \n 0.0\nindex: 4 \n 0.69722\nindex: 5 \n 3.0\nindex: 6 \n 5.0\nindex: 7 \n 4.30278\nindex: 8 \n 3.0\n"
    }
   ],
   "source": [
    "# print(eigenvalue.shape)\n",
    "eigenvalue=np.round(eigenvalue, 5)\n",
    "print(eigenvalue)\n",
    "for i in range(9):\n",
    "    print('index:',i, '\\n',eigenvalue[i])\n",
    "\n",
    "# three smalles index: 2,3,4\n",
    "# three smallest eigenvalue: 0.69722, 0,  0.69722"
   ]
  },
  {
   "cell_type": "code",
   "execution_count": 14,
   "metadata": {},
   "outputs": [
    {
     "output_type": "stream",
     "name": "stdout",
     "text": "(9, 9)\n"
    },
    {
     "output_type": "execute_result",
     "data": {
      "text/plain": "array([[ 0.315, -0.667, -0.588, -0.333, -0.149, -0.031,  0.   , -0.005,\n        -0.032],\n       [-0.362,  0.333, -0.383, -0.333,  0.017, -0.362,  0.408, -0.385,\n        -0.297],\n       [-0.362,  0.333, -0.383, -0.333, -0.211,  0.393, -0.408,  0.397,\n         0.329],\n       [ 0.519,  0.333,  0.089, -0.333,  0.401, -0.362, -0.408,  0.11 ,\n        -0.297],\n       [-0.157, -0.167,  0.294, -0.333,  0.567,  0.181,  0.   , -0.27 ,\n         0.625],\n       [-0.157, -0.167,  0.294, -0.333,  0.338,  0.181,  0.408,  0.512,\n        -0.328],\n       [ 0.519,  0.333,  0.089, -0.333, -0.355,  0.393,  0.408, -0.127,\n         0.329],\n       [-0.157, -0.167,  0.294, -0.333, -0.189,  0.181, -0.408, -0.506,\n        -0.328],\n       [-0.157, -0.167,  0.294, -0.333, -0.418, -0.574, -0.   ,  0.275,\n        -0.001]])"
     },
     "metadata": {},
     "execution_count": 14
    }
   ],
   "source": [
    "print(featurevector.shape)\n",
    "featurevector = np.round(featurevector, 3)\n",
    "featurevector"
   ]
  },
  {
   "cell_type": "code",
   "execution_count": 15,
   "metadata": {},
   "outputs": [
    {
     "output_type": "stream",
     "name": "stdout",
     "text": "[ 0.315 -0.362 -0.362  0.519 -0.157 -0.157  0.519 -0.157 -0.157] \n\n[-0.667  0.333  0.333  0.333 -0.167 -0.167  0.333 -0.167 -0.167] \n\none of the tree smallest eigenvalues eigenvector\n[-0.588 -0.383 -0.383  0.089  0.294  0.294  0.089  0.294  0.294] \n\none of the tree smallest eigenvalues eigenvector\n[-0.333 -0.333 -0.333 -0.333 -0.333 -0.333 -0.333 -0.333 -0.333] \n\none of the tree smallest eigenvalues eigenvector\n[-0.149  0.017 -0.211  0.401  0.567  0.338 -0.355 -0.189 -0.418] \n\n[-0.031 -0.362  0.393 -0.362  0.181  0.181  0.393  0.181 -0.574] \n\n[ 0.     0.408 -0.408 -0.408  0.     0.408  0.408 -0.408 -0.   ] \n\n[-0.005 -0.385  0.397  0.11  -0.27   0.512 -0.127 -0.506  0.275] \n\n[-0.032 -0.297  0.329 -0.297  0.625 -0.328  0.329 -0.328 -0.001] \n\n"
    }
   ],
   "source": [
    "#同一个特征值可对应多个特征向量，不同特征值对应的特征向量不相等\n",
    "# three smalles index: 2,3,4\n",
    "for i in range(9):\n",
    "    if i == 2 or i == 3 or i == 4:\n",
    "        print('one of the tree smallest eigenvalues eigenvector')\n",
    "    print(featurevector[:,i],'\\n')"
   ]
  },
  {
   "cell_type": "code",
   "execution_count": 16,
   "metadata": {},
   "outputs": [],
   "source": [
    "## test\n",
    "# X=[[-1,1,0],\n",
    "# [-4,3,0],\n",
    "# [1,0,2]]\n",
    "# X = np.array(X)\n",
    "# eigenvalue,featurevector=np.linalg.eig(X)\n",
    "# print (\"eigenvalue=\",eigenvalue)\n",
    "# print(\"featurevector=\",featurevector[:,0])"
   ]
  },
  {
   "cell_type": "markdown",
   "metadata": {},
   "source": [
    "### c)"
   ]
  },
  {
   "cell_type": "code",
   "execution_count": 17,
   "metadata": {},
   "outputs": [
    {
     "output_type": "execute_result",
     "data": {
      "text/plain": "array([[-0.333, -0.588, -0.149],\n       [-0.333, -0.383,  0.017],\n       [-0.333, -0.383, -0.211],\n       [-0.333,  0.089,  0.401],\n       [-0.333,  0.294,  0.567],\n       [-0.333,  0.294,  0.338],\n       [-0.333,  0.089, -0.355],\n       [-0.333,  0.294, -0.189],\n       [-0.333,  0.294, -0.418]])"
     },
     "metadata": {},
     "execution_count": 17
    }
   ],
   "source": [
    "#Compute orthonormal matrix U whose columns are eigenvectors to the k smallest eigenvalues of L\n",
    "U = np.array([featurevector[:,3],featurevector[:,2],featurevector[:,4]]).T\n",
    "U"
   ]
  },
  {
   "cell_type": "code",
   "execution_count": 18,
   "metadata": {},
   "outputs": [
    {
     "output_type": "stream",
     "name": "stdout",
     "text": "[2 2 2 0 0 0 1 1 1]\n1 belongs to cluster 2\n2 belongs to cluster 2\n3 belongs to cluster 2\n4 belongs to cluster 0\n5 belongs to cluster 0\n6 belongs to cluster 0\n7 belongs to cluster 1\n8 belongs to cluster 1\n9 belongs to cluster 1\n"
    }
   ],
   "source": [
    "# let x1,...xn  be the rows of U\n",
    "# cluster x1... xn using k-means, yielding clusters C1...Ck\n",
    "from sklearn.cluster import KMeans\n",
    "kmeans = KMeans(n_clusters=3, random_state=0)\n",
    "kmeans.fit(U)\n",
    "print(kmeans.labels_)\n",
    "for i,j in enumerate(kmeans.labels_):\n",
    "    if j == 0:\n",
    "        print(i+1, 'belongs to cluster',j)\n",
    "    elif j == 1:\n",
    "        print(i+1, 'belongs to cluster',j)\n",
    "    elif j == 2:\n",
    "        print(i+1, 'belongs to cluster',j)"
   ]
  }
 ],
 "metadata": {
  "language_info": {
   "codemirror_mode": {
    "name": "ipython",
    "version": 3
   },
   "file_extension": ".py",
   "mimetype": "text/x-python",
   "name": "python",
   "nbconvert_exporter": "python",
   "pygments_lexer": "ipython3",
   "version": "3.7.4-final"
  },
  "orig_nbformat": 2,
  "kernelspec": {
   "name": "python3",
   "display_name": "Python 3"
  }
 },
 "nbformat": 4,
 "nbformat_minor": 2
}