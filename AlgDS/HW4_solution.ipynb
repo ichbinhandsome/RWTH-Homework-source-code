{
 "cells": [
  {
   "cell_type": "markdown",
   "metadata": {},
   "source": [
    "## EX. 1"
   ]
  },
  {
   "cell_type": "code",
   "execution_count": 2,
   "metadata": {},
   "outputs": [],
   "source": [
    "import numpy as np\n",
    "\n",
    "def zeroMean(dataMat):      \n",
    "    meanVal=np.mean(dataMat,axis=0)     #按列求均值，即求各个特征的均值\n",
    "    newData=dataMat-meanVal\n",
    "    return newData,meanVal\n",
    "\n",
    "def pca(dataMat,n):\n",
    "    newData,meanVal=zeroMean(dataMat)\n",
    "    print(newData)\n",
    "    print('mean_vector', meanVal, '\\n')\n",
    "    # newData = dataMat\n",
    "    covMat=np.cov(newData,rowvar=0)    #求协方差矩阵,return ndarray；若rowvar非0，一列代表一个样本，为0，一行代表一个样本\n",
    "    \n",
    "    eigVals,eigVects=np.linalg.eig(np.mat(covMat))#求特征值和特征向量,特征向量是按列放的，即一列代表一个特征向量\n",
    "    print('eigenvalues:', eigVals,'\\n')\n",
    "    print('eigenvectors:',eigVects, '\\n')\n",
    "    eigValIndice=np.argsort(eigVals)            #对特征值从小到大排序\n",
    "    n_eigValIndice=eigValIndice[-1:-(n+1):-1]   #最大的n个特征值的下标\n",
    "    n_eigVect=eigVects[:,n_eigValIndice]        #最大的n个特征值对应的特征向量\n",
    "    for i in n_eigValIndice:\n",
    "        print('the', i+1, 'st', 'eigenvalue is: ', eigVals[i],'\\n')\n",
    "        print('the', i+1, 'st', 'eigenvector is: ',eigVects[:,i], '\\n' )\n",
    "    # lowDDataMat=newData*n_eigVect               #低维特征空间的数据\n",
    "    # reconMat=(lowDDataMat*n_eigVect.T)+meanVal  #重构数据\n",
    "    # return lowDDataMat,reconMat\n",
    "    return n_eigValIndice, n_eigVect"
   ]
  },
  {
   "cell_type": "code",
   "execution_count": 4,
   "metadata": {},
   "outputs": [
    {
     "output_type": "stream",
     "name": "stdout",
     "text": "[[ 3.   1.   1. ]\n [ 6.5  1.   1.5]\n [ 5.5  3.   2.5]\n [ 0.5 -1.  -0.5]\n [-0.5  1.   0.5]] \n\n[[ 0.   0.   0. ]\n [ 3.5  0.   0.5]\n [ 2.5  2.   1.5]\n [-2.5 -2.  -1.5]\n [-3.5  0.  -0.5]]\nmean_vector [3. 1. 1.] \n\neigenvalues: [1.10000000e+01 1.50000000e+00 1.84339738e-16] \n\neigenvectors: [[ 0.90453403  0.40824829 -0.12309149]\n [ 0.30151134 -0.81649658 -0.49236596]\n [ 0.30151134 -0.40824829  0.86164044]] \n\nthe 1 st eigenvalue is:  11.000000000000002 \n\nthe 1 st eigenvector is:  [[0.90453403]\n [0.30151134]\n [0.30151134]] \n\nthe 2 st eigenvalue is:  1.500000000000002 \n\nthe 2 st eigenvector is:  [[ 0.40824829]\n [-0.81649658]\n [-0.40824829]] \n\n"
    },
    {
     "output_type": "execute_result",
     "data": {
      "text/plain": "(array([0, 1], dtype=int64), matrix([[ 0.90453403,  0.40824829],\n         [ 0.30151134, -0.81649658],\n         [ 0.30151134, -0.40824829]]))"
     },
     "metadata": {},
     "execution_count": 4
    }
   ],
   "source": [
    "data = np.array([[3,1,1],[6.5,1,1.5],[5.5,3,2.5],[0.5,-1,-0.5],[-0.5,1,0.5]])\n",
    "print(data, '\\n')\n",
    "pca(data, 2)"
   ]
  }
 ],
 "metadata": {
  "language_info": {
   "codemirror_mode": {
    "name": "ipython",
    "version": 3
   },
   "file_extension": ".py",
   "mimetype": "text/x-python",
   "name": "python",
   "nbconvert_exporter": "python",
   "pygments_lexer": "ipython3",
   "version": "3.7.4-final"
  },
  "orig_nbformat": 2,
  "kernelspec": {
   "name": "python3",
   "display_name": "Python 3"
  }
 },
 "nbformat": 4,
 "nbformat_minor": 2
}