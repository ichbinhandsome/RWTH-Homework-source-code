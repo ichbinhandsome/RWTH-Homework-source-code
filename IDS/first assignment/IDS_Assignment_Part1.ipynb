{
 "cells": [
  {
   "cell_type": "markdown",
   "metadata": {},
   "source": [
    "# The First Part of the Assignment of IDS 2019-2020\n",
    "Document your results as well as the way you obtained them in this jupyter notebook. A seperate report (pdf, word etc.) is _not_ required. However, it is necessary that you provide the python code leading to your results as well as textual answers to the assignment questions in this notebook. *DO NOT CLEAR THE OUTPUT of the notebook your are submitting!* In the cases that the result of an algorithm is pdf, jpg, etc, you should attach the result to this notebook file and refer to that in the text.  \n",
    "\n",
    "Next to the jupyter notebook, submit one zip-file containing all data sets that you are asked to submit. Make sure they are easily identifiable, i.e. use names as requested in the corresponding question.\n",
    "\n",
    "Do not change the general structure of this notebook, but you can add further markdown or code cells to explain your solutions if necessary. In the end, submit this file and your created data sets in moodle.\n",
    "\n",
    "Only <font color=\"red\">one </font> group member should upload your group's solution. *Make sure to include group members' names and matriculation numbers*. If your name and student id are not included in the report, you will not receive any points!\n",
    "\n",
    "\n",
    "Hint 1: While answering the questions, you will get a better and better impression of the given data. However, feel free to compute additional results and vizualizations to motivate the decisions you need to make, for example with respect to modification, simplification or sampling of the data. <font color=\"red\"><b>Ensure that all claims you make are supported by the presented facts!</b></font>\n",
    "\n",
    "Hint 2: <font color=\"red\"><b>Some of the tasks might need some time to run. Take this into account in your planning.</b></font>\n",
    "\n",
    "Hint 3: RWTHonline allows for multiple submissions (each submission overwrites the previous ones). <font color=\"red\"><b>Partial submissions are possible and encouraged. </b></font> This helps in case of technical problems of RWTHonline, which do seldomly happen."
   ]
  },
  {
   "cell_type": "markdown",
   "metadata": {},
   "source": [
    "## Preprocessing of the Dataset (5 points)\n",
    " You should carry out some preprocessing steps before starting the analysis:\n",
    " - Select 90% of 'population_density' dataset by random sampling.\n",
    "     - Use one of the group member's student number as a seed.\n",
    " - Add another column to the dataset:\n",
    "     - Name it 'population_density_categorical'.\n",
    "     - The values in this column depend on values in 'population_density' column and will be defined as follows:\n",
    "        - 5824=<population density              corresponding value in 'population_density_categorical' column: 'very high'\n",
    "        - 4368=<population density<5824         corresponding value in 'population_density_categorical' column: 'high'\n",
    "        - 2912=<population density<4368         corresponding value in 'population_density_categorical' column: 'medium'\n",
    "        - 1456=<population density<2912         corresponding value in 'population_density_categorical' column: 'low' \n",
    "        - population density<1456               corresponding value in 'population_density_categorical' column: 'very low'\n",
    " - After completing this preprocessing step, export your final dataset as 'population_density_categorical.csv' dataset and use that for next steps of the assignment.\n",
    " - If it is not directly mentioned, you should always use your extracted (above-created) dataset (without any cleaning).\n",
    " - <font color='red'>Important!</font> Make sure that you submit your extracted dataset with your result in moodle."
   ]
  },
  {
   "cell_type": "code",
   "execution_count": 1,
   "metadata": {},
   "outputs": [
    {
     "name": "stdout",
     "output_type": "stream",
     "text": [
      "['holiday', 'temperature', 'rain_1h', 'snow_1h', 'clouds_percentage', 'weather_type', 'weather_type_details', 'date_time', 'population_density', 'population_density_categorical']\n",
      "      holiday  temperature  rain_1h  snow_1h  clouds_percentage weather_type  \\\n",
      "3017     None      258.520     0.00      0.0                 20       Clouds   \n",
      "46663    None      302.580     0.00      0.0                  5        Clear   \n",
      "28459    None      275.790     0.00      0.0                 90       Clouds   \n",
      "21304    None      269.010     0.00      0.0                 75         Haze   \n",
      "30859    None      260.090     0.00      0.0                  1        Clear   \n",
      "36121    None      288.990     0.00      0.0                 75         Mist   \n",
      "2087     None      275.220     0.00      0.0                 90         Rain   \n",
      "25242    None      294.890     0.00      0.0                  1        Clear   \n",
      "22443    None      283.860     0.00      0.0                  1        Clear   \n",
      "39057    None      275.280     0.00      0.0                 90         Haze   \n",
      "6036     None      287.820     0.00      0.0                  1        Clear   \n",
      "6222     None      291.300     0.00      0.0                 90         Rain   \n",
      "8172     None      285.260     0.00      0.0                 44       Clouds   \n",
      "1961     None      259.580     0.00      0.0                 20         Haze   \n",
      "24033    None      285.140     0.00      0.0                  0        Clear   \n",
      "7084     None      298.780     0.00      0.0                  8        Clear   \n",
      "36223    None      291.940     0.00      0.0                 90         Rain   \n",
      "27193    None      283.216     0.00      0.0                 20       Clouds   \n",
      "38128    None      283.420     0.00      0.0                  1        Clear   \n",
      "21182    None      258.210     0.00      0.0                  1        Clear   \n",
      "21916    None      270.620     0.00      0.0                 90         Snow   \n",
      "16842    None      293.410     0.00      0.0                  1        Clear   \n",
      "40272    None      255.150     0.00      0.0                  1        Clear   \n",
      "47532    None      291.700     0.00      0.0                  5        Clear   \n",
      "25758    None      295.810     0.00      0.0                 24       Clouds   \n",
      "43171    None      276.020     0.00      0.0                 40       Clouds   \n",
      "14434    None      288.360     0.00      0.0                 40       Clouds   \n",
      "37800    None      286.510     0.00      0.0                 90         Rain   \n",
      "31771    None      273.020     0.00      0.0                  1        Clear   \n",
      "36636    None      289.950     0.00      0.0                 90         Rain   \n",
      "...       ...          ...      ...      ...                ...          ...   \n",
      "26545    None      289.940     0.00      0.0                  1        Clear   \n",
      "722      None      278.540     0.00      0.0                 40       Clouds   \n",
      "41892    None      267.280     0.00      0.0                 90          Fog   \n",
      "4864     None      281.110     0.00      0.0                 90         Rain   \n",
      "35140    None      292.530     0.00      0.0                  1        Clear   \n",
      "20849    None      269.080     0.00      0.0                 90       Clouds   \n",
      "35712    None      300.010     0.00      0.0                 40       Clouds   \n",
      "36437    None      299.150     0.00      0.0                  5        Clear   \n",
      "46838    None      300.950     0.00      0.0                 90       Clouds   \n",
      "46573    None      302.820     0.00      0.0                 20       Clouds   \n",
      "3579     None      274.060     0.00      0.0                  1        Clear   \n",
      "37625    None      289.290     0.00      0.0                 90         Rain   \n",
      "25783    None      291.940     0.00      0.0                  0        Clear   \n",
      "9957     None      273.100     0.00      0.0                  1        Clear   \n",
      "40758    None      269.570     0.00      0.0                  5        Clear   \n",
      "617      None      284.290     0.00      0.0                 90         Mist   \n",
      "11427    None      270.140     0.00      0.0                 64       Clouds   \n",
      "37767    None      283.510     0.00      0.0                  1         Mist   \n",
      "13903    None      279.890     2.16      0.0                 90         Rain   \n",
      "42849    None      272.160     0.00      0.0                 90         Mist   \n",
      "1869     None      272.410     0.00      0.0                 90         Snow   \n",
      "12466    None      261.750     0.00      0.0                  1        Clear   \n",
      "33793    None      280.090     0.00      0.0                  1         Mist   \n",
      "232      None      282.200     0.00      0.0                 75       Clouds   \n",
      "12431    None      257.400     0.00      0.0                  1        Clear   \n",
      "43590    None      278.750     0.00      0.0                  1        Clear   \n",
      "29965    None      258.680     0.00      0.0                 90         Haze   \n",
      "15511    None      286.890     0.00      0.0                 90       Clouds   \n",
      "22324    None      273.490     0.00      0.0                  1        Clear   \n",
      "11541    None      276.793     0.00      0.0                 64       Clouds   \n",
      "\n",
      "        weather_type_details         date_time  population_density  \\\n",
      "3017              few clouds    1/18/2013 7:00                6439   \n",
      "46663           sky is clear   8/12/2018 19:00                3658   \n",
      "28459        overcast clouds  11/25/2016 13:00                3908   \n",
      "21304                   haze   2/15/2016 10:00                4047   \n",
      "30859           sky is clear     2/8/2017 2:00                 407   \n",
      "36121                   mist    8/10/2017 5:00                2986   \n",
      "2087              light rain  12/16/2012 16:00                4130   \n",
      "25242           sky is clear   7/25/2016 23:00                1167   \n",
      "22443           sky is clear    4/14/2016 3:00                 360   \n",
      "39057                   haze   11/18/2017 0:00                1222   \n",
      "6036            sky is clear    5/15/2013 8:00                6618   \n",
      "6222              light rain   5/20/2013 19:00                3071   \n",
      "8172        scattered clouds     8/4/2013 5:00                 551   \n",
      "1961                    haze   12/13/2012 0:00                 590   \n",
      "24033           Sky is Clear     6/8/2016 7:00                6633   \n",
      "7084            sky is clear   6/18/2013 14:00                5626   \n",
      "36223  proximity shower rain   8/13/2017 22:00                1787   \n",
      "27193             few clouds   10/8/2016 17:00                4980   \n",
      "38128           sky is clear   10/18/2017 6:00                5927   \n",
      "21182           sky is clear     2/9/2016 8:00                5947   \n",
      "21916             light snow    3/19/2016 7:00                1941   \n",
      "16842           sky is clear    7/25/2015 3:00                 356   \n",
      "40272           sky is clear    1/1/2018 17:00                3079   \n",
      "47532           sky is clear    9/8/2018 11:00                4249   \n",
      "25758             few clouds   8/15/2016 20:00                2605   \n",
      "43171       scattered clouds    4/13/2018 5:00                2721   \n",
      "14434       scattered clouds    5/19/2014 2:00                 295   \n",
      "37800          moderate rain   10/6/2017 19:00                4165   \n",
      "31771           sky is clear   3/15/2017 16:00                6552   \n",
      "36636             light rain   8/26/2017 11:00                4507   \n",
      "...                      ...               ...                 ...   \n",
      "26545           sky is clear    9/12/2016 3:00                 318   \n",
      "722         scattered clouds  10/28/2012 13:00                3892   \n",
      "41892                    fog    2/27/2018 5:00                2884   \n",
      "4864              light rain    4/7/2013 16:00                4241   \n",
      "35140           sky is clear     7/7/2017 4:00                 874   \n",
      "20849        overcast clouds    1/26/2016 5:00                2747   \n",
      "35712       scattered clouds   7/26/2017 20:00                3345   \n",
      "36437           sky is clear   8/19/2017 16:00                4707   \n",
      "46838        overcast clouds   8/19/2018 14:00                4742   \n",
      "46573             few clouds    8/9/2018 14:00                5155   \n",
      "3579            sky is clear   2/13/2013 15:00                5875   \n",
      "37625          moderate rain   10/1/2017 20:00                2693   \n",
      "25783           Sky is Clear   8/16/2016 21:00                2178   \n",
      "9957            sky is clear  11/18/2013 12:00                4654   \n",
      "40758           sky is clear   1/18/2018 10:00                4479   \n",
      "617                     mist  10/25/2012 18:00                5351   \n",
      "11427          broken clouds    1/13/2014 9:00                4768   \n",
      "37767                   mist    10/6/2017 3:00                 353   \n",
      "13903          moderate rain   4/24/2014 20:00                3243   \n",
      "42849                   mist    4/2/2018 14:00                4750   \n",
      "1869                    snow  12/10/2012 11:00                3761   \n",
      "12466           sky is clear   2/23/2014 19:00                2596   \n",
      "33793                   mist    5/19/2017 1:00                 441   \n",
      "232            broken clouds  10/12/2012 16:00                6057   \n",
      "12431           sky is clear    2/22/2014 8:00                1797   \n",
      "43590           sky is clear    4/26/2018 2:00                 255   \n",
      "29965                   haze   1/11/2017 11:00                3563   \n",
      "15511        overcast clouds    7/15/2014 2:00                 336   \n",
      "22324           sky is clear     4/8/2016 3:00                 402   \n",
      "11541          broken clouds    1/17/2014 1:00                 376   \n",
      "\n",
      "      population_density_categorical  \n",
      "3017                       very high  \n",
      "46663                         medium  \n",
      "28459                         medium  \n",
      "21304                         medium  \n",
      "30859                       very low  \n",
      "36121                         medium  \n",
      "2087                          medium  \n",
      "25242                       very low  \n",
      "22443                       very low  \n",
      "39057                       very low  \n",
      "6036                       very high  \n",
      "6222                          medium  \n",
      "8172                        very low  \n",
      "1961                        very low  \n",
      "24033                      very high  \n",
      "7084                            high  \n",
      "36223                            low  \n",
      "27193                           high  \n",
      "38128                      very high  \n",
      "21182                      very high  \n",
      "21916                            low  \n",
      "16842                       very low  \n",
      "40272                         medium  \n",
      "47532                         medium  \n",
      "25758                            low  \n",
      "43171                            low  \n",
      "14434                       very low  \n",
      "37800                         medium  \n",
      "31771                      very high  \n",
      "36636                           high  \n",
      "...                              ...  \n",
      "26545                       very low  \n",
      "722                           medium  \n",
      "41892                            low  \n",
      "4864                          medium  \n",
      "35140                       very low  \n",
      "20849                            low  \n",
      "35712                         medium  \n",
      "36437                           high  \n",
      "46838                           high  \n",
      "46573                           high  \n",
      "3579                       very high  \n",
      "37625                            low  \n",
      "25783                            low  \n",
      "9957                            high  \n",
      "40758                           high  \n",
      "617                             high  \n",
      "11427                           high  \n",
      "37767                       very low  \n",
      "13903                         medium  \n",
      "42849                           high  \n",
      "1869                          medium  \n",
      "12466                            low  \n",
      "33793                       very low  \n",
      "232                        very high  \n",
      "12431                            low  \n",
      "43590                       very low  \n",
      "29965                         medium  \n",
      "15511                       very low  \n",
      "22324                       very low  \n",
      "11541                       very low  \n",
      "\n",
      "[43384 rows x 10 columns]\n"
     ]
    }
   ],
   "source": [
    "# Your code:\n",
    "import pandas as pd\n",
    "\n",
    "data = pd.read_csv(\"./population_density.csv\")\n",
    "new_data = data.sample(frac=0.9,replace=None,random_state=400655)\n",
    "new_data['population_density_categorical'] = None\n",
    "col_name = new_data.columns.tolist()\n",
    "# col_name.insert(1,'population_density_categorical')\n",
    "print(col_name)\n",
    "new_data.loc[new_data['population_density'] >= 5824, 'population_density_categorical'] = 'very high'\n",
    "new_data.loc[(new_data['population_density'] >=4368) & (new_data['population_density'] <5824), 'population_density_categorical'] = 'high'\n",
    "new_data.loc[(new_data['population_density'] >=2912) & (new_data['population_density'] <4368), 'population_density_categorical'] = 'medium'\n",
    "new_data.loc[(new_data['population_density'] >=1456) & (new_data['population_density'] <2912), 'population_density_categorical'] = 'low'\n",
    "new_data.loc[new_data['population_density'] <1456, 'population_density_categorical'] = 'very low'\n",
    "print(new_data)\n",
    "new_data.to_csv(\"./population_density_categorical.csv\", index=False)\n"
   ]
  },
  {
   "cell_type": "markdown",
   "metadata": {},
   "source": [
    "## Question 1 - Insights into the Data (20 points):"
   ]
  },
  {
   "cell_type": "markdown",
   "metadata": {},
   "source": [
    "### Dealing with Outliers (10 points)\n",
    "   (a) Use a boxplot to find and remove the outliers from \"temperature\". Note that based on the boxplot the values greater than upper-whisker and less than lower-whisker are considered as the outliers. Now you should  have two datasets (cleaned and original)."
   ]
  },
  {
   "cell_type": "code",
   "execution_count": 3,
   "metadata": {},
   "outputs": [
    {
     "data": {
      "image/png": "[encoded data removed]",
      "text/plain": [
       "<Figure size 432x288 with 1 Axes>"
      ]
     },
     "metadata": {
      "needs_background": "light"
     },
     "output_type": "display_data"
    },
    {
     "data": {
      "image/png": "[encoded data removed]",
      "text/plain": [
       "<Figure size 432x288 with 1 Axes>"
      ]
     },
     "metadata": {
      "needs_background": "light"
     },
     "output_type": "display_data"
    },
    {
     "name": "stdout",
     "output_type": "stream",
     "text": [
      "outliers:\n",
      " 4841     0.0\n",
      "7458     0.0\n",
      "8678     0.0\n",
      "15625    0.0\n",
      "22930    0.0\n",
      "23957    0.0\n",
      "25960    0.0\n",
      "36516    0.0\n",
      "Name: temperature, dtype: float64\n"
     ]
    }
   ],
   "source": [
    "# Your code:\n",
    "import pandas as pd\n",
    "import matplotlib.pyplot as plt\n",
    "\n",
    "data = pd.read_csv(\"./population_density_categorical.csv\")\n",
    "plt.figure()\n",
    "# boxplot with outliers\n",
    "plt.boxplot(data['temperature'],0,'gd')\n",
    "plt.show()\n",
    "plt.figure()\n",
    "#boxplot without outliers\n",
    "plt.boxplot(data['temperature'], showfliers=False)\n",
    "plt.show()\n",
    "# find the concerte value of outliers\n",
    "Q1 =  data['temperature'].quantile(0.25)\n",
    "Q3 = data['temperature'].quantile(0.75)\n",
    "IQR = Q3 - Q1\n",
    "outliers = data[(data['temperature'] < Q1-1.5*IQR ) | (data['temperature'] > Q3+1.5*IQR)]['temperature']\n",
    "print('outliers:\\n',outliers)\n",
    "# remove outlier from original dataset and generate new cleaned dataset\n",
    "cleaned_data = pd.DataFrame(data) \n",
    "for index in outliers.index:\n",
    "    cleaned_data.drop(index, axis=0, inplace=True)\n",
    "    \n",
    "# print(cleaned_data)\n"
   ]
  },
  {
   "cell_type": "markdown",
   "metadata": {},
   "source": [
    "   (b) Compare basic statistical features of \"temperature\" (median, mean, and mode) in the cleaned and original datasets.    Interpret the differences for these statistical values between the cleaned and original datasets. "
   ]
  },
  {
   "cell_type": "code",
   "execution_count": 4,
   "metadata": {},
   "outputs": [
    {
     "name": "stdout",
     "output_type": "stream",
     "text": [
      "orignal dataset: \n",
      " {'median': 282.48, 'mean': 281.2400300802139, 'mode': 274.15}\n",
      "cleaned dataset: \n",
      " {'median': 282.485, 'mean': 281.29190024437474, 'mode': 274.15}\n"
     ]
    }
   ],
   "source": [
    "# Your code:\n",
    "ser_data = pd.Series(data['temperature'])\n",
    "old_dict = {'median':ser_data.median(),'mean':ser_data.mean(),'mode':ser_data.mode()[0]}\n",
    "print(\"orignal dataset: \\n\",old_dict)\n",
    "ser_cleaned_data = pd.Series(cleaned_data['temperature'])\n",
    "new_dict = {'median':ser_cleaned_data.median(),'mean':ser_cleaned_data.mean(),'mode':ser_cleaned_data.mode()[0]}\n",
    "print('cleaned dataset: \\n',new_dict)\n",
    "\n",
    "# - Median: The median in the cleaned dataset(282.41) is slightly larger than the median in the original dataset(282.4)\n",
    "#   since the data distribution is slightly shifted towards larger values after outliers with 0 values are removed.\n",
    "\n",
    "# - Mean: The mean in the cleaned dataset(281.24) is slightly larger than the mean in the original dataset(281.18)\n",
    "#   since we removed the influence of the outliers with 0 values, which would mame the mean of the whole dataset smaller.\n",
    "\n",
    "# - Mode: The mode of cleaned data set remains the same as in the original dataset(274.15). \n",
    "#   This is because removing the outliers does not any influence on the most frequent value."
   ]
  },
  {
   "cell_type": "markdown",
   "metadata": {},
   "source": [
    "   (c) Compare the number of data rows before and after removing the outliers. How many data rows are removed by removing    outliers?"
   ]
  },
  {
   "cell_type": "code",
   "execution_count": 9,
   "metadata": {},
   "outputs": [
    {
     "name": "stdout",
     "output_type": "stream",
     "text": [
      "rows of original dataset:  43384\n",
      "rows of cleaned dataset:  43376\n",
      "rows of outliers:  8\n"
     ]
    }
   ],
   "source": [
    "# Your code:\n",
    "print('rows of original dataset: ',len(data.index))\n",
    "print('rows of cleaned dataset: ',len(cleaned_data.index))\n",
    "print('rows of outliers: ',len(outliers.index))\n"
   ]
  },
  {
   "cell_type": "markdown",
   "metadata": {},
   "source": [
    "### Basic Visualization (10 points)\n",
    "   (d) Visualize mean and median of \"population_density\" for non-'None' \"holiday\" values in the original dataset. Specify    the \"holiday\" values for which the mean of \"population_density\" is maximal and for which it is minimal."
   ]
  },
  {
   "cell_type": "code",
   "execution_count": 5,
   "metadata": {},
   "outputs": [
    {
     "name": "stdout",
     "output_type": "stream",
     "text": [
      "- Mean of population_density is maximal on New Years Day and minimal on Columbus Day\n"
     ]
    },
    {
     "data": {
      "image/png": "[encoded data removed]",
      "text/plain": [
       "<Figure size 432x288 with 1 Axes>"
      ]
     },
     "metadata": {
      "needs_background": "light"
     },
     "output_type": "display_data"
    }
   ],
   "source": [
    "# Your code:\n",
    "import numpy as np\n",
    "import seaborn as sns\n",
    "\n",
    "#old code (two different barcharts)\n",
    "# new_data = data[data['holiday'].astype(str) != 'None']\n",
    "# plt.figure(figsize=(20,10))\n",
    "# sns.barplot(x=\"holiday\", y=\"population_density\", data=new_data, estimator=np.median)\n",
    "# plt.figure(figsize=(20,10))\n",
    "# sns.barplot(x=\"holiday\", y=\"population_density\", data=new_data, estimator=np.mean)\n",
    "\n",
    "# group data by the values in the \"holiday\" (except for the value \"None\")\n",
    "holiday_groups = data[data.holiday != 'None'].groupby(['holiday'])\n",
    "# get the mean in each groups\n",
    "holiday_pd_mean = holiday_groups['population_density'].mean().rename('mean')\n",
    "# get the median in each groups\n",
    "holiday_pd_median = holiday_groups['population_density'].median().rename('median')\n",
    "# concat and plot the mean and median\n",
    "pd.concat([holiday_pd_mean, holiday_pd_median],axis = 1).plot.bar(\n",
    "    title = 'Means and Medians of Population Density on Different Holidays') \n",
    "# get the argmax and argmin of mean values of population density\n",
    "print('- Mean of population_density is maximal on {} and minimal on {}'\n",
    "      .format(holiday_pd_mean.idxmax(), holiday_pd_mean.idxmin()))\n"
   ]
  },
  {
   "cell_type": "markdown",
   "metadata": {},
   "source": [
    "   (e) Plot the distribution of \"temperature\" in the original and cleaned datasets."
   ]
  },
  {
   "cell_type": "code",
   "execution_count": 6,
   "metadata": {},
   "outputs": [
    {
     "data": {
      "text/plain": [
       "Text(0.5, 1.0, 'Temperature in Cleaned Dataset')"
      ]
     },
     "execution_count": 6,
     "metadata": {},
     "output_type": "execute_result"
    },
    {
     "data": {
      "image/png": "[encoded data removed]",
      "text/plain": [
       "<Figure size 864x432 with 2 Axes>"
      ]
     },
     "metadata": {
      "needs_background": "light"
     },
     "output_type": "display_data"
    }
   ],
   "source": [
    "# Your code:\n",
    "# set up side-by-side plots\n",
    "fig, axes = plt.subplots(ncols=2,figsize=(12,6))\n",
    "# plot the density distribution in the original dataset\n",
    "data['temperature'].plot.kde(ax = axes[0],subplots=True)\n",
    "# plot the density distribution in the cleaned dataset\n",
    "cleaned_data['temperature'].plot.kde(ax = axes[1],subplots=True)\n",
    "# set titles for both plots\n",
    "axes[0].set_title(\"Temperature in Original Dataset\")\n",
    "axes[1].set_title(\"Temperature in Cleaned Dataset\")\n"
   ]
  },
  {
   "cell_type": "markdown",
   "metadata": {},
   "source": [
    "   (f) Explore the distribution of \"population_density\" and \"temperature\" together in the cleaned dataset. Specify the ranges of \"temperature\" and \"population_density\" for which the frequency of the data is the highest."
   ]
  },
  {
   "cell_type": "code",
   "execution_count": 14,
   "metadata": {},
   "outputs": [
    {
     "data": {
      "image/png": "[encoded data removed]",
      "text/plain": [
       "<Figure size 432x432 with 3 Axes>"
      ]
     },
     "metadata": {
      "needs_background": "light"
     },
     "output_type": "display_data"
    }
   ],
   "source": [
    "# Your code:\n",
    "import seaborn as sns\n",
    "# concat the data columns 'population_density' and 'temperature'\n",
    "pd_temp = pd.concat([cleaned_data['population_density'], cleaned_data['temperature']], axis = 1)\n",
    "# plot the two distributions together\n",
    "sns.jointplot(x=\"population_density\", y=\"temperature\", data=pd_temp, kind=\"kde\");\n",
    "\n",
    "# - Interpretation: Variable \"Temperature\" has high density (frequency) around \n",
    "#  From following graph, we can identify the highest frequency of data, which ranges from 285 to 295 of 'temperature',\n",
    "#  from 0 to 1000 of the 'population_density'. Beacuse the highest color intensity represents the highest frequency.\n"
   ]
  },
  {
   "cell_type": "markdown",
   "metadata": {},
   "source": [
    "## Question 2 - Decision Trees (15 points):"
   ]
  },
  {
   "cell_type": "markdown",
   "metadata": {},
   "source": [
    "   (a) Add a categorical temperature column to the cleaned dataset based on the following rules and name it                \"temperature_categorical\":\n",
    "        - temperature >= upper_quartile (third quartile) corresponding value in 'temperature_categorical' column: 'high'\n",
    "        - temperature <= lower_quartile (first quartile) corresponding value in 'temperature_categorical' column: 'low'\n",
    "        - lower_quartile < temperature < upper_quartile corresponding value in 'temperature_categorical' column: 'medium'"
   ]
  },
  {
   "cell_type": "code",
   "execution_count": 8,
   "metadata": {},
   "outputs": [],
   "source": [
    "# Your code:\n",
    "cleaned_data['temperature_categorical'] = None\n",
    "cleaned_data.loc[cleaned_data['temperature'] >= Q3, 'temperature_categorical'] = 'high'\n",
    "cleaned_data.loc[cleaned_data['temperature'] <= Q1, 'temperature_categorical'] = 'low'\n",
    "cleaned_data.loc[(cleaned_data['temperature'] < Q3) & (cleaned_data['temperature'] > Q1) , 'temperature_categorical'] = 'medium'\n",
    "\n",
    "cleaned_data.to_csv(\"./cleaned_data.csv\", index=False)\n"
   ]
  },
  {
   "cell_type": "markdown",
   "metadata": {},
   "source": [
    "   (b) In the new dataset (created in Section 'a'), consider \"holiday\", \"temperature_categorical\", and \"weather_type\" as    the descriptive features and \"population_density_categorical\" as the target feature. Set the minimum number of samples  for splitting to 5000 and make a decision tree based on entropy."
   ]
  },
  {
   "cell_type": "code",
   "execution_count": 16,
   "metadata": {},
   "outputs": [
    {
     "name": "stderr",
     "output_type": "stream",
     "text": [
      "C:\\Users\\wangr\\AppData\\Roaming\\Python\\Python37\\site-packages\\ipykernel_launcher.py:10: SettingWithCopyWarning: \n",
      "A value is trying to be set on a copy of a slice from a DataFrame.\n",
      "Try using .loc[row_indexer,col_indexer] = value instead\n",
      "\n",
      "See the caveats in the documentation: http://pandas.pydata.org/pandas-docs/stable/indexing.html#indexing-view-versus-copy\n",
      "  # Remove the CWD from sys.path while we load stuff.\n"
     ]
    },
    {
     "name": "stdout",
     "output_type": "stream",
     "text": [
      "descriptive features:\n",
      "Index(['holiday', 'temperature_categorical', 'weather_type'], dtype='object')\n",
      "\n",
      "target feature:\n",
      "population_density_categorical\n",
      "System entropy:  2.2318888460740816\n"
     ]
    }
   ],
   "source": [
    "# Your code:\n",
    "from p_decision_tree.DecisionTree import DecisionTree\n",
    "df = cleaned_data[['holiday','temperature_categorical','weather_type','population_density_categorical']]\n",
    "\n",
    "columns = df.columns\n",
    "# define features\n",
    "descriptive_features = columns[:-1]\n",
    "label = columns[-1]\n",
    "for column in columns:\n",
    "    df[column]= df[column].astype(str)\n",
    "# get feature values\n",
    "data_descriptive = df[descriptive_features].values\n",
    "data_label = df[label].values\n",
    "\n",
    "print(\"descriptive features:\")\n",
    "print(descriptive_features)\n",
    "print(\"\\ntarget feature:\\n\" + label)\n",
    "# make decision tree with 5000 minimum split\n",
    "decisionTree = DecisionTree(data_descriptive.tolist(), descriptive_features.tolist(), data_label.tolist(), \"entropy\")\n",
    "decisionTree.id3(0,5000)\n",
    "# visualize the tree \n",
    "dot = decisionTree.print_visualTree( render=True )\n",
    "#decision tree jpg is in the output file\n",
    "print(\"System entropy: \", format(decisionTree.entropy))"
   ]
  },
  {
   "cell_type": "markdown",
   "metadata": {},
   "source": [
    "   (c) What is the best attribute (based on entropy) for splitting the tree in the second round of ID3?  "
   ]
  },
  {
   "cell_type": "markdown",
   "metadata": {},
   "source": [
    "Explanation: From the tree, we can identify the second level is \"weather_type\", which is also the splitting point      of the second round of ID3."
   ]
  },
  {
   "cell_type": "markdown",
   "metadata": {},
   "source": [
    "## Question 3 - Regression (10 points):\n",
    "\n",
    "For this question (Q3), restrict your extracted data set to the columns *holiday, temperature, rain_1h, snow_1h, clouds_percentage, date_time* and *population_density*. Drop the information on the date for *date_time* and restrict the data to time values (hour) only.\n",
    "\n",
    "We define *population_density* to be our target feature, while all other features are considered descriptive."
   ]
  },
  {
   "cell_type": "code",
   "execution_count": 9,
   "metadata": {},
   "outputs": [
    {
     "name": "stderr",
     "output_type": "stream",
     "text": [
      "C:\\Users\\wangr\\AppData\\Roaming\\Python\\Python37\\site-packages\\ipykernel_launcher.py:3: SettingWithCopyWarning: \n",
      "A value is trying to be set on a copy of a slice from a DataFrame.\n",
      "Try using .loc[row_indexer,col_indexer] = value instead\n",
      "\n",
      "See the caveats in the documentation: http://pandas.pydata.org/pandas-docs/stable/indexing.html#indexing-view-versus-copy\n",
      "  This is separate from the ipykernel package so we can avoid doing imports until\n",
      "C:\\Users\\wangr\\AppData\\Roaming\\Python\\Python37\\site-packages\\ipykernel_launcher.py:4: SettingWithCopyWarning: \n",
      "A value is trying to be set on a copy of a slice from a DataFrame.\n",
      "Try using .loc[row_indexer,col_indexer] = value instead\n",
      "\n",
      "See the caveats in the documentation: http://pandas.pydata.org/pandas-docs/stable/indexing.html#indexing-view-versus-copy\n",
      "  after removing the cwd from sys.path.\n"
     ]
    }
   ],
   "source": [
    "# Your code:\n",
    "data_3 = cleaned_data[['holiday','temperature','rain_1h','snow_1h','clouds_percentage','date_time','population_density']]\n",
    "data_3['date_time'] = pd.to_datetime(data_3['date_time'])\n",
    "data_3['date_time'] = data_3['date_time'].apply(lambda x: x.hour )\n",
    "# print(data_3)\n"
   ]
  },
  {
   "cell_type": "markdown",
   "metadata": {},
   "source": [
    "   (a) Which features are suitable as an input for linear regression and which need to be modified first? Why?"
   ]
  },
  {
   "cell_type": "markdown",
   "metadata": {},
   "source": [
    "Explanation:\n",
    "The variables 'temperature', 'rain_1h', 'snow_1h','clouds_percentage', and 'date_time' are suitable as an inputs for regression, since they have continuous numerical values. ('data_time' has been modified before)\n",
    "\"holiday\" need to be modified first. Because the values of \"holiday\" are categorical values.\n"
   ]
  },
  {
   "cell_type": "markdown",
   "metadata": {},
   "source": [
    "   (b) Implement and briefly motivate an adequate modification. Print the resulting data set limited to the first two data rows."
   ]
  },
  {
   "cell_type": "markdown",
   "metadata": {},
   "source": [
    "Explanation: when the value of 'holiday' is None, we set it into 0, otherwise, we set it into 1.Because the most values in 'holiday' values are 'None', and data entries for specific holidays are relatively rare, so it is not necessary to concentrate on specific holiday values. Thus we only distinguish between none-holidays and holidays.\n"
   ]
  },
  {
   "cell_type": "code",
   "execution_count": 11,
   "metadata": {},
   "outputs": [
    {
     "name": "stdout",
     "output_type": "stream",
     "text": [
      "   holiday  temperature  rain_1h  snow_1h  clouds_percentage  date_time  \\\n",
      "0        0       258.52      0.0      0.0                 20          7   \n",
      "1        0       302.58      0.0      0.0                  5         19   \n",
      "\n",
      "   population_density  \n",
      "0                6439  \n",
      "1                3658   \n",
      "\n",
      "X: \n",
      "    holiday  temperature  rain_1h  snow_1h  clouds_percentage  date_time\n",
      "0        0       258.52      0.0      0.0                 20          7\n",
      "1        0       302.58      0.0      0.0                  5         19\n",
      "2        0       275.79      0.0      0.0                 90         13\n",
      "3        0       269.01      0.0      0.0                 75         10\n",
      "4        0       260.09      0.0      0.0                  1          2 \n",
      "\n",
      "y: \n",
      " 0    6439\n",
      "1    3658\n",
      "2    3908\n",
      "3    4047\n",
      "4     407\n",
      "Name: population_density, dtype: int64 \n",
      "\n"
     ]
    },
    {
     "name": "stderr",
     "output_type": "stream",
     "text": [
      "C:\\Users\\wangr\\AppData\\Roaming\\Python\\Python37\\site-packages\\pandas\\core\\indexing.py:543: SettingWithCopyWarning: \n",
      "A value is trying to be set on a copy of a slice from a DataFrame.\n",
      "Try using .loc[row_indexer,col_indexer] = value instead\n",
      "\n",
      "See the caveats in the documentation: http://pandas.pydata.org/pandas-docs/stable/indexing.html#indexing-view-versus-copy\n",
      "  self.obj[item] = s\n"
     ]
    }
   ],
   "source": [
    "# Your code:\n",
    "data_3.loc[cleaned_data['holiday'].astype(str) != 'None' , 'holiday'] = 1\n",
    "data_3.loc[cleaned_data['holiday'].astype(str) == 'None' , 'holiday'] = 0\n",
    "print(data_3.head(2),'\\n')\n",
    "# descriptive features X\n",
    "X = data_3[['holiday','temperature','rain_1h','snow_1h','clouds_percentage','date_time']]\n",
    "# target feature y\n",
    "y = data_3['population_density']\n",
    "print('X: \\n', X.head(), '\\n')\n",
    "print('y: \\n', y.head(), '\\n')\n"
   ]
  },
  {
   "cell_type": "markdown",
   "metadata": {},
   "source": [
    "(c) To get a first idea about our data, plot the behaviour of the target feature (population_density) over time (date_time)."
   ]
  },
  {
   "cell_type": "code",
   "execution_count": 19,
   "metadata": {},
   "outputs": [
    {
     "data": {
      "text/plain": [
       "<matplotlib.collections.PathCollection at 0x243ee0079c8>"
      ]
     },
     "execution_count": 19,
     "metadata": {},
     "output_type": "execute_result"
    },
    {
     "data": {
      "image/png": "[encoded data removed]",
      "text/plain": [
       "<Figure size 432x288 with 1 Axes>"
      ]
     },
     "metadata": {
      "needs_background": "light"
     },
     "output_type": "display_data"
    }
   ],
   "source": [
    "# Your code:\n",
    "# sns.barplot(x=\"date_time\", y=\"population_density\", data=data_3)\n",
    "plt.scatter( data_3['date_time'],data_3['population_density'], color = \"m\", marker = \"o\", s = 30) "
   ]
  },
  {
   "cell_type": "markdown",
   "metadata": {},
   "source": [
    "   (d) Create two distinct subsets of the data. Use sampling methods as described in the lecture. You should end up with two DIFFERENT sample data sets *RegA, RegB*. Include these data sets in the submitted data set zip file. \n",
    "   \n",
    "   Which sampling methods did you choose and why? Which one do you expect to result in a better classifier?"
   ]
  },
  {
   "cell_type": "code",
   "execution_count": 12,
   "metadata": {},
   "outputs": [],
   "source": [
    "# Your code:\n",
    "RegA = data_3.sample(frac=0.5, axis=0, replace=None) #random sampling\n",
    "RegB = data_3.head(RegA.shape[0]) #top sampling\n",
    "\n",
    "RegA.to_csv(\"./RegA.csv\", index=False)\n",
    "RegB.to_csv(\"./RegB.csv\", index=False)"
   ]
  },
  {
   "cell_type": "markdown",
   "metadata": {},
   "source": [
    "Explanation:\n",
    "The first sampling method that we used is random sampling, to keep in the basic structure of the entire data set, since each data point has a equal probability of being in the sampled data set.\n",
    "\n",
    "The second sampling method that we used is the top sampling, which is a fast and easy way to get the sampled data, especially for large data set.\n",
    "\n",
    "We expect random sampling to have a better result, since there could be some order in the original dataset, thus using top sampling might introduce some bias in the sampled data.\n"
   ]
  },
  {
   "cell_type": "markdown",
   "metadata": {},
   "source": [
    "   (e) Train a linear regression classifier based on each of the two sample data sets *RegA, RegB* created before."
   ]
  },
  {
   "cell_type": "code",
   "execution_count": 21,
   "metadata": {},
   "outputs": [
    {
     "data": {
      "text/plain": [
       "LinearRegression(copy_X=True, fit_intercept=True, n_jobs=None, normalize=True)"
      ]
     },
     "execution_count": 21,
     "metadata": {},
     "output_type": "execute_result"
    }
   ],
   "source": [
    "# Your code:\n",
    "from sklearn.linear_model import LinearRegression\n",
    "\n",
    "#RegA\n",
    "X_RegA = RegA[['holiday','temperature','rain_1h','snow_1h','clouds_percentage','date_time']]\n",
    "y_RegA = RegA['population_density']\n",
    "classifier_RegA = LinearRegression(normalize=True)\n",
    "classifier_RegA.fit(X_RegA,y_RegA)\n",
    "# y_Predict_A = classifier_RegA.predict(X_RegA)\n",
    "#RegB\n",
    "X_RegB = RegB[['holiday','temperature','rain_1h','snow_1h','clouds_percentage','date_time']]\n",
    "y_RegB = RegB['population_density']\n",
    "classifier_RegB = LinearRegression(normalize=True)\n",
    "classifier_RegB.fit(X_RegB,y_RegB)\n"
   ]
  },
  {
   "cell_type": "markdown",
   "metadata": {},
   "source": [
    "(f) Visualize both computed regression functions in one plot each, combined with the original data set. For example, you can show a plot similar to 3(c) and insert the regression functions result."
   ]
  },
  {
   "cell_type": "code",
   "execution_count": 23,
   "metadata": {},
   "outputs": [
    {
     "data": {
      "image/png": "[encoded data removed]",
      "text/plain": [
       "<Figure size 432x288 with 1 Axes>"
      ]
     },
     "metadata": {
      "needs_background": "light"
     },
     "output_type": "display_data"
    },
    {
     "data": {
      "image/png": "[encoded data removed]",
      "text/plain": [
       "<Figure size 432x288 with 1 Axes>"
      ]
     },
     "metadata": {
      "needs_background": "light"
     },
     "output_type": "display_data"
    }
   ],
   "source": [
    "# Your code:\n",
    "y_predict_A = classifier_RegA.predict(X)\n",
    "y_predict_B = classifier_RegB.predict(X)\n",
    "#visualize regression function\n",
    "#visualize RegA\n",
    "plt.scatter( X['date_time'], y, marker = \"o\", s = 30) \n",
    "plt.plot(X['date_time'], y_predict_A, color = \"b\")  \n",
    "plt.xlabel('date_time') \n",
    "plt.ylabel('population_density') \n",
    "plt.title('Regression Function of RegA')\n",
    "plt.show()\n",
    "#visualize RegB\n",
    "plt.scatter( X['date_time'], y,  marker = \"o\", s = 30) \n",
    "plt.plot(X['date_time'], y_predict_B, color = \"g\")  \n",
    "plt.xlabel('date_time') \n",
    "plt.ylabel('population_density') \n",
    "plt.title('Regression Function of RegB')\n",
    "plt.show()"
   ]
  },
  {
   "cell_type": "markdown",
   "metadata": {},
   "source": [
    "   (g) For each of the two resulting models compute and print the mean squared error, mean absolute error and median squared error with respect to the original, non-sampled data set. Also, present plots showing the errors and squared errors."
   ]
  },
  {
   "cell_type": "code",
   "execution_count": 29,
   "metadata": {},
   "outputs": [
    {
     "name": "stdout",
     "output_type": "stream",
     "text": [
      "Model A: \n",
      " - mean squared error: 3408519.0122323553 \n",
      " - mean absolute error: 1632.1877922904189 \n",
      " - median absolute error: 1634.3941082115657\n",
      "Model B: \n",
      " - mean squared error: 3408104.192577025 \n",
      " - mean absolute error: 1632.9063620013505 \n",
      " - median absolute error: 1634.3941082115657\n"
     ]
    }
   ],
   "source": [
    "# Your code:\n",
    "from sklearn.metrics import mean_squared_error, mean_absolute_error, median_absolute_error\n",
    "\n",
    "# error for trained model a\n",
    "mean_squared_error_a = mean_squared_error(y, y_predict_A)\n",
    "mean_absolute_error_a = mean_absolute_error(y, y_predict_A)\n",
    "median_absolute_error_a = median_absolute_error(y, y_predict_B)\n",
    "print('Model A: \\n - mean squared error: {} \\n - mean absolute error: {} \\n - median absolute error: {}'.format(mean_squared_error_a, mean_absolute_error_a, median_absolute_error_a))\n",
    "\n",
    "# error for trained model b\n",
    "mean_squared_error_b = mean_squared_error(y, y_predict_B)\n",
    "mean_absolute_error_b = mean_absolute_error(y, y_predict_B)\n",
    "median_absolute_error_b = median_absolute_error(y, y_predict_B)\n",
    "print('Model B: \\n - mean squared error: {} \\n - mean absolute error: {} \\n - median absolute error: {}'.format(mean_squared_error_b, mean_absolute_error_b, median_absolute_error_b))"
   ]
  },
  {
   "cell_type": "markdown",
   "metadata": {},
   "source": [
    "   (h) Interpret and evaluate the two models and compare them. Why are they similar/different? Which model do you recommend and why? How do you think the applied methods could be improved to get better results?"
   ]
  },
  {
   "cell_type": "markdown",
   "metadata": {},
   "source": [
    "Explanation:\n",
    "Based on the analysis above, we observe that the two models have similar values in each error aspect. Compared with Model B, Model A has relatively bigger error values. \n",
    "The reason of this observation might be, that the two sample datasets have similar structure, meaning that there are no obvious and direct order between rows in sample data B (using top sampling). \n",
    "We would reccommend Model A for future prediction, since random sampling gives a stronger guarantee for prediction quality.\n",
    "To improve the method, we would first filter the values in the target feature 'population_density', since we have observed several outliers based on the plot in 3(c)."
   ]
  },
  {
   "cell_type": "markdown",
   "metadata": {},
   "source": [
    "## Question 4 - Support Vector Machines (10 points):\n",
    "\n",
    "For this question (Q4), restrict your extracted data set to the columns *holiday, temperature, rain_1h, snow_1h, clouds_percentage, date_time* and *population_density_categorical*. For *date_time*, drop the information on the date and restrict the data to time values only.\n",
    "We define *population_density_categorical* to be our target feature, while all other features are considered descriptive.\n"
   ]
  },
  {
   "cell_type": "code",
   "execution_count": 13,
   "metadata": {},
   "outputs": [
    {
     "data": {
      "text/html": [
       "<div>\n",
       "<style scoped>\n",
       "    .dataframe tbody tr th:only-of-type {\n",
       "        vertical-align: middle;\n",
       "    }\n",
       "\n",
       "    .dataframe tbody tr th {\n",
       "        vertical-align: top;\n",
       "    }\n",
       "\n",
       "    .dataframe thead th {\n",
       "        text-align: right;\n",
       "    }\n",
       "</style>\n",
       "<table border=\"1\" class=\"dataframe\">\n",
       "  <thead>\n",
       "    <tr style=\"text-align: right;\">\n",
       "      <th></th>\n",
       "      <th>holiday</th>\n",
       "      <th>temperature</th>\n",
       "      <th>rain_1h</th>\n",
       "      <th>snow_1h</th>\n",
       "      <th>clouds_percentage</th>\n",
       "      <th>date_time</th>\n",
       "      <th>population_density_categorical</th>\n",
       "    </tr>\n",
       "  </thead>\n",
       "  <tbody>\n",
       "    <tr>\n",
       "      <th>0</th>\n",
       "      <td>None</td>\n",
       "      <td>258.52</td>\n",
       "      <td>0.0</td>\n",
       "      <td>0.0</td>\n",
       "      <td>20</td>\n",
       "      <td>7</td>\n",
       "      <td>very high</td>\n",
       "    </tr>\n",
       "    <tr>\n",
       "      <th>1</th>\n",
       "      <td>None</td>\n",
       "      <td>302.58</td>\n",
       "      <td>0.0</td>\n",
       "      <td>0.0</td>\n",
       "      <td>5</td>\n",
       "      <td>19</td>\n",
       "      <td>medium</td>\n",
       "    </tr>\n",
       "    <tr>\n",
       "      <th>2</th>\n",
       "      <td>None</td>\n",
       "      <td>275.79</td>\n",
       "      <td>0.0</td>\n",
       "      <td>0.0</td>\n",
       "      <td>90</td>\n",
       "      <td>13</td>\n",
       "      <td>medium</td>\n",
       "    </tr>\n",
       "    <tr>\n",
       "      <th>3</th>\n",
       "      <td>None</td>\n",
       "      <td>269.01</td>\n",
       "      <td>0.0</td>\n",
       "      <td>0.0</td>\n",
       "      <td>75</td>\n",
       "      <td>10</td>\n",
       "      <td>medium</td>\n",
       "    </tr>\n",
       "    <tr>\n",
       "      <th>4</th>\n",
       "      <td>None</td>\n",
       "      <td>260.09</td>\n",
       "      <td>0.0</td>\n",
       "      <td>0.0</td>\n",
       "      <td>1</td>\n",
       "      <td>2</td>\n",
       "      <td>very low</td>\n",
       "    </tr>\n",
       "  </tbody>\n",
       "</table>\n",
       "</div>"
      ],
      "text/plain": [
       "  holiday  temperature  rain_1h  snow_1h  clouds_percentage  date_time  \\\n",
       "0    None       258.52      0.0      0.0                 20          7   \n",
       "1    None       302.58      0.0      0.0                  5         19   \n",
       "2    None       275.79      0.0      0.0                 90         13   \n",
       "3    None       269.01      0.0      0.0                 75         10   \n",
       "4    None       260.09      0.0      0.0                  1          2   \n",
       "\n",
       "  population_density_categorical  \n",
       "0                      very high  \n",
       "1                         medium  \n",
       "2                         medium  \n",
       "3                         medium  \n",
       "4                       very low  "
      ]
     },
     "execution_count": 13,
     "metadata": {},
     "output_type": "execute_result"
    }
   ],
   "source": [
    "# Your code:\n",
    "# select corresponding columns\n",
    "svm_df = cleaned_data.loc[:, ['holiday', 'temperature', 'rain_1h', \n",
    "                             'snow_1h', 'clouds_percentage', 'date_time', \n",
    "                             'population_density_categorical']]\n",
    "\n",
    "# replace the date_time with time values\n",
    "svm_df['date_time'] = pd.to_datetime(svm_df['date_time'])\n",
    "svm_df['date_time'] = svm_df['date_time'].apply(lambda x: x.hour )\n",
    "svm_df.head()\n"
   ]
  },
  {
   "cell_type": "markdown",
   "metadata": {},
   "source": [
    "   (a) Which features are suitable as an input for SVM and which need to be modified first? Modify the data as needed and provide a brief explanation."
   ]
  },
  {
   "cell_type": "code",
   "execution_count": 14,
   "metadata": {},
   "outputs": [
    {
     "data": {
      "text/html": [
       "<div>\n",
       "<style scoped>\n",
       "    .dataframe tbody tr th:only-of-type {\n",
       "        vertical-align: middle;\n",
       "    }\n",
       "\n",
       "    .dataframe tbody tr th {\n",
       "        vertical-align: top;\n",
       "    }\n",
       "\n",
       "    .dataframe thead th {\n",
       "        text-align: right;\n",
       "    }\n",
       "</style>\n",
       "<table border=\"1\" class=\"dataframe\">\n",
       "  <thead>\n",
       "    <tr style=\"text-align: right;\">\n",
       "      <th></th>\n",
       "      <th>temperature</th>\n",
       "      <th>rain_1h</th>\n",
       "      <th>snow_1h</th>\n",
       "      <th>clouds_percentage</th>\n",
       "      <th>date_time</th>\n",
       "      <th>population_density_categorical</th>\n",
       "      <th>holiday_Christmas Day</th>\n",
       "      <th>holiday_Columbus Day</th>\n",
       "      <th>holiday_Independence Day</th>\n",
       "      <th>holiday_Labor Day</th>\n",
       "      <th>holiday_Martin Luther King Jr Day</th>\n",
       "      <th>holiday_Memorial Day</th>\n",
       "      <th>holiday_New Years Day</th>\n",
       "      <th>holiday_None</th>\n",
       "      <th>holiday_State Fair</th>\n",
       "      <th>holiday_Thanksgiving Day</th>\n",
       "      <th>holiday_Veterans Day</th>\n",
       "      <th>holiday_Washingtons Birthday</th>\n",
       "    </tr>\n",
       "  </thead>\n",
       "  <tbody>\n",
       "    <tr>\n",
       "      <th>0</th>\n",
       "      <td>258.52</td>\n",
       "      <td>0.0</td>\n",
       "      <td>0.0</td>\n",
       "      <td>20</td>\n",
       "      <td>7</td>\n",
       "      <td>very high</td>\n",
       "      <td>0</td>\n",
       "      <td>0</td>\n",
       "      <td>0</td>\n",
       "      <td>0</td>\n",
       "      <td>0</td>\n",
       "      <td>0</td>\n",
       "      <td>0</td>\n",
       "      <td>1</td>\n",
       "      <td>0</td>\n",
       "      <td>0</td>\n",
       "      <td>0</td>\n",
       "      <td>0</td>\n",
       "    </tr>\n",
       "    <tr>\n",
       "      <th>1</th>\n",
       "      <td>302.58</td>\n",
       "      <td>0.0</td>\n",
       "      <td>0.0</td>\n",
       "      <td>5</td>\n",
       "      <td>19</td>\n",
       "      <td>medium</td>\n",
       "      <td>0</td>\n",
       "      <td>0</td>\n",
       "      <td>0</td>\n",
       "      <td>0</td>\n",
       "      <td>0</td>\n",
       "      <td>0</td>\n",
       "      <td>0</td>\n",
       "      <td>1</td>\n",
       "      <td>0</td>\n",
       "      <td>0</td>\n",
       "      <td>0</td>\n",
       "      <td>0</td>\n",
       "    </tr>\n",
       "    <tr>\n",
       "      <th>2</th>\n",
       "      <td>275.79</td>\n",
       "      <td>0.0</td>\n",
       "      <td>0.0</td>\n",
       "      <td>90</td>\n",
       "      <td>13</td>\n",
       "      <td>medium</td>\n",
       "      <td>0</td>\n",
       "      <td>0</td>\n",
       "      <td>0</td>\n",
       "      <td>0</td>\n",
       "      <td>0</td>\n",
       "      <td>0</td>\n",
       "      <td>0</td>\n",
       "      <td>1</td>\n",
       "      <td>0</td>\n",
       "      <td>0</td>\n",
       "      <td>0</td>\n",
       "      <td>0</td>\n",
       "    </tr>\n",
       "    <tr>\n",
       "      <th>3</th>\n",
       "      <td>269.01</td>\n",
       "      <td>0.0</td>\n",
       "      <td>0.0</td>\n",
       "      <td>75</td>\n",
       "      <td>10</td>\n",
       "      <td>medium</td>\n",
       "      <td>0</td>\n",
       "      <td>0</td>\n",
       "      <td>0</td>\n",
       "      <td>0</td>\n",
       "      <td>0</td>\n",
       "      <td>0</td>\n",
       "      <td>0</td>\n",
       "      <td>1</td>\n",
       "      <td>0</td>\n",
       "      <td>0</td>\n",
       "      <td>0</td>\n",
       "      <td>0</td>\n",
       "    </tr>\n",
       "    <tr>\n",
       "      <th>4</th>\n",
       "      <td>260.09</td>\n",
       "      <td>0.0</td>\n",
       "      <td>0.0</td>\n",
       "      <td>1</td>\n",
       "      <td>2</td>\n",
       "      <td>very low</td>\n",
       "      <td>0</td>\n",
       "      <td>0</td>\n",
       "      <td>0</td>\n",
       "      <td>0</td>\n",
       "      <td>0</td>\n",
       "      <td>0</td>\n",
       "      <td>0</td>\n",
       "      <td>1</td>\n",
       "      <td>0</td>\n",
       "      <td>0</td>\n",
       "      <td>0</td>\n",
       "      <td>0</td>\n",
       "    </tr>\n",
       "  </tbody>\n",
       "</table>\n",
       "</div>"
      ],
      "text/plain": [
       "   temperature  rain_1h  snow_1h  clouds_percentage  date_time  \\\n",
       "0       258.52      0.0      0.0                 20          7   \n",
       "1       302.58      0.0      0.0                  5         19   \n",
       "2       275.79      0.0      0.0                 90         13   \n",
       "3       269.01      0.0      0.0                 75         10   \n",
       "4       260.09      0.0      0.0                  1          2   \n",
       "\n",
       "  population_density_categorical  holiday_Christmas Day  holiday_Columbus Day  \\\n",
       "0                      very high                      0                     0   \n",
       "1                         medium                      0                     0   \n",
       "2                         medium                      0                     0   \n",
       "3                         medium                      0                     0   \n",
       "4                       very low                      0                     0   \n",
       "\n",
       "   holiday_Independence Day  holiday_Labor Day  \\\n",
       "0                         0                  0   \n",
       "1                         0                  0   \n",
       "2                         0                  0   \n",
       "3                         0                  0   \n",
       "4                         0                  0   \n",
       "\n",
       "   holiday_Martin Luther King Jr Day  holiday_Memorial Day  \\\n",
       "0                                  0                     0   \n",
       "1                                  0                     0   \n",
       "2                                  0                     0   \n",
       "3                                  0                     0   \n",
       "4                                  0                     0   \n",
       "\n",
       "   holiday_New Years Day  holiday_None  holiday_State Fair  \\\n",
       "0                      0             1                   0   \n",
       "1                      0             1                   0   \n",
       "2                      0             1                   0   \n",
       "3                      0             1                   0   \n",
       "4                      0             1                   0   \n",
       "\n",
       "   holiday_Thanksgiving Day  holiday_Veterans Day  \\\n",
       "0                         0                     0   \n",
       "1                         0                     0   \n",
       "2                         0                     0   \n",
       "3                         0                     0   \n",
       "4                         0                     0   \n",
       "\n",
       "   holiday_Washingtons Birthday  \n",
       "0                             0  \n",
       "1                             0  \n",
       "2                             0  \n",
       "3                             0  \n",
       "4                             0  "
      ]
     },
     "execution_count": 14,
     "metadata": {},
     "output_type": "execute_result"
    }
   ],
   "source": [
    "# Your code:\n",
    "\n",
    "# transform 'holiday' using one-hot coding\n",
    "svm_df_transformed = pd.get_dummies(svm_df, prefix=['holiday'], columns=['holiday'])\n",
    "\n",
    "# transform 'date_time' to integers\n",
    "svm_df_transformed.head()\n"
   ]
  },
  {
   "cell_type": "markdown",
   "metadata": {},
   "source": [
    "Explanation:\n",
    "Same as linear regression, SVM typically needs continuous data as input. Thus, the features 'temperature', 'rain_1h',\n",
    "'snow_1h', 'clouds_percentage' do not need to be modified, since they are already numerical. \n",
    "On the other hand, the categorical feature 'holiday' and 'date_time' needs to be transformed before applying to SVM. Here we use one-hot coding for the attribute 'holiday' since it has no clear order. For 'date_time', we transform the time, which has a natural order, into integers."
   ]
  },
  {
   "cell_type": "markdown",
   "metadata": {},
   "source": [
    "   (b) Divide the data set into a training set *svmTrain* and a test set *svmTest* and briefly motivate your division      strategy. Include these data sets in the data set zip file you submit. \n",
    "   \n",
    "   Hint: Training the SVMs will take longer for a large training set!"
   ]
  },
  {
   "cell_type": "code",
   "execution_count": 15,
   "metadata": {},
   "outputs": [],
   "source": [
    "# Your code:\n",
    "from sklearn.model_selection import train_test_split\n",
    "# split the dataset \n",
    "df_svm_train, df_svm_test = train_test_split(svm_df_transformed, test_size=0.3, random_state=0)\n",
    "\n",
    "# save the training dataset and test dataset as csv file\n",
    "df_svm_train.to_csv(\"./svmTrain.csv\", index = False)\n",
    "df_svm_test.to_csv(\"./svmTest.csv\", index = False)"
   ]
  },
  {
   "cell_type": "markdown",
   "metadata": {},
   "source": [
    "Explanation:\n",
    "We use the build-in function from sklearn, and include 70% of the data in the training dataset, the others in the test dataset. Since we want to employ enough data points for an accurate result, but avoid overfitting and underfitting at the mean time.\n"
   ]
  },
  {
   "cell_type": "markdown",
   "metadata": {},
   "source": [
    "   (c) Use the training set to train 3 different SVMs with different combinations of the parameters. Use at least two distinct values for the parameters *kernel* and *C*."
   ]
  },
  {
   "cell_type": "code",
   "execution_count": null,
   "metadata": {},
   "outputs": [],
   "source": [
    "# Your code:\n",
    "from sklearn.svm import SVC\n",
    "\n",
    "# load data and specify the descriptive features and target feature\n",
    "df_svm_train = pd.read_csv(\"./svmTrain.csv\")\n",
    "X_svm = df_svm_train.loc[:, df_svm_train.columns != 'population_density_categorical']\n",
    "Y_svm = df_svm_train['population_density_categorical']\n",
    "\n",
    "# define three distinct SVM models and fit the training dataset \n",
    "# SVM Model A, which uses linear kernel\n",
    "classifier_svm_a = SVC(C=1, kernel = 'linear')\n",
    "classifier_svm_a.fit(X_svm, Y_svm)\n",
    "\n",
    "# SVM Model B, which uses rbf kernel\n",
    "classifier_svm_b = SVC(C=0.5, kernel = 'linear')\n",
    "classifier_svm_b.fit(X_svm, Y_svm)\n",
    "\n",
    "# SVM Model C, which uses sigmoid kernel\n",
    "classifier_svm_c = SVC(C=1, kernel = 'sigmoid', gamma='auto')\n",
    "classifier_svm_c.fit(X_svm, Y_svm)"
   ]
  },
  {
   "cell_type": "markdown",
   "metadata": {},
   "source": [
    "   (d) Compute and print the mean accurracy and classification report of the trained SVMs with respect to the test set (as shown in instruction)."
   ]
  },
  {
   "cell_type": "code",
   "execution_count": 88,
   "metadata": {},
   "outputs": [
    {
     "name": "stdout",
     "output_type": "stream",
     "text": [
      "- Accuracy(model A):  0.5659724890494121 \n",
      "\n",
      "- Accuracy(model B):  0.5705064166602628 \n",
      "\n",
      "- Accuracy(model C):  0.28018135710443404 \n",
      "\n"
     ]
    },
    {
     "name": "stderr",
     "output_type": "stream",
     "text": [
      "D:\\python_conda\\lib\\site-packages\\sklearn\\metrics\\classification.py:1437: UndefinedMetricWarning: Precision and F-score are ill-defined and being set to 0.0 in labels with no predicted samples.\n",
      "  'precision', 'predicted', average, warn_for)\n"
     ]
    },
    {
     "name": "stdout",
     "output_type": "stream",
     "text": [
      "Classification Report(model A): \n",
      "               precision    recall  f1-score   support\n",
      "\n",
      "        high       0.60      0.73      0.66      3646\n",
      "         low       0.43      0.33      0.37      2077\n",
      "      medium       0.37      0.38      0.37      2421\n",
      "   very high       0.00      0.00      0.00      1298\n",
      "    very low       0.69      0.87      0.77      3571\n",
      "\n",
      "    accuracy                           0.57     13013\n",
      "   macro avg       0.42      0.46      0.43     13013\n",
      "weighted avg       0.49      0.57      0.52     13013\n",
      " \n",
      "\n",
      "Classification Report(model B): \n",
      "               precision    recall  f1-score   support\n",
      "\n",
      "        high       0.60      0.75      0.66      3646\n",
      "         low       0.46      0.30      0.36      2077\n",
      "      medium       0.37      0.41      0.38      2421\n",
      "   very high       0.00      0.00      0.00      1298\n",
      "    very low       0.70      0.87      0.78      3571\n",
      "\n",
      "    accuracy                           0.57     13013\n",
      "   macro avg       0.42      0.46      0.44     13013\n",
      "weighted avg       0.50      0.57      0.53     13013\n",
      " \n",
      "\n",
      "Classification Report(model C): \n",
      "               precision    recall  f1-score   support\n",
      "\n",
      "        high       0.28      1.00      0.44      3646\n",
      "         low       0.00      0.00      0.00      2077\n",
      "      medium       0.00      0.00      0.00      2421\n",
      "   very high       0.00      0.00      0.00      1298\n",
      "    very low       0.00      0.00      0.00      3571\n",
      "\n",
      "    accuracy                           0.28     13013\n",
      "   macro avg       0.06      0.20      0.09     13013\n",
      "weighted avg       0.08      0.28      0.12     13013\n",
      " \n",
      "\n"
     ]
    }
   ],
   "source": [
    "# Your code:\n",
    "from sklearn.metrics import classification_report\n",
    "\n",
    "df_svm_test = pd.read_csv('./svmTest.csv')\n",
    "\n",
    "# specify the features for the test data\n",
    "X_svm_test = df_svm_test.loc[:, df_svm_test.columns != 'population_density_categorical']\n",
    "Y_svm_test = df_svm_test['population_density_categorical']\n",
    "\n",
    "# generate 3 predictions using the 3 svm models\n",
    "pred_svm_a = classifier_svm_a.predict(X_svm_test)\n",
    "pred_svm_b = classifier_svm_b.predict(X_svm_test)\n",
    "pred_svm_c = classifier_svm_c.predict(X_svm_test)\n",
    "\n",
    "print('- Accuracy(model A): ', classifier_svm_a.score(X_svm_test, Y_svm_test), '\\n')\n",
    "print('- Accuracy(model B): ', classifier_svm_b.score(X_svm_test, Y_svm_test), '\\n')\n",
    "print('- Accuracy(model C): ', classifier_svm_c.score(X_svm_test, Y_svm_test), '\\n')\n",
    "\n",
    "print('Classification Report(model A): \\n', classification_report(Y_svm_test, pred_svm_a), '\\n')  \n",
    "print('Classification Report(model B): \\n', classification_report(Y_svm_test, pred_svm_b), '\\n')  \n",
    "print('Classification Report(model C): \\n', classification_report(Y_svm_test, pred_svm_c), '\\n')\n",
    "\n"
   ]
  },
  {
   "cell_type": "markdown",
   "metadata": {},
   "source": [
    "   (e) Interpret and evaluate the 3 SVMs and compare them. Why are they similar/different? Which SVM do you recommend and why?"
   ]
  },
  {
   "cell_type": "markdown",
   "metadata": {},
   "source": [
    "Explanation:\n",
    "For models, we use Linear and Sigmoid kernels and changed penalty parameter C of the error term (how much to  avoid misclassifying examples) to see if there is a difference between the accuracy. As C gets smaller, that means we will have a larger margin which indicates that it is more possible to get misclassified samples. While when C gets larger, SVM will choose a smaller margin separate line if that line can classifier the training points better. \n",
    "\n",
    "To compare with the result from above, we can see that the B model has smaller C values, and its accuracy is higher. Thus, even we may possibly have misclassified samples, but larger margin gives us a better prediction. \n",
    "\n",
    "Linear kernel models are similar even we changed the C parameter. But for Sigmoid kernel, from the classification report, we can see precisions of target features are almost all 0.0. That is possible because sigmoid is more suitable for the nonlinear data set.\n",
    "\n",
    "We would recommend SVM with a linear kernel and a 0.5 penalty parameter. Since the performance of Sigmoid kernel on this data set is worse than the linear kernel, it is reasonable to conclude that, for this data set, it more likely linear separable since Sigmoid kernel is used for non-linear kernels and used on the data if the class boundaries are non-linear or overlapping. \n"
   ]
  },
  {
   "cell_type": "markdown",
   "metadata": {},
   "source": [
    "## Question 5 - Neural Networks (20 points)\n",
    "In this question consider the whole dataset that you have created in the *Preprocessing of Dataset* section. The target feature is *population_density_categorical*. \n",
    "\n",
    "To avoid performance problems, use the first 4000 rows of your dataset (you will need 2000 for training and 2000 for testing)."
   ]
  },
  {
   "cell_type": "markdown",
   "metadata": {},
   "source": [
    "   (a) What are the possible inputs of your network?\n",
    "     - Show the possible extracted features.\n",
    "     - Show the number of possible patterns of inputs for the categorical data."
   ]
  },
  {
   "cell_type": "code",
   "execution_count": null,
   "metadata": {},
   "outputs": [],
   "source": [
    "# Your code:\n",
    "nn_df = pd.read_csv(\"./population_density_categorical.csv\").head(4000)\n",
    "print('possible extracted features:', nn_df.columns.values[:len(nn_df.columns)-1],'\\n')\n",
    "print('- number of possible values in \"holiday\":', nn_df['holiday'].unique().shape[0], '\\n')\n",
    "print('- number of possible values in \"weather_type\":', nn_df['weather_type'].unique().shape[0], '\\n')\n",
    "print('- number of possible values in \"weather_type_details\":', nn_df['weather_type_details'].unique().shape[0], '\\n')\n",
    "# print('- number of possible values in \"population_density_categorical\":', nn_df['population_density_categorical'].unique().shape[0], '\\n')\n",
    "print(\"the the number of possible patterns of inputs for the categorical data:\", nn_df['holiday'].unique().shape[0]* nn_df['weather_type'].unique().shape[0]*nn_df['weather_type_details'].unique().shape[0])\n",
    "nn_df.head()"
   ]
  },
  {
   "cell_type": "markdown",
   "metadata": {},
   "source": [
    "Explanation:\n",
    "We extract all features except \"population_density_categorical\"(target feature) , because they are all numrical features or categorical features, and categorical feature can also be transfered into numerical values by one-hot-enconding.\n",
    "In each categorical featues, we need one input neuron for each possible value. So we have 3 input neurons for the feature 'holiday', 11 neurons for 'weather_type', and 30 neurons for 'weather_type_details'. Thus, we have 3*11*30 = 990 input possiblies for the categorical features. "
   ]
  },
  {
   "cell_type": "markdown",
   "metadata": {},
   "source": [
    "   (b) Before using the Neural Network algorithm, do you think it provides an accurate result? Why? \n",
    "     - Your explanation should be supported by data."
   ]
  },
  {
   "cell_type": "markdown",
   "metadata": {},
   "source": [
    "Explanation:\n",
    "The results will be relatively accurate, since the target feature 'population_density_categorical' is defined by population density, as long as we give the NN feed enough training examples, while getting more iterations, the boundaries for population density will be sufficiently close. \n",
    "\n",
    "We have enough number of data points for each class of population density categorical feature to support the training for Neural Networks, thus from the given data, we expeceted a relateively high accuracy of the neural network.\n"
   ]
  },
  {
   "cell_type": "code",
   "execution_count": 142,
   "metadata": {},
   "outputs": [
    {
     "name": "stdout",
     "output_type": "stream",
     "text": [
      "number of columns of very high: 407 \n",
      "\n",
      "number of columns of high: 1081 \n",
      "\n",
      "number of columns of medium: 796 \n",
      "\n",
      "number of columns of low: 634 \n",
      "\n",
      "number of columns of very low: 1082 \n",
      "\n"
     ]
    }
   ],
   "source": [
    "# Your code:\n",
    "print('number of columns of very high: %d \\n'%len(nn_df.loc[nn_df['population_density_categorical'] == 'very high', nn_df.columns]))\n",
    "print('number of columns of high: %d \\n'%len(nn_df.loc[nn_df['population_density_categorical'] == 'high', nn_df.columns]))\n",
    "print('number of columns of medium: %d \\n'%len(nn_df.loc[nn_df['population_density_categorical'] == 'medium', nn_df.columns]))\n",
    "print('number of columns of low: %d \\n'%len(nn_df.loc[nn_df['population_density_categorical'] == 'low', nn_df.columns]))\n",
    "print('number of columns of very low: %d \\n'%len(nn_df.loc[nn_df['population_density_categorical'] == 'very low', nn_df.columns]))\n"
   ]
  },
  {
   "cell_type": "markdown",
   "metadata": {},
   "source": [
    "   (c) Which features can be used for designing your network as inputs? Why?\n",
    "       - Which features should be changed (example: from categorical to numerical or numerical to categorical)? Why? \n",
    "       - Convert the features. "
   ]
  },
  {
   "cell_type": "markdown",
   "metadata": {},
   "source": [
    "Explanation:\n",
    "Explanation:\n",
    "- The feature 'date_time' is nominal, and cannot be directly processed as input for neural networkds, thus we apply the same transformation as we did for SVM and linear regression, which is keeping the time and turn them into integers.\n",
    "- Since we have categorical features 'holiday', 'weather_type', 'weather_type_details', we need to convert them using one-hot encoding."
   ]
  },
  {
   "cell_type": "code",
   "execution_count": 151,
   "metadata": {},
   "outputs": [],
   "source": [
    "# Your code:\n",
    "nn_df = pd.read_csv(\"./population_density_categorical.csv\").head(4000)\n",
    "# set 'date_time' into integer of hour\n",
    "nn_df['date_time'] = pd.to_datetime(nn_df['date_time'])\n",
    "nn_df['date_time'] = nn_df['date_time'].apply(lambda x: x.hour )\n",
    "# concert using one-hot encoding\n",
    "nn_df_transformed = pd.get_dummies(nn_df, prefix=['holiday','weather_type','weather_type_details'], columns=['holiday','weather_type','weather_type_details'])"
   ]
  },
  {
   "cell_type": "markdown",
   "metadata": {},
   "source": [
    "   (d) Train your network with default hyperparameters and return the parameters."
   ]
  },
  {
   "cell_type": "code",
   "execution_count": 212,
   "metadata": {},
   "outputs": [
    {
     "data": {
      "text/plain": [
       "MLPClassifier(activation='relu', alpha=0.0001, batch_size='auto', beta_1=0.9,\n",
       "              beta_2=0.999, early_stopping=False, epsilon=1e-08,\n",
       "              hidden_layer_sizes=(100,), learning_rate='constant',\n",
       "              learning_rate_init=0.001, max_iter=200, momentum=0.9,\n",
       "              n_iter_no_change=10, nesterovs_momentum=True, power_t=0.5,\n",
       "              random_state=None, shuffle=True, solver='adam', tol=0.0001,\n",
       "              validation_fraction=0.1, verbose=False, warm_start=False)"
      ]
     },
     "execution_count": 212,
     "metadata": {},
     "output_type": "execute_result"
    }
   ],
   "source": [
    "# Your code:\n",
    "from sklearn.neural_network import MLPClassifier\n",
    "from sklearn.metrics import confusion_matrix\n",
    "from sklearn.metrics import accuracy_score, precision_score, f1_score, recall_score\n",
    "\n",
    "# split the training data and test data set\n",
    "df_nn_train, df_nn_test = train_test_split(nn_df_transformed, test_size=0.5, random_state=1)\n",
    "X_nn_training = df_nn_train.loc[:, df_nn_train.columns != 'population_density_categorical']\n",
    "Y_nn_training = df_nn_train['population_density_categorical']\n",
    "\n",
    "classifier_nn_default = MLPClassifier()\n",
    "classifier_nn_default.fit(X_nn_training, Y_nn_training)\n"
   ]
  },
  {
   "cell_type": "markdown",
   "metadata": {},
   "source": [
    "   (e) Try to find an optimized number of hidden layers and nodes. \n",
    "      - Start with default numbers and then at least go with one number above and one number below the default.\n",
    "      - Use the 2000 rows of the data for training.\n",
    "      - What are the optimized numbers of hidden layers and nodes that you have found?"
   ]
  },
  {
   "cell_type": "code",
   "execution_count": 213,
   "metadata": {},
   "outputs": [
    {
     "name": "stderr",
     "output_type": "stream",
     "text": [
      "D:\\python_conda\\lib\\site-packages\\sklearn\\neural_network\\multilayer_perceptron.py:566: ConvergenceWarning: Stochastic Optimizer: Maximum iterations (200) reached and the optimization hasn't converged yet.\n",
      "  % self.max_iter, ConvergenceWarning)\n"
     ]
    },
    {
     "data": {
      "text/plain": [
       "MLPClassifier(activation='relu', alpha=0.0001, batch_size='auto', beta_1=0.9,\n",
       "              beta_2=0.999, early_stopping=False, epsilon=1e-08,\n",
       "              hidden_layer_sizes=(100, 100), learning_rate='constant',\n",
       "              learning_rate_init=0.001, max_iter=200, momentum=0.9,\n",
       "              n_iter_no_change=10, nesterovs_momentum=True, power_t=0.5,\n",
       "              random_state=None, shuffle=True, solver='adam', tol=0.0001,\n",
       "              validation_fraction=0.1, verbose=False, warm_start=False)"
      ]
     },
     "execution_count": 213,
     "metadata": {},
     "output_type": "execute_result"
    }
   ],
   "source": [
    "# Your code: (number of hidden layers)\n",
    "# 0 hidden layers\n",
    "classifier_nn_layers_0 = MLPClassifier(hidden_layer_sizes=())\n",
    "classifier_nn_layers_0.fit(X_nn_training, Y_nn_training)\n",
    "# 2 two layers\n",
    "classifier_nn_layers_2 = MLPClassifier(hidden_layer_sizes=(100,100))\n",
    "classifier_nn_layers_2.fit(X_nn_training, Y_nn_training)\n"
   ]
  },
  {
   "cell_type": "code",
   "execution_count": 214,
   "metadata": {},
   "outputs": [
    {
     "data": {
      "text/plain": [
       "MLPClassifier(activation='relu', alpha=0.0001, batch_size='auto', beta_1=0.9,\n",
       "              beta_2=0.999, early_stopping=False, epsilon=1e-08,\n",
       "              hidden_layer_sizes=(150,), learning_rate='constant',\n",
       "              learning_rate_init=0.001, max_iter=200, momentum=0.9,\n",
       "              n_iter_no_change=10, nesterovs_momentum=True, power_t=0.5,\n",
       "              random_state=None, shuffle=True, solver='adam', tol=0.0001,\n",
       "              validation_fraction=0.1, verbose=False, warm_start=False)"
      ]
     },
     "execution_count": 214,
     "metadata": {},
     "output_type": "execute_result"
    }
   ],
   "source": [
    "# Your code: (number of nodes in the hidden layer)\n",
    "# nodes of hidden layer :50\n",
    "classifier_nn_nodes_50 = MLPClassifier(hidden_layer_sizes=(50,))\n",
    "classifier_nn_nodes_50.fit(X_nn_training, Y_nn_training)\n",
    "# nodes of hidden layer: 150\n",
    "classifier_nn_nodes_150 = MLPClassifier(hidden_layer_sizes=(150,))\n",
    "classifier_nn_nodes_150.fit(X_nn_training, Y_nn_training)\n"
   ]
  },
  {
   "cell_type": "code",
   "execution_count": 244,
   "metadata": {},
   "outputs": [
    {
     "name": "stdout",
     "output_type": "stream",
     "text": [
      "Accuracy of 0 hidden layer:  0.885\n",
      "Accuracy of 2 hidden layers:  0.727\n",
      "Accuracy of 1 hidden layer:  0.9055\n",
      "Accuracy of 1 hidden layer 100 nodes:  0.9055\n",
      "Accuracy of 1 hidden layer 50 nodes:  0.885\n",
      "Accuracy of 1 hidden layer 150 nodes:  0.822\n"
     ]
    }
   ],
   "source": [
    "# Your code: (optimized network) \n",
    "X_nn_test = df_nn_test.loc[:, df_nn_train.columns != 'population_density_categorical']\n",
    "Y_nn_test = df_nn_test['population_density_categorical']\n",
    "\n",
    "# print(classification_report(Y_nn_test,classifier_nn_layers_0(Y_nn_test) ))\n",
    "print('Accuracy of 0 hidden layer: ', classifier_nn_layers_0.score(X_nn_test, Y_nn_test))\n",
    "print('Accuracy of 2 hidden layers: ', classifier_nn_layers_2.score(X_nn_test, Y_nn_test))\n",
    "print('Accuracy of 1 hidden layer: ', classifier_nn_default.score(X_nn_test, Y_nn_test))\n",
    "print('Accuracy of 1 hidden layer 100 nodes: ',classifier_nn_default.score(X_nn_test, Y_nn_test))\n",
    "print('Accuracy of 1 hidden layer 50 nodes: ',classifier_nn_nodes_50.score(X_nn_test, Y_nn_test))\n",
    "print('Accuracy of 1 hidden layer 150 nodes: ',classifier_nn_nodes_150.score(X_nn_test, Y_nn_test))\n"
   ]
  },
  {
   "cell_type": "markdown",
   "metadata": {},
   "source": [
    "Explanation:\n",
    "From the data we can see that one layer with 100 nodes has the best accuracy. That's might because too much parameters of NN will cause overfitting and too less parameters of NN will cause underfitting.\n"
   ]
  },
  {
   "cell_type": "markdown",
   "metadata": {},
   "source": [
    "   (f) Try to train your model with one linear activation function and one non-linear activation function. Use the default number of hidden layers and nodes.\n",
    "     - Name the functions and explain how the results are different and why. \n",
    "     - You can use evaluation metrics to show which activation function works better for this data set.\n",
    "     - Use the 2000 rows of the data for training."
   ]
  },
  {
   "cell_type": "code",
   "execution_count": 287,
   "metadata": {},
   "outputs": [
    {
     "name": "stdout",
     "output_type": "stream",
     "text": [
      "              precision    recall  f1-score   support\n",
      "\n",
      "        high       0.67      0.99      0.80       563\n",
      "         low       0.93      0.84      0.88       317\n",
      "      medium       0.86      0.81      0.83       384\n",
      "   very high       1.00      0.00      0.01       206\n",
      "    very low       0.99      0.97      0.98       530\n",
      "\n",
      "    accuracy                           0.82      2000\n",
      "   macro avg       0.89      0.72      0.70      2000\n",
      "weighted avg       0.86      0.82      0.78      2000\n",
      "\n",
      "Accuracy:  0.824\n"
     ]
    }
   ],
   "source": [
    "# Your code: (linear activation function):\n",
    "\n",
    "# classifier with an identity activation function\n",
    "classifier_nn_identity = MLPClassifier(activation='identity')\n",
    "classifier_nn_identity.fit(X_nn_training, Y_nn_training)\n",
    "pred_nn_identity = classifier_nn_identity.predict(X_nn_test)\n",
    "\n",
    "# confusion matrix \n",
    "print(classification_report(Y_nn_test, pred_nn_identity))\n",
    "print('Accuracy: ', classifier_nn_identity.score(X_nn_test, Y_nn_test))"
   ]
  },
  {
   "cell_type": "code",
   "execution_count": 337,
   "metadata": {},
   "outputs": [
    {
     "name": "stdout",
     "output_type": "stream",
     "text": [
      "              precision    recall  f1-score   support\n",
      "\n",
      "        high       0.90      0.91      0.91       563\n",
      "         low       0.91      0.93      0.92       317\n",
      "      medium       0.95      0.82      0.88       384\n",
      "   very high       0.80      0.95      0.87       206\n",
      "    very low       0.99      1.00      0.99       530\n",
      "\n",
      "    accuracy                           0.92      2000\n",
      "   macro avg       0.91      0.92      0.91      2000\n",
      "weighted avg       0.92      0.92      0.92      2000\n",
      "\n",
      "Accuracy:  0.922\n"
     ]
    }
   ],
   "source": [
    "# Your code: (non-linear activation function):\n",
    "\n",
    "# classifier with a logistic activation function\n",
    "classifier_nn_logistic = MLPClassifier(activation='logistic')\n",
    "classifier_nn_logistic.fit(X_nn_training, Y_nn_training)\n",
    "pred_nn_logistic = classifier_nn_logistic.predict(X_nn_test)\n",
    "print(classification_report(Y_nn_test, pred_nn_logistic))\n",
    "print('Accuracy: ', classifier_nn_logistic.score(X_nn_test, Y_nn_test))"
   ]
  },
  {
   "cell_type": "markdown",
   "metadata": {},
   "source": [
    "Explanation:\n",
    "We obtain the results from applying identity function and logistic function on our datasets. Clearly we have better accuracy on the logistic model than on identity model. \n",
    "\n",
    "\n",
    "Based on the classification report, we can see that the identity model doesn't work well with the \"very high\" category while logistic models have a better result. The precision of the identity model with the \"very high\" category is 1.0 but the recall is 0.0, which means there has a same number of positive samples as total positive sample returned. But recall rate indicates that none of the samples should be classified as positive. \n",
    "\n",
    "Since identity function does not manipulate the data, so neural network works just like a linear regression model, so no matter how many layers it has, it will work just like a single layer neural network, which, ends up being another linear function. While logistic function is a non-linear function that can help the neural network to learn complex data, it creates relationships between data inputs and outputs as well as limited data input range from 0 to 1. The logistic function can develop to the deep neural network which helps learn complex and high-dimensional data. \n"
   ]
  },
  {
   "cell_type": "markdown",
   "metadata": {},
   "source": [
    "## Question 6 - Evaluation (10 Points)"
   ]
  },
  {
   "cell_type": "markdown",
   "metadata": {},
   "source": [
    "   (a) Consider one of the models in question 4 (c) of your choice, one neural network with optimized number of hidden layers and nodes from question 5 (e), and the neural network with non-linear activation function from question 5 (f), for a total of *three* models, together with their respective datasets. Compute the following metrics for a 3-fold cross validation performed on each model:"
   ]
  },
  {
   "cell_type": "markdown",
   "metadata": {},
   "source": [
    "- Confusion matrices on the training data (sum cell-by-cell the results of each fold)"
   ]
  },
  {
   "cell_type": "code",
   "execution_count": null,
   "metadata": {},
   "outputs": [],
   "source": [
    "# Your code for the confusion matrices on the training data\n",
    "from sklearn.metrics import confusion_matrix\n",
    "from sklearn.model_selection import cross_val_score\n",
    "from sklearn.model_selection import KFold\n",
    "import numpy as np\n",
    "\n",
    "folds = KFold(n_splits=3)\n",
    "# confusion matrix SVM classifier 4(c)\n",
    "X_svm_complete = svm_df_transformed.loc[:, svm_df_transformed.columns != 'population_density_categorical']\n",
    "Y_svm_complete = svm_df_transformed['population_density_categorical']\n",
    "print('- SVM classifier from 4(c) \\n')\n",
    "for train_index, test_index in folds.split(X_svm_complete):\n",
    "    X_train, X_test = X_svm_complete.iloc[train_index], X_svm_complete.iloc[test_index]\n",
    "    y_train, y_test = Y_svm_complete[train_index], Y_svm_complete[test_index]\n",
    "#     classifier_svm_a.fit(X_train,y_train)\n",
    "    print('Confusion Matrix: \\n', pd.crosstab(np.array(y_train), np.array(classifier_svm_a.predict(X_train)), rownames=['True'], colnames=['Predicted'], margins=True),'\\n')\n",
    "\n",
    "# confusion matrix for classifier_nn_logistic from 5(e)\n",
    "X_nn = nn_df_transformed.loc[:, nn_df_transformed.columns != 'population_density_categorical']\n",
    "Y_nn = nn_df_transformed['population_density_categorical']\n",
    "print('- Neural Network classifier from 5(f) \\n')\n",
    "for train_index, test_index in folds.split(X_nn):\n",
    "    X_train, X_test = X_nn.iloc[train_index], X_nn.iloc[test_index]\n",
    "    y_train, y_test = Y_nn[train_index], Y_nn[test_index]\n",
    "#     classifier_nn_default.fit(X_train,y_train)\n",
    "    print('Confusion Matrix: \\n', pd.crosstab(np.array(y_train), np.array(classifier_nn_default.predict(X_train)), rownames=['True'], colnames=['Predicted'], margins=True),'\\n')\n",
    "\n",
    "# confusion matrix for classifier_nn_logistic from 5(f)\n",
    "X_nn = nn_df_transformed.loc[:, nn_df_transformed.columns != 'population_density_categorical']\n",
    "Y_nn = nn_df_transformed['population_density_categorical']\n",
    "print('- Neural Network classifier from 5(f) \\n')\n",
    "# print 3-folds metrics\n",
    "for train_index, test_index in folds.split(X_nn):\n",
    "    X_train, X_test = X_nn.iloc[train_index], X_nn.iloc[test_index]\n",
    "    y_train, y_test = Y_nn[train_index], Y_nn[test_index]\n",
    "#     classifier_nn_logistic.fit(X_train,y_train)\n",
    "    print('Confusion Matrix: \\n', pd.crosstab(np.array(y_train), np.array(classifier_nn_logistic.predict(X_train)), rownames=['True'], colnames=['Predicted'], margins=True),'\\n')"
   ]
  },
  {
   "cell_type": "markdown",
   "metadata": {},
   "source": [
    "- Confusion matrices on the test data (sum cell-by-cell the results of each fold)"
   ]
  },
  {
   "cell_type": "code",
   "execution_count": null,
   "metadata": {},
   "outputs": [],
   "source": [
    "# Your code for the confusion matrices on the test data\n",
    "\n",
    "# confusion matrix SVM classifier 4(c)\n",
    "print('- SVM classifier from 4(c) \\n')\n",
    "for train_index, test_index in folds.split(X_svm_complete):\n",
    "    X_train, X_test = X_svm_complete.iloc[train_index], X_svm_complete.iloc[test_index]\n",
    "    y_train, y_test = Y_svm_complete[train_index], Y_svm_complete[test_index]\n",
    "#     classifier_svm_a.fit(X_test,y_test)\n",
    "    print('Confusion Matrix: \\n', pd.crosstab(np.array(y_test), np.array(classifier_svm_a.predict(X_test)), rownames=['True'], colnames=['Predicted'], margins=True),'\\n')\n",
    "\n",
    "# confusion matrix for classifier_nn_logistic from 5(e)\n",
    "print('- Neural Network classifier from 5(f) \\n')\n",
    "for train_index, test_index in folds.split(X_nn):\n",
    "    X_train, X_test = X_nn.iloc[train_index], X_nn.iloc[test_index]\n",
    "    y_train, y_test = Y_nn[train_index], Y_nn[test_index]\n",
    "#     classifier_nn_default.fit(X_test,y_test)\n",
    "    print('Confusion Matrix: \\n', pd.crosstab(np.array(y_test), np.array(classifier_nn_default.predict(X_test)), rownames=['True'], colnames=['Predicted'], margins=True),'\\n')\n",
    "\n",
    "# confusion matrix for classifier_nn_logistic from 5(f)\n",
    "print('- Neural Network classifier from 5(f) \\n')\n",
    "# print 3-folds metrics\n",
    "for train_index, test_index in folds.split(X_nn):\n",
    "    X_train, X_test = X_nn.iloc[train_index], X_nn.iloc[test_index]\n",
    "    y_train, y_test = Y_nn[train_index], Y_nn[test_index]\n",
    "#     classifier_nn_logistic.fit(X_test,y_test)\n",
    "    print('Confusion Matrix: \\n', pd.crosstab(np.array(y_test), np.array(classifier_nn_logistic.predict(X_test)), rownames=['True'], colnames=['Predicted'], margins=True),'\\n')\n"
   ]
  },
  {
   "cell_type": "markdown",
   "metadata": {},
   "source": [
    "- Precision, recall and F1-scores on the test data (give explicitly the result for each fold)"
   ]
  },
  {
   "cell_type": "code",
   "execution_count": null,
   "metadata": {},
   "outputs": [],
   "source": [
    "# Your code for precision, recall and F1-scores on the test data\n",
    "\n",
    "# confusion matrix SVM classifier 4(c)\n",
    "print('- SVM classifier from 4(c) \\n')\n",
    "for train_index, test_index in folds.split(X_svm_complete):\n",
    "    X_train, X_test = X_svm_complete.iloc[train_index], X_svm_complete.iloc[test_index]\n",
    "    y_train, y_test = Y_svm_complete[train_index], Y_svm_complete[test_index]\n",
    "#     classifier_svm_a.fit(X_train,y_train)\n",
    "    print('Accuracy: ', classifier_svm_a.score(X_train, y_train))\n",
    "    print('Accuracy: ', classifier_svm_a.score(X_test, y_test))\n",
    "    print(classification_report(y_test, classifier_svm_a.predict(X_test)))\n",
    "# confusion matrix for classifier_nn_logistic from 5(e)\n",
    "print('- Neural Network classifier from 5(f) \\n')\n",
    "for train_index, test_index in folds.split(X_nn):\n",
    "    X_train, X_test = X_nn.iloc[train_index], X_nn.iloc[test_index]\n",
    "    y_train, y_test = Y_nn[train_index], Y_nn[test_index]\n",
    "#     classifier_nn_default.fit(X_train,y_train)\n",
    "    print(classification_report(y_test, classifier_nn_default.predict(X_test)))\n",
    "\n",
    "# confusion matrix for classifier_nn_logistic from 5(f)\n",
    "print('- Neural Network classifier from 5(f) \\n')\n",
    "# print 3-folds metrics\n",
    "for train_index, test_index in folds.split(X_nn):\n",
    "    X_train, X_test = X_nn.iloc[train_index], X_nn.iloc[test_index]\n",
    "    y_train, y_test = Y_nn[train_index], Y_nn[test_index]\n",
    "#     classifier_nn_logistic(X_train,y_train)\n",
    "    print(classification_report(y_test, classifier_nn_logistic.predict(X_test)))\n"
   ]
  },
  {
   "cell_type": "markdown",
   "metadata": {},
   "source": [
    "- Accuracy scores on training and test data (give explicitly the result for each fold)"
   ]
  },
  {
   "cell_type": "code",
   "execution_count": null,
   "metadata": {},
   "outputs": [],
   "source": [
    "# Your code for accuracy scores on training and test data\n",
    "print('- SVM classifier from 4(c) \\n')\n",
    "for train_index, test_index in folds.split(X_svm_complete):\n",
    "    X_train, X_test = X_svm_complete.iloc[train_index], X_svm_complete.iloc[test_index]\n",
    "    y_train, y_test = Y_svm_complete[train_index], Y_svm_complete[test_index]\n",
    "#     classifier_svm_a.fit(X_train,y_train)\n",
    "    print('Accuracy of training data: ', classifier_svm_a.score(X_train, y_train))\n",
    "    print('Accuracy of test data: ', classifier_svm_a.score(X_test, y_test))\n",
    "\n",
    "print('- Neural Network classifier from 5(f) \\n')\n",
    "for train_index, test_index in folds.split(X_nn):\n",
    "    X_train, X_test = X_nn.iloc[train_index], X_nn.iloc[test_index]\n",
    "    y_train, y_test = Y_nn[train_index], Y_nn[test_index]\n",
    "#     classifier_nn_default.fit(X_train,y_train)\n",
    "    print('Accuracy of training data: ', classifier_nn_default.score(X_train, y_train))\n",
    "    print('Accuracy of test data: ', classifier_nn_default.score(X_test, y_test))\n",
    "    \n",
    "print('- Neural Network classifier from 5(f) \\n')\n",
    "# print 3-folds metrics\n",
    "for train_index, test_index in folds.split(X_nn):\n",
    "    X_train, X_test = X_nn.iloc[train_index], X_nn.iloc[test_index]\n",
    "    y_train, y_test = Y_nn[train_index], Y_nn[test_index]\n",
    "#     classifier_nn_logistic(X_train,y_train)\n",
    "    print('Accuracy of training data: ', classifier_nn_logistic.score(X_train, y_train))\n",
    "    print('Accuracy of test data: ', classifier_nn_logistic.score(X_test, y_test))\n"
   ]
  },
  {
   "cell_type": "markdown",
   "metadata": {},
   "source": [
    "In order to turn numbers into insights, please comment on your findings. Motivate the answers to the following questions using the metrics and the findings in the questions 1 through 5 of the assignment."
   ]
  },
  {
   "cell_type": "markdown",
   "metadata": {},
   "source": [
    "   (b) What is, in your opinion, the best model? Motivate your answer with the correct performance metrics."
   ]
  },
  {
   "cell_type": "markdown",
   "metadata": {},
   "source": [
    "Explanation:\n",
    "Since SVM and regression are comparable in practical, whether our data is linear separable or not will more helpful in determining what kernel should be used for SVM. SVM is more suitable for high-dimensional and fewer data. While regression is a better choice for reducing the features. But for the neural networks, it is suitable for all types of data and very flexible. It also can be used for a lot of data.\n",
    "\n",
    "As we go through the regression, SVM and neural network models on our dataset. We think the neural network is the best model for predicting this data set. We have over 40,000 samples which is a comparably large dataset. Since we used one-hot encoding, the number of features are also increased. \n",
    "\n",
    "By comparing with accuracy, we find out that generally, SVM models have a lower accuracy rate while neural network models have a higher rate.\n"
   ]
  },
  {
   "cell_type": "markdown",
   "metadata": {},
   "source": [
    "   (c) Does any model suffer from underfitting or overfitting? Motivate your answer with the correct performance metrics."
   ]
  },
  {
   "cell_type": "markdown",
   "metadata": {},
   "source": [
    "Explanation:\n",
    "We think SVM suffer from underfitting and overfitting depends on parameter values. \n",
    "\n",
    "With different kernel functions:\n",
    "SVM with poly kernel faces an overfitting situation. Since the higher the degree, the more flexible the function. It will try to catch every data point. While with the linear kernel, SVM may face an underfitting since it cannot touch every data point.  \n",
    "\n",
    "With C parameter: \n",
    "when C is large, SVM mainly fits the samples in the training set, it will choose a smaller hyperplane that reduces the misclassified samples, so that training errors can be minimized. However, since it considers too much about every training points. It is difficult to apply the model on testing samples, which will result in overfitting.\n",
    "\n",
    "As C gets smaller, that means SVM tries to enlarge the margin and will allow some misclassified data samples. When we apply this model to test samples, both the training set and the testing set will have a lot of misclassified samples. So this is underfitting.\n",
    "\n",
    "In a nutshell, when C is large, the SVM tends to be overfitting, and when C is small, the SVM tends to be underfitting."
   ]
  },
  {
   "cell_type": "markdown",
   "metadata": {},
   "source": [
    "   (d) What is the effect of employing cross validation, instead of simply holding our a certain percentage of examples as test/validation set? What are the advantages and disadvantages of cross validation?"
   ]
  },
  {
   "cell_type": "markdown",
   "metadata": {},
   "source": [
    "Explanation:\n",
    "We used the K-fold cross-validation method above. So for K-fold cross-validation, we separate the dataset into k parts, and always leave one set as a test set, the rest of them are training set. So in this case, we train k times of the data, which ensured that we used all of our data so that we won't affect by bad choices of the training set and test set. Also, we create multiple models and matrices which help us to check whether each model performance is consistent, and helps in selecting the best-fit Model.\n",
    "\n",
    "However, since our calculation time depends on k, the total calculation time can be very long. And it is not suitable for fewer data. \n"
   ]
  }
 ],
 "metadata": {
  "kernelspec": {
   "display_name": "Python 3",
   "language": "python",
   "name": "python3"
  },
  "language_info": {
   "codemirror_mode": {
    "name": "ipython",
    "version": 3
   },
   "file_extension": ".py",
   "mimetype": "text/x-python",
   "name": "python",
   "nbconvert_exporter": "python",
   "pygments_lexer": "ipython3",
   "version": "3.7.4"
  }
 },
 "nbformat": 4,
 "nbformat_minor": 2
}