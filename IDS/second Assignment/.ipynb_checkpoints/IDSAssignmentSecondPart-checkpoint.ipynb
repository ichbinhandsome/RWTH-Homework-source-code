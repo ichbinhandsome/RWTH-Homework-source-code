{
 "cells": [
  {
   "cell_type": "markdown",
   "metadata": {},
   "source": [
    "# The Second Part of the Assignment of IDS 2019-2020\n",
    "Document your results as well as the way you obtained them in this jupyter notebook. Separate reports (pdf, word, etc.) are _not_ required. However, it is necessary that you provide the python code leading to your results as well as textual answers to the assignment questions in this notebook. *DO NOT CLEAR THE OUTPUT of the notebook you are submitting!* In the cases that the result of an algorithm is pdf, jpg, etc, you should attach the result to this notebook file and refer to that in the text.  \n",
    "\n",
    "Next to the jupyter notebook, submit one zip-file containing all data sets that you are asked to submit. Make sure they are easily identifiable, i.e. use names as requested in the corresponding question.\n",
    "\n",
    "Do not change the general structure of this notebook, but you can add further markdown or code cells to explain your solutions if necessary. In the end, submit this file and your created data sets in moodle.\n",
    "\n",
    "Only <font color=\"red\">one </font> group member should upload your group's solution.*Make sure to include group members' names and matriculation numbers*. If your name and student id are not included in the report, you will not receive any points!\n",
    "\n",
    "\n",
    "Hint 1: While answering the questions, you will get a better and better impression of the given data. <font color=\"red\"><b>Ensure that all claims you make are supported by the presented facts!</b></font>\n",
    "\n",
    "Hint 2: <font color=\"red\"><b>Some of the tasks might need some time to run. Take this into account in your planning.</b></font>\n",
    "\n",
    "Hint 3: RWTHonline allows for multiple submissions (each submission overwrites the previous ones). <font color=\"red\"><b>Partial submissions are possible and encouraged. </b></font> This helps in case of technical problems of RWTHonline, which do seldomly happen."
   ]
  },
  {
   "cell_type": "markdown",
   "metadata": {},
   "source": [
    "<font color=\"red\"><b>Student Names and IDs:\n",
    "    1. Xuan Zhang, 402471\n",
    "    2. Yaxin Tang, 402317\n",
    "    3. Ruixiang Wang, 400655"
   ]
  },
  {
   "cell_type": "markdown",
   "metadata": {},
   "source": [
    "## Preprocessing of the Dataset (5 points)\n",
    "\n",
    "The provided data set *air_pollution* contains hourly results of measuring the concentration of certain substances (CO, Benzene, NO2, particulate matter) and environmental conditions (temperature, relative humidity, traffic volume). This data was collected near a busy street in a city center by an automated device.\n",
    "\n",
    " You should carry out some preprocessing steps before starting the analysis:\n",
    " - Select 90% of 'air_pollution' dataset by random sampling. Use one of the group member's student number as a seed.\n",
    " - After completing this preprocessing step, export your final dataset as 'air_pollution_2.csv' dataset and use that for the next steps of the assignment.\n",
    " - If it is not directly mentioned, you should always use your extracted (above-created) dataset.\n",
    " - <font color='red'>Important!</font> Make sure that you submit your extracted dataset with your result in moodle."
   ]
  },
  {
   "cell_type": "code",
   "execution_count": 2,
   "metadata": {},
   "outputs": [],
   "source": [
    "#your code\n",
    "import pandas as pd\n",
    "import numpy as np\n",
    "import matplotlib.pyplot as plt\n",
    "\n",
    "df_ap = pd.read_csv(\"./air_pollution.csv\", parse_dates=['Date'])\n",
    "df_ap2 = df_ap.sample(frac=0.9, random_state=402471)\n",
    "df_ap2.to_csv(\"./air_pollution_2.csv\", index=False)"
   ]
  },
  {
   "cell_type": "markdown",
   "metadata": {},
   "source": [
    "## Question 1 - Data Preprocessing and Data Quality (10 points)"
   ]
  },
  {
   "cell_type": "markdown",
   "metadata": {},
   "source": [
    "For this question, use the extracted data set you created in the preprocessing step ('air_pollution_2.csv'), but without the features *Traffic_Volume* and *Particulate_Matter*. Remove those columns before answering the questions."
   ]
  },
  {
   "cell_type": "code",
   "execution_count": 3,
   "metadata": {},
   "outputs": [],
   "source": [
    "#import libraries and data set\n",
    "\n",
    "#import dataset and remove the corresponding columns\n",
    "df_q1 = pd.read_csv(\"./air_pollution_2.csv\").drop(columns = ['Traffic_Volume', 'Particulate_Matter'])"
   ]
  },
  {
   "cell_type": "markdown",
   "metadata": {},
   "source": [
    "(a) We want to get a first impression of the data. To achieve this, compute and show the following:\n",
    "    - the column names (names of the features)\n",
    "    - the data type of each feature\n",
    "    - for time features: the minimum and maximum\n",
    "    - for numerical (non-time) features: the mean, standard deviation, minimum and maximum\n",
    "    - for categorical features: the number of classes and the value of the most frequent class"
   ]
  },
  {
   "cell_type": "code",
   "execution_count": 4,
   "metadata": {},
   "outputs": [
    {
     "name": "stdout",
     "output_type": "stream",
     "text": [
      "Features Overview:\n"
     ]
    },
    {
     "data": {
      "text/html": [
       "<div>\n",
       "<style scoped>\n",
       "    .dataframe tbody tr th:only-of-type {\n",
       "        vertical-align: middle;\n",
       "    }\n",
       "\n",
       "    .dataframe tbody tr th {\n",
       "        vertical-align: top;\n",
       "    }\n",
       "\n",
       "    .dataframe thead th {\n",
       "        text-align: right;\n",
       "    }\n",
       "</style>\n",
       "<table border=\"1\" class=\"dataframe\">\n",
       "  <thead>\n",
       "    <tr style=\"text-align: right;\">\n",
       "      <th></th>\n",
       "      <th>Date</th>\n",
       "      <th>Time</th>\n",
       "      <th>CO</th>\n",
       "      <th>Benzene</th>\n",
       "      <th>NO2</th>\n",
       "      <th>Temperature</th>\n",
       "      <th>Humidity(%)</th>\n",
       "    </tr>\n",
       "  </thead>\n",
       "  <tbody>\n",
       "    <tr>\n",
       "      <th>Data Type</th>\n",
       "      <td>object</td>\n",
       "      <td>object</td>\n",
       "      <td>float64</td>\n",
       "      <td>float64</td>\n",
       "      <td>int64</td>\n",
       "      <td>float64</td>\n",
       "      <td>float64</td>\n",
       "    </tr>\n",
       "    <tr>\n",
       "      <th>Minimum</th>\n",
       "      <td>2004-01-04</td>\n",
       "      <td>00:00:00</td>\n",
       "      <td>-200</td>\n",
       "      <td>-200</td>\n",
       "      <td>-200</td>\n",
       "      <td>-200</td>\n",
       "      <td>-200</td>\n",
       "    </tr>\n",
       "    <tr>\n",
       "      <th>Maximum</th>\n",
       "      <td>2005-12-03</td>\n",
       "      <td>23:00:00</td>\n",
       "      <td>11.9</td>\n",
       "      <td>63.7</td>\n",
       "      <td>340</td>\n",
       "      <td>44.6</td>\n",
       "      <td>88.7</td>\n",
       "    </tr>\n",
       "    <tr>\n",
       "      <th>Mean</th>\n",
       "      <td>-</td>\n",
       "      <td>-</td>\n",
       "      <td>-34.4886</td>\n",
       "      <td>1.85591</td>\n",
       "      <td>57.8982</td>\n",
       "      <td>9.80678</td>\n",
       "      <td>39.396</td>\n",
       "    </tr>\n",
       "    <tr>\n",
       "      <th>Standard Deviation</th>\n",
       "      <td>-</td>\n",
       "      <td>-</td>\n",
       "      <td>77.8799</td>\n",
       "      <td>41.3511</td>\n",
       "      <td>127.023</td>\n",
       "      <td>43.1851</td>\n",
       "      <td>51.1788</td>\n",
       "    </tr>\n",
       "  </tbody>\n",
       "</table>\n",
       "</div>"
      ],
      "text/plain": [
       "                          Date      Time       CO  Benzene      NO2  \\\n",
       "Data Type               object    object  float64  float64    int64   \n",
       "Minimum             2004-01-04  00:00:00     -200     -200     -200   \n",
       "Maximum             2005-12-03  23:00:00     11.9     63.7      340   \n",
       "Mean                         -         - -34.4886  1.85591  57.8982   \n",
       "Standard Deviation           -         -  77.8799  41.3511  127.023   \n",
       "\n",
       "                   Temperature Humidity(%)  \n",
       "Data Type              float64     float64  \n",
       "Minimum                   -200        -200  \n",
       "Maximum                   44.6        88.7  \n",
       "Mean                   9.80678      39.396  \n",
       "Standard Deviation     43.1851     51.1788  "
      ]
     },
     "execution_count": 4,
     "metadata": {},
     "output_type": "execute_result"
    }
   ],
   "source": [
    "#your code\n",
    "print('Features Overview:')\n",
    "# parse time and group numerical features together\n",
    "feature_time = pd.to_datetime(df_q1['Time']).dt.time\n",
    "columns_numerical = df_q1[df_q1.columns[2:7]]\n",
    "\n",
    "# specify the characteristics for each feature\n",
    "minimum = [df_q1['Date'].min(), feature_time.min().strftime(\"%H:%M:%S\")] + columns_numerical.min().values.tolist()\n",
    "maximum = [df_q1['Date'].max(), feature_time.max().strftime(\"%H:%M:%S\")] + columns_numerical.max().values.tolist()\n",
    "mean = ['-', '-'] + columns_numerical.mean().values.tolist()\n",
    "std = ['-', '-'] + columns_numerical.std().values.tolist()\n",
    "\n",
    "# form the overview table of all features\n",
    "features_overview = {'Data Type': df_q1.dtypes, \n",
    "                     'Minimum': minimum, \n",
    "                     'Maximum': maximum, \n",
    "                     'Mean': mean, \n",
    "                     'Standard Deviation': std }\n",
    "pd.DataFrame(data = features_overview).T \n"
   ]
  },
  {
   "cell_type": "markdown",
   "metadata": {},
   "source": [
    "(b) Consider the features 'date' and 'time'. Combine them into a new column 'Datetime' using the datetime data type, and drop the old columns 'date' and 'time'. \n",
    "\n",
    "Which of the two representations of date and time do you think is more suitable for most analysis applications?"
   ]
  },
  {
   "cell_type": "markdown",
   "metadata": {},
   "source": [
    "Explanation: For most analysis applications, the new representation with combined datetime is more suitable, since it is a compact representation of the timestamp, which can be easily dealt with in most programming languages. Moreover, in most cases, timestamp is considered as one feature, thus putting date and time together would reduce complexity without losing much information."
   ]
  },
  {
   "cell_type": "code",
   "execution_count": 27,
   "metadata": {},
   "outputs": [
    {
     "data": {
      "text/html": [
       "<div>\n",
       "<style scoped>\n",
       "    .dataframe tbody tr th:only-of-type {\n",
       "        vertical-align: middle;\n",
       "    }\n",
       "\n",
       "    .dataframe tbody tr th {\n",
       "        vertical-align: top;\n",
       "    }\n",
       "\n",
       "    .dataframe thead th {\n",
       "        text-align: right;\n",
       "    }\n",
       "</style>\n",
       "<table border=\"1\" class=\"dataframe\">\n",
       "  <thead>\n",
       "    <tr style=\"text-align: right;\">\n",
       "      <th></th>\n",
       "      <th>CO</th>\n",
       "      <th>Benzene</th>\n",
       "      <th>NO2</th>\n",
       "      <th>Temperature</th>\n",
       "      <th>Humidity(%)</th>\n",
       "      <th>Datetime</th>\n",
       "    </tr>\n",
       "  </thead>\n",
       "  <tbody>\n",
       "    <tr>\n",
       "      <th>0</th>\n",
       "      <td>4.8</td>\n",
       "      <td>26.0</td>\n",
       "      <td>153</td>\n",
       "      <td>17.5</td>\n",
       "      <td>49.8</td>\n",
       "      <td>2004-11-05 09:00:00</td>\n",
       "    </tr>\n",
       "    <tr>\n",
       "      <th>1</th>\n",
       "      <td>5.5</td>\n",
       "      <td>26.3</td>\n",
       "      <td>223</td>\n",
       "      <td>4.1</td>\n",
       "      <td>47.9</td>\n",
       "      <td>2005-08-03 09:00:00</td>\n",
       "    </tr>\n",
       "    <tr>\n",
       "      <th>2</th>\n",
       "      <td>6.8</td>\n",
       "      <td>35.9</td>\n",
       "      <td>134</td>\n",
       "      <td>23.0</td>\n",
       "      <td>65.9</td>\n",
       "      <td>2004-10-20 19:00:00</td>\n",
       "    </tr>\n",
       "    <tr>\n",
       "      <th>3</th>\n",
       "      <td>2.1</td>\n",
       "      <td>14.0</td>\n",
       "      <td>130</td>\n",
       "      <td>40.1</td>\n",
       "      <td>19.0</td>\n",
       "      <td>2004-07-22 12:00:00</td>\n",
       "    </tr>\n",
       "    <tr>\n",
       "      <th>4</th>\n",
       "      <td>-200.0</td>\n",
       "      <td>8.0</td>\n",
       "      <td>-200</td>\n",
       "      <td>21.9</td>\n",
       "      <td>39.4</td>\n",
       "      <td>2004-10-14 11:00:00</td>\n",
       "    </tr>\n",
       "  </tbody>\n",
       "</table>\n",
       "</div>"
      ],
      "text/plain": [
       "      CO  Benzene  NO2  Temperature  Humidity(%)            Datetime\n",
       "0    4.8     26.0  153         17.5         49.8 2004-11-05 09:00:00\n",
       "1    5.5     26.3  223          4.1         47.9 2005-08-03 09:00:00\n",
       "2    6.8     35.9  134         23.0         65.9 2004-10-20 19:00:00\n",
       "3    2.1     14.0  130         40.1         19.0 2004-07-22 12:00:00\n",
       "4 -200.0      8.0 -200         21.9         39.4 2004-10-14 11:00:00"
      ]
     },
     "execution_count": 27,
     "metadata": {},
     "output_type": "execute_result"
    }
   ],
   "source": [
    "#your code\n",
    "if {'Date', 'Time'}.issubset(df_q1.columns):\n",
    "    df_q1['Datetime'] = df_q1['Date'] + ' ' + df_q1['Time']\n",
    "    df_q1['Datetime'] = pd.to_datetime(df_q1['Datetime'])\n",
    "    df_q1 = df_q1.drop(columns = ['Date', 'Time'])\n",
    "    \n",
    "df_q1.head()"
   ]
  },
  {
   "cell_type": "markdown",
   "metadata": {},
   "source": [
    "(c) For each feature corresponding to a measured value, provide a simple scatter plot showing the data points over time. Can you spot any obvious data quality issues, e.g. inconsistencies, implausible values or missing values (without researching on specific domain knowledge)?\n",
    "\n",
    "*Hint: you may perform additional computations to verify your findings.*"
   ]
  },
  {
   "cell_type": "code",
   "execution_count": 28,
   "metadata": {},
   "outputs": [
    {
     "data": {
      "text/plain": [
       "Text(0.5, 1.0, 'Humidity(%)')"
      ]
     },
     "execution_count": 28,
     "metadata": {},
     "output_type": "execute_result"
    },
    {
     "data": {
      "image/png": "[encoded data removed]",
      "text/plain": [
       "<Figure size 1080x1080 with 5 Axes>"
      ]
     },
     "metadata": {
      "needs_background": "light"
     },
     "output_type": "display_data"
    }
   ],
   "source": [
    "#your code\n",
    "fig, (ax1, ax2, ax3, ax4, ax5) = plt.subplots(5, sharex = True, figsize=(15,15))\n",
    "ax1.scatter(df_q1['Datetime'], df_q1.iloc[:, 0])\n",
    "ax1.set_title('CO')\n",
    "ax2.scatter(df_q1['Datetime'], df_q1.iloc[:, 1])\n",
    "ax2.set_title('Benzene')\n",
    "ax3.scatter(df_q1['Datetime'], df_q1.iloc[:, 2])\n",
    "ax3.set_title('NO2')\n",
    "ax4.scatter(df_q1['Datetime'], df_q1.iloc[:, 3])\n",
    "ax4.set_title('Temperature')\n",
    "ax5.scatter(df_q1['Datetime'], df_q1.iloc[:, 4])\n",
    "ax5.set_title('Humidity(%)')\n"
   ]
  },
  {
   "cell_type": "code",
   "execution_count": 29,
   "metadata": {},
   "outputs": [
    {
     "name": "stdout",
     "output_type": "stream",
     "text": [
      "Dataset contains missing value(s): False\n"
     ]
    }
   ],
   "source": [
    "# check for missing values\n",
    "print('Dataset contains missing value(s):', df_q1.isnull().values.any())"
   ]
  },
  {
   "cell_type": "code",
   "execution_count": 30,
   "metadata": {},
   "outputs": [
    {
     "name": "stdout",
     "output_type": "stream",
     "text": [
      "Unique negative values in CO and frequency: \n",
      " -200.0    1526\n",
      "Name: CO, dtype: int64\n",
      "Unique negative values in Benzene and frequency: \n",
      " -200.0    329\n",
      "Name: Benzene, dtype: int64\n",
      "Unique negative values in NO2 and frequency: \n",
      " -200    1482\n",
      "Name: NO2, dtype: int64\n",
      "Unique negative values in Temperature and frequency: \n",
      " -200.0    329\n",
      "-0.6        2\n",
      "-0.1        2\n",
      "-1.3        2\n",
      "-0.2        1\n",
      "-1.1        1\n",
      "-1.9        1\n",
      "-1.4        1\n",
      "-0.3        1\n",
      "-1.2        1\n",
      "Name: Temperature, dtype: int64\n",
      "Unique negative values in Humidity(%) and frequency: \n",
      " -200.0    329\n",
      "Name: Humidity(%), dtype: int64\n"
     ]
    }
   ],
   "source": [
    "# inspect the negative values in each numercal columns\n",
    "for column in df_q1.loc[:, df_q1.columns != 'Datetime']:\n",
    "    print('Unique negative values in', column , 'and frequency: \\n', df_q1[column][df_q1[column] < 0].value_counts())\n"
   ]
  },
  {
   "cell_type": "markdown",
   "metadata": {},
   "source": [
    "Explanation: \n",
    "- From the scatter plots above, it is obvious that we have some implausible values at the bottom parts. We observe that for all numerical features, there is a clear blank strip between the positive values and the negative value, which is -200. However, this value is not plausible as measurement results in reality. Thus, we consider these data points as noise.\n",
    "\n",
    "- We then inspected the value(s) below 0 for each numerical features. As is shown above, except for 'Temperature', all other features only have -200 as the only unique negative value with relatively high frequency. As for 'Temperature', a negative value is fairly possible but -200 also appears 329 times. Thus, we can verify that the value -200 is noise and implausible."
   ]
  },
  {
   "cell_type": "markdown",
   "metadata": {},
   "source": [
    "(d) We need to handle any implausible or missing data. In the lecture, several strategies to do so have been introduced, for example, deleting data rows that contain missing/implausible values or replacing them by a value derived from other data points. \n",
    "\n",
    "In this question, consider implausible values to be the ones identified in question (c).\n",
    "\n",
    "    1) For all numerical features, compute and show mean, standard deviation, minimum and maximum, while ignoring the missing and implausible values. Also, print the total number of data rows.\n",
    "    \n",
    "    2) Choose a strategy (or combination of strategies) to handle missing/implausible values. Create a cleaned data set with all those values handled accordingly.\n",
    "    \n",
    "    3) For all numerical features, compute and show mean, standard deviation, minimum and maximum with respect to your cleaned data set. Also print the total number of data rows.\n",
    "    \n",
    "    4) Motivate and explain your strategy and describe its (dis-)advantages compared to other options. Compare the computed statistical values before and after cleaning and briefly describe and evaluate any changes."
   ]
  },
  {
   "cell_type": "code",
   "execution_count": 31,
   "metadata": {},
   "outputs": [
    {
     "name": "stdout",
     "output_type": "stream",
     "text": [
      "Overview of each feature after cleaning\n"
     ]
    },
    {
     "data": {
      "text/html": [
       "<div>\n",
       "<style scoped>\n",
       "    .dataframe tbody tr th:only-of-type {\n",
       "        vertical-align: middle;\n",
       "    }\n",
       "\n",
       "    .dataframe tbody tr th {\n",
       "        vertical-align: top;\n",
       "    }\n",
       "\n",
       "    .dataframe thead th {\n",
       "        text-align: right;\n",
       "    }\n",
       "</style>\n",
       "<table border=\"1\" class=\"dataframe\">\n",
       "  <thead>\n",
       "    <tr style=\"text-align: right;\">\n",
       "      <th></th>\n",
       "      <th>CO</th>\n",
       "      <th>Benzene</th>\n",
       "      <th>NO2</th>\n",
       "      <th>Temperature</th>\n",
       "      <th>Humidity(%)</th>\n",
       "    </tr>\n",
       "  </thead>\n",
       "  <tbody>\n",
       "    <tr>\n",
       "      <th>Mean</th>\n",
       "      <td>2.14</td>\n",
       "      <td>10.06</td>\n",
       "      <td>112.98</td>\n",
       "      <td>18.34</td>\n",
       "      <td>49.13</td>\n",
       "    </tr>\n",
       "    <tr>\n",
       "      <th>Minimum</th>\n",
       "      <td>0.10</td>\n",
       "      <td>0.10</td>\n",
       "      <td>2.00</td>\n",
       "      <td>-1.90</td>\n",
       "      <td>9.20</td>\n",
       "    </tr>\n",
       "    <tr>\n",
       "      <th>Maximum</th>\n",
       "      <td>11.90</td>\n",
       "      <td>63.70</td>\n",
       "      <td>340.00</td>\n",
       "      <td>44.60</td>\n",
       "      <td>88.70</td>\n",
       "    </tr>\n",
       "    <tr>\n",
       "      <th>Standard Deviation</th>\n",
       "      <td>1.45</td>\n",
       "      <td>7.43</td>\n",
       "      <td>48.37</td>\n",
       "      <td>8.84</td>\n",
       "      <td>17.34</td>\n",
       "    </tr>\n",
       "    <tr>\n",
       "      <th>Number of Rows</th>\n",
       "      <td>6895.00</td>\n",
       "      <td>8092.00</td>\n",
       "      <td>6939.00</td>\n",
       "      <td>8092.00</td>\n",
       "      <td>8092.00</td>\n",
       "    </tr>\n",
       "  </tbody>\n",
       "</table>\n",
       "</div>"
      ],
      "text/plain": [
       "                         CO  Benzene      NO2  Temperature  Humidity(%)\n",
       "Mean                   2.14    10.06   112.98        18.34        49.13\n",
       "Minimum                0.10     0.10     2.00        -1.90         9.20\n",
       "Maximum               11.90    63.70   340.00        44.60        88.70\n",
       "Standard Deviation     1.45     7.43    48.37         8.84        17.34\n",
       "Number of Rows      6895.00  8092.00  6939.00      8092.00      8092.00"
      ]
     },
     "execution_count": 31,
     "metadata": {},
     "output_type": "execute_result"
    }
   ],
   "source": [
    "#your code\n",
    "mean_cleaned, sd_cleaned, min_cleaned, max_cleaned, row_nums = [], [], [], [], []\n",
    "\n",
    "# compute the statistical characteristics of each feature\n",
    "for column in df_q1.loc[:, df_q1.columns != 'Datetime']:\n",
    "    column_cleaned = df_q1[column][df_q1[column] != -200]\n",
    "    mean_cleaned.append(column_cleaned.mean())\n",
    "    sd_cleaned.append(column_cleaned.std())\n",
    "    min_cleaned.append(column_cleaned.min())\n",
    "    max_cleaned.append(column_cleaned.max())\n",
    "    row_nums.append(len(column_cleaned))\n",
    "    \n",
    "# form the overview table of cleaned features\n",
    "cleaned_overview = { 'Mean': mean_cleaned, \n",
    "                     'Minimum': min_cleaned, \n",
    "                     'Maximum': max_cleaned, \n",
    "                     'Standard Deviation': sd_cleaned,\n",
    "                     'Number of Rows': row_nums }\n",
    "\n",
    "cleaned_table = pd.DataFrame(data = cleaned_overview).round(2).T \n",
    "cleaned_table.columns = df_q1.loc[:, df_q1.columns != 'Datetime'].columns\n",
    "print('Overview of each feature after cleaning')\n",
    "cleaned_table"
   ]
  },
  {
   "cell_type": "code",
   "execution_count": 32,
   "metadata": {},
   "outputs": [
    {
     "name": "stdout",
     "output_type": "stream",
     "text": [
      "Entries with noise in feature Benzene:\n",
      "         CO  Benzene  NO2  Temperature  Humidity(%)            Datetime\n",
      "20      7.3   -200.0  214       -200.0       -200.0 2004-12-15 18:00:00\n",
      "121     1.7   -200.0  129       -200.0       -200.0 2005-05-01 00:00:00\n",
      "146  -200.0   -200.0 -200       -200.0       -200.0 2004-05-26 06:00:00\n",
      "184     6.2   -200.0  243       -200.0       -200.0 2005-10-02 19:00:00\n",
      "236     1.7   -200.0   95       -200.0       -200.0 2004-06-19 22:00:00\n",
      "...     ...      ...  ...          ...          ...                 ...\n",
      "8329    3.7   -200.0  177       -200.0       -200.0 2004-12-17 14:00:00\n",
      "8332    4.2   -200.0  182       -200.0       -200.0 2005-03-01 20:00:00\n",
      "8354    1.2   -200.0   83       -200.0       -200.0 2004-12-15 07:00:00\n",
      "8372 -200.0   -200.0 -200       -200.0       -200.0 2004-08-09 11:00:00\n",
      "8405    5.6   -200.0  157       -200.0       -200.0 2004-12-24 21:00:00\n",
      "\n",
      "[329 rows x 6 columns]\n",
      "Unique value and frequency in Temperature in the above table: -200.0    329\n",
      "Name: Temperature, dtype: int64\n",
      "Unique value and frequency in Humidity(%) in the above table:: -200.0    329\n",
      "Name: Humidity(%), dtype: int64\n"
     ]
    }
   ],
   "source": [
    "# inspecting the noise data points in 'Benzene', 'Temperature', and 'Humidity(%)'\n",
    "noise_Benzene = df_q1[df_q1['Benzene'] == -200]\n",
    "print('Entries with noise in feature Benzene:')\n",
    "print(noise_Benzene)\n",
    "print('Unique value and frequency in Temperature in the above table:', noise_Benzene['Temperature'].value_counts())\n",
    "print('Unique value and frequency in Humidity(%) in the above table::', noise_Benzene['Humidity(%)'].value_counts())\n"
   ]
  },
  {
   "cell_type": "markdown",
   "metadata": {},
   "source": [
    "Explanation: \n",
    "\n",
    "- From the inspection of noise data points, we observe that the noise frequency in 'Benzene', 'Temperature', 'Humidity(%)' are exactly the same(which is 329). This means that it could be possible that when noise occurs in one feature, it also occurs in the other two at the same time. After further inspection, we find out that this is indeed the case. Since these 329 data points only takes up less than 4% among all the 8421 points, and have a high concentration of errors, we simply remove them from the data set.\n",
    "\n",
    "- On the other hand, the 1526 noise values in 'CO' and 1482 noise values in 'NO2' do not always appear at the same time. These instances takes up around 36% of the entire data set and do have valid values in the remaining features, simply casting them away would lead to a relatively significant information loss. Therefore, we repair the implausible values by replacing them with the corresponding mean value of the regarding feature.\n",
    "\n",
    "- By combining the above strategies instead of simply removing all rows or even features containing noise, we can avoid losing too much information over the dataset and reconstruct the true data distribution in a plausible way. However, we do face the problem of certain amount of information loss, which is unfortunately inevitable in our case, for example, the actual maximum in 'NO2' is wiped out during the cleaning process. Furthermore, replacing with the mean values does not necessarily guarantee an unbiased representation of the true data distribution.\n",
    "\n",
    "\n",
    "Comparison after cleaning:\n",
    "\n",
    "1) The minimum values of each feature offers a more accurate evaluation, since the value was -200 for all features, which hardly describes the true distribution of the measured values of each feature \n",
    "\n",
    "2) The maximum values remain mostly unchanged, except for 'NO2'. This is the because the actual maximum for 'NO2' is contained within an instance with heavy noise and got dropped out during cleaning. \n",
    "\n",
    "3) The mean values are significantly higher and make more sense after cleaning. The original means are heavily influenced by the noise, since the absolute value of the noise is much bigger than the actual measured values in each feature.\n",
    "\n",
    "4) The standard diviation(std) is also significantly smaller. This is due to the fact that after cleaning, the massive gap between the actual values and the noise no longer exists. As a result, the variation of values becomes much smaller."
   ]
  },
  {
   "cell_type": "code",
   "execution_count": 6,
   "metadata": {},
   "outputs": [],
   "source": [
    "import warnings\n",
    "# drop the 329 rows with noise in 'Benzene', 'Temperature', and 'Humidity(%)'\n",
    "df_cleaned = df_q1[df_q1['Benzene'] != -200]\n",
    "\n",
    "# replace the rows with noise in 'CO' and 'NO2' with mean values (2.14 and 112.98)\n",
    "df_cleaned['CO'] = df_cleaned['CO'].replace(-200, 2.14)\n",
    "df_cleaned['NO2'] = df_cleaned['NO2'].replace(-200, 112.98)\n",
    "\n",
    "# overview of the cleaned dataset\n",
    "df_cleaned.describe().round(2).drop(['25%', '50%', '75%'])\n",
    "warnings.simplefilter('ignore')"
   ]
  },
  {
   "cell_type": "markdown",
   "metadata": {},
   "source": [
    "## Question 2 - Data Preprocessing  and Advanced Visualization (15 points)"
   ]
  },
  {
   "cell_type": "markdown",
   "metadata": {},
   "source": [
    "For this question, use the extracted data set you created in the preprocessing step ('air_pollution_2.csv')."
   ]
  },
  {
   "cell_type": "markdown",
   "metadata": {},
   "source": [
    "(a) To create a suitable input for the following questions, modify the data set as listed below and then print the first 5 data rows:\n",
    "\n",
    "    - Remove the columns 'Traffic_Volume' and 'Particulate_Matter'\n",
    "    - Replace the columns 'Date' and 'Time' by a combined column 'Datetime' using the datetime data type\n",
    "    - Restrict the data to the timeframe between 2004-04-01 and 2005-03-31\n",
    "    - Drop all rows that contain a missing value or a value below -37\n",
    "    \n",
    "*Hint: You may be able to reuse some of your code or data sets created above.*"
   ]
  },
  {
   "cell_type": "code",
   "execution_count": 7,
   "metadata": {},
   "outputs": [
    {
     "data": {
      "text/html": [
       "<div>\n",
       "<style scoped>\n",
       "    .dataframe tbody tr th:only-of-type {\n",
       "        vertical-align: middle;\n",
       "    }\n",
       "\n",
       "    .dataframe tbody tr th {\n",
       "        vertical-align: top;\n",
       "    }\n",
       "\n",
       "    .dataframe thead th {\n",
       "        text-align: right;\n",
       "    }\n",
       "</style>\n",
       "<table border=\"1\" class=\"dataframe\">\n",
       "  <thead>\n",
       "    <tr style=\"text-align: right;\">\n",
       "      <th></th>\n",
       "      <th>CO</th>\n",
       "      <th>Benzene</th>\n",
       "      <th>NO2</th>\n",
       "      <th>Temperature</th>\n",
       "      <th>Humidity(%)</th>\n",
       "      <th>Datetime</th>\n",
       "    </tr>\n",
       "  </thead>\n",
       "  <tbody>\n",
       "    <tr>\n",
       "      <th>0</th>\n",
       "      <td>4.8</td>\n",
       "      <td>26.0</td>\n",
       "      <td>153</td>\n",
       "      <td>17.5</td>\n",
       "      <td>49.8</td>\n",
       "      <td>2004-11-05 09:00:00</td>\n",
       "    </tr>\n",
       "    <tr>\n",
       "      <th>2</th>\n",
       "      <td>6.8</td>\n",
       "      <td>35.9</td>\n",
       "      <td>134</td>\n",
       "      <td>23.0</td>\n",
       "      <td>65.9</td>\n",
       "      <td>2004-10-20 19:00:00</td>\n",
       "    </tr>\n",
       "    <tr>\n",
       "      <th>3</th>\n",
       "      <td>2.1</td>\n",
       "      <td>14.0</td>\n",
       "      <td>130</td>\n",
       "      <td>40.1</td>\n",
       "      <td>19.0</td>\n",
       "      <td>2004-07-22 12:00:00</td>\n",
       "    </tr>\n",
       "    <tr>\n",
       "      <th>5</th>\n",
       "      <td>0.6</td>\n",
       "      <td>1.6</td>\n",
       "      <td>86</td>\n",
       "      <td>8.0</td>\n",
       "      <td>68.9</td>\n",
       "      <td>2005-03-16 05:00:00</td>\n",
       "    </tr>\n",
       "    <tr>\n",
       "      <th>6</th>\n",
       "      <td>2.3</td>\n",
       "      <td>14.1</td>\n",
       "      <td>82</td>\n",
       "      <td>20.0</td>\n",
       "      <td>56.7</td>\n",
       "      <td>2004-06-11 11:00:00</td>\n",
       "    </tr>\n",
       "  </tbody>\n",
       "</table>\n",
       "</div>"
      ],
      "text/plain": [
       "    CO  Benzene  NO2  Temperature  Humidity(%)            Datetime\n",
       "0  4.8     26.0  153         17.5         49.8 2004-11-05 09:00:00\n",
       "2  6.8     35.9  134         23.0         65.9 2004-10-20 19:00:00\n",
       "3  2.1     14.0  130         40.1         19.0 2004-07-22 12:00:00\n",
       "5  0.6      1.6   86          8.0         68.9 2005-03-16 05:00:00\n",
       "6  2.3     14.1   82         20.0         56.7 2004-06-11 11:00:00"
      ]
     },
     "execution_count": 7,
     "metadata": {},
     "output_type": "execute_result"
    }
   ],
   "source": [
    "#your code\n",
    "\n",
    "# read data and drop columns\n",
    "df_q2 = pd.read_csv(\"./air_pollution_2.csv\").drop(columns = ['Traffic_Volume', 'Particulate_Matter'])\n",
    "\n",
    "# merge 'Date' and 'Time'\n",
    "if {'Date', 'Time'}.issubset(df_q2.columns):\n",
    "    df_q2['Datetime'] = df_q2['Date'] + ' ' + df_q2['Time']\n",
    "    df_q2['Datetime'] = pd.to_datetime(df_q2['Datetime'])\n",
    "    df_q2 = df_q2.drop(columns = ['Date', 'Time'])\n",
    "\n",
    "# restrict the time frame\n",
    "df_q2 = df_q2[(df_q2['Datetime'] >= '2004-04-01') & (df_q2['Datetime'] <= '2005-03-31')]\n",
    "\n",
    "# drop missing values and correct values\n",
    "df_q2 = df_q2.dropna()\n",
    "df_q2 = df_q2[(df_q2.loc[:, df_q2.columns != 'Datetime'] >= -37).all(axis=1)]\n",
    "\n",
    "df_q2.head(5)"
   ]
  },
  {
   "cell_type": "markdown",
   "metadata": {},
   "source": [
    "(b) For temperature, humidity and CO compute the mean value for each month. Create two stream graphs based on this newly computed data, that visualize the change in temperature, CO and humidity over the months:\n",
    "\n",
    "    1) For the first stream graph, simply use the mean values you computed for each month.\n",
    "    \n",
    "    2) For the second stream graph, first normalize the computed mean values by mapping them individually to an interval between 0 and 1, that is, apply Min-max normalization."
   ]
  },
  {
   "cell_type": "code",
   "execution_count": 13,
   "metadata": {},
   "outputs": [
    {
     "data": {
      "image/png": "[encoded data removed]",
      "text/plain": [
       "<Figure size 1080x720 with 2 Axes>"
      ]
     },
     "metadata": {
      "needs_background": "light"
     },
     "output_type": "display_data"
    }
   ],
   "source": [
    "#your code\n",
    "from sklearn import preprocessing\n",
    "\n",
    "# group the values and compute the corresponding mean\n",
    "monthly_mean = df_q2.drop(['Benzene', 'NO2'], axis = 1).groupby([df_q2['Datetime'].dt.month]).mean()\n",
    "\n",
    "# normalize the monthly mean\n",
    "min_max_scaler = preprocessing.MinMaxScaler()\n",
    "x_scaled = min_max_scaler.fit_transform(monthly_mean.values)\n",
    "monthly_mean_normalized = pd.DataFrame(x_scaled, columns = ['CO', 'Temperature', 'Humidity(%)'], index = list(range(1,13)))\n",
    "\n",
    "# create stream graph to visualize the original monthly mean\n",
    "fig, (ax1, ax2) = plt.subplots(2, sharex = True, figsize=(15,10))\n",
    "ax1.stackplot(monthly_mean.index, monthly_mean['CO'], monthly_mean['Temperature'], monthly_mean['Humidity(%)'], baseline='wiggle')\n",
    "ax1.legend(['CO', 'Temperature', 'Humidity(%)'], loc='upper left', bbox_to_anchor=(1, 1))\n",
    "ax1.set_title('Stream graph  of the monthly mean(with normalization):')\n",
    "\n",
    "# create stream graph to visualize the normalized monthly mean\n",
    "ax2.stackplot(monthly_mean_normalized.index, monthly_mean_normalized['CO'], monthly_mean_normalized['Temperature'], monthly_mean_normalized['Humidity(%)'], baseline='wiggle')\n",
    "ax2.legend(['CO', 'Temperature', 'Humidity(%)'], loc='upper left', bbox_to_anchor=(1, 1))\n",
    "ax2.set_title('Stream graph  of the monthly mean(with normalization):')\n",
    "plt.xticks(monthly_mean.index)\n",
    "plt.show()"
   ]
  },
  {
   "cell_type": "markdown",
   "metadata": {},
   "source": [
    "(c) Answer the following questions based on the stream graphs created in question 2(a) and briefly explain how you derived the answer. Which of the two stream graphs do you consider more adequate to obtain the answers?\n",
    "\n",
    "    1) In which month is the average CO lowest?\n",
    "    \n",
    "    2) Is there any correlation between humidity and CO?\n",
    "    \n",
    "    3) Between which months is temperature increasing?"
   ]
  },
  {
   "cell_type": "markdown",
   "metadata": {},
   "source": [
    "Explanation:\n",
    "\n",
    "1) The average CO is lowest in the 8th month, namely Augst. Since the values are normalized between 0 and 1, the smallest average of CO is mapped to 0. We observe from the the second graph that blue part(CO) disappears at the tick 8 on the x-axis, which indicates that the value of average CO does not contribute to the stacked value, and thus is 0. The normalized graph is more adequate in this case.\n",
    "\n",
    "2) Yes, correlation between CO and Humidity can be observed in the 2nd graph. In the first one, the two features have the some tendency of increasing and dropping, but it is not clear if they occur together. While in the second graph, the percentages that the two features take up are similar in most months. In this case, the second graph is more adequate, since it offers a more intuitive way for comparison.\n",
    "\n",
    "3) The temperature is increasing roughly between the 2nd month to the 7th month. This can be observed from the second graph, where the orange part has the tendency of increasing. The second graph would thus be the more adequate one. "
   ]
  },
  {
   "cell_type": "markdown",
   "metadata": {},
   "source": [
    "(d) We want to create a heat map that visualizes the CO measured for different combinations of humidity and temperature. \n",
    "The heatmap should have 12 columns and 12 rows. The shown CO value should be the *median* of all values for the combination of humidity and temperature.\n",
    "\n",
    "Modify the data as needed. Use a binning strategy of your choice for converting numerical data to categorical data. Motivate and explain all your choices and modifications."
   ]
  },
  {
   "cell_type": "code",
   "execution_count": 16,
   "metadata": {},
   "outputs": [
    {
     "data": {
      "text/html": [
       "<div>\n",
       "<style scoped>\n",
       "    .dataframe tbody tr th:only-of-type {\n",
       "        vertical-align: middle;\n",
       "    }\n",
       "\n",
       "    .dataframe tbody tr th {\n",
       "        vertical-align: top;\n",
       "    }\n",
       "\n",
       "    .dataframe thead th {\n",
       "        text-align: right;\n",
       "    }\n",
       "</style>\n",
       "<table border=\"1\" class=\"dataframe\">\n",
       "  <thead>\n",
       "    <tr style=\"text-align: right;\">\n",
       "      <th></th>\n",
       "      <th>Temperature</th>\n",
       "      <th>Humidity(%)</th>\n",
       "      <th>CO</th>\n",
       "    </tr>\n",
       "  </thead>\n",
       "  <tbody>\n",
       "    <tr>\n",
       "      <th>0</th>\n",
       "      <td>(-1.9, 1.975]</td>\n",
       "      <td>(9.2, 15.825]</td>\n",
       "      <td>NaN</td>\n",
       "    </tr>\n",
       "    <tr>\n",
       "      <th>1</th>\n",
       "      <td>(-1.9, 1.975]</td>\n",
       "      <td>(15.825, 22.45]</td>\n",
       "      <td>NaN</td>\n",
       "    </tr>\n",
       "    <tr>\n",
       "      <th>2</th>\n",
       "      <td>(-1.9, 1.975]</td>\n",
       "      <td>(22.45, 29.075]</td>\n",
       "      <td>NaN</td>\n",
       "    </tr>\n",
       "    <tr>\n",
       "      <th>3</th>\n",
       "      <td>(-1.9, 1.975]</td>\n",
       "      <td>(29.075, 35.7]</td>\n",
       "      <td>0.9</td>\n",
       "    </tr>\n",
       "    <tr>\n",
       "      <th>4</th>\n",
       "      <td>(-1.9, 1.975]</td>\n",
       "      <td>(35.7, 42.325]</td>\n",
       "      <td>0.6</td>\n",
       "    </tr>\n",
       "    <tr>\n",
       "      <th>...</th>\n",
       "      <td>...</td>\n",
       "      <td>...</td>\n",
       "      <td>...</td>\n",
       "    </tr>\n",
       "    <tr>\n",
       "      <th>139</th>\n",
       "      <td>(40.725, 44.6]</td>\n",
       "      <td>(55.575, 62.2]</td>\n",
       "      <td>NaN</td>\n",
       "    </tr>\n",
       "    <tr>\n",
       "      <th>140</th>\n",
       "      <td>(40.725, 44.6]</td>\n",
       "      <td>(62.2, 68.825]</td>\n",
       "      <td>NaN</td>\n",
       "    </tr>\n",
       "    <tr>\n",
       "      <th>141</th>\n",
       "      <td>(40.725, 44.6]</td>\n",
       "      <td>(68.825, 75.45]</td>\n",
       "      <td>NaN</td>\n",
       "    </tr>\n",
       "    <tr>\n",
       "      <th>142</th>\n",
       "      <td>(40.725, 44.6]</td>\n",
       "      <td>(75.45, 82.075]</td>\n",
       "      <td>NaN</td>\n",
       "    </tr>\n",
       "    <tr>\n",
       "      <th>143</th>\n",
       "      <td>(40.725, 44.6]</td>\n",
       "      <td>(82.075, 88.7]</td>\n",
       "      <td>NaN</td>\n",
       "    </tr>\n",
       "  </tbody>\n",
       "</table>\n",
       "<p>144 rows × 3 columns</p>\n",
       "</div>"
      ],
      "text/plain": [
       "        Temperature      Humidity(%)   CO\n",
       "0     (-1.9, 1.975]    (9.2, 15.825]  NaN\n",
       "1     (-1.9, 1.975]  (15.825, 22.45]  NaN\n",
       "2     (-1.9, 1.975]  (22.45, 29.075]  NaN\n",
       "3     (-1.9, 1.975]   (29.075, 35.7]  0.9\n",
       "4     (-1.9, 1.975]   (35.7, 42.325]  0.6\n",
       "..              ...              ...  ...\n",
       "139  (40.725, 44.6]   (55.575, 62.2]  NaN\n",
       "140  (40.725, 44.6]   (62.2, 68.825]  NaN\n",
       "141  (40.725, 44.6]  (68.825, 75.45]  NaN\n",
       "142  (40.725, 44.6]  (75.45, 82.075]  NaN\n",
       "143  (40.725, 44.6]   (82.075, 88.7]  NaN\n",
       "\n",
       "[144 rows x 3 columns]"
      ]
     },
     "execution_count": 16,
     "metadata": {},
     "output_type": "execute_result"
    }
   ],
   "source": [
    "#your code\n",
    "\n",
    "# select the relative columns\n",
    "df_q2d = df_q2[['CO', 'Temperature', 'Humidity(%)']]\n",
    "\n",
    "# specify the 12 bins seperately for 'Temperature' and 'Humidity(%)'\n",
    "# we use equal-width binning for its interpretation are more intuitive\n",
    "bins_temp = np.linspace(df_q2d['Temperature'].min(), df_q2d['Temperature'].max(), 13)\n",
    "bins_humid = np.linspace(df_q2d['Humidity(%)'].min(), df_q2d['Humidity(%)'].max(), 13)\n",
    "\n",
    "# group data by 'Temperature' and 'Humidity(%)' and form the dataframe\n",
    "groups = df_q2d.groupby([pd.cut(df_q2d['Temperature'],bins_temp), pd.cut(df_q2d['Humidity(%)'],bins_humid)])\n",
    "\n",
    "# take the median for 'CO' for each group\n",
    "df_heatmap = groups.median()['CO'].reset_index()\n",
    "df_heatmap "
   ]
  },
  {
   "cell_type": "markdown",
   "metadata": {},
   "source": [
    "(e) Use the modified data to create a heat map as specified in question part (c). Answer the following questions based on that heat map and briefly explain how you derived your answer:\n",
    "\n",
    "    1) For which combination of humidity and temperature values is the median CO highest? \n",
    "    \n",
    "    2) How do you explain empty fields in your heat map?\n",
    "    \n",
    "    3) Is CO correlating with temperature, humidity, or both?"
   ]
  },
  {
   "cell_type": "code",
   "execution_count": 17,
   "metadata": {},
   "outputs": [
    {
     "data": {
      "image/png": "[encoded data removed]",
      "text/plain": [
       "<Figure size 432x288 with 2 Axes>"
      ]
     },
     "metadata": {
      "needs_background": "light"
     },
     "output_type": "display_data"
    }
   ],
   "source": [
    "#your code\n",
    "import seaborn as sns\n",
    "# form the dataframe for visualization\n",
    "result = df_heatmap.pivot(index='Temperature', columns='Humidity(%)', values='CO')\n",
    "# visualize the data and invert the y-axis for easier interpretation\n",
    "sns.heatmap(result, cmap=\"YlGnBu\").invert_yaxis()"
   ]
  },
  {
   "cell_type": "markdown",
   "metadata": {},
   "source": [
    "Explanation:\n",
    "\n",
    "1) The median of CO is highest when Temperature is between (17.475, 21.35] and the Humidity is between (82.075, 88.7]. This can be concluded from the deep blue grid at the center right position, whose color indicates the highest value.\n",
    "\n",
    "2) In order to construct the heatmap, we need all combinitions of bins for Temperature and Humidity, it is possible that two combined intervals does not show up at the same time in the actual data, and thus do not have the corresponding values for CO. In this case, the median would not exist(NAN), and thus leading to the empty fields.\n",
    "\n",
    "3) We observe no obvious correlation between (CO, Temperature), (CO, Humidity), or (CO, Humidity & Temperature). The intensity of the colors are generally equaly distributed, and there is no clear indication that it is increasing or decreasing in a certain direction.\n"
   ]
  },
  {
   "cell_type": "markdown",
   "metadata": {},
   "source": [
    "## Question 3 - Clustering (15 points): "
   ]
  },
  {
   "cell_type": "markdown",
   "metadata": {},
   "source": [
    "(a) For this question, use the extracted data set you created in the preprocessing step ('air_pollution_2.csv'). Use a scatter diagram to find the relation between the 'Traffic_Volume' and 'Particulate_Matter' columns."
   ]
  },
  {
   "cell_type": "code",
   "execution_count": 38,
   "metadata": {},
   "outputs": [
    {
     "data": {
      "text/plain": [
       "Text(0, 0.5, 'Particulate_Matter')"
      ]
     },
     "execution_count": 38,
     "metadata": {},
     "output_type": "execute_result"
    },
    {
     "data": {
      "image/png": "[encoded data removed]",
      "text/plain": [
       "<Figure size 432x288 with 1 Axes>"
      ]
     },
     "metadata": {
      "needs_background": "light"
     },
     "output_type": "display_data"
    }
   ],
   "source": [
    "# Your code\n",
    "df_q3 = pd.read_csv(\"./air_pollution_2.csv\")\n",
    "\n",
    "# plot the two features\n",
    "plt.scatter(df_q3['Traffic_Volume'], df_q3['Particulate_Matter'])\n",
    "plt.xlabel('Traffic_Volume')\n",
    "plt.ylabel('Particulate_Matter')"
   ]
  },
  {
   "cell_type": "markdown",
   "metadata": {},
   "source": [
    "(b) From the previous question you found the relationship between two columns which are suitable for applying clustering methods. Find the two arrays corresponding to these to columns and drop nan values from them. Apply the k_means method for clustering the two mentioned columns. Use three different number of clusters for classifying."
   ]
  },
  {
   "cell_type": "code",
   "execution_count": 39,
   "metadata": {},
   "outputs": [],
   "source": [
    "# Your code\n",
    "from sklearn.cluster import KMeans\n",
    "\n",
    "# form the dataset for clustering\n",
    "traffic_volumn = df_q3['Traffic_Volume'].dropna().values\n",
    "particulate_matter = df_q3['Particulate_Matter'].dropna().values\n",
    "\n",
    "data_clustering = np.array(list(zip(traffic_volumn, particulate_matter)))\n",
    "\n",
    "cluster_nums = [4, 6, 8]\n",
    "\n",
    "# apply k-means with k=4\n",
    "kmeans_a = KMeans(cluster_nums[0]).fit(data_clustering)\n",
    "clusters_a = kmeans_a.labels_\n",
    "centroids_a = kmeans_a.cluster_centers_\n",
    "\n",
    "# apply k-means with k=6\n",
    "kmeans_b = KMeans(cluster_nums[1]).fit(data_clustering)\n",
    "clusters_b = kmeans_b.labels_\n",
    "centroids_b = kmeans_b.cluster_centers_\n",
    "\n",
    "# apply k-means with k=8\n",
    "kmeans_c = KMeans(cluster_nums[2]).fit(data_clustering)\n",
    "clusters_c = kmeans_c.labels_\n",
    "centroids_c = kmeans_c.cluster_centers_"
   ]
  },
  {
   "cell_type": "markdown",
   "metadata": {},
   "source": [
    "(c) Apply the DBSCAN method for clustering the two mentioned columns. Use three different eps and min_samples for clustering."
   ]
  },
  {
   "cell_type": "code",
   "execution_count": 40,
   "metadata": {},
   "outputs": [],
   "source": [
    "# Your code\n",
    "from sklearn.cluster import DBSCAN\n",
    "\n",
    "# apply DBSCAN with the 1st set of parameters\n",
    "dbscan = DBSCAN(eps = 5, min_samples=5).fit(data_clustering)\n",
    "clusters_1 = dbscan.labels_\n",
    "cluster_indexs_1 = np.unique(clusters_1).tolist()\n",
    "\n",
    "# apply DBSCAN with the 2nd set of parameters\n",
    "dbscan = DBSCAN(eps = 10, min_samples=10).fit(data_clustering)\n",
    "clusters_2 = dbscan.labels_\n",
    "cluster_indexs_2 = np.unique(clusters_2).tolist()\n",
    "\n",
    "# apply DBSCAN with the 3rd set of parameters\n",
    "dbscan = DBSCAN(eps = 30, min_samples=30).fit(data_clustering)\n",
    "clusters_3 = dbscan.labels_\n",
    "cluster_indexs_3 = np.unique(clusters_3).tolist()"
   ]
  },
  {
   "cell_type": "markdown",
   "metadata": {},
   "source": [
    "(d) Compare k_means and DBSCAN results. Which of these methods is more suitable for clustering this data? Why?"
   ]
  },
  {
   "cell_type": "code",
   "execution_count": 41,
   "metadata": {},
   "outputs": [
    {
     "data": {
      "text/plain": [
       "Text(0.5, 1.0, 'DBSCAN with eps=30 & min_samples=30')"
      ]
     },
     "execution_count": 41,
     "metadata": {},
     "output_type": "execute_result"
    },
    {
     "data": {
      "image/png": "[encoded data removed]",
      "text/plain": [
       "<Figure size 1080x1080 with 6 Axes>"
      ]
     },
     "metadata": {
      "needs_background": "light"
     },
     "output_type": "display_data"
    }
   ],
   "source": [
    "# Your code\n",
    "fig, axs = plt.subplots(2, 3, figsize=(15,15))\n",
    "\n",
    "colors = ['blue', 'orange', 'green', 'red', 'purple', 'brown', 'pink', 'cyan', 'olive']\n",
    "\n",
    "# visualize the results from k-means\n",
    "for cluster_index in range(cluster_nums[0]) :\n",
    "    sub_set = np.array([data_clustering[i] for i in range(len(data_clustering)) if clusters_a[i] == cluster_index])\n",
    "    if len(sub_set) == 0 :\n",
    "        continue\n",
    "    axs[0,0].scatter(sub_set[:,0], sub_set[:,1], s = 10, c = colors[cluster_index])\n",
    "axs[0,0].set_title('K-means with k=4')\n",
    "\n",
    "for cluster_index in range(cluster_nums[1]) :\n",
    "    sub_set = np.array([data_clustering[i] for i in range(len(data_clustering)) if clusters_b[i] == cluster_index])\n",
    "    if len(sub_set) == 0 :\n",
    "        continue\n",
    "    axs[0,1].scatter(sub_set[:,0], sub_set[:,1], s = 10, c = colors[cluster_index])\n",
    "axs[0,1].set_title('K-means with k=6')\n",
    "\n",
    "for cluster_index in range(cluster_nums[2]) :\n",
    "    sub_set = np.array([data_clustering[i] for i in range(len(data_clustering)) if clusters_c[i] == cluster_index])\n",
    "    if len(sub_set) == 0 :\n",
    "        continue\n",
    "    axs[0,2].scatter(sub_set[:,0], sub_set[:,1], s = 10, c = colors[cluster_index])\n",
    "axs[0,2].set_title('K-means with k=8')\n",
    "\n",
    "# plot the results from DBSCAN\n",
    "for cluster_index in cluster_indexs_1 :\n",
    "    sub_set = np.array([data_clustering[i] for i in range(len(data_clustering)) if clusters_1[i] == cluster_index])\n",
    "    if len(sub_set) == 0 :\n",
    "        continue\n",
    "    axs[1,0].scatter(sub_set[:,0], sub_set[:,1], s = 10, c = colors[cluster_index])\n",
    "axs[1,0].set_title('DBSCAN with eps=5 & min_samples=5')\n",
    "    \n",
    "for cluster_index in cluster_indexs_2 :\n",
    "    sub_set = np.array([data_clustering[i] for i in range(len(data_clustering)) if clusters_2[i] == cluster_index])\n",
    "    if len(sub_set) == 0 :\n",
    "        continue\n",
    "    axs[1,1].scatter(sub_set[:,0], sub_set[:,1], s = 10, c = colors[cluster_index])\n",
    "axs[1,1].set_title('DBSCAN with eps=10 & min_samples=10')\n",
    "    \n",
    "for cluster_index in cluster_indexs_3 :\n",
    "    sub_set = np.array([data_clustering[i] for i in range(len(data_clustering)) if clusters_3[i] == cluster_index])\n",
    "    if len(sub_set) == 0 :\n",
    "        continue\n",
    "    axs[1,2].scatter(sub_set[:,0], sub_set[:,1], s = 10, c = colors[cluster_index])\n",
    "axs[1,2].set_title('DBSCAN with eps=30 & min_samples=30')"
   ]
  },
  {
   "cell_type": "markdown",
   "metadata": {},
   "source": [
    "Explanation:\n",
    "\n",
    "We would argue that for this dataset, DBSCAN would be a better method for clustering. The cluster numbers in k-means need to be user-defined. This would require some pre-knowledge about the dataset, since this method is highly sensitive to the given k-value. For example, when we set k=8, the purple points and cyan points, which intuitively belong to the same cluster, got splitted into two clusters. While in the results from DBSCAN, the overall performance seems to be more stable.\n",
    "Moreover, based on the plot we can see that the density of each cluster is a suitable criteria than the distance between clusters for separating the data."
   ]
  },
  {
   "cell_type": "markdown",
   "metadata": {},
   "source": [
    "(e) Add noise to the two mentioned columns. For adding noise, first find the range of these two columns and add a random number of 30 samples of noise in the range of each column to that. Plot the scatter diagram again.\n",
    "Repeat k_means and DBSCAN algorithms for clustering. Which of these methods is more suitable for clustering this data? Why?"
   ]
  },
  {
   "cell_type": "code",
   "execution_count": 42,
   "metadata": {},
   "outputs": [
    {
     "data": {
      "text/plain": [
       "<matplotlib.collections.PathCollection at 0x1a2498ce80>"
      ]
     },
     "execution_count": 42,
     "metadata": {},
     "output_type": "execute_result"
    },
    {
     "data": {
      "image/png": "[encoded data removed]",
      "text/plain": [
       "<Figure size 432x288 with 1 Axes>"
      ]
     },
     "metadata": {
      "needs_background": "light"
     },
     "output_type": "display_data"
    }
   ],
   "source": [
    "# Your code\n",
    "# find out the range of both columns\n",
    "range_tv = [traffic_volumn.min(), traffic_volumn.max()]\n",
    "range_pm = [particulate_matter.min(), particulate_matter.max()]\n",
    "\n",
    "# add noise points to the columns and form the data\n",
    "traffic_volumn_noise = np.append(traffic_volumn, np.random.uniform(range_tv[0], range_tv[1], 30))\n",
    "particulate_matter_noise = np.append(particulate_matter, np.random.uniform(range_pm[0], range_pm[1], 30))\n",
    "data_clustering_noise = np.array(list(zip(traffic_volumn_noise, particulate_matter_noise)))\n",
    "\n",
    "# plot the noisy data\n",
    "plt.scatter(traffic_volumn_noise, particulate_matter_noise)"
   ]
  },
  {
   "cell_type": "code",
   "execution_count": 43,
   "metadata": {},
   "outputs": [
    {
     "data": {
      "text/plain": [
       "Text(0.5, 1.0, 'DBSCAN with eps=30 & min_samples=30')"
      ]
     },
     "execution_count": 43,
     "metadata": {},
     "output_type": "execute_result"
    },
    {
     "data": {
      "image/png": "[encoded data removed]",
      "text/plain": [
       "<Figure size 1080x1080 with 6 Axes>"
      ]
     },
     "metadata": {
      "needs_background": "light"
     },
     "output_type": "display_data"
    }
   ],
   "source": [
    "# apply k-means on the noisy data\n",
    "# apply k-means with k=4\n",
    "kmeans_a_noise = KMeans(cluster_nums[0]).fit(data_clustering_noise)\n",
    "clusters_a_noise = kmeans_a_noise.labels_\n",
    "centroids_a_noise = kmeans_a_noise.cluster_centers_\n",
    "\n",
    "# apply k-means with k=6\n",
    "kmeans_b_noise = KMeans(cluster_nums[1]).fit(data_clustering_noise)\n",
    "clusters_b_noise = kmeans_b_noise.labels_\n",
    "centroids_b_noise = kmeans_b_noise.cluster_centers_\n",
    "\n",
    "# apply k-means with k=8\n",
    "kmeans_c_noise = KMeans(cluster_nums[2]).fit(data_clustering_noise)\n",
    "clusters_c_noise = kmeans_c_noise.labels_\n",
    "centroids_c_noise = kmeans_c_noise.cluster_centers_\n",
    "\n",
    "# apply DBSCAN \n",
    "# apply DBSCAN with the 1st set of parameters\n",
    "dbscan = DBSCAN(eps = 5, min_samples=5).fit(data_clustering_noise)\n",
    "clusters_1_noise = dbscan.labels_\n",
    "cluster_indexs_1_noise = np.unique(clusters_1).tolist()\n",
    "\n",
    "# apply DBSCAN with the 2nd set of parameters\n",
    "dbscan = DBSCAN(eps = 10, min_samples=10).fit(data_clustering_noise)\n",
    "clusters_2_noise = dbscan.labels_\n",
    "cluster_indexs_2_noise = np.unique(clusters_2).tolist()\n",
    "\n",
    "# apply DBSCAN with the 3rd set of parameters\n",
    "dbscan = DBSCAN(eps = 30, min_samples=30).fit(data_clustering_noise)\n",
    "clusters_3_noise = dbscan.labels_\n",
    "cluster_indexs_3_noise = np.unique(clusters_3).tolist()\n",
    "\n",
    "# visualize the results\n",
    "fig, axs = plt.subplots(2, 3, figsize=(15,15))\n",
    "# visualize the results from k-means\n",
    "for cluster_index in range(cluster_nums[0]) :\n",
    "    sub_set = np.array([data_clustering_noise[i] for i in range(len(data_clustering_noise)) if clusters_a_noise[i] == cluster_index])\n",
    "    if len(sub_set) == 0 :\n",
    "        continue\n",
    "    axs[0,0].scatter(sub_set[:,0], sub_set[:,1], s = 10, c = colors[cluster_index])\n",
    "axs[0,0].set_title('K-means with k=4')\n",
    "\n",
    "for cluster_index in range(cluster_nums[1]) :\n",
    "    sub_set = np.array([data_clustering_noise[i] for i in range(len(data_clustering_noise)) if clusters_b_noise[i] == cluster_index])\n",
    "    if len(sub_set) == 0 :\n",
    "        continue\n",
    "    axs[0,1].scatter(sub_set[:,0], sub_set[:,1], s = 10, c = colors[cluster_index])\n",
    "axs[0,1].set_title('K-means with k=6')\n",
    "\n",
    "for cluster_index in range(cluster_nums[2]) :\n",
    "    sub_set = np.array([data_clustering_noise[i] for i in range(len(data_clustering_noise)) if clusters_c_noise[i] == cluster_index])\n",
    "    if len(sub_set) == 0 :\n",
    "        continue\n",
    "    axs[0,2].scatter(sub_set[:,0], sub_set[:,1], s = 10, c = colors[cluster_index])\n",
    "axs[0,2].set_title('K-means with k=8')\n",
    "\n",
    "# plot the results from DBSCAN\n",
    "for cluster_index in cluster_indexs_1_noise :\n",
    "    sub_set = np.array([data_clustering_noise[i] for i in range(len(data_clustering_noise)) if clusters_1_noise[i] == cluster_index])\n",
    "    if len(sub_set) == 0 :\n",
    "        continue\n",
    "    axs[1,0].scatter(sub_set[:,0], sub_set[:,1], s = 10, c = colors[cluster_index])\n",
    "axs[1,0].set_title('DBSCAN with eps=5 & min_samples=5')\n",
    "    \n",
    "for cluster_index in cluster_indexs_2_noise :\n",
    "    sub_set = np.array([data_clustering_noise[i] for i in range(len(data_clustering_noise)) if clusters_2_noise[i] == cluster_index])\n",
    "    if len(sub_set) == 0 :\n",
    "        continue\n",
    "    axs[1,1].scatter(sub_set[:,0], sub_set[:,1], s = 10, c = colors[cluster_index])\n",
    "axs[1,1].set_title('DBSCAN with eps=10 & min_samples=10')\n",
    "    \n",
    "for cluster_index in cluster_indexs_3_noise :\n",
    "    sub_set = np.array([data_clustering_noise[i] for i in range(len(data_clustering_noise)) if clusters_3_noise[i] == cluster_index])\n",
    "    if len(sub_set) == 0 :\n",
    "        continue\n",
    "    axs[1,2].scatter(sub_set[:,0], sub_set[:,1], s = 10, c = colors[cluster_index])\n",
    "axs[1,2].set_title('DBSCAN with eps=30 & min_samples=30')"
   ]
  },
  {
   "cell_type": "markdown",
   "metadata": {},
   "source": [
    "Explanation: We think DBSCAN is a better choice in this case, since it has the advantage of automatically removing noise points if provided with suitable parameters(such as in the middle graph in the bottom row), while k-means also assign noises to clusters. Moreover, results of k-means still have the problem of high dependency on user-defined k-value, while the results of DBSCAN are still reasonable with respect to parameter changes, since they are based on density."
   ]
  },
  {
   "cell_type": "markdown",
   "metadata": {},
   "source": [
    "## Question 4 - Frequent itemsets and association rules (15 points): "
   ]
  },
  {
   "cell_type": "markdown",
   "metadata": {},
   "source": [
    "(a) You should carry out some preprocessing steps before starting the analysis:\n",
    " - Select 90% of 'applications' dataset by random sampling. Use one of the group member's student number as a seed.\n",
    " - After completing this preprocessing step, export your final dataset as 'applications_2.csv' dataset and use that for the next steps of the assignment.\n",
    " - <font color='red'>Important!</font> Make sure that you submit your extracted dataset with your result in moodle."
   ]
  },
  {
   "cell_type": "code",
   "execution_count": 21,
   "metadata": {},
   "outputs": [],
   "source": [
    "# Your code\n",
    "df_applications = pd.read_csv(\"./applications.csv\", low_memory=False, header=None)\n",
    "df_applications_2 = df_applications.sample(frac=0.9, random_state=402471)\n",
    "df_applications_2.to_csv(\"./applications_2.csv\", index=False)"
   ]
  },
  {
   "cell_type": "markdown",
   "metadata": {},
   "source": [
    "(b) Find the most frequent itemsets with the support of more than 0.4 by using the Apriori algorithm (Hint: When you are creating rows to make the data_set, you should use none_empty strings)."
   ]
  },
  {
   "cell_type": "code",
   "execution_count": 22,
   "metadata": {},
   "outputs": [
    {
     "data": {
      "text/plain": [
       "frozenset({'',\n",
       "           'A_PARTLYSUBMITTED',\n",
       "           'A_PREACCEPTED',\n",
       "           'A_SUBMITTED',\n",
       "           'W_Completeren aanvraag'})"
      ]
     },
     "execution_count": 22,
     "metadata": {},
     "output_type": "execute_result"
    }
   ],
   "source": [
    "# Your code\n",
    "import csv\n",
    "from mlxtend.frequent_patterns import apriori\n",
    "from mlxtend.preprocessing import TransactionEncoder\n",
    "\n",
    "df_q4 = []\n",
    "\n",
    "with open(\"./applications_2.csv\") as csvFile:\n",
    "    reader = csv.reader(csvFile)\n",
    "    for row in reader:\n",
    "        df_q4.append(row)\n",
    "        \n",
    "te = TransactionEncoder()\n",
    "te_ary = te.fit(df_q4).transform(df_q4)\n",
    "data = pd.DataFrame(te_ary, columns = te.columns_)\n",
    "\n",
    "frequent_itemsets = apriori(data, min_support = 0.4, use_colnames = True)\n",
    "frequent_itemsets['length'] = frequent_itemsets['itemsets'].apply(lambda x: len(x))\n",
    "frequent_itemsets.iloc[frequent_itemsets['length'].values.argmax()]['itemsets']"
   ]
  },
  {
   "cell_type": "markdown",
   "metadata": {},
   "source": [
    "(c) Find the most frequent itemsets with the support of more than 0.4 by using the Apriori algorithm having more than 2 members."
   ]
  },
  {
   "cell_type": "code",
   "execution_count": 74,
   "metadata": {},
   "outputs": [],
   "source": [
    "# Your code\n",
    "# from mlxtend.frequent_patterns import association_rules as arule\n"
   ]
  },
  {
   "cell_type": "markdown",
   "metadata": {},
   "source": [
    "(d) Find the itemsets having min_confidence=0.3 and min_lift=1.2. Print support, confidence and lift of filtered rules in one table."
   ]
  },
  {
   "cell_type": "code",
   "execution_count": 81,
   "metadata": {},
   "outputs": [
    {
     "data": {
      "text/html": [
       "<div>\n",
       "<style scoped>\n",
       "    .dataframe tbody tr th:only-of-type {\n",
       "        vertical-align: middle;\n",
       "    }\n",
       "\n",
       "    .dataframe tbody tr th {\n",
       "        vertical-align: top;\n",
       "    }\n",
       "\n",
       "    .dataframe thead th {\n",
       "        text-align: right;\n",
       "    }\n",
       "</style>\n",
       "<table border=\"1\" class=\"dataframe\">\n",
       "  <thead>\n",
       "    <tr style=\"text-align: right;\">\n",
       "      <th></th>\n",
       "      <th>antecedents</th>\n",
       "      <th>consequents</th>\n",
       "      <th>antecedent support</th>\n",
       "      <th>consequent support</th>\n",
       "      <th>support</th>\n",
       "      <th>confidence</th>\n",
       "      <th>lift</th>\n",
       "      <th>leverage</th>\n",
       "      <th>conviction</th>\n",
       "    </tr>\n",
       "  </thead>\n",
       "  <tbody>\n",
       "    <tr>\n",
       "      <th>0</th>\n",
       "      <td>(A_PREACCEPTED)</td>\n",
       "      <td>(W_Completeren aanvraag)</td>\n",
       "      <td>0.562017</td>\n",
       "      <td>0.562017</td>\n",
       "      <td>0.562017</td>\n",
       "      <td>1.000000</td>\n",
       "      <td>1.779305</td>\n",
       "      <td>0.246154</td>\n",
       "      <td>inf</td>\n",
       "    </tr>\n",
       "    <tr>\n",
       "      <th>1</th>\n",
       "      <td>(W_Completeren aanvraag)</td>\n",
       "      <td>(A_PREACCEPTED)</td>\n",
       "      <td>0.562017</td>\n",
       "      <td>0.562017</td>\n",
       "      <td>0.562017</td>\n",
       "      <td>1.000000</td>\n",
       "      <td>1.779305</td>\n",
       "      <td>0.246154</td>\n",
       "      <td>inf</td>\n",
       "    </tr>\n",
       "    <tr>\n",
       "      <th>2</th>\n",
       "      <td>(, A_PREACCEPTED)</td>\n",
       "      <td>(W_Completeren aanvraag)</td>\n",
       "      <td>0.561932</td>\n",
       "      <td>0.562017</td>\n",
       "      <td>0.561932</td>\n",
       "      <td>1.000000</td>\n",
       "      <td>1.779305</td>\n",
       "      <td>0.246117</td>\n",
       "      <td>inf</td>\n",
       "    </tr>\n",
       "    <tr>\n",
       "      <th>3</th>\n",
       "      <td>(, W_Completeren aanvraag)</td>\n",
       "      <td>(A_PREACCEPTED)</td>\n",
       "      <td>0.561932</td>\n",
       "      <td>0.562017</td>\n",
       "      <td>0.561932</td>\n",
       "      <td>1.000000</td>\n",
       "      <td>1.779305</td>\n",
       "      <td>0.246117</td>\n",
       "      <td>inf</td>\n",
       "    </tr>\n",
       "    <tr>\n",
       "      <th>4</th>\n",
       "      <td>(A_PREACCEPTED)</td>\n",
       "      <td>(, W_Completeren aanvraag)</td>\n",
       "      <td>0.562017</td>\n",
       "      <td>0.561932</td>\n",
       "      <td>0.561932</td>\n",
       "      <td>0.999849</td>\n",
       "      <td>1.779305</td>\n",
       "      <td>0.246117</td>\n",
       "      <td>2900.00849</td>\n",
       "    </tr>\n",
       "    <tr>\n",
       "      <th>5</th>\n",
       "      <td>(W_Completeren aanvraag)</td>\n",
       "      <td>(, A_PREACCEPTED)</td>\n",
       "      <td>0.562017</td>\n",
       "      <td>0.561932</td>\n",
       "      <td>0.561932</td>\n",
       "      <td>0.999849</td>\n",
       "      <td>1.779305</td>\n",
       "      <td>0.246117</td>\n",
       "      <td>2900.00849</td>\n",
       "    </tr>\n",
       "    <tr>\n",
       "      <th>6</th>\n",
       "      <td>(A_PARTLYSUBMITTED, W_Completeren aanvraag)</td>\n",
       "      <td>(A_PREACCEPTED)</td>\n",
       "      <td>0.562017</td>\n",
       "      <td>0.562017</td>\n",
       "      <td>0.562017</td>\n",
       "      <td>1.000000</td>\n",
       "      <td>1.779305</td>\n",
       "      <td>0.246154</td>\n",
       "      <td>inf</td>\n",
       "    </tr>\n",
       "    <tr>\n",
       "      <th>7</th>\n",
       "      <td>(A_PARTLYSUBMITTED, A_PREACCEPTED)</td>\n",
       "      <td>(W_Completeren aanvraag)</td>\n",
       "      <td>0.562017</td>\n",
       "      <td>0.562017</td>\n",
       "      <td>0.562017</td>\n",
       "      <td>1.000000</td>\n",
       "      <td>1.779305</td>\n",
       "      <td>0.246154</td>\n",
       "      <td>inf</td>\n",
       "    </tr>\n",
       "    <tr>\n",
       "      <th>8</th>\n",
       "      <td>(W_Completeren aanvraag)</td>\n",
       "      <td>(A_PARTLYSUBMITTED, A_PREACCEPTED)</td>\n",
       "      <td>0.562017</td>\n",
       "      <td>0.562017</td>\n",
       "      <td>0.562017</td>\n",
       "      <td>1.000000</td>\n",
       "      <td>1.779305</td>\n",
       "      <td>0.246154</td>\n",
       "      <td>inf</td>\n",
       "    </tr>\n",
       "    <tr>\n",
       "      <th>9</th>\n",
       "      <td>(A_PREACCEPTED)</td>\n",
       "      <td>(A_PARTLYSUBMITTED, W_Completeren aanvraag)</td>\n",
       "      <td>0.562017</td>\n",
       "      <td>0.562017</td>\n",
       "      <td>0.562017</td>\n",
       "      <td>1.000000</td>\n",
       "      <td>1.779305</td>\n",
       "      <td>0.246154</td>\n",
       "      <td>inf</td>\n",
       "    </tr>\n",
       "    <tr>\n",
       "      <th>10</th>\n",
       "      <td>(A_PREACCEPTED, A_SUBMITTED)</td>\n",
       "      <td>(W_Completeren aanvraag)</td>\n",
       "      <td>0.562017</td>\n",
       "      <td>0.562017</td>\n",
       "      <td>0.562017</td>\n",
       "      <td>1.000000</td>\n",
       "      <td>1.779305</td>\n",
       "      <td>0.246154</td>\n",
       "      <td>inf</td>\n",
       "    </tr>\n",
       "    <tr>\n",
       "      <th>11</th>\n",
       "      <td>(W_Completeren aanvraag, A_SUBMITTED)</td>\n",
       "      <td>(A_PREACCEPTED)</td>\n",
       "      <td>0.562017</td>\n",
       "      <td>0.562017</td>\n",
       "      <td>0.562017</td>\n",
       "      <td>1.000000</td>\n",
       "      <td>1.779305</td>\n",
       "      <td>0.246154</td>\n",
       "      <td>inf</td>\n",
       "    </tr>\n",
       "    <tr>\n",
       "      <th>12</th>\n",
       "      <td>(A_PREACCEPTED)</td>\n",
       "      <td>(W_Completeren aanvraag, A_SUBMITTED)</td>\n",
       "      <td>0.562017</td>\n",
       "      <td>0.562017</td>\n",
       "      <td>0.562017</td>\n",
       "      <td>1.000000</td>\n",
       "      <td>1.779305</td>\n",
       "      <td>0.246154</td>\n",
       "      <td>inf</td>\n",
       "    </tr>\n",
       "    <tr>\n",
       "      <th>13</th>\n",
       "      <td>(W_Completeren aanvraag)</td>\n",
       "      <td>(A_PREACCEPTED, A_SUBMITTED)</td>\n",
       "      <td>0.562017</td>\n",
       "      <td>0.562017</td>\n",
       "      <td>0.562017</td>\n",
       "      <td>1.000000</td>\n",
       "      <td>1.779305</td>\n",
       "      <td>0.246154</td>\n",
       "      <td>inf</td>\n",
       "    </tr>\n",
       "    <tr>\n",
       "      <th>14</th>\n",
       "      <td>(, A_PARTLYSUBMITTED, W_Completeren aanvraag)</td>\n",
       "      <td>(A_PREACCEPTED)</td>\n",
       "      <td>0.561932</td>\n",
       "      <td>0.562017</td>\n",
       "      <td>0.561932</td>\n",
       "      <td>1.000000</td>\n",
       "      <td>1.779305</td>\n",
       "      <td>0.246117</td>\n",
       "      <td>inf</td>\n",
       "    </tr>\n",
       "    <tr>\n",
       "      <th>15</th>\n",
       "      <td>(, A_PARTLYSUBMITTED, A_PREACCEPTED)</td>\n",
       "      <td>(W_Completeren aanvraag)</td>\n",
       "      <td>0.561932</td>\n",
       "      <td>0.562017</td>\n",
       "      <td>0.561932</td>\n",
       "      <td>1.000000</td>\n",
       "      <td>1.779305</td>\n",
       "      <td>0.246117</td>\n",
       "      <td>inf</td>\n",
       "    </tr>\n",
       "    <tr>\n",
       "      <th>16</th>\n",
       "      <td>(, W_Completeren aanvraag)</td>\n",
       "      <td>(A_PARTLYSUBMITTED, A_PREACCEPTED)</td>\n",
       "      <td>0.561932</td>\n",
       "      <td>0.562017</td>\n",
       "      <td>0.561932</td>\n",
       "      <td>1.000000</td>\n",
       "      <td>1.779305</td>\n",
       "      <td>0.246117</td>\n",
       "      <td>inf</td>\n",
       "    </tr>\n",
       "    <tr>\n",
       "      <th>17</th>\n",
       "      <td>(, A_PREACCEPTED)</td>\n",
       "      <td>(A_PARTLYSUBMITTED, W_Completeren aanvraag)</td>\n",
       "      <td>0.561932</td>\n",
       "      <td>0.562017</td>\n",
       "      <td>0.561932</td>\n",
       "      <td>1.000000</td>\n",
       "      <td>1.779305</td>\n",
       "      <td>0.246117</td>\n",
       "      <td>inf</td>\n",
       "    </tr>\n",
       "    <tr>\n",
       "      <th>18</th>\n",
       "      <td>(A_PARTLYSUBMITTED, W_Completeren aanvraag)</td>\n",
       "      <td>(, A_PREACCEPTED)</td>\n",
       "      <td>0.562017</td>\n",
       "      <td>0.561932</td>\n",
       "      <td>0.561932</td>\n",
       "      <td>0.999849</td>\n",
       "      <td>1.779305</td>\n",
       "      <td>0.246117</td>\n",
       "      <td>2900.00849</td>\n",
       "    </tr>\n",
       "    <tr>\n",
       "      <th>19</th>\n",
       "      <td>(A_PARTLYSUBMITTED, A_PREACCEPTED)</td>\n",
       "      <td>(, W_Completeren aanvraag)</td>\n",
       "      <td>0.562017</td>\n",
       "      <td>0.561932</td>\n",
       "      <td>0.561932</td>\n",
       "      <td>0.999849</td>\n",
       "      <td>1.779305</td>\n",
       "      <td>0.246117</td>\n",
       "      <td>2900.00849</td>\n",
       "    </tr>\n",
       "    <tr>\n",
       "      <th>20</th>\n",
       "      <td>(W_Completeren aanvraag)</td>\n",
       "      <td>(, A_PARTLYSUBMITTED, A_PREACCEPTED)</td>\n",
       "      <td>0.562017</td>\n",
       "      <td>0.561932</td>\n",
       "      <td>0.561932</td>\n",
       "      <td>0.999849</td>\n",
       "      <td>1.779305</td>\n",
       "      <td>0.246117</td>\n",
       "      <td>2900.00849</td>\n",
       "    </tr>\n",
       "    <tr>\n",
       "      <th>21</th>\n",
       "      <td>(A_PREACCEPTED)</td>\n",
       "      <td>(, A_PARTLYSUBMITTED, W_Completeren aanvraag)</td>\n",
       "      <td>0.562017</td>\n",
       "      <td>0.561932</td>\n",
       "      <td>0.561932</td>\n",
       "      <td>0.999849</td>\n",
       "      <td>1.779305</td>\n",
       "      <td>0.246117</td>\n",
       "      <td>2900.00849</td>\n",
       "    </tr>\n",
       "    <tr>\n",
       "      <th>22</th>\n",
       "      <td>(, A_PREACCEPTED, A_SUBMITTED)</td>\n",
       "      <td>(W_Completeren aanvraag)</td>\n",
       "      <td>0.561932</td>\n",
       "      <td>0.562017</td>\n",
       "      <td>0.561932</td>\n",
       "      <td>1.000000</td>\n",
       "      <td>1.779305</td>\n",
       "      <td>0.246117</td>\n",
       "      <td>inf</td>\n",
       "    </tr>\n",
       "    <tr>\n",
       "      <th>23</th>\n",
       "      <td>(, W_Completeren aanvraag, A_SUBMITTED)</td>\n",
       "      <td>(A_PREACCEPTED)</td>\n",
       "      <td>0.561932</td>\n",
       "      <td>0.562017</td>\n",
       "      <td>0.561932</td>\n",
       "      <td>1.000000</td>\n",
       "      <td>1.779305</td>\n",
       "      <td>0.246117</td>\n",
       "      <td>inf</td>\n",
       "    </tr>\n",
       "    <tr>\n",
       "      <th>24</th>\n",
       "      <td>(, A_PREACCEPTED)</td>\n",
       "      <td>(W_Completeren aanvraag, A_SUBMITTED)</td>\n",
       "      <td>0.561932</td>\n",
       "      <td>0.562017</td>\n",
       "      <td>0.561932</td>\n",
       "      <td>1.000000</td>\n",
       "      <td>1.779305</td>\n",
       "      <td>0.246117</td>\n",
       "      <td>inf</td>\n",
       "    </tr>\n",
       "    <tr>\n",
       "      <th>25</th>\n",
       "      <td>(, W_Completeren aanvraag)</td>\n",
       "      <td>(A_PREACCEPTED, A_SUBMITTED)</td>\n",
       "      <td>0.561932</td>\n",
       "      <td>0.562017</td>\n",
       "      <td>0.561932</td>\n",
       "      <td>1.000000</td>\n",
       "      <td>1.779305</td>\n",
       "      <td>0.246117</td>\n",
       "      <td>inf</td>\n",
       "    </tr>\n",
       "    <tr>\n",
       "      <th>26</th>\n",
       "      <td>(A_PREACCEPTED, A_SUBMITTED)</td>\n",
       "      <td>(, W_Completeren aanvraag)</td>\n",
       "      <td>0.562017</td>\n",
       "      <td>0.561932</td>\n",
       "      <td>0.561932</td>\n",
       "      <td>0.999849</td>\n",
       "      <td>1.779305</td>\n",
       "      <td>0.246117</td>\n",
       "      <td>2900.00849</td>\n",
       "    </tr>\n",
       "    <tr>\n",
       "      <th>27</th>\n",
       "      <td>(W_Completeren aanvraag, A_SUBMITTED)</td>\n",
       "      <td>(, A_PREACCEPTED)</td>\n",
       "      <td>0.562017</td>\n",
       "      <td>0.561932</td>\n",
       "      <td>0.561932</td>\n",
       "      <td>0.999849</td>\n",
       "      <td>1.779305</td>\n",
       "      <td>0.246117</td>\n",
       "      <td>2900.00849</td>\n",
       "    </tr>\n",
       "    <tr>\n",
       "      <th>28</th>\n",
       "      <td>(A_PREACCEPTED)</td>\n",
       "      <td>(, W_Completeren aanvraag, A_SUBMITTED)</td>\n",
       "      <td>0.562017</td>\n",
       "      <td>0.561932</td>\n",
       "      <td>0.561932</td>\n",
       "      <td>0.999849</td>\n",
       "      <td>1.779305</td>\n",
       "      <td>0.246117</td>\n",
       "      <td>2900.00849</td>\n",
       "    </tr>\n",
       "    <tr>\n",
       "      <th>29</th>\n",
       "      <td>(W_Completeren aanvraag)</td>\n",
       "      <td>(, A_PREACCEPTED, A_SUBMITTED)</td>\n",
       "      <td>0.562017</td>\n",
       "      <td>0.561932</td>\n",
       "      <td>0.561932</td>\n",
       "      <td>0.999849</td>\n",
       "      <td>1.779305</td>\n",
       "      <td>0.246117</td>\n",
       "      <td>2900.00849</td>\n",
       "    </tr>\n",
       "    <tr>\n",
       "      <th>30</th>\n",
       "      <td>(A_PARTLYSUBMITTED, W_Completeren aanvraag, A_...</td>\n",
       "      <td>(A_PREACCEPTED)</td>\n",
       "      <td>0.562017</td>\n",
       "      <td>0.562017</td>\n",
       "      <td>0.562017</td>\n",
       "      <td>1.000000</td>\n",
       "      <td>1.779305</td>\n",
       "      <td>0.246154</td>\n",
       "      <td>inf</td>\n",
       "    </tr>\n",
       "    <tr>\n",
       "      <th>31</th>\n",
       "      <td>(A_PARTLYSUBMITTED, A_SUBMITTED, A_PREACCEPTED)</td>\n",
       "      <td>(W_Completeren aanvraag)</td>\n",
       "      <td>0.562017</td>\n",
       "      <td>0.562017</td>\n",
       "      <td>0.562017</td>\n",
       "      <td>1.000000</td>\n",
       "      <td>1.779305</td>\n",
       "      <td>0.246154</td>\n",
       "      <td>inf</td>\n",
       "    </tr>\n",
       "    <tr>\n",
       "      <th>32</th>\n",
       "      <td>(A_PARTLYSUBMITTED, W_Completeren aanvraag)</td>\n",
       "      <td>(A_PREACCEPTED, A_SUBMITTED)</td>\n",
       "      <td>0.562017</td>\n",
       "      <td>0.562017</td>\n",
       "      <td>0.562017</td>\n",
       "      <td>1.000000</td>\n",
       "      <td>1.779305</td>\n",
       "      <td>0.246154</td>\n",
       "      <td>inf</td>\n",
       "    </tr>\n",
       "    <tr>\n",
       "      <th>33</th>\n",
       "      <td>(A_PARTLYSUBMITTED, A_PREACCEPTED)</td>\n",
       "      <td>(W_Completeren aanvraag, A_SUBMITTED)</td>\n",
       "      <td>0.562017</td>\n",
       "      <td>0.562017</td>\n",
       "      <td>0.562017</td>\n",
       "      <td>1.000000</td>\n",
       "      <td>1.779305</td>\n",
       "      <td>0.246154</td>\n",
       "      <td>inf</td>\n",
       "    </tr>\n",
       "    <tr>\n",
       "      <th>34</th>\n",
       "      <td>(W_Completeren aanvraag, A_SUBMITTED)</td>\n",
       "      <td>(A_PARTLYSUBMITTED, A_PREACCEPTED)</td>\n",
       "      <td>0.562017</td>\n",
       "      <td>0.562017</td>\n",
       "      <td>0.562017</td>\n",
       "      <td>1.000000</td>\n",
       "      <td>1.779305</td>\n",
       "      <td>0.246154</td>\n",
       "      <td>inf</td>\n",
       "    </tr>\n",
       "    <tr>\n",
       "      <th>35</th>\n",
       "      <td>(A_PREACCEPTED, A_SUBMITTED)</td>\n",
       "      <td>(A_PARTLYSUBMITTED, W_Completeren aanvraag)</td>\n",
       "      <td>0.562017</td>\n",
       "      <td>0.562017</td>\n",
       "      <td>0.562017</td>\n",
       "      <td>1.000000</td>\n",
       "      <td>1.779305</td>\n",
       "      <td>0.246154</td>\n",
       "      <td>inf</td>\n",
       "    </tr>\n",
       "    <tr>\n",
       "      <th>36</th>\n",
       "      <td>(W_Completeren aanvraag)</td>\n",
       "      <td>(A_PARTLYSUBMITTED, A_SUBMITTED, A_PREACCEPTED)</td>\n",
       "      <td>0.562017</td>\n",
       "      <td>0.562017</td>\n",
       "      <td>0.562017</td>\n",
       "      <td>1.000000</td>\n",
       "      <td>1.779305</td>\n",
       "      <td>0.246154</td>\n",
       "      <td>inf</td>\n",
       "    </tr>\n",
       "    <tr>\n",
       "      <th>37</th>\n",
       "      <td>(A_PREACCEPTED)</td>\n",
       "      <td>(A_PARTLYSUBMITTED, W_Completeren aanvraag, A_...</td>\n",
       "      <td>0.562017</td>\n",
       "      <td>0.562017</td>\n",
       "      <td>0.562017</td>\n",
       "      <td>1.000000</td>\n",
       "      <td>1.779305</td>\n",
       "      <td>0.246154</td>\n",
       "      <td>inf</td>\n",
       "    </tr>\n",
       "    <tr>\n",
       "      <th>38</th>\n",
       "      <td>(, A_PARTLYSUBMITTED, A_SUBMITTED, A_PREACCEPTED)</td>\n",
       "      <td>(W_Completeren aanvraag)</td>\n",
       "      <td>0.561932</td>\n",
       "      <td>0.562017</td>\n",
       "      <td>0.561932</td>\n",
       "      <td>1.000000</td>\n",
       "      <td>1.779305</td>\n",
       "      <td>0.246117</td>\n",
       "      <td>inf</td>\n",
       "    </tr>\n",
       "    <tr>\n",
       "      <th>39</th>\n",
       "      <td>(, A_PARTLYSUBMITTED, W_Completeren aanvraag, ...</td>\n",
       "      <td>(A_PREACCEPTED)</td>\n",
       "      <td>0.561932</td>\n",
       "      <td>0.562017</td>\n",
       "      <td>0.561932</td>\n",
       "      <td>1.000000</td>\n",
       "      <td>1.779305</td>\n",
       "      <td>0.246117</td>\n",
       "      <td>inf</td>\n",
       "    </tr>\n",
       "    <tr>\n",
       "      <th>40</th>\n",
       "      <td>(, A_PARTLYSUBMITTED, A_PREACCEPTED)</td>\n",
       "      <td>(W_Completeren aanvraag, A_SUBMITTED)</td>\n",
       "      <td>0.561932</td>\n",
       "      <td>0.562017</td>\n",
       "      <td>0.561932</td>\n",
       "      <td>1.000000</td>\n",
       "      <td>1.779305</td>\n",
       "      <td>0.246117</td>\n",
       "      <td>inf</td>\n",
       "    </tr>\n",
       "    <tr>\n",
       "      <th>41</th>\n",
       "      <td>(, A_PARTLYSUBMITTED, W_Completeren aanvraag)</td>\n",
       "      <td>(A_PREACCEPTED, A_SUBMITTED)</td>\n",
       "      <td>0.561932</td>\n",
       "      <td>0.562017</td>\n",
       "      <td>0.561932</td>\n",
       "      <td>1.000000</td>\n",
       "      <td>1.779305</td>\n",
       "      <td>0.246117</td>\n",
       "      <td>inf</td>\n",
       "    </tr>\n",
       "    <tr>\n",
       "      <th>42</th>\n",
       "      <td>(, A_PREACCEPTED, A_SUBMITTED)</td>\n",
       "      <td>(A_PARTLYSUBMITTED, W_Completeren aanvraag)</td>\n",
       "      <td>0.561932</td>\n",
       "      <td>0.562017</td>\n",
       "      <td>0.561932</td>\n",
       "      <td>1.000000</td>\n",
       "      <td>1.779305</td>\n",
       "      <td>0.246117</td>\n",
       "      <td>inf</td>\n",
       "    </tr>\n",
       "    <tr>\n",
       "      <th>43</th>\n",
       "      <td>(, W_Completeren aanvraag, A_SUBMITTED)</td>\n",
       "      <td>(A_PARTLYSUBMITTED, A_PREACCEPTED)</td>\n",
       "      <td>0.561932</td>\n",
       "      <td>0.562017</td>\n",
       "      <td>0.561932</td>\n",
       "      <td>1.000000</td>\n",
       "      <td>1.779305</td>\n",
       "      <td>0.246117</td>\n",
       "      <td>inf</td>\n",
       "    </tr>\n",
       "    <tr>\n",
       "      <th>44</th>\n",
       "      <td>(A_PARTLYSUBMITTED, A_SUBMITTED, A_PREACCEPTED)</td>\n",
       "      <td>(, W_Completeren aanvraag)</td>\n",
       "      <td>0.562017</td>\n",
       "      <td>0.561932</td>\n",
       "      <td>0.561932</td>\n",
       "      <td>0.999849</td>\n",
       "      <td>1.779305</td>\n",
       "      <td>0.246117</td>\n",
       "      <td>2900.00849</td>\n",
       "    </tr>\n",
       "    <tr>\n",
       "      <th>45</th>\n",
       "      <td>(A_PARTLYSUBMITTED, W_Completeren aanvraag, A_...</td>\n",
       "      <td>(, A_PREACCEPTED)</td>\n",
       "      <td>0.562017</td>\n",
       "      <td>0.561932</td>\n",
       "      <td>0.561932</td>\n",
       "      <td>0.999849</td>\n",
       "      <td>1.779305</td>\n",
       "      <td>0.246117</td>\n",
       "      <td>2900.00849</td>\n",
       "    </tr>\n",
       "    <tr>\n",
       "      <th>46</th>\n",
       "      <td>(, A_PREACCEPTED)</td>\n",
       "      <td>(A_PARTLYSUBMITTED, W_Completeren aanvraag, A_...</td>\n",
       "      <td>0.561932</td>\n",
       "      <td>0.562017</td>\n",
       "      <td>0.561932</td>\n",
       "      <td>1.000000</td>\n",
       "      <td>1.779305</td>\n",
       "      <td>0.246117</td>\n",
       "      <td>inf</td>\n",
       "    </tr>\n",
       "    <tr>\n",
       "      <th>47</th>\n",
       "      <td>(, W_Completeren aanvraag)</td>\n",
       "      <td>(A_PARTLYSUBMITTED, A_SUBMITTED, A_PREACCEPTED)</td>\n",
       "      <td>0.561932</td>\n",
       "      <td>0.562017</td>\n",
       "      <td>0.561932</td>\n",
       "      <td>1.000000</td>\n",
       "      <td>1.779305</td>\n",
       "      <td>0.246117</td>\n",
       "      <td>inf</td>\n",
       "    </tr>\n",
       "    <tr>\n",
       "      <th>48</th>\n",
       "      <td>(A_PARTLYSUBMITTED, A_PREACCEPTED)</td>\n",
       "      <td>(, W_Completeren aanvraag, A_SUBMITTED)</td>\n",
       "      <td>0.562017</td>\n",
       "      <td>0.561932</td>\n",
       "      <td>0.561932</td>\n",
       "      <td>0.999849</td>\n",
       "      <td>1.779305</td>\n",
       "      <td>0.246117</td>\n",
       "      <td>2900.00849</td>\n",
       "    </tr>\n",
       "    <tr>\n",
       "      <th>49</th>\n",
       "      <td>(A_PARTLYSUBMITTED, W_Completeren aanvraag)</td>\n",
       "      <td>(, A_PREACCEPTED, A_SUBMITTED)</td>\n",
       "      <td>0.562017</td>\n",
       "      <td>0.561932</td>\n",
       "      <td>0.561932</td>\n",
       "      <td>0.999849</td>\n",
       "      <td>1.779305</td>\n",
       "      <td>0.246117</td>\n",
       "      <td>2900.00849</td>\n",
       "    </tr>\n",
       "    <tr>\n",
       "      <th>50</th>\n",
       "      <td>(A_PREACCEPTED, A_SUBMITTED)</td>\n",
       "      <td>(, A_PARTLYSUBMITTED, W_Completeren aanvraag)</td>\n",
       "      <td>0.562017</td>\n",
       "      <td>0.561932</td>\n",
       "      <td>0.561932</td>\n",
       "      <td>0.999849</td>\n",
       "      <td>1.779305</td>\n",
       "      <td>0.246117</td>\n",
       "      <td>2900.00849</td>\n",
       "    </tr>\n",
       "    <tr>\n",
       "      <th>51</th>\n",
       "      <td>(W_Completeren aanvraag, A_SUBMITTED)</td>\n",
       "      <td>(, A_PARTLYSUBMITTED, A_PREACCEPTED)</td>\n",
       "      <td>0.562017</td>\n",
       "      <td>0.561932</td>\n",
       "      <td>0.561932</td>\n",
       "      <td>0.999849</td>\n",
       "      <td>1.779305</td>\n",
       "      <td>0.246117</td>\n",
       "      <td>2900.00849</td>\n",
       "    </tr>\n",
       "    <tr>\n",
       "      <th>52</th>\n",
       "      <td>(A_PREACCEPTED)</td>\n",
       "      <td>(, A_PARTLYSUBMITTED, W_Completeren aanvraag, ...</td>\n",
       "      <td>0.562017</td>\n",
       "      <td>0.561932</td>\n",
       "      <td>0.561932</td>\n",
       "      <td>0.999849</td>\n",
       "      <td>1.779305</td>\n",
       "      <td>0.246117</td>\n",
       "      <td>2900.00849</td>\n",
       "    </tr>\n",
       "    <tr>\n",
       "      <th>53</th>\n",
       "      <td>(W_Completeren aanvraag)</td>\n",
       "      <td>(, A_PARTLYSUBMITTED, A_SUBMITTED, A_PREACCEPTED)</td>\n",
       "      <td>0.562017</td>\n",
       "      <td>0.561932</td>\n",
       "      <td>0.561932</td>\n",
       "      <td>0.999849</td>\n",
       "      <td>1.779305</td>\n",
       "      <td>0.246117</td>\n",
       "      <td>2900.00849</td>\n",
       "    </tr>\n",
       "  </tbody>\n",
       "</table>\n",
       "</div>"
      ],
      "text/plain": [
       "                                          antecedents  \\\n",
       "0                                     (A_PREACCEPTED)   \n",
       "1                            (W_Completeren aanvraag)   \n",
       "2                                   (, A_PREACCEPTED)   \n",
       "3                          (, W_Completeren aanvraag)   \n",
       "4                                     (A_PREACCEPTED)   \n",
       "5                            (W_Completeren aanvraag)   \n",
       "6         (A_PARTLYSUBMITTED, W_Completeren aanvraag)   \n",
       "7                  (A_PARTLYSUBMITTED, A_PREACCEPTED)   \n",
       "8                            (W_Completeren aanvraag)   \n",
       "9                                     (A_PREACCEPTED)   \n",
       "10                       (A_PREACCEPTED, A_SUBMITTED)   \n",
       "11              (W_Completeren aanvraag, A_SUBMITTED)   \n",
       "12                                    (A_PREACCEPTED)   \n",
       "13                           (W_Completeren aanvraag)   \n",
       "14      (, A_PARTLYSUBMITTED, W_Completeren aanvraag)   \n",
       "15               (, A_PARTLYSUBMITTED, A_PREACCEPTED)   \n",
       "16                         (, W_Completeren aanvraag)   \n",
       "17                                  (, A_PREACCEPTED)   \n",
       "18        (A_PARTLYSUBMITTED, W_Completeren aanvraag)   \n",
       "19                 (A_PARTLYSUBMITTED, A_PREACCEPTED)   \n",
       "20                           (W_Completeren aanvraag)   \n",
       "21                                    (A_PREACCEPTED)   \n",
       "22                     (, A_PREACCEPTED, A_SUBMITTED)   \n",
       "23            (, W_Completeren aanvraag, A_SUBMITTED)   \n",
       "24                                  (, A_PREACCEPTED)   \n",
       "25                         (, W_Completeren aanvraag)   \n",
       "26                       (A_PREACCEPTED, A_SUBMITTED)   \n",
       "27              (W_Completeren aanvraag, A_SUBMITTED)   \n",
       "28                                    (A_PREACCEPTED)   \n",
       "29                           (W_Completeren aanvraag)   \n",
       "30  (A_PARTLYSUBMITTED, W_Completeren aanvraag, A_...   \n",
       "31    (A_PARTLYSUBMITTED, A_SUBMITTED, A_PREACCEPTED)   \n",
       "32        (A_PARTLYSUBMITTED, W_Completeren aanvraag)   \n",
       "33                 (A_PARTLYSUBMITTED, A_PREACCEPTED)   \n",
       "34              (W_Completeren aanvraag, A_SUBMITTED)   \n",
       "35                       (A_PREACCEPTED, A_SUBMITTED)   \n",
       "36                           (W_Completeren aanvraag)   \n",
       "37                                    (A_PREACCEPTED)   \n",
       "38  (, A_PARTLYSUBMITTED, A_SUBMITTED, A_PREACCEPTED)   \n",
       "39  (, A_PARTLYSUBMITTED, W_Completeren aanvraag, ...   \n",
       "40               (, A_PARTLYSUBMITTED, A_PREACCEPTED)   \n",
       "41      (, A_PARTLYSUBMITTED, W_Completeren aanvraag)   \n",
       "42                     (, A_PREACCEPTED, A_SUBMITTED)   \n",
       "43            (, W_Completeren aanvraag, A_SUBMITTED)   \n",
       "44    (A_PARTLYSUBMITTED, A_SUBMITTED, A_PREACCEPTED)   \n",
       "45  (A_PARTLYSUBMITTED, W_Completeren aanvraag, A_...   \n",
       "46                                  (, A_PREACCEPTED)   \n",
       "47                         (, W_Completeren aanvraag)   \n",
       "48                 (A_PARTLYSUBMITTED, A_PREACCEPTED)   \n",
       "49        (A_PARTLYSUBMITTED, W_Completeren aanvraag)   \n",
       "50                       (A_PREACCEPTED, A_SUBMITTED)   \n",
       "51              (W_Completeren aanvraag, A_SUBMITTED)   \n",
       "52                                    (A_PREACCEPTED)   \n",
       "53                           (W_Completeren aanvraag)   \n",
       "\n",
       "                                          consequents  antecedent support  \\\n",
       "0                            (W_Completeren aanvraag)            0.562017   \n",
       "1                                     (A_PREACCEPTED)            0.562017   \n",
       "2                            (W_Completeren aanvraag)            0.561932   \n",
       "3                                     (A_PREACCEPTED)            0.561932   \n",
       "4                          (, W_Completeren aanvraag)            0.562017   \n",
       "5                                   (, A_PREACCEPTED)            0.562017   \n",
       "6                                     (A_PREACCEPTED)            0.562017   \n",
       "7                            (W_Completeren aanvraag)            0.562017   \n",
       "8                  (A_PARTLYSUBMITTED, A_PREACCEPTED)            0.562017   \n",
       "9         (A_PARTLYSUBMITTED, W_Completeren aanvraag)            0.562017   \n",
       "10                           (W_Completeren aanvraag)            0.562017   \n",
       "11                                    (A_PREACCEPTED)            0.562017   \n",
       "12              (W_Completeren aanvraag, A_SUBMITTED)            0.562017   \n",
       "13                       (A_PREACCEPTED, A_SUBMITTED)            0.562017   \n",
       "14                                    (A_PREACCEPTED)            0.561932   \n",
       "15                           (W_Completeren aanvraag)            0.561932   \n",
       "16                 (A_PARTLYSUBMITTED, A_PREACCEPTED)            0.561932   \n",
       "17        (A_PARTLYSUBMITTED, W_Completeren aanvraag)            0.561932   \n",
       "18                                  (, A_PREACCEPTED)            0.562017   \n",
       "19                         (, W_Completeren aanvraag)            0.562017   \n",
       "20               (, A_PARTLYSUBMITTED, A_PREACCEPTED)            0.562017   \n",
       "21      (, A_PARTLYSUBMITTED, W_Completeren aanvraag)            0.562017   \n",
       "22                           (W_Completeren aanvraag)            0.561932   \n",
       "23                                    (A_PREACCEPTED)            0.561932   \n",
       "24              (W_Completeren aanvraag, A_SUBMITTED)            0.561932   \n",
       "25                       (A_PREACCEPTED, A_SUBMITTED)            0.561932   \n",
       "26                         (, W_Completeren aanvraag)            0.562017   \n",
       "27                                  (, A_PREACCEPTED)            0.562017   \n",
       "28            (, W_Completeren aanvraag, A_SUBMITTED)            0.562017   \n",
       "29                     (, A_PREACCEPTED, A_SUBMITTED)            0.562017   \n",
       "30                                    (A_PREACCEPTED)            0.562017   \n",
       "31                           (W_Completeren aanvraag)            0.562017   \n",
       "32                       (A_PREACCEPTED, A_SUBMITTED)            0.562017   \n",
       "33              (W_Completeren aanvraag, A_SUBMITTED)            0.562017   \n",
       "34                 (A_PARTLYSUBMITTED, A_PREACCEPTED)            0.562017   \n",
       "35        (A_PARTLYSUBMITTED, W_Completeren aanvraag)            0.562017   \n",
       "36    (A_PARTLYSUBMITTED, A_SUBMITTED, A_PREACCEPTED)            0.562017   \n",
       "37  (A_PARTLYSUBMITTED, W_Completeren aanvraag, A_...            0.562017   \n",
       "38                           (W_Completeren aanvraag)            0.561932   \n",
       "39                                    (A_PREACCEPTED)            0.561932   \n",
       "40              (W_Completeren aanvraag, A_SUBMITTED)            0.561932   \n",
       "41                       (A_PREACCEPTED, A_SUBMITTED)            0.561932   \n",
       "42        (A_PARTLYSUBMITTED, W_Completeren aanvraag)            0.561932   \n",
       "43                 (A_PARTLYSUBMITTED, A_PREACCEPTED)            0.561932   \n",
       "44                         (, W_Completeren aanvraag)            0.562017   \n",
       "45                                  (, A_PREACCEPTED)            0.562017   \n",
       "46  (A_PARTLYSUBMITTED, W_Completeren aanvraag, A_...            0.561932   \n",
       "47    (A_PARTLYSUBMITTED, A_SUBMITTED, A_PREACCEPTED)            0.561932   \n",
       "48            (, W_Completeren aanvraag, A_SUBMITTED)            0.562017   \n",
       "49                     (, A_PREACCEPTED, A_SUBMITTED)            0.562017   \n",
       "50      (, A_PARTLYSUBMITTED, W_Completeren aanvraag)            0.562017   \n",
       "51               (, A_PARTLYSUBMITTED, A_PREACCEPTED)            0.562017   \n",
       "52  (, A_PARTLYSUBMITTED, W_Completeren aanvraag, ...            0.562017   \n",
       "53  (, A_PARTLYSUBMITTED, A_SUBMITTED, A_PREACCEPTED)            0.562017   \n",
       "\n",
       "    consequent support   support  confidence      lift  leverage  conviction  \n",
       "0             0.562017  0.562017    1.000000  1.779305  0.246154         inf  \n",
       "1             0.562017  0.562017    1.000000  1.779305  0.246154         inf  \n",
       "2             0.562017  0.561932    1.000000  1.779305  0.246117         inf  \n",
       "3             0.562017  0.561932    1.000000  1.779305  0.246117         inf  \n",
       "4             0.561932  0.561932    0.999849  1.779305  0.246117  2900.00849  \n",
       "5             0.561932  0.561932    0.999849  1.779305  0.246117  2900.00849  \n",
       "6             0.562017  0.562017    1.000000  1.779305  0.246154         inf  \n",
       "7             0.562017  0.562017    1.000000  1.779305  0.246154         inf  \n",
       "8             0.562017  0.562017    1.000000  1.779305  0.246154         inf  \n",
       "9             0.562017  0.562017    1.000000  1.779305  0.246154         inf  \n",
       "10            0.562017  0.562017    1.000000  1.779305  0.246154         inf  \n",
       "11            0.562017  0.562017    1.000000  1.779305  0.246154         inf  \n",
       "12            0.562017  0.562017    1.000000  1.779305  0.246154         inf  \n",
       "13            0.562017  0.562017    1.000000  1.779305  0.246154         inf  \n",
       "14            0.562017  0.561932    1.000000  1.779305  0.246117         inf  \n",
       "15            0.562017  0.561932    1.000000  1.779305  0.246117         inf  \n",
       "16            0.562017  0.561932    1.000000  1.779305  0.246117         inf  \n",
       "17            0.562017  0.561932    1.000000  1.779305  0.246117         inf  \n",
       "18            0.561932  0.561932    0.999849  1.779305  0.246117  2900.00849  \n",
       "19            0.561932  0.561932    0.999849  1.779305  0.246117  2900.00849  \n",
       "20            0.561932  0.561932    0.999849  1.779305  0.246117  2900.00849  \n",
       "21            0.561932  0.561932    0.999849  1.779305  0.246117  2900.00849  \n",
       "22            0.562017  0.561932    1.000000  1.779305  0.246117         inf  \n",
       "23            0.562017  0.561932    1.000000  1.779305  0.246117         inf  \n",
       "24            0.562017  0.561932    1.000000  1.779305  0.246117         inf  \n",
       "25            0.562017  0.561932    1.000000  1.779305  0.246117         inf  \n",
       "26            0.561932  0.561932    0.999849  1.779305  0.246117  2900.00849  \n",
       "27            0.561932  0.561932    0.999849  1.779305  0.246117  2900.00849  \n",
       "28            0.561932  0.561932    0.999849  1.779305  0.246117  2900.00849  \n",
       "29            0.561932  0.561932    0.999849  1.779305  0.246117  2900.00849  \n",
       "30            0.562017  0.562017    1.000000  1.779305  0.246154         inf  \n",
       "31            0.562017  0.562017    1.000000  1.779305  0.246154         inf  \n",
       "32            0.562017  0.562017    1.000000  1.779305  0.246154         inf  \n",
       "33            0.562017  0.562017    1.000000  1.779305  0.246154         inf  \n",
       "34            0.562017  0.562017    1.000000  1.779305  0.246154         inf  \n",
       "35            0.562017  0.562017    1.000000  1.779305  0.246154         inf  \n",
       "36            0.562017  0.562017    1.000000  1.779305  0.246154         inf  \n",
       "37            0.562017  0.562017    1.000000  1.779305  0.246154         inf  \n",
       "38            0.562017  0.561932    1.000000  1.779305  0.246117         inf  \n",
       "39            0.562017  0.561932    1.000000  1.779305  0.246117         inf  \n",
       "40            0.562017  0.561932    1.000000  1.779305  0.246117         inf  \n",
       "41            0.562017  0.561932    1.000000  1.779305  0.246117         inf  \n",
       "42            0.562017  0.561932    1.000000  1.779305  0.246117         inf  \n",
       "43            0.562017  0.561932    1.000000  1.779305  0.246117         inf  \n",
       "44            0.561932  0.561932    0.999849  1.779305  0.246117  2900.00849  \n",
       "45            0.561932  0.561932    0.999849  1.779305  0.246117  2900.00849  \n",
       "46            0.562017  0.561932    1.000000  1.779305  0.246117         inf  \n",
       "47            0.562017  0.561932    1.000000  1.779305  0.246117         inf  \n",
       "48            0.561932  0.561932    0.999849  1.779305  0.246117  2900.00849  \n",
       "49            0.561932  0.561932    0.999849  1.779305  0.246117  2900.00849  \n",
       "50            0.561932  0.561932    0.999849  1.779305  0.246117  2900.00849  \n",
       "51            0.561932  0.561932    0.999849  1.779305  0.246117  2900.00849  \n",
       "52            0.561932  0.561932    0.999849  1.779305  0.246117  2900.00849  \n",
       "53            0.561932  0.561932    0.999849  1.779305  0.246117  2900.00849  "
      ]
     },
     "execution_count": 81,
     "metadata": {},
     "output_type": "execute_result"
    }
   ],
   "source": [
    "# Your code\n",
    "from mlxtend.frequent_patterns import association_rules as arule\n",
    "arule(frequent_itemsets, metric=\"confidence\", min_threshold=0.3)\n",
    "rules = arule(frequent_itemsets, metric=\"lift\", min_threshold=1.2)\n",
    "rules"
   ]
  },
  {
   "cell_type": "markdown",
   "metadata": {},
   "source": [
    "## Question 5 - Text Mining (15 points)\n",
    "\n",
    "Among the datasets given for this assignment you will find the files \"pg_train\" and \"pg_test\". These two files contain a labeled corpus, already splitted in training and test set.\n",
    "The corpus consists of sentences from several novels, labeled with the name of the author. The first task is text classification: you will train a set of classifiers that predict the author of a piece of text.\n",
    "\n",
    "(a) Perform preprocessing on the training corpus (all lowercase, no punctuation, tokenization, stemming, stopword removal) and obtain a binary document-term matrix; train a logistic classifier with the author as target."
   ]
  },
  {
   "cell_type": "code",
   "execution_count": 25,
   "metadata": {},
   "outputs": [
    {
     "ename": "LookupError",
     "evalue": "\n**********************************************************************\n  Resource \u001b[93mpunkt\u001b[0m not found.\n  Please use the NLTK Downloader to obtain the resource:\n\n  \u001b[31m>>> import nltk\n  >>> nltk.download('punkt')\n  \u001b[0m\n  For more information see: https://www.nltk.org/data.html\n\n  Attempted to load \u001b[93mtokenizers/punkt/PY3/english.pickle\u001b[0m\n\n  Searched in:\n    - '/Users/zhangxuan/nltk_data'\n    - '//anaconda3/nltk_data'\n    - '//anaconda3/share/nltk_data'\n    - '//anaconda3/lib/nltk_data'\n    - '/usr/share/nltk_data'\n    - '/usr/local/share/nltk_data'\n    - '/usr/lib/nltk_data'\n    - '/usr/local/lib/nltk_data'\n    - ''\n**********************************************************************\n",
     "output_type": "error",
     "traceback": [
      "\u001b[0;31m---------------------------------------------------------------------------\u001b[0m",
      "\u001b[0;31mLookupError\u001b[0m                               Traceback (most recent call last)",
      "\u001b[0;32m<ipython-input-25-cd399da66de9>\u001b[0m in \u001b[0;36m<module>\u001b[0;34m\u001b[0m\n\u001b[1;32m     48\u001b[0m     \u001b[0;32mreturn\u001b[0m \u001b[0mhandled_corpus\u001b[0m\u001b[0;34m\u001b[0m\u001b[0;34m\u001b[0m\u001b[0m\n\u001b[1;32m     49\u001b[0m \u001b[0;34m\u001b[0m\u001b[0m\n\u001b[0;32m---> 50\u001b[0;31m \u001b[0mhandled_corpus\u001b[0m \u001b[0;34m=\u001b[0m \u001b[0mhandle\u001b[0m\u001b[0;34m(\u001b[0m\u001b[0mtrain_corpus\u001b[0m\u001b[0;34m)\u001b[0m\u001b[0;34m\u001b[0m\u001b[0;34m\u001b[0m\u001b[0m\n\u001b[0m\u001b[1;32m     51\u001b[0m \u001b[0mhandled_train\u001b[0m \u001b[0;34m=\u001b[0m \u001b[0mpd\u001b[0m\u001b[0;34m.\u001b[0m\u001b[0mDataFrame\u001b[0m\u001b[0;34m(\u001b[0m\u001b[0;34m{\u001b[0m\u001b[0;34m'author'\u001b[0m\u001b[0;34m:\u001b[0m\u001b[0mtrain_labels\u001b[0m\u001b[0;34m,\u001b[0m\u001b[0;34m'text'\u001b[0m\u001b[0;34m:\u001b[0m\u001b[0mhandled_corpus\u001b[0m\u001b[0;34m}\u001b[0m\u001b[0;34m)\u001b[0m\u001b[0;34m\u001b[0m\u001b[0;34m\u001b[0m\u001b[0m\n\u001b[1;32m     52\u001b[0m \u001b[0;31m# store the preprocessed data\u001b[0m\u001b[0;34m\u001b[0m\u001b[0;34m\u001b[0m\u001b[0;34m\u001b[0m\u001b[0m\n",
      "\u001b[0;32m<ipython-input-25-cd399da66de9>\u001b[0m in \u001b[0;36mhandle\u001b[0;34m(train_corpus)\u001b[0m\n\u001b[1;32m     30\u001b[0m     \u001b[0;32mfor\u001b[0m \u001b[0mtext\u001b[0m \u001b[0;32min\u001b[0m \u001b[0mtrain_corpus\u001b[0m\u001b[0;34m:\u001b[0m\u001b[0;34m\u001b[0m\u001b[0;34m\u001b[0m\u001b[0m\n\u001b[1;32m     31\u001b[0m         \u001b[0;31m#tokenization\u001b[0m\u001b[0;34m\u001b[0m\u001b[0;34m\u001b[0m\u001b[0;34m\u001b[0m\u001b[0m\n\u001b[0;32m---> 32\u001b[0;31m         \u001b[0mwords\u001b[0m \u001b[0;34m=\u001b[0m \u001b[0mword_tokenize\u001b[0m\u001b[0;34m(\u001b[0m\u001b[0mtext\u001b[0m\u001b[0;34m)\u001b[0m\u001b[0;34m\u001b[0m\u001b[0;34m\u001b[0m\u001b[0m\n\u001b[0m\u001b[1;32m     33\u001b[0m         \u001b[0;31m#lowercase\u001b[0m\u001b[0;34m\u001b[0m\u001b[0;34m\u001b[0m\u001b[0;34m\u001b[0m\u001b[0m\n\u001b[1;32m     34\u001b[0m         \u001b[0mlower_words\u001b[0m \u001b[0;34m=\u001b[0m \u001b[0;34m[\u001b[0m\u001b[0mword\u001b[0m\u001b[0;34m.\u001b[0m\u001b[0mlower\u001b[0m\u001b[0;34m(\u001b[0m\u001b[0;34m)\u001b[0m \u001b[0;32mfor\u001b[0m \u001b[0mword\u001b[0m \u001b[0;32min\u001b[0m \u001b[0mwords\u001b[0m\u001b[0;34m]\u001b[0m\u001b[0;34m\u001b[0m\u001b[0;34m\u001b[0m\u001b[0m\n",
      "\u001b[0;32m//anaconda3/lib/python3.7/site-packages/nltk/tokenize/__init__.py\u001b[0m in \u001b[0;36mword_tokenize\u001b[0;34m(text, language, preserve_line)\u001b[0m\n\u001b[1;32m    142\u001b[0m     \u001b[0;34m:\u001b[0m\u001b[0mtype\u001b[0m \u001b[0mpreserve_line\u001b[0m\u001b[0;34m:\u001b[0m \u001b[0mbool\u001b[0m\u001b[0;34m\u001b[0m\u001b[0;34m\u001b[0m\u001b[0m\n\u001b[1;32m    143\u001b[0m     \"\"\"\n\u001b[0;32m--> 144\u001b[0;31m     \u001b[0msentences\u001b[0m \u001b[0;34m=\u001b[0m \u001b[0;34m[\u001b[0m\u001b[0mtext\u001b[0m\u001b[0;34m]\u001b[0m \u001b[0;32mif\u001b[0m \u001b[0mpreserve_line\u001b[0m \u001b[0;32melse\u001b[0m \u001b[0msent_tokenize\u001b[0m\u001b[0;34m(\u001b[0m\u001b[0mtext\u001b[0m\u001b[0;34m,\u001b[0m \u001b[0mlanguage\u001b[0m\u001b[0;34m)\u001b[0m\u001b[0;34m\u001b[0m\u001b[0;34m\u001b[0m\u001b[0m\n\u001b[0m\u001b[1;32m    145\u001b[0m     return [\n\u001b[1;32m    146\u001b[0m         \u001b[0mtoken\u001b[0m \u001b[0;32mfor\u001b[0m \u001b[0msent\u001b[0m \u001b[0;32min\u001b[0m \u001b[0msentences\u001b[0m \u001b[0;32mfor\u001b[0m \u001b[0mtoken\u001b[0m \u001b[0;32min\u001b[0m \u001b[0m_treebank_word_tokenizer\u001b[0m\u001b[0;34m.\u001b[0m\u001b[0mtokenize\u001b[0m\u001b[0;34m(\u001b[0m\u001b[0msent\u001b[0m\u001b[0;34m)\u001b[0m\u001b[0;34m\u001b[0m\u001b[0;34m\u001b[0m\u001b[0m\n",
      "\u001b[0;32m//anaconda3/lib/python3.7/site-packages/nltk/tokenize/__init__.py\u001b[0m in \u001b[0;36msent_tokenize\u001b[0;34m(text, language)\u001b[0m\n\u001b[1;32m    103\u001b[0m     \u001b[0;34m:\u001b[0m\u001b[0mparam\u001b[0m \u001b[0mlanguage\u001b[0m\u001b[0;34m:\u001b[0m \u001b[0mthe\u001b[0m \u001b[0mmodel\u001b[0m \u001b[0mname\u001b[0m \u001b[0;32min\u001b[0m \u001b[0mthe\u001b[0m \u001b[0mPunkt\u001b[0m \u001b[0mcorpus\u001b[0m\u001b[0;34m\u001b[0m\u001b[0;34m\u001b[0m\u001b[0m\n\u001b[1;32m    104\u001b[0m     \"\"\"\n\u001b[0;32m--> 105\u001b[0;31m     \u001b[0mtokenizer\u001b[0m \u001b[0;34m=\u001b[0m \u001b[0mload\u001b[0m\u001b[0;34m(\u001b[0m\u001b[0;34m'tokenizers/punkt/{0}.pickle'\u001b[0m\u001b[0;34m.\u001b[0m\u001b[0mformat\u001b[0m\u001b[0;34m(\u001b[0m\u001b[0mlanguage\u001b[0m\u001b[0;34m)\u001b[0m\u001b[0;34m)\u001b[0m\u001b[0;34m\u001b[0m\u001b[0;34m\u001b[0m\u001b[0m\n\u001b[0m\u001b[1;32m    106\u001b[0m     \u001b[0;32mreturn\u001b[0m \u001b[0mtokenizer\u001b[0m\u001b[0;34m.\u001b[0m\u001b[0mtokenize\u001b[0m\u001b[0;34m(\u001b[0m\u001b[0mtext\u001b[0m\u001b[0;34m)\u001b[0m\u001b[0;34m\u001b[0m\u001b[0;34m\u001b[0m\u001b[0m\n\u001b[1;32m    107\u001b[0m \u001b[0;34m\u001b[0m\u001b[0m\n",
      "\u001b[0;32m//anaconda3/lib/python3.7/site-packages/nltk/data.py\u001b[0m in \u001b[0;36mload\u001b[0;34m(resource_url, format, cache, verbose, logic_parser, fstruct_reader, encoding)\u001b[0m\n\u001b[1;32m    866\u001b[0m \u001b[0;34m\u001b[0m\u001b[0m\n\u001b[1;32m    867\u001b[0m     \u001b[0;31m# Load the resource.\u001b[0m\u001b[0;34m\u001b[0m\u001b[0;34m\u001b[0m\u001b[0;34m\u001b[0m\u001b[0m\n\u001b[0;32m--> 868\u001b[0;31m     \u001b[0mopened_resource\u001b[0m \u001b[0;34m=\u001b[0m \u001b[0m_open\u001b[0m\u001b[0;34m(\u001b[0m\u001b[0mresource_url\u001b[0m\u001b[0;34m)\u001b[0m\u001b[0;34m\u001b[0m\u001b[0;34m\u001b[0m\u001b[0m\n\u001b[0m\u001b[1;32m    869\u001b[0m \u001b[0;34m\u001b[0m\u001b[0m\n\u001b[1;32m    870\u001b[0m     \u001b[0;32mif\u001b[0m \u001b[0mformat\u001b[0m \u001b[0;34m==\u001b[0m \u001b[0;34m'raw'\u001b[0m\u001b[0;34m:\u001b[0m\u001b[0;34m\u001b[0m\u001b[0;34m\u001b[0m\u001b[0m\n",
      "\u001b[0;32m//anaconda3/lib/python3.7/site-packages/nltk/data.py\u001b[0m in \u001b[0;36m_open\u001b[0;34m(resource_url)\u001b[0m\n\u001b[1;32m    991\u001b[0m \u001b[0;34m\u001b[0m\u001b[0m\n\u001b[1;32m    992\u001b[0m     \u001b[0;32mif\u001b[0m \u001b[0mprotocol\u001b[0m \u001b[0;32mis\u001b[0m \u001b[0;32mNone\u001b[0m \u001b[0;32mor\u001b[0m \u001b[0mprotocol\u001b[0m\u001b[0;34m.\u001b[0m\u001b[0mlower\u001b[0m\u001b[0;34m(\u001b[0m\u001b[0;34m)\u001b[0m \u001b[0;34m==\u001b[0m \u001b[0;34m'nltk'\u001b[0m\u001b[0;34m:\u001b[0m\u001b[0;34m\u001b[0m\u001b[0;34m\u001b[0m\u001b[0m\n\u001b[0;32m--> 993\u001b[0;31m         \u001b[0;32mreturn\u001b[0m \u001b[0mfind\u001b[0m\u001b[0;34m(\u001b[0m\u001b[0mpath_\u001b[0m\u001b[0;34m,\u001b[0m \u001b[0mpath\u001b[0m \u001b[0;34m+\u001b[0m \u001b[0;34m[\u001b[0m\u001b[0;34m''\u001b[0m\u001b[0;34m]\u001b[0m\u001b[0;34m)\u001b[0m\u001b[0;34m.\u001b[0m\u001b[0mopen\u001b[0m\u001b[0;34m(\u001b[0m\u001b[0;34m)\u001b[0m\u001b[0;34m\u001b[0m\u001b[0;34m\u001b[0m\u001b[0m\n\u001b[0m\u001b[1;32m    994\u001b[0m     \u001b[0;32melif\u001b[0m \u001b[0mprotocol\u001b[0m\u001b[0;34m.\u001b[0m\u001b[0mlower\u001b[0m\u001b[0;34m(\u001b[0m\u001b[0;34m)\u001b[0m \u001b[0;34m==\u001b[0m \u001b[0;34m'file'\u001b[0m\u001b[0;34m:\u001b[0m\u001b[0;34m\u001b[0m\u001b[0;34m\u001b[0m\u001b[0m\n\u001b[1;32m    995\u001b[0m         \u001b[0;31m# urllib might not use mode='rb', so handle this one ourselves:\u001b[0m\u001b[0;34m\u001b[0m\u001b[0;34m\u001b[0m\u001b[0;34m\u001b[0m\u001b[0m\n",
      "\u001b[0;32m//anaconda3/lib/python3.7/site-packages/nltk/data.py\u001b[0m in \u001b[0;36mfind\u001b[0;34m(resource_name, paths)\u001b[0m\n\u001b[1;32m    699\u001b[0m     \u001b[0msep\u001b[0m \u001b[0;34m=\u001b[0m \u001b[0;34m'*'\u001b[0m \u001b[0;34m*\u001b[0m \u001b[0;36m70\u001b[0m\u001b[0;34m\u001b[0m\u001b[0;34m\u001b[0m\u001b[0m\n\u001b[1;32m    700\u001b[0m     \u001b[0mresource_not_found\u001b[0m \u001b[0;34m=\u001b[0m \u001b[0;34m'\\n%s\\n%s\\n%s\\n'\u001b[0m \u001b[0;34m%\u001b[0m \u001b[0;34m(\u001b[0m\u001b[0msep\u001b[0m\u001b[0;34m,\u001b[0m \u001b[0mmsg\u001b[0m\u001b[0;34m,\u001b[0m \u001b[0msep\u001b[0m\u001b[0;34m)\u001b[0m\u001b[0;34m\u001b[0m\u001b[0;34m\u001b[0m\u001b[0m\n\u001b[0;32m--> 701\u001b[0;31m     \u001b[0;32mraise\u001b[0m \u001b[0mLookupError\u001b[0m\u001b[0;34m(\u001b[0m\u001b[0mresource_not_found\u001b[0m\u001b[0;34m)\u001b[0m\u001b[0;34m\u001b[0m\u001b[0;34m\u001b[0m\u001b[0m\n\u001b[0m\u001b[1;32m    702\u001b[0m \u001b[0;34m\u001b[0m\u001b[0m\n\u001b[1;32m    703\u001b[0m \u001b[0;34m\u001b[0m\u001b[0m\n",
      "\u001b[0;31mLookupError\u001b[0m: \n**********************************************************************\n  Resource \u001b[93mpunkt\u001b[0m not found.\n  Please use the NLTK Downloader to obtain the resource:\n\n  \u001b[31m>>> import nltk\n  >>> nltk.download('punkt')\n  \u001b[0m\n  For more information see: https://www.nltk.org/data.html\n\n  Attempted to load \u001b[93mtokenizers/punkt/PY3/english.pickle\u001b[0m\n\n  Searched in:\n    - '/Users/zhangxuan/nltk_data'\n    - '//anaconda3/nltk_data'\n    - '//anaconda3/share/nltk_data'\n    - '//anaconda3/lib/nltk_data'\n    - '/usr/share/nltk_data'\n    - '/usr/local/share/nltk_data'\n    - '/usr/lib/nltk_data'\n    - '/usr/local/lib/nltk_data'\n    - ''\n**********************************************************************\n"
     ]
    }
   ],
   "source": [
    "# Your code\n",
    "import csv\n",
    "import pandas as pd\n",
    "from nltk.tokenize import  word_tokenize\n",
    "import string\n",
    "from nltk.stem import PorterStemmer\n",
    "from nltk.corpus import stopwords\n",
    "import re\n",
    "\n",
    "train_corpus = [] # store the texts\n",
    "train_labels = [] # store the corresponding author name\n",
    "with open('./pg_train.csv','rt',encoding='ISO-8859-1',errors='ignore') as f:\n",
    "    docs = csv.reader(f)\n",
    "    for doc in docs:\n",
    "        if doc:\n",
    "            # split author and corresponding text\n",
    "            author = str(doc).split('#')[0]\n",
    "            #match the author name(drop the other puntuations)\n",
    "            label = re.search(r'[a-z]+',author).group()\n",
    "            train_labels.append(label)\n",
    "            text = str(doc).split('#')[1]\n",
    "            train_corpus.append(text)\n",
    "#Datapreprocessing            \n",
    "def handle(train_corpus):\n",
    "    stemmer = PorterStemmer()\n",
    "    puncts = list(string.punctuation)+['``']\n",
    "    # store the handled text from train_corpus\n",
    "    handled_corpus = []\n",
    "    \n",
    "    for text in train_corpus:\n",
    "        #tokenization\n",
    "        words = word_tokenize(text)\n",
    "        #lowercase\n",
    "        lower_words = [word.lower() for word in words]\n",
    "        #delete all punctuations and numbers\n",
    "        for word in lower_words:\n",
    "            if word in puncts:\n",
    "                lower_words.remove(word)\n",
    "        for word in lower_words:\n",
    "            if re.match('^[a-z]|[A-Z]',word) == None:\n",
    "                lower_words.remove(word)\n",
    "        #stemming\n",
    "        new_words = [stemmer.stem(word) for word in lower_words]\n",
    "        #stopword removal\n",
    "        filtered_words = [word for word in new_words if word not in stopwords.words('english')]\n",
    "        filtered_text = ' '.join(filtered_words)\n",
    "        handled_corpus.append(filtered_text)\n",
    "    return handled_corpus\n",
    "\n",
    "handled_corpus = handle(train_corpus)\n",
    "handled_train = pd.DataFrame({'author':train_labels,'text':handled_corpus})\n",
    "# store the preprocessed data\n",
    "handled_train.to_csv('./handled_train.csv',index=False)"
   ]
  },
  {
   "cell_type": "code",
   "execution_count": null,
   "metadata": {},
   "outputs": [],
   "source": [
    "import pandas as pd\n",
    "train = pd.read_csv('./handled_train.csv')\n",
    "print(train.head(),'\\n')\n",
    "print('length of corpus:',len(train))\n",
    "\n",
    "from sklearn.feature_extraction.text import CountVectorizer\n",
    "# construct binary document_term matrix\n",
    "count_vect = CountVectorizer(binary=True,analyzer='word')\n",
    "X_train_binary = count_vect.fit_transform(train['text'])\n",
    "# print('train result: \\n',X_train_binary)\n",
    "binary_doc_term = X_train_binary.toarray()\n",
    "print('shape of binary document_term matrix:',binary_doc_term.shape)\n",
    "\n",
    "#train a logistic classifier\n",
    "from sklearn.linear_model import LogisticRegression\n",
    "from sklearn.pipeline import Pipeline\n",
    "# add parameters into Pipline\n",
    "text_clf_1 = Pipeline([('vect', CountVectorizer(binary=True,analyzer='word')), ('clf_logistic', LogisticRegression())])\n",
    "log_clssfier_1 = text_clf_1.fit(train['text'],train['author'])"
   ]
  },
  {
   "cell_type": "markdown",
   "metadata": {},
   "source": [
    "(b) Perform preprocessing on the training corpus (all lowercase, no punctuation, tokenization, stemming, stopword removal) and obtain a document-term matrix of counts; train a logistic classifier with the author as target.\n"
   ]
  },
  {
   "cell_type": "code",
   "execution_count": 177,
   "metadata": {},
   "outputs": [],
   "source": [
    "# Your code\n",
    "\n",
    "from sklearn.feature_extraction.text import CountVectorizer\n",
    "# construct counts document_term matrix\n",
    "count_vect = CountVectorizer(binary=False,analyzer='word')\n",
    "X_train_counts = count_vect.fit_transform(train['text'])\n",
    "# print('train result: \\n',X_train_counts)\n",
    "binary_doc_term = X_train_counts.toarray()\n",
    "print('shape of binary document_term matrix:',binary_doc_term.shape)\n",
    "\n",
    "#train a logistic classifier\n",
    "from sklearn.linear_model import LogisticRegression\n",
    "from sklearn.pipeline import Pipeline\n",
    "# add parameters into Pipline\n",
    "text_clf_2 = Pipeline([('vect', CountVectorizer(binary=False,analyzer='word')), ('clf_logistic', LogisticRegression())])\n",
    "log_clssfier_2 = text_clf_2.fit(train['text'],train['author'])"
   ]
  },
  {
   "cell_type": "markdown",
   "metadata": {},
   "source": [
    "(c) Perform preprocessing on the training corpus (all lowercase, no punctuation, tokenization, stemming, stopword removal) and obtain a tf-idf scores document-term matrix; train a logistic classifier.\n"
   ]
  },
  {
   "cell_type": "code",
   "execution_count": 178,
   "metadata": {},
   "outputs": [],
   "source": [
    "# Your code\n",
    "from sklearn.feature_extraction.text import CountVectorizer,TfidfTransformer\n",
    "# construct tf_idf document_term matrix\n",
    "count_vect = CountVectorizer(binary=False,analyzer='word')\n",
    "X_train_counts = count_vect.fit_transform(train['text'])\n",
    "tfidf_transformer = TfidfTransformer()\n",
    "X_train_tfidf = tfidf_transformer.fit_transform(X_train_counts)\n",
    "# print('train results:\\n',X_train_tfidf)\n",
    "#train a logistic classifier\n",
    "from sklearn.linear_model import LogisticRegression\n",
    "from sklearn.pipeline import Pipeline\n",
    "# add parameters into Pipline\n",
    "text_clf_3 = Pipeline([('vect', CountVectorizer(analyzer='word')), ('tf-idf', TfidfTransformer()),('clf_logistic', LogisticRegression())])\n",
    "log_clssfier_3 = text_clf_3.fit(train['text'],train['author'])"
   ]
  },
  {
   "cell_type": "markdown",
   "metadata": {},
   "source": [
    "(d) Perform preprocessing on the training corpus (all lowercase, no punctuation, tokenization, stemming, stopword removal) and obtain a doc2vec embedding in order to reduce the dimension of the document vector to 300; use the doc2vec model you just trained to convert the training set to a set of document vectors; train a logistic classifier with the author as target.\n"
   ]
  },
  {
   "cell_type": "code",
   "execution_count": 179,
   "metadata": {},
   "outputs": [],
   "source": [
    "# Your code\n",
    "# Your code\n",
    "#load data\n",
    "import pandas as pd\n",
    "train = pd.read_csv('./handled_train.csv')\n",
    "#speed up processing\n",
    "import multiprocessing\n",
    "cores = multiprocessing.cpu_count()\n",
    "\n",
    "# creat the vector of documents\n",
    "from gensim.models import Doc2Vec\n",
    "import gensim\n",
    "from tqdm import tqdm\n",
    "\n",
    "train_tagged = []\n",
    "for i in range (0, train.shape[0]):\n",
    "    train_tagged.append(gensim.models.doc2vec.TaggedDocument(words=gensim.utils.simple_preprocess(train['text'][i],max_len=1000), tags=[train['author'][i]]))\n",
    "doc2vec_model = Doc2Vec(dm=0, vector_size=300, workers=cores)\n",
    "doc2vec_model.build_vocab([x for x in tqdm(train_tagged)])\n",
    "# Training the doc2vec model\n",
    "from sklearn import utils\n",
    "for epoch in range(20):\n",
    "    doc2vec_model.train(utils.shuffle([x for x in tqdm(train_tagged)]), total_examples=len(train_tagged), epochs=1)\n",
    "    doc2vec_model.alpha -= 0.002\n",
    "    doc2vec_model.min_alpha = doc2vec_model.alpha\n",
    "#Building the feature vector for the classifier\n",
    "def vec_for_learning(model, docs):\n",
    "    doc2vec_vectors = [model.infer_vector(doc.words) for doc in docs]\n",
    "    targets = [doc.tags[0] for doc in docs]\n",
    "    return doc2vec_vectors, targets\n",
    "X_train, y_train = vec_for_learning(doc2vec_model, train_tagged)\n",
    "# Training a classification model\n",
    "from sklearn.linear_model import LogisticRegression\n",
    "\n",
    "log_clssfier_4 = LogisticRegression()\n",
    "log_clssfier_4.fit(X_train, y_train)"
   ]
  },
  {
   "cell_type": "markdown",
   "metadata": {},
   "source": [
    "(e) Predict the classification with the four models on the test data."
   ]
  },
  {
   "cell_type": "code",
   "execution_count": 180,
   "metadata": {},
   "outputs": [],
   "source": [
    "# Your code\n",
    "# handling test data\n",
    "import csv\n",
    "import pandas as pd\n",
    "from nltk.tokenize import  word_tokenize\n",
    "import string\n",
    "from nltk.stem import PorterStemmer\n",
    "from nltk.corpus import stopwords\n",
    "import re\n",
    "\n",
    "test_corpus = [] # store the texts\n",
    "test_labels = [] # store the corresponding author name\n",
    "with open('./AssignmentSecondPartDatasets/pg_test.csv','rt',encoding='ISO-8859-1',errors='ignore') as f:\n",
    "    docs = csv.reader(f)\n",
    "    for doc in docs:\n",
    "        if doc:\n",
    "            # split author and corresponding text\n",
    "            author = str(doc).split('#')[0]\n",
    "            #match the author name(drop the other puntuations)\n",
    "            label = re.search(r'[a-z]+',author).group()\n",
    "            test_labels.append(label)\n",
    "            text = str(doc).split('#')[1]\n",
    "            test_corpus.append(text)\n",
    "\n",
    "handled_corpus = handle(test_corpus)\n",
    "handled_test = pd.DataFrame({'author':test_labels,'text':handled_corpus})\n",
    "# store the preprocessed data\n",
    "handled_test.to_csv('./handled_test.csv',index=False)"
   ]
  },
  {
   "cell_type": "code",
   "execution_count": null,
   "metadata": {},
   "outputs": [],
   "source": [
    "test = pd.read_csv('./handled_test.csv')\n",
    "# model 1 : binary document_term \n",
    "predicted_1 = log_clssfier_1.predict(test['text'])\n",
    "# model 2 : counts document_term \n",
    "predicted_2 = log_clssfier_2.predict(test['text'])\n",
    "#model 3 : tf_idf document_term\n",
    "predicted_3 = log_clssfier_3.predict(test['text'])\n",
    "#model 4: document vectors\n",
    "test_tagged = []\n",
    "for i in range (0, test.shape[0]):\n",
    "    test_tagged.append(gensim.models.doc2vec.TaggedDocument(words=gensim.utils.simple_preprocess(test['text'][i],max_len=1000), tags=[test['author'][i]]))\n",
    "X_test, y_test = vec_for_learning(doc2vec_model,test_tagged)\n",
    "predicted_4 = log_clssfier_4.predict(X_test)"
   ]
  },
  {
   "cell_type": "markdown",
   "metadata": {},
   "source": [
    "(f) Obtain confusion matrices for the four different models.\n"
   ]
  },
  {
   "cell_type": "code",
   "execution_count": 181,
   "metadata": {},
   "outputs": [],
   "source": [
    "# Your code\n",
    "from sklearn.metrics import confusion_matrix\n",
    "\n",
    "cm_1 = confusion_matrix(test['author'], predicted_1)\n",
    "cm_2 = confusion_matrix(test['author'], predicted_2)\n",
    "cm_3 = confusion_matrix(test['author'], predicted_3)\n",
    "cm_4 = confusion_matrix(test['author'], predicted_4)\n",
    "\n",
    "print('model 1: \\n',cm_1)\n",
    "print('model 2: \\n',cm_2)\n",
    "print('model 3: \\n',cm_3)\n",
    "print('model 4: \\n',cm_4)"
   ]
  },
  {
   "cell_type": "markdown",
   "metadata": {},
   "source": [
    "(g) Obtain accuracy and f1-score for the four different models.\n"
   ]
  },
  {
   "cell_type": "code",
   "execution_count": 182,
   "metadata": {},
   "outputs": [],
   "source": [
    "# Your code\n",
    "from sklearn.metrics import accuracy_score, f1_score\n",
    "\n",
    "print('Model 1(binary_doc_term):')\n",
    "print('Testing accuracy %s' % accuracy_score(test['author'], predicted_1))\n",
    "print('Testing F1 score: {}'.format(f1_score(test['author'], predicted_1, average='weighted')))\n",
    "\n",
    "print('Model 2(count_doc_term):')\n",
    "print('Testing accuracy %s' % accuracy_score(test['author'], predicted_2))\n",
    "print('Testing F1 score: {}'.format(f1_score(test['author'], predicted_2, average='weighted')))\n",
    "\n",
    "print('Model 3(tfidf):')\n",
    "print('Testing accuracy %s' % accuracy_score(test['author'], predicted_3))\n",
    "print('Testing F1 score: {}'.format(f1_score(test['author'], predicted_3, average='weighted')))\n",
    "\n",
    "print('Model 4(Doc2Vec):')\n",
    "print('Testing accuracy %s' % accuracy_score(test['author'], predicted_4))\n",
    "print('Testing F1 score: {}'.format(f1_score(test['author'], predicted_4, average='weighted')))\n"
   ]
  },
  {
   "cell_type": "markdown",
   "metadata": {},
   "source": [
    "(h) Briefly comment on the quality of the predictions for the four models."
   ]
  },
  {
   "cell_type": "markdown",
   "metadata": {},
   "source": [
    "Explanation:\n",
    "As above shows, the quality of model 3(ti-idf matrix) is the best, the accuracy is 98.52%. \n",
    "Then follows model 1(binary Document_Term matrix) with accuracy 98.25%, which is also good.\n",
    "The accuracy of model 3 (counts document_term matrix) is 97.79%.\n",
    "And the the model 4 (doc2vector) is the worst, whose accuracy is 74.71%. The reason could be when we encode doc as a vetor, we may lose too much detail information."
   ]
  },
  {
   "cell_type": "markdown",
   "metadata": {},
   "source": [
    "(i) For the two authors Austen and Chesterton separately, build a bigram language model. You should use both training and test data to build the model. Do not perform stemming or stopword removal for this task, but do use the other preprocessing steps described in (a). Use both right and left padding, and manage unknown terms by using a dedicated token."
   ]
  },
  {
   "cell_type": "code",
   "execution_count": 183,
   "metadata": {},
   "outputs": [],
   "source": [
    "# Your code\n",
    "import csv\n",
    "import pandas as pd\n",
    "from nltk.tokenize import  word_tokenize\n",
    "import string\n",
    "import re\n",
    "\n",
    "def preprocess(path):\n",
    "    corpus = [] # store the texts\n",
    "    labels = [] # store the corresponding author name\n",
    "    with open(path,'rt',encoding='ISO-8859-1',errors='ignore') as f:\n",
    "        docs = csv.reader(f)\n",
    "        for doc in docs:\n",
    "            if doc:\n",
    "                # split author and corresponding text\n",
    "                author = str(doc).split('#')[0]\n",
    "                #match the author name(drop the other puntuations)\n",
    "                label = re.search(r'[a-z]+',author).group()\n",
    "                labels.append(label)\n",
    "                text = str(doc).split('#')[1]\n",
    "                corpus.append(text)      \n",
    "    puncts = list(string.punctuation)+['``']\n",
    "    # store the handled text from train_corpus\n",
    "    handled_corpus = []\n",
    "    \n",
    "    for text in corpus:\n",
    "        #tokenization\n",
    "        words = word_tokenize(text)\n",
    "        #lowercase\n",
    "#         lower_words = [word.lower() for word in words]\n",
    "        lower_words = words\n",
    "        #delete all punctuations and numbers\n",
    "        for word in lower_words:\n",
    "            if word in puncts:\n",
    "                lower_words.remove(word)\n",
    "        for word in lower_words:\n",
    "            if re.match('^[a-z]|[A-Z]',word) == None:\n",
    "                lower_words.remove(word)\n",
    "        filtered_text = ' '.join(lower_words)\n",
    "        handled_corpus.append(filtered_text)\n",
    "    return handled_corpus,labels\n",
    "\n",
    "train_path = './AssignmentSecondPartDatasets/pg_train.csv'\n",
    "new_train_corpus,new_train_labels = preprocess(train_path)\n",
    "new_handled_train = pd.DataFrame({'author':new_train_labels,'text':new_train_corpus})\n",
    "# store the preprocessed data\n",
    "new_handled_train.to_csv('./new_handled_train.csv',index=False)\n",
    "\n",
    "test_path = './AssignmentSecondPartDatasets/pg_test.csv'\n",
    "new_test_corpus,new_test_labels = preprocess(test_path)\n",
    "new_handled_test = pd.DataFrame({'author':new_test_labels,'text':new_test_corpus})\n",
    "# store the preprocessed data\n",
    "new_handled_test.to_csv('./new_handled_test.csv',index=False)\n"
   ]
  },
  {
   "cell_type": "code",
   "execution_count": null,
   "metadata": {},
   "outputs": [],
   "source": [
    "import nltk\n",
    "from nltk.text import Text\n",
    "from nltk import word_tokenize\n",
    "from nltk.lm import MLE\n",
    "from nltk.lm.preprocessing import pad_sequence\n",
    "\n",
    "new_train = pd.read_csv('./new_handled_train.csv')\n",
    "new_test = pd.read_csv('./new_handled_test.csv')\n",
    "\n",
    "austen_text = []\n",
    "# add both train and text correponing document into austen_text\n",
    "for i in range(0,new_train.shape[0]):\n",
    "    if new_train['author'][i] == 'austen':\n",
    "        words = word_tokenize(new_train['text'][i])\n",
    "        text = Text(words)\n",
    "        austen_text.append(text)\n",
    "for i in range(0,new_test.shape[0]):\n",
    "    if new_test['author'][i] == 'austen':\n",
    "        words = word_tokenize(new_test['text'][i])\n",
    "        text = Text(words)\n",
    "        austen_text.append(text)\n",
    "        \n",
    "chesterton_text=[]\n",
    "for i in range(0,new_train.shape[0]):\n",
    "    if new_train['author'][i] == 'chesterton':\n",
    "        words = word_tokenize(new_train['text'][i])\n",
    "        text = Text(words)\n",
    "        chesterton_text.append(text)\n",
    "for i in range(0,new_test.shape[0]):\n",
    "    if new_test['author'][i] == 'chesterton':\n",
    "        words = word_tokenize(new_test['text'][i])\n",
    "        text = Text(words)\n",
    "        chesterton_text.append(text)"
   ]
  },
  {
   "cell_type": "code",
   "execution_count": null,
   "metadata": {},
   "outputs": [],
   "source": [
    "from nltk.lm import Vocabulary\n",
    "from nltk.lm.preprocessing import padded_everygram_pipeline\n",
    "\n",
    "# use <UNK> to manage unknown terms\n",
    "austen_vocab = Vocabulary(austen_text_padded,unk_cutoff=1)\n",
    "chesterton_vocab =Vocabulary(chesterton_text_padded,unk_cutoff=1)\n",
    "#example for <UNK>\n",
    "print(austen_vocab.lookup('1'))\n",
    "#add left and right padding and manage unkonwn words\n",
    "#This function can do both padding and manage <UNK> for us\n",
    "austen_train, austen_vocab = padded_everygram_pipeline(2, austen_text)\n",
    "chesterton_train, chesterton_vocab = padded_everygram_pipeline(2,chesterton_text)\n",
    "# train the model\n",
    "bi_model_austen = MLE(2)\n",
    "bi_model_chesterton = MLE(2)\n",
    "#train austen bigram model\n",
    "#before training\n",
    "print('Berfore training,length of austen model.vocab:',len(bi_model_austen.vocab))\n",
    "bi_model_austen.fit(austen_train,austen_vocab)\n",
    "#after training\n",
    "print('After training,length of austen model.vocab:',len(bi_model_austen.vocab))\n",
    "#train chesterton bigram model\n",
    "bi_model_chesterton.fit(chesterton_train,chesterton_vocab)\n",
    "\n",
    "print('finish training')\n"
   ]
  },
  {
   "cell_type": "markdown",
   "metadata": {},
   "source": [
    "(j) For each author, use the correspondent language models from (i) to generate, using MLE, a sentence of fifteen words starting from each of the following terms:"
   ]
  },
  {
   "cell_type": "code",
   "execution_count": 184,
   "metadata": {},
   "outputs": [
    {
     "data": {
      "text/plain": [
       "'It'"
      ]
     },
     "execution_count": 184,
     "metadata": {},
     "output_type": "execute_result"
    }
   ],
   "source": [
    "'She'\n",
    "'They'\n",
    "'It'\n",
    "# Because these words are not in lower form, so I did not preprocess by\n",
    "# using lower(),otherwise we will not find  'She' 'They' 'It' in trained models\n",
    "from nltk.tokenize.treebank import TreebankWordDetokenizer\n",
    "detokenize = TreebankWordDetokenizer().detokenize\n",
    "\n",
    "def generate_sent(model, word_seed, num_words, random_seed=11):\n",
    "    content = [word_seed]\n",
    "    for token in model.generate(num_words, text_seed = [word_seed],random_seed=random_seed):\n",
    "        if token == '<s>':\n",
    "            continue\n",
    "        if token == '</s>':\n",
    "            break\n",
    "        content.append(token)\n",
    "    return detokenize(content)\n",
    "\n",
    "#using model austen to generate sentence\n",
    "print('AUSTEN:')\n",
    "print(generate_sent(bi_model_austen,'She',15))\n",
    "print(generate_sent(bi_model_austen,'They',15))\n",
    "print(generate_sent(bi_model_austen,'It',15))\n",
    "#using model chesterton to generate sentence\n",
    "print('CHESTERTON:')\n",
    "print(generate_sent(bi_model_chesterton,'She',15))\n",
    "print(generate_sent(bi_model_chesterton,'They',15))\n",
    "print(generate_sent(bi_model_chesterton,'It',15))\n"
   ]
  },
  {
   "cell_type": "markdown",
   "metadata": {},
   "source": [
    "(k) Now, computer another two models (for Austen and Chesterton separately), build a trigram model with the same data as in (i). Use both right and left padding, and manage unknown terms by using a dedicated token."
   ]
  },
  {
   "cell_type": "code",
   "execution_count": 185,
   "metadata": {},
   "outputs": [],
   "source": [
    "# Your code\n",
    "austen_train, austen_vocab = padded_everygram_pipeline(3, austen_text)\n",
    "chesterton_train, chesterton_vocab = padded_everygram_pipeline(3,chesterton_text)\n",
    "# train the model\n",
    "tri_model_austen = MLE(3)\n",
    "tri_model_chesterton = MLE(3)\n",
    "#train austen trigram model\n",
    "tri_model_austen.fit(austen_train,austen_vocab)\n",
    "#after training\n",
    "#train chesterton trigram model\n",
    "tri_model_chesterton.fit(chesterton_train,chesterton_vocab)\n",
    "\n",
    "print('finish training')\n"
   ]
  },
  {
   "cell_type": "markdown",
   "metadata": {},
   "source": [
    "(l) For each author, use the correspondent language models from (k) to generate, using MLE, a sentence of fifteen words starting from each of the same terms as question (j):"
   ]
  },
  {
   "cell_type": "code",
   "execution_count": 186,
   "metadata": {},
   "outputs": [],
   "source": [
    "# Your code\n",
    "#using model austen to generate sentence\n",
    "print('AUSTEN:')\n",
    "print(generate_sent(tri_model_austen,'She',15))\n",
    "print(generate_sent(tri_model_austen,'They',15))\n",
    "print(generate_sent(tri_model_austen,'It',15))\n",
    "#using model chesterton to generate sentence\n",
    "print('CHESTERTON:')\n",
    "print(generate_sent(tri_model_chesterton,'She',15))\n",
    "print(generate_sent(tri_model_chesterton,'They',15))\n",
    "print(generate_sent(tri_model_chesterton,'It',15))"
   ]
  },
  {
   "cell_type": "markdown",
   "metadata": {},
   "source": [
    "(m) Comment on the quality of the models and generated text. Which model performs better? In general, which differences are there in using trigrams as opposed to bigrams?"
   ]
  },
  {
   "cell_type": "markdown",
   "metadata": {},
   "source": [
    "Explanation: Obviously, the sentence generated from the trigrams model is beeter. So the trigrams model performs better.\n",
    "The main difference between trigrams model and bigrams model is that trigrams model cosinder three continuous words as a tuple, but bigrams only consider two continuous words as a tuple. Therfore, the trigrams model contain more information about the taining senstence than bigrams model. In conclusion, the more grams a model hat, the more precious it could be. "
   ]
  },
  {
   "cell_type": "markdown",
   "metadata": {},
   "source": [
    "## Question 6 - Process Mining (15 points)\n",
    "For this part, refer to the online docs of pm4py (https://pm4py.fit.fraunhofer.de/).\n",
    "Important: if you did not do it in the instruction, you should make sure to have the latest pm4py version: to get it is sufficient to type `pip install pm4py --upgrade`.\n",
    "In this section of the assignment you will be working with a real life event log, derived from the activity of the help desk department of an Italian software company. The data is contained in the file \"event_log.xes\".\n",
    "\n",
    "(a) Use the provided event log and identify the least frequent variant and the most frequent variant.\n"
   ]
  },
  {
   "cell_type": "code",
   "execution_count": 187,
   "metadata": {},
   "outputs": [],
   "source": [
    "# Your code"
   ]
  },
  {
   "cell_type": "markdown",
   "metadata": {},
   "source": [
    "(b) Remove all the variants that contain less than 1% of the traces in the log. Create a new event log without these variants."
   ]
  },
  {
   "cell_type": "code",
   "execution_count": 188,
   "metadata": {},
   "outputs": [],
   "source": [
    "# Your code"
   ]
  },
  {
   "cell_type": "markdown",
   "metadata": {},
   "source": [
    "(c) Use Inductive miner algorithm to discover the process model based on you new event log (the filtered log without the infrequent variants of question (b)).\n"
   ]
  },
  {
   "cell_type": "code",
   "execution_count": 189,
   "metadata": {},
   "outputs": [],
   "source": [
    "# Your code"
   ]
  },
  {
   "cell_type": "markdown",
   "metadata": {},
   "source": [
    "(d) Perform the token replay conformance checking using your discovered model (c) and the original event log. Does your process model fit the log?\n"
   ]
  },
  {
   "cell_type": "code",
   "execution_count": 190,
   "metadata": {},
   "outputs": [],
   "source": [
    "# Your code"
   ]
  },
  {
   "cell_type": "markdown",
   "metadata": {},
   "source": [
    "Explanation:\n"
   ]
  },
  {
   "cell_type": "markdown",
   "metadata": {},
   "source": [
    "(e) Calculate the fitness of the model in (c)."
   ]
  },
  {
   "cell_type": "code",
   "execution_count": 191,
   "metadata": {},
   "outputs": [],
   "source": [
    "# Your code"
   ]
  },
  {
   "cell_type": "markdown",
   "metadata": {},
   "source": [
    "(f) Are there any deviations between the process model and the event log? If so, where and why?"
   ]
  },
  {
   "cell_type": "markdown",
   "metadata": {},
   "source": [
    "Explanation:\n"
   ]
  },
  {
   "cell_type": "markdown",
   "metadata": {},
   "source": [
    "(g) Now use the original event log and remove the two most frequent variants, and discover the model based on your new event log (the filtered log without two most frequent variants).\n"
   ]
  },
  {
   "cell_type": "code",
   "execution_count": 192,
   "metadata": {},
   "outputs": [],
   "source": [
    "# Your code"
   ]
  },
  {
   "cell_type": "markdown",
   "metadata": {},
   "source": [
    "(h) Perform the token replay conformance checking using the newly discovered model of question (g) and the original event log. Does your process model fit the log?"
   ]
  },
  {
   "cell_type": "code",
   "execution_count": 193,
   "metadata": {},
   "outputs": [],
   "source": [
    "# Your code"
   ]
  },
  {
   "cell_type": "markdown",
   "metadata": {},
   "source": [
    "Explanation:\n"
   ]
  },
  {
   "cell_type": "markdown",
   "metadata": {},
   "source": [
    "(i) Calculate the fitness of the model in (g)."
   ]
  },
  {
   "cell_type": "code",
   "execution_count": 194,
   "metadata": {},
   "outputs": [],
   "source": [
    "# Your code"
   ]
  },
  {
   "cell_type": "markdown",
   "metadata": {},
   "source": [
    "(j) Are there any deviations in the process model? If so, where and why?"
   ]
  },
  {
   "cell_type": "markdown",
   "metadata": {},
   "source": [
    "Explanation:"
   ]
  },
  {
   "cell_type": "markdown",
   "metadata": {},
   "source": [
    "(k) Use the complete event log (original event log) and discover your process model using Inductive Miner.\n"
   ]
  },
  {
   "cell_type": "code",
   "execution_count": 195,
   "metadata": {},
   "outputs": [],
   "source": [
    "# Your code"
   ]
  },
  {
   "cell_type": "markdown",
   "metadata": {},
   "source": [
    "(l) Do the token replay conformance checking using your newly discovered model and the original event log. Does your process model fit the log?"
   ]
  },
  {
   "cell_type": "code",
   "execution_count": 196,
   "metadata": {},
   "outputs": [],
   "source": [
    "# Your code"
   ]
  },
  {
   "cell_type": "markdown",
   "metadata": {},
   "source": [
    "Explanation:"
   ]
  },
  {
   "cell_type": "markdown",
   "metadata": {},
   "source": [
    "(m) How are these three discovered process models different from each other? Which model is the best fitting to the original log? Why?"
   ]
  },
  {
   "cell_type": "markdown",
   "metadata": {},
   "source": [
    "Explanation:\n"
   ]
  },
  {
   "cell_type": "markdown",
   "metadata": {},
   "source": [
    "(n) Visualize the model discovered in question (k) enriched with frequency information. Subsequently, visualize that same model enriched with performance information."
   ]
  },
  {
   "cell_type": "code",
   "execution_count": 197,
   "metadata": {},
   "outputs": [],
   "source": [
    "# Your code"
   ]
  },
  {
   "cell_type": "markdown",
   "metadata": {},
   "source": [
    "(o) If you were the process owner and you had more resources to hire employees, on which parts of the process would you assign them to maximize efficiency?"
   ]
  },
  {
   "cell_type": "markdown",
   "metadata": {},
   "source": [
    "Explanation:\n"
   ]
  },
  {
   "cell_type": "markdown",
   "metadata": {},
   "source": [
    "(p) Add your further comments and considerations on the frequency and performance informations. Does the process have a \"happy path\", and is it shown in the enhanced process models? Where are the major bottlenecks in this process? Is there any rework?"
   ]
  },
  {
   "cell_type": "markdown",
   "metadata": {},
   "source": [
    "Explanation:\n"
   ]
  }
 ],
 "metadata": {
  "kernelspec": {
   "display_name": "Python 3",
   "language": "python",
   "name": "python3"
  },
  "language_info": {
   "codemirror_mode": {
    "name": "ipython",
    "version": 3
   },
   "file_extension": ".py",
   "mimetype": "text/x-python",
   "name": "python",
   "nbconvert_exporter": "python",
   "pygments_lexer": "ipython3",
   "version": "3.7.3"
  }
 },
 "nbformat": 4,
 "nbformat_minor": 2
}
