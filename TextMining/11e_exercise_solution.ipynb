{
 "cells": [
  {
   "cell_type": "code",
   "execution_count": 1,
   "metadata": {},
   "outputs": [],
   "source": [
    "from __future__ import unicode_literals, print_function, division\n",
    "from io import open\n",
    "import unicodedata\n",
    "import string\n",
    "import re\n",
    "import random\n",
    "\n",
    "import torch\n",
    "import torch.nn as nn\n",
    "from torch import optim\n",
    "import torch.nn.functional as F"
   ]
  },
  {
   "cell_type": "code",
   "execution_count": 2,
   "metadata": {},
   "outputs": [],
   "source": [
    "SOS_token = 0\n",
    "EOS_token = 1\n",
    "\n",
    "\n",
    "class Lang:\n",
    "    def __init__(self, name):\n",
    "        self.name = name\n",
    "        self.word2index = {}\n",
    "        self.word2count = {}\n",
    "        self.index2word = {0: \"SOS\", 1: \"EOS\"}\n",
    "        self.n_words = 2  # Count SOS and EOS\n",
    "\n",
    "    def addSentence(self, sentence):\n",
    "        for word in sentence.split(' '):\n",
    "            self.addWord(word)\n",
    "\n",
    "    def addWord(self, word):\n",
    "        if word not in self.word2index:\n",
    "            self.word2index[word] = self.n_words\n",
    "            self.word2count[word] = 1\n",
    "            self.index2word[self.n_words] = word\n",
    "            self.n_words += 1\n",
    "        else:\n",
    "            self.word2count[word] += 1"
   ]
  },
  {
   "cell_type": "code",
   "execution_count": 3,
   "metadata": {},
   "outputs": [],
   "source": [
    "# Turn a Unicode string to plain ASCII, thanks to\n",
    "# http://stackoverflow.com/a/518232/2809427\n",
    "def unicodeToAscii(s):\n",
    "    return ''.join(\n",
    "        c for c in unicodedata.normalize('NFD', s)\n",
    "        if unicodedata.category(c) != 'Mn'\n",
    "    )\n",
    "\n",
    "# Lowercase, trim, and remove non-letter characters\n",
    "def normalizeString(s):\n",
    "    s = unicodeToAscii(s.lower().strip())\n",
    "    s = re.sub(r\"([.!?])\", r\" \\1\", s)\n",
    "    s = re.sub(r\"[^a-zA-Z.!?]+\", r\" \", s)\n",
    "    return s"
   ]
  },
  {
   "cell_type": "code",
   "execution_count": 4,
   "metadata": {},
   "outputs": [],
   "source": [
    "def readLangs(lang1, lang2, reverse=False):\n",
    "    print(\"Reading lines...\")\n",
    "\n",
    "    # Read the file and split into lines\n",
    "    lines = open('data_seq/%s-%s.txt' % (lang1, lang2), encoding='utf-8').\\\n",
    "        read().strip().split('\\n')\n",
    "\n",
    "    # Split every line into pairs and normalize\n",
    "    pairs = [[normalizeString(s) for s in l.split('\\t')] for l in lines]\n",
    "\n",
    "    # Reverse pairs, make Lang instances\n",
    "    if reverse:\n",
    "        pairs = [list(reversed(p)) for p in pairs]\n",
    "        input_lang = Lang(lang2)\n",
    "        output_lang = Lang(lang1)\n",
    "    else:\n",
    "        input_lang = Lang(lang1)\n",
    "        output_lang = Lang(lang2)\n",
    "\n",
    "    return input_lang, output_lang, pairs"
   ]
  },
  {
   "cell_type": "code",
   "execution_count": 6,
   "metadata": {},
   "outputs": [
    {
     "name": "stdout",
     "output_type": "stream",
     "text": [
      "Reading lines...\n",
      "Read 135842 sentence pairs\n",
      "Trimmed to 135842 sentence pairs\n",
      "Counting words...\n",
      "Counted words:\n",
      "fra 21334\n",
      "eng 13043\n",
      "['c etait il y a des annees .', 'it was ages ago .']\n"
     ]
    }
   ],
   "source": [
    "def prepareData(lang1, lang2, reverse=False):\n",
    "    input_lang, output_lang, pairs = readLangs(lang1, lang2, reverse)\n",
    "    print(\"Read %s sentence pairs\" % len(pairs))\n",
    "    print(\"Trimmed to %s sentence pairs\" % len(pairs))\n",
    "    print(\"Counting words...\")\n",
    "    for pair in pairs:\n",
    "        input_lang.addSentence(pair[0])\n",
    "        output_lang.addSentence(pair[1])\n",
    "    print(\"Counted words:\")\n",
    "    print(input_lang.name, input_lang.n_words)\n",
    "    print(output_lang.name, output_lang.n_words)\n",
    "    return input_lang, output_lang, pairs\n",
    "\n",
    "\n",
    "input_lang, output_lang, pairs = prepareData('eng', 'fra', True)\n",
    "print(random.choice(pairs))"
   ]
  },
  {
   "cell_type": "code",
   "execution_count": 7,
   "metadata": {},
   "outputs": [],
   "source": [
    "def indexesFromSentence(lang, sentence):\n",
    "    return [lang.word2index[word] for word in sentence.split(' ')]\n",
    "\n",
    "\n",
    "def tensorFromSentence(lang, sentence):\n",
    "    indexes = indexesFromSentence(lang, sentence)\n",
    "    indexes.append(EOS_token)\n",
    "    return torch.tensor(indexes, dtype=torch.long)\n",
    "\n",
    "\n",
    "def tensorsFromPair(pair):\n",
    "    input_tensor = tensorFromSentence(input_lang, pair[0])\n",
    "    target_tensor = tensorFromSentence(output_lang, pair[1])\n",
    "    return (input_tensor, target_tensor)"
   ]
  },
  {
   "cell_type": "code",
   "execution_count": 8,
   "metadata": {},
   "outputs": [],
   "source": [
    "class EncoderRNN(nn.Module):\n",
    "    def __init__(self, input_size, hidden_size):\n",
    "        super(EncoderRNN, self).__init__()\n",
    "        self.hidden_size = hidden_size\n",
    "\n",
    "        self.embedding = nn.Embedding(input_size, hidden_size)\n",
    "        self.gru = nn.GRU(hidden_size, hidden_size)\n",
    "\n",
    "    def forward(self, input):\n",
    "        hidden = self.initHidden()\n",
    "        embedded = self.embedding(input).view(input.shape[0], 1, -1)\n",
    "        output = embedded\n",
    "        output, hidden = self.gru(output, hidden)\n",
    "        return output, hidden\n",
    "\n",
    "    def initHidden(self):\n",
    "        return torch.zeros(1, 1, self.hidden_size)"
   ]
  },
  {
   "cell_type": "code",
   "execution_count": 9,
   "metadata": {},
   "outputs": [],
   "source": [
    "class DecoderRNN(nn.Module):\n",
    "    def __init__(self, hidden_size, output_size):\n",
    "        super(DecoderRNN, self).__init__()\n",
    "        self.hidden_size = hidden_size\n",
    "\n",
    "        self.embedding = nn.Embedding(output_size, hidden_size)\n",
    "        self.gru = nn.GRU(hidden_size, hidden_size)\n",
    "        self.out = nn.Linear(hidden_size, output_size)\n",
    "        self.softmax = nn.LogSoftmax(dim=1)\n",
    "\n",
    "    def forward(self, input, hidden):\n",
    "        output = self.embedding(input).view(1, 1, -1)\n",
    "        output = F.relu(output)\n",
    "        output, hidden = self.gru(output, hidden)\n",
    "        output = self.softmax(self.out(output[0]))\n",
    "        return output, hidden\n",
    "\n",
    "    def initHidden(self):\n",
    "        return torch.zeros(1, 1, self.hidden_size)"
   ]
  },
  {
   "cell_type": "code",
   "execution_count": 10,
   "metadata": {},
   "outputs": [],
   "source": [
    "hidden_size = 256\n",
    "encoder1 = EncoderRNN(input_lang.n_words, hidden_size)\n",
    "decoder1 = DecoderRNN(hidden_size, output_lang.n_words)"
   ]
  },
  {
   "cell_type": "code",
   "execution_count": 11,
   "metadata": {},
   "outputs": [],
   "source": [
    "criterion = nn.NLLLoss()"
   ]
  },
  {
   "cell_type": "code",
   "execution_count": 13,
   "metadata": {},
   "outputs": [
    {
     "name": "stdout",
     "output_type": "stream",
     "text": [
      "loss: 66.72592163085938\n"
     ]
    }
   ],
   "source": [
    "# single training instance....\n",
    "encoder_inp, target = tensorsFromPair(random.choice(pairs)) # get input and target pair....\n",
    "\n",
    "enc_optimizer = optim.Adam(encoder1.parameters(),lr=0.0001)\n",
    "dec_optimizer = optim.Adam(decoder1.parameters(),lr=0.0001)\n",
    "\n",
    "output,hidden = encoder1(encoder_inp)\n",
    "\n",
    "decoder_hidden = hidden\n",
    "\n",
    "decoder_inp = torch.tensor([SOS_token])\n",
    "\n",
    "loss = 0\n",
    "\n",
    "for i in range(target.shape[0]):\n",
    "    target_tensor = target[i].view(1)\n",
    "    decoder_output, decoder_hidden = decoder1(decoder_inp, decoder_hidden)\n",
    "    loss += criterion(decoder_output, target_tensor)\n",
    "    decoder_inp = target_tensor\n",
    "    \n",
    "enc_optimizer.zero_grad()\n",
    "dec_optimizer.zero_grad()\n",
    "    \n",
    "loss.backward()\n",
    "print(f'loss: {loss}')    \n",
    "enc_optimizer.step()\n",
    "dec_optimizer.step()"
   ]
  },
  {
   "cell_type": "markdown",
   "metadata": {},
   "source": [
    "Write a train function to train the encoder-decoder mode. You can modify the code snippet written above"
   ]
  },
  {
   "cell_type": "code",
   "execution_count": 15,
   "metadata": {},
   "outputs": [],
   "source": [
    "def train(enc_model, dec_model, epochs=1, learning_rate=0.0001):\n",
    "    enc_optimizer = optim.Adam(encoder1.parameters(),lr=learning_rate)\n",
    "    dec_optimizer = optim.Adam(decoder1.parameters(),lr=learning_rate)\n",
    "    \n",
    "    for _ in range(epochs):\n",
    "        for num in range(10000):\n",
    "            \n",
    "            encoder_inp, target = tensorsFromPair(random.choice(pairs))\n",
    "            output,hidden = enc_model(encoder_inp)\n",
    "            decoder_hidden = hidden\n",
    "            decoder_inp = torch.tensor([SOS_token])\n",
    "            loss = 0\n",
    "            for i in range(target.shape[0]):\n",
    "                target_tensor = target[i].view(1)\n",
    "                decoder_output, decoder_hidden = dec_model(decoder_inp, decoder_hidden)\n",
    "                loss += criterion(decoder_output, target_tensor)\n",
    "                decoder_inp = target_tensor\n",
    "\n",
    "            enc_optimizer.zero_grad()\n",
    "            dec_optimizer.zero_grad()\n",
    "    \n",
    "            loss.backward()\n",
    "    \n",
    "            enc_optimizer.step()\n",
    "            dec_optimizer.step()    "
   ]
  },
  {
   "cell_type": "code",
   "execution_count": null,
   "metadata": {},
   "outputs": [],
   "source": [
    "train(encoder1, decoder1)"
   ]
  },
  {
   "cell_type": "markdown",
   "metadata": {},
   "source": [
    "Write a function which which takes a trained model and generates a sentence translated in the target laguage. "
   ]
  },
  {
   "cell_type": "code",
   "execution_count": 31,
   "metadata": {},
   "outputs": [],
   "source": [
    "def generate(enc_model, dec_model, inp, output_lang, max_length=10):\n",
    "    with torch.no_grad():\n",
    "        output,hidden = enc_model(inp)\n",
    "        decoder_hidden = hidden\n",
    "        decoder_inp = torch.tensor([SOS_token])\n",
    "        words = []\n",
    "        l = 1\n",
    "        while l<max_length:\n",
    "            decoder_output, decoder_hidden = dec_model(decoder_inp, decoder_hidden)\n",
    "            val = decoder_output.argmax(dim=1)\n",
    "            word = output_lang.index2word[val.item()]\n",
    "            if val.item()==1:\n",
    "                break\n",
    "            words.append(word)    \n",
    "            decoder_inp = val\n",
    "            l+=1\n",
    "    return ' '.join(words)        \n",
    "        \n",
    "        "
   ]
  },
  {
   "cell_type": "code",
   "execution_count": 40,
   "metadata": {},
   "outputs": [
    {
     "data": {
      "text/plain": [
       "'we re not .'"
      ]
     },
     "execution_count": 40,
     "metadata": {},
     "output_type": "execute_result"
    }
   ],
   "source": [
    "inp_sent, out_sent = random.choice(pairs)\n",
    "inp, target = tensorsFromPair((inp_sent, out_sent))\n",
    "generate(encoder1, decoder1, inp, output_lang)"
   ]
  },
  {
   "cell_type": "markdown",
   "metadata": {},
   "source": [
    "Modify the decoder class to incorporate attention mechanism. Consider dot-product of query and value vectors to calculate attention scores"
   ]
  },
  {
   "cell_type": "code",
   "execution_count": 81,
   "metadata": {},
   "outputs": [],
   "source": [
    "class AttentionDecoderRNN(nn.Module):\n",
    "    def __init__(self, hidden_size, enc_hidden_size, output_size):\n",
    "        super(AttentionDecoderRNN, self).__init__()\n",
    "        self.hidden_size = hidden_size\n",
    "\n",
    "        self.embedding = nn.Embedding(output_size, hidden_size)\n",
    "        self.gru = nn.GRU(hidden_size, hidden_size)\n",
    "        self.out = nn.Linear(enc_hidden_size + hidden_size, output_size) # we will concatenate attention vector and decoder hidden\n",
    "        self.softmax = nn.LogSoftmax(dim=1)\n",
    "        self.attnsmax = nn.Softmax(dim=0)\n",
    "\n",
    "    def forward(self, input, all_hidden, hidden):\n",
    "        output = self.embedding(input).view(1, 1, -1)\n",
    "        output = F.relu(output)\n",
    "        output, hidden = self.gru(output, hidden)\n",
    "        attn_vec = self.attnsmax(all_hidden.squeeze(1) @ hidden.squeeze(0).view(-1,1))*all_hidden.squeeze(1)\n",
    "        attn_vec = torch.sum(attn_vec,0).unsqueeze(0)\n",
    "        output = self.softmax(self.out(torch.cat((attn_vec,output[0]),1)))\n",
    "        return output, hidden\n",
    "\n",
    "    def initHidden(self):\n",
    "        return torch.zeros(1, 1, self.hidden_size)"
   ]
  },
  {
   "cell_type": "markdown",
   "metadata": {},
   "source": [
    "Write a function to calculate the BLEU score given a output translation and a reference translation"
   ]
  },
  {
   "cell_type": "code",
   "execution_count": 109,
   "metadata": {},
   "outputs": [],
   "source": [
    "from nltk.util import ngrams\n",
    "from nltk.tokenize import word_tokenize\n",
    "import math"
   ]
  },
  {
   "cell_type": "code",
   "execution_count": 112,
   "metadata": {},
   "outputs": [],
   "source": [
    "def BLEU(out_trans, ref_trans):\n",
    "    b_score = 0\n",
    "    for n in range(4):\n",
    "        out_grams = list(ngrams(word_tokenize(out_trans),n))\n",
    "        ref_grams = list(ngrams(word_tokenize(ref_trans),n))\n",
    "\n",
    "        ref_grams_cnt = Counter()\n",
    "        for gram in ref_grams:\n",
    "            ref_grams_cnt[gram]+=1\n",
    "\n",
    "        score = 0\n",
    "        for gram in set(out_grams):\n",
    "            if gram in ref_grams_cnt:\n",
    "                score+=ref_grams_cnt[gram]\n",
    "        b_score+= score/len(out_grams)\n",
    "    \n",
    "    b_score/=4\n",
    "    \n",
    "    c = len(out_grams)\n",
    "    r = len(ref_grams)\n",
    "    b_p = 1 if c>r else math.exp(1-r/c)\n",
    "    \n",
    "    return b_p*b_score\n",
    "    "
   ]
  },
  {
   "cell_type": "code",
   "execution_count": 113,
   "metadata": {},
   "outputs": [
    {
     "data": {
      "text/plain": [
       "0.5321428571428571"
      ]
     },
     "execution_count": 113,
     "metadata": {},
     "output_type": "execute_result"
    }
   ],
   "source": [
    "BLEU('the cat the cat on the mat','the cat is on the mat')"
   ]
  }
 ],
 "metadata": {
  "kernelspec": {
   "display_name": "Python 3",
   "language": "python",
   "name": "python3"
  },
  "language_info": {
   "codemirror_mode": {
    "name": "ipython",
    "version": 3
   },
   "file_extension": ".py",
   "mimetype": "text/x-python",
   "name": "python",
   "nbconvert_exporter": "python",
   "pygments_lexer": "ipython3",
   "version": "3.7.4"
  }
 },
 "nbformat": 4,
 "nbformat_minor": 2
}
