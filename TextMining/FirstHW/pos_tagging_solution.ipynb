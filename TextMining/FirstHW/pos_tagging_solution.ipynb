{
 "cells": [
  {
   "cell_type": "markdown",
   "metadata": {},
   "source": [
    "# Part of Speech tagging\n",
    "\n",
    "Authors:\n",
    "* Konstantin Taranov (exercise code and descriptions)\n",
    "* Ondrej Skopek (rewrite to a Jupyter Notebook)"
   ]
  },
  {
   "cell_type": "markdown",
   "metadata": {},
   "source": [
    "## Imports and visualization functions"
   ]
  },
  {
   "cell_type": "code",
   "execution_count": 1,
   "metadata": {},
   "outputs": [
    {
     "name": "stdout",
     "output_type": "stream",
     "text": [
      "Requirement already satisfied: nltk in c:\\users\\wangr\\appdata\\roaming\\python\\python37\\site-packages (3.4.5)\n",
      "Requirement already satisfied: numpy in d:\\python_conda\\lib\\site-packages (1.16.5)\n",
      "Requirement already satisfied: tabulate in c:\\users\\wangr\\appdata\\roaming\\python\\python37\\site-packages (0.8.5)\n",
      "Requirement already satisfied: six in c:\\users\\wangr\\appdata\\roaming\\python\\python37\\site-packages (from nltk) (1.12.0)\n"
     ]
    }
   ],
   "source": [
    "# Install the libraries if not already on your system:\n",
    "\n",
    "# Without virtualenv:\n",
    "!pip install --user nltk numpy tabulate\n",
    "\n",
    "# In a virtualenv:\n",
    "# !pip install nltk numpy tabulate  "
   ]
  },
  {
   "cell_type": "code",
   "execution_count": 2,
   "metadata": {},
   "outputs": [
    {
     "name": "stderr",
     "output_type": "stream",
     "text": [
      "[nltk_data] Downloading package punkt to\n",
      "[nltk_data]     C:\\Users\\wangr\\AppData\\Roaming\\nltk_data...\n",
      "[nltk_data]   Package punkt is already up-to-date!\n",
      "[nltk_data] Downloading package averaged_perceptron_tagger to\n",
      "[nltk_data]     C:\\Users\\wangr\\AppData\\Roaming\\nltk_data...\n",
      "[nltk_data]   Package averaged_perceptron_tagger is already up-to-\n",
      "[nltk_data]       date!\n",
      "[nltk_data] Downloading package universal_tagset to\n",
      "[nltk_data]     C:\\Users\\wangr\\AppData\\Roaming\\nltk_data...\n",
      "[nltk_data]   Package universal_tagset is already up-to-date!\n",
      "[nltk_data] Downloading package tagsets to\n",
      "[nltk_data]     C:\\Users\\wangr\\AppData\\Roaming\\nltk_data...\n",
      "[nltk_data]   Package tagsets is already up-to-date!\n"
     ]
    }
   ],
   "source": [
    "import nltk\n",
    "import numpy as np\n",
    "import ssl\n",
    "\n",
    "# Solves the problem with SSL certificates while downloading nltk packets\n",
    "try:\n",
    "    _create_unverified_https_context = ssl._create_unverified_context\n",
    "except AttributeError:\n",
    "    pass\n",
    "else:\n",
    "    ssl._create_default_https_context = _create_unverified_https_context\n",
    "\n",
    "nltk.download('punkt')\n",
    "nltk.download('averaged_perceptron_tagger')\n",
    "nltk.download('universal_tagset')\n",
    "nltk.download('tagsets')\n",
    "\n",
    "from IPython.display import HTML, display, Markdown\n",
    "import tabulate\n",
    "\n",
    "def md(*md):\n",
    "    \"\"\"Displays rendered Markdown.\"\"\"\n",
    "    display(Markdown(\" \".join(map(str, md))))\n",
    "\n",
    "def show_tags(tags):\n",
    "    \"\"\"Displays an HTML table for a tagged sentence.\"\"\"\n",
    "    tags = list(map(list, zip(*tags)))\n",
    "    display(HTML(tabulate.tabulate(tags, tablefmt='html')))\n",
    "    \n",
    "def show_viterbi(viterbi, tags, sentence, t):\n",
    "    \"\"\"Displays an HTML table for a Viterbi matrix.\"\"\"\n",
    "    md(\"#### Viterbi probabilities at time $t = {}$\".format(t))\n",
    "    viterbi = viterbi.tolist()\n",
    "    for tag_idx, row in enumerate(viterbi):\n",
    "        new_row = [tags[tag_idx]]\n",
    "        for sent_idx, element in enumerate(row):\n",
    "            new_row.append(\"0\" if element == 0 else \"{:.2e}\".format(element))\n",
    "        viterbi[tag_idx] = new_row\n",
    "    viterbi.insert(0, [\"\"] + sentence)\n",
    "    \n",
    "    display(HTML(tabulate.tabulate(viterbi, tablefmt='html')))"
   ]
  },
  {
   "cell_type": "markdown",
   "metadata": {},
   "source": [
    "## PoS tagging\n",
    "\n",
    "PoS tagging is the process of tagging a word in a text where the tag is a particular part of speech mark.\n",
    "\n",
    "The 12 universal tags are:\n",
    "\n",
    "* `VERB` - verbs (all tenses and modes)\n",
    "* `NOUN` - nouns (common and proper)\n",
    "* `PRON` - pronouns\n",
    "* `ADJ` - adjectives\n",
    "* `ADV` - adverbs\n",
    "* `ADP` - adpositions (prepositions and postpositions)\n",
    "* `CONJ` - conjunctions\n",
    "* `DET` - determiners\n",
    "* `NUM` - cardinal numbers\n",
    "* `PRT` - particles or other function words\n",
    "* `X` - other: foreign words, typos, abbreviations\n",
    "* `.` - punctuation\n",
    "\n",
    "### Examples of tagging:"
   ]
  },
  {
   "cell_type": "code",
   "execution_count": 3,
   "metadata": {},
   "outputs": [
    {
     "data": {
      "text/html": [
       "<table>\n",
       "<tbody>\n",
       "<tr><td>ETH </td><td>is  </td><td>the</td><td>best</td><td>university</td><td>in </td><td>the</td><td>world</td><td>.</td></tr>\n",
       "<tr><td>NOUN</td><td>VERB</td><td>DET</td><td>ADJ </td><td>NOUN      </td><td>ADP</td><td>DET</td><td>NOUN </td><td>.</td></tr>\n",
       "</tbody>\n",
       "</table>"
      ],
      "text/plain": [
       "<IPython.core.display.HTML object>"
      ]
     },
     "metadata": {},
     "output_type": "display_data"
    }
   ],
   "source": [
    "text = nltk.word_tokenize(\"ETH is the best university in the world.\")\n",
    "tags = nltk.pos_tag(text,tagset='universal')\n",
    "show_tags(tags)"
   ]
  },
  {
   "cell_type": "code",
   "execution_count": 4,
   "metadata": {},
   "outputs": [
    {
     "data": {
      "text/html": [
       "<table>\n",
       "<tbody>\n",
       "<tr><td>Dogs</td><td>are </td><td>animals</td><td>.</td></tr>\n",
       "<tr><td>NOUN</td><td>VERB</td><td>NOUN   </td><td>.</td></tr>\n",
       "</tbody>\n",
       "</table>"
      ],
      "text/plain": [
       "<IPython.core.display.HTML object>"
      ]
     },
     "metadata": {},
     "output_type": "display_data"
    }
   ],
   "source": [
    "text = nltk.word_tokenize(\"Dogs are animals.\")\n",
    "tags = nltk.pos_tag(text,tagset='universal')\n",
    "show_tags(tags)"
   ]
  },
  {
   "cell_type": "markdown",
   "metadata": {},
   "source": [
    "## Implementing your own PoS tagger\n",
    "\n",
    "In this exercise, you should implement your own PoS tagger using a Hidden Markov Model."
   ]
  },
  {
   "cell_type": "markdown",
   "metadata": {},
   "source": [
    "For learning your model the following Tagged Corpora can be used:"
   ]
  },
  {
   "cell_type": "code",
   "execution_count": 5,
   "metadata": {},
   "outputs": [
    {
     "name": "stderr",
     "output_type": "stream",
     "text": [
      "[nltk_data] Downloading package brown to\n",
      "[nltk_data]     C:\\Users\\wangr\\AppData\\Roaming\\nltk_data...\n",
      "[nltk_data]   Package brown is already up-to-date!\n"
     ]
    }
   ],
   "source": [
    "# nltk.download('treebank')\n",
    "#from nltk.corpus import treebank as corpus\n",
    "\n",
    "nltk.download('brown')\n",
    "from nltk.corpus import brown as corpus"
   ]
  },
  {
   "cell_type": "markdown",
   "metadata": {},
   "source": [
    "First, we add an artificial `START` and `END` tag at the beginning and end of each sentence."
   ]
  },
  {
   "cell_type": "code",
   "execution_count": 6,
   "metadata": {},
   "outputs": [],
   "source": [
    "tagged_words = []\n",
    "all_tags = []\n",
    "\n",
    "for sent in corpus.tagged_sents(tagset='universal'):\n",
    "    tagged_words.append((\"START\", \"START\"))\n",
    "    all_tags.append(\"START\")\n",
    "    for word, tag in sent:\n",
    "        all_tags.append(tag)\n",
    "        tagged_words.append((tag, word))\n",
    "    tagged_words.append((\"END\", \"END\"))\n",
    "    all_tags.append(\"END\")"
   ]
  },
  {
   "cell_type": "markdown",
   "metadata": {},
   "source": [
    "### Estimating probabilities\n",
    "For the Viterbi algorithm we need to compute:\n",
    "\n",
    "1. The maximum likelihood estimate of a transition probability\n",
    "\n",
    "$$P(t_{i} | t_{i-1}) = \\frac{C(t_{i-1}, t_{i})}{C(t_{i-1})}$$\n",
    "\n",
    "2. Emission probabilities\n",
    "\n",
    "$$P(w_{i} | t_{i}) =  \\frac{C(t_{i}, w_{i})}{C(t_{i})}$$"
   ]
  },
  {
   "cell_type": "markdown",
   "metadata": {},
   "source": [
    "#### Transitions"
   ]
  },
  {
   "cell_type": "markdown",
   "metadata": {},
   "source": [
    "Compute $C(t_{i-1}, t_{i})$"
   ]
  },
  {
   "cell_type": "code",
   "execution_count": 7,
   "metadata": {},
   "outputs": [],
   "source": [
    "cfd_tags= nltk.ConditionalFreqDist(nltk.bigrams(all_tags))"
   ]
  },
  {
   "cell_type": "markdown",
   "metadata": {},
   "source": [
    "Transition probabilities $P(t_{i} | t_{i-1})$"
   ]
  },
  {
   "cell_type": "code",
   "execution_count": 8,
   "metadata": {},
   "outputs": [],
   "source": [
    "cpd_tags = nltk.ConditionalProbDist(cfd_tags, nltk.MLEProbDist)"
   ]
  },
  {
   "cell_type": "markdown",
   "metadata": {},
   "source": [
    "##### Examples"
   ]
  },
  {
   "cell_type": "code",
   "execution_count": 9,
   "metadata": {
    "scrolled": true
   },
   "outputs": [
    {
     "name": "stdout",
     "output_type": "stream",
     "text": [
      "Frequency of C('DET', 'NOUN') is 85838\n",
      "Probability of P('NOUN' | 'DET') is 0.6264678621213117\n"
     ]
    }
   ],
   "source": [
    "# C('DET', 'NOUN'):\n",
    "print(\"Frequency of C('DET', 'NOUN') is\",\n",
    "      cfd_tags['DET']['NOUN'] )\n",
    "\n",
    "# P('NOUN' | 'DET')\n",
    "print(\"Probability of P('NOUN' | 'DET') is\",\n",
    "      cpd_tags['DET'].prob('NOUN') )"
   ]
  },
  {
   "cell_type": "markdown",
   "metadata": {},
   "source": [
    "#### Emmision"
   ]
  },
  {
   "cell_type": "markdown",
   "metadata": {},
   "source": [
    "Compute $C(t_{i}, w_{i})$"
   ]
  },
  {
   "cell_type": "code",
   "execution_count": 10,
   "metadata": {},
   "outputs": [],
   "source": [
    "cfd_tagwords = nltk.ConditionalFreqDist(tagged_words)"
   ]
  },
  {
   "cell_type": "markdown",
   "metadata": {},
   "source": [
    "Emission probabilities $P(w_{i} | t_{i})$"
   ]
  },
  {
   "cell_type": "code",
   "execution_count": 11,
   "metadata": {},
   "outputs": [],
   "source": [
    "cpd_tagwords = nltk.ConditionalProbDist(cfd_tagwords, nltk.MLEProbDist)"
   ]
  },
  {
   "cell_type": "markdown",
   "metadata": {},
   "source": [
    "##### Examples"
   ]
  },
  {
   "cell_type": "code",
   "execution_count": 12,
   "metadata": {},
   "outputs": [
    {
     "name": "stdout",
     "output_type": "stream",
     "text": [
      "Frequency of C('DET', 'the') is 62710\n",
      "Probability of P('the' | 'DET') is 0.45767375327509324\n"
     ]
    }
   ],
   "source": [
    "# C('DET', 'NOUN'):\n",
    "print(\"Frequency of C('DET', 'the') is\",\n",
    "      cfd_tagwords['DET']['the'])\n",
    "\n",
    "# P('the' | 'DET')\n",
    "print(\"Probability of P('the' | 'DET') is\",\n",
    "      cpd_tagwords['DET'].prob('the') )"
   ]
  },
  {
   "cell_type": "markdown",
   "metadata": {},
   "source": [
    "### Task 1 (Joint probability)\n",
    "\n",
    "Estimate the joint probability $P(t^{n}, w^{n})$ of the tag sequence `NOUN VERB VERB .` for the word sequence `birds can fly .` \n",
    "using the transition and emission probabilities estimated above.\n",
    "\n",
    "Bonus: Implement the task in both raw probabilities and log probabilities."
   ]
  },
  {
   "cell_type": "markdown",
   "metadata": {},
   "source": [
    "#### Task 1: Code"
   ]
  },
  {
   "cell_type": "code",
   "execution_count": 13,
   "metadata": {},
   "outputs": [],
   "source": [
    "# TODO: YOUR CODE HERE"
   ]
  },
  {
   "cell_type": "markdown",
   "metadata": {},
   "source": [
    "#### Task 1: Solution\n",
    "\n",
    "We solve the task using direct probabilities and also in the $\\log$ space, which enables us to do summation instead of products (better numerical properties)."
   ]
  },
  {
   "cell_type": "code",
   "execution_count": 14,
   "metadata": {},
   "outputs": [
    {
     "data": {
      "text/markdown": [
       "The probability of the tag sequence `NOUN VERB VERB .`     for `birds can fly .` is: 6.5932971745681245e-15"
      ],
      "text/plain": [
       "<IPython.core.display.Markdown object>"
      ]
     },
     "metadata": {},
     "output_type": "display_data"
    }
   ],
   "source": [
    "prob_tagsequence = \\\n",
    "  cpd_tags[\"START\"].prob(\"NOUN\")  * cpd_tagwords[\"NOUN\"].prob(\"birds\") * \\\n",
    "  cpd_tags[\"NOUN\"].prob(\"VERB\")   * cpd_tagwords[\"VERB\"].prob(\"can\") * \\\n",
    "  cpd_tags[\"VERB\"].prob(\"VERB\")   * cpd_tagwords[\"VERB\"].prob(\"fly\") * \\\n",
    "  cpd_tags[\"VERB\"].prob(\".\")      * cpd_tagwords[\".\"].prob(\".\") * \\\n",
    "  cpd_tags[\".\"].prob(\"END\")\n",
    "\n",
    "md(\"The probability of the tag sequence `NOUN VERB VERB .` \\\n",
    "    for `birds can fly .` is:\", prob_tagsequence)"
   ]
  },
  {
   "cell_type": "code",
   "execution_count": 15,
   "metadata": {},
   "outputs": [
    {
     "data": {
      "text/markdown": [
       "The log probability of the tag sequence `NOUN VERB VERB .`     for `birds can fly .` is: -32.65272284153959"
      ],
      "text/plain": [
       "<IPython.core.display.Markdown object>"
      ]
     },
     "metadata": {},
     "output_type": "display_data"
    },
    {
     "data": {
      "text/markdown": [
       "The probability of the tag sequence `NOUN VERB VERB .`     for `birds can fly .` is: 6.59329717456812e-15"
      ],
      "text/plain": [
       "<IPython.core.display.Markdown object>"
      ]
     },
     "metadata": {},
     "output_type": "display_data"
    }
   ],
   "source": [
    "log_prob_tagsequence = \\\n",
    "  np.log(cpd_tags[\"START\"].prob(\"NOUN\"))  + np.log(cpd_tagwords[\"NOUN\"].prob(\"birds\"))  +\\\n",
    "  np.log(cpd_tags[\"NOUN\"].prob(\"VERB\"))  + np.log(cpd_tagwords[\"VERB\"].prob(\"can\"))  +\\\n",
    "  np.log(cpd_tags[\"VERB\"].prob(\"VERB\"))  + np.log(cpd_tagwords[\"VERB\"].prob(\"fly\"))  + \\\n",
    "  np.log(cpd_tags[\"VERB\"].prob(\".\"))  + np.log(cpd_tagwords[\".\"].prob(\".\"))  + \\\n",
    "  np.log(cpd_tags[\".\"].prob(\"END\") )\n",
    "\n",
    "md(\"The log probability of the tag sequence `NOUN VERB VERB .` \\\n",
    "    for `birds can fly .` is:\", log_prob_tagsequence)\n",
    "md(\"The probability of the tag sequence `NOUN VERB VERB .` \\\n",
    "    for `birds can fly .` is:\", np.exp(log_prob_tagsequence))"
   ]
  },
  {
   "cell_type": "markdown",
   "metadata": {},
   "source": [
    "### Task 2 (Viterbi algorithm)\n",
    "\n",
    "Implement the Viterbi algorithm for PoS tagging.\n",
    "\n",
    "Bonus: Implement the task in both raw probabilities and log probabilities."
   ]
  },
  {
   "cell_type": "markdown",
   "metadata": {},
   "source": [
    "#### Code"
   ]
  },
  {
   "cell_type": "code",
   "execution_count": 16,
   "metadata": {},
   "outputs": [],
   "source": [
    "def viterbi(sentence, log_prob=False):\n",
    "    # Step 1. Initialization step.\n",
    "    # TODO: YOUR CODE HERE\n",
    "\n",
    "    # Step 2. Recursion step.\n",
    "    # TODO: YOUR CODE HERE\n",
    "\n",
    "    # Step 3. Termination step.\n",
    "    # TODO: YOUR CODE HERE\n",
    "\n",
    "    # Step 4. Backtrace the path.\n",
    "    # TODO: YOUR CODE HERE\n",
    "\n",
    "    return best_tagsequence, prob_tagsequence"
   ]
  },
  {
   "cell_type": "markdown",
   "metadata": {},
   "source": [
    "#### Solution"
   ]
  },
  {
   "cell_type": "code",
   "execution_count": 17,
   "metadata": {},
   "outputs": [],
   "source": [
    "def viterbi(sentence, log_prob=False):\n",
    "    # Step 1. Initialization step.\n",
    "    sentlen = len(sentence)\n",
    "    distinct_tags = np.array(list(set(all_tags)))\n",
    "    tagslen = len(distinct_tags)\n",
    "\n",
    "    # Initialize the viterbi and backpointer matrices.\n",
    "    viterbi = np.zeros((tagslen, sentlen + 1), dtype=np.float64)\n",
    "    backpointer = np.zeros((tagslen, sentlen + 1), dtype=np.uint32)\n",
    "    \n",
    "    for s, tag in enumerate(distinct_tags):\n",
    "        if log_prob:\n",
    "            viterbi[s, 0] =  np.log(cpd_tags[\"START\"].prob(tag)) \\\n",
    "                + np.log(cpd_tagwords[tag].prob(sentence[0]))\n",
    "        else:\n",
    "            viterbi[s, 0] =  cpd_tags[\"START\"].prob(tag) \\\n",
    "                * cpd_tagwords[tag].prob(sentence[0])\n",
    "\n",
    "        backpointer[s, 0] = 0\n",
    "    show_viterbi(viterbi, distinct_tags, sentence, t=0)\n",
    "        \n",
    "\n",
    "    # Step 2. Recursion step.\n",
    "    for t in range(1, sentlen):\n",
    "        for s, tag in enumerate(distinct_tags):\n",
    "            current_viterbi = np.zeros(tagslen ,dtype=np.float64)\n",
    "            for sprime, predtag in enumerate(distinct_tags):\n",
    "                if log_prob:\n",
    "                    current_viterbi[sprime] = viterbi[sprime, t - 1] + \\\n",
    "                                              np.log(cpd_tags[predtag].prob(tag)) + \\\n",
    "                                              np.log(cpd_tagwords[tag].prob(sentence[t]))\n",
    "                else:\n",
    "                    current_viterbi[sprime] = viterbi[sprime, t - 1] * \\\n",
    "                                              cpd_tags[predtag].prob(tag) * \\\n",
    "                                              cpd_tagwords[tag].prob(sentence[t])\n",
    "            backpointer[s, t] = np.argmax(current_viterbi)\n",
    "            viterbi[s, t] = max(current_viterbi)\n",
    "        show_viterbi(viterbi, distinct_tags, sentence, t=t)\n",
    "\n",
    "\n",
    "    # Step 3. Termination step.\n",
    "    current_viterbi = np.empty(tagslen, dtype=np.float64)\n",
    "    ind_of_end = -1\n",
    "    for s, tag in enumerate(distinct_tags):\n",
    "        if tag == \"END\":\n",
    "            ind_of_end = s\n",
    "        if log_prob:\n",
    "            current_viterbi[s] = viterbi[s, sentlen - 1] + np.log(cpd_tags[tag].prob(\"END\"))\n",
    "        else:\n",
    "            current_viterbi[s] = viterbi[s, sentlen - 1] * cpd_tags[tag].prob(\"END\")\n",
    "\n",
    "    backpointer[ind_of_end, sentlen] = np.argmax(current_viterbi)\n",
    "    viterbi[ind_of_end, sentlen] = max(current_viterbi)\n",
    "    show_viterbi(viterbi, distinct_tags, sentence, t=sentlen)\n",
    "\n",
    "    # Step 4. Backtrace the path.\n",
    "    best_tagsequence = []\n",
    "    prob_tagsequence = viterbi[ind_of_end, sentlen]\n",
    "    prev_ind  = ind_of_end\n",
    "    for t in range(sentlen, 0, -1):\n",
    "        prev_ind = backpointer[prev_ind, t]\n",
    "        best_tagsequence.append(distinct_tags[prev_ind])\n",
    "    best_tagsequence.reverse()\n",
    "\n",
    "    return best_tagsequence, prob_tagsequence"
   ]
  },
  {
   "cell_type": "markdown",
   "metadata": {},
   "source": [
    "### Task 3\n",
    "\n",
    "Using your HMM, try to tag the sentences below. Then, answer the following questions:\n",
    "* Why does it fail to predict tags for the sentence about ETH?\n",
    "  * Could it just have mislabeled the sentence because it disagreed with the statement? ;-)"
   ]
  },
  {
   "cell_type": "code",
   "execution_count": 18,
   "metadata": {},
   "outputs": [
    {
     "data": {
      "text/markdown": [
       "#### Viterbi probabilities at time $t = 0$"
      ],
      "text/plain": [
       "<IPython.core.display.Markdown object>"
      ]
     },
     "metadata": {},
     "output_type": "display_data"
    },
    {
     "data": {
      "text/html": [
       "<table>\n",
       "<tbody>\n",
       "<tr><td>     </td><td>The     </td><td>dog</td><td>is</td><td>mine</td><td>.</td><td style=\"text-align: right;\"> </td></tr>\n",
       "<tr><td>.    </td><td>0       </td><td>0  </td><td>0 </td><td>0   </td><td>0</td><td style=\"text-align: right;\">0</td></tr>\n",
       "<tr><td>NOUN </td><td>0       </td><td>0  </td><td>0 </td><td>0   </td><td>0</td><td style=\"text-align: right;\">0</td></tr>\n",
       "<tr><td>END  </td><td>0       </td><td>0  </td><td>0 </td><td>0   </td><td>0</td><td style=\"text-align: right;\">0</td></tr>\n",
       "<tr><td>DET  </td><td>1.13e-02</td><td>0  </td><td>0 </td><td>0   </td><td>0</td><td style=\"text-align: right;\">0</td></tr>\n",
       "<tr><td>START</td><td>0       </td><td>0  </td><td>0 </td><td>0   </td><td>0</td><td style=\"text-align: right;\">0</td></tr>\n",
       "<tr><td>PRON </td><td>0       </td><td>0  </td><td>0 </td><td>0   </td><td>0</td><td style=\"text-align: right;\">0</td></tr>\n",
       "<tr><td>VERB </td><td>0       </td><td>0  </td><td>0 </td><td>0   </td><td>0</td><td style=\"text-align: right;\">0</td></tr>\n",
       "<tr><td>PRT  </td><td>0       </td><td>0  </td><td>0 </td><td>0   </td><td>0</td><td style=\"text-align: right;\">0</td></tr>\n",
       "<tr><td>ADP  </td><td>0       </td><td>0  </td><td>0 </td><td>0   </td><td>0</td><td style=\"text-align: right;\">0</td></tr>\n",
       "<tr><td>NUM  </td><td>0       </td><td>0  </td><td>0 </td><td>0   </td><td>0</td><td style=\"text-align: right;\">0</td></tr>\n",
       "<tr><td>X    </td><td>0       </td><td>0  </td><td>0 </td><td>0   </td><td>0</td><td style=\"text-align: right;\">0</td></tr>\n",
       "<tr><td>ADV  </td><td>0       </td><td>0  </td><td>0 </td><td>0   </td><td>0</td><td style=\"text-align: right;\">0</td></tr>\n",
       "<tr><td>CONJ </td><td>0       </td><td>0  </td><td>0 </td><td>0   </td><td>0</td><td style=\"text-align: right;\">0</td></tr>\n",
       "<tr><td>ADJ  </td><td>0       </td><td>0  </td><td>0 </td><td>0   </td><td>0</td><td style=\"text-align: right;\">0</td></tr>\n",
       "</tbody>\n",
       "</table>"
      ],
      "text/plain": [
       "<IPython.core.display.HTML object>"
      ]
     },
     "metadata": {},
     "output_type": "display_data"
    },
    {
     "data": {
      "text/markdown": [
       "#### Viterbi probabilities at time $t = 1$"
      ],
      "text/plain": [
       "<IPython.core.display.Markdown object>"
      ]
     },
     "metadata": {},
     "output_type": "display_data"
    },
    {
     "data": {
      "text/html": [
       "<table>\n",
       "<tbody>\n",
       "<tr><td>     </td><td>The     </td><td>dog     </td><td>is</td><td>mine</td><td>.</td><td style=\"text-align: right;\"> </td></tr>\n",
       "<tr><td>.    </td><td>0       </td><td>0       </td><td>0 </td><td>0   </td><td>0</td><td style=\"text-align: right;\">0</td></tr>\n",
       "<tr><td>NOUN </td><td>0       </td><td>1.80e-06</td><td>0 </td><td>0   </td><td>0</td><td style=\"text-align: right;\">0</td></tr>\n",
       "<tr><td>END  </td><td>0       </td><td>0       </td><td>0 </td><td>0   </td><td>0</td><td style=\"text-align: right;\">0</td></tr>\n",
       "<tr><td>DET  </td><td>1.13e-02</td><td>0       </td><td>0 </td><td>0   </td><td>0</td><td style=\"text-align: right;\">0</td></tr>\n",
       "<tr><td>START</td><td>0       </td><td>0       </td><td>0 </td><td>0   </td><td>0</td><td style=\"text-align: right;\">0</td></tr>\n",
       "<tr><td>PRON </td><td>0       </td><td>0       </td><td>0 </td><td>0   </td><td>0</td><td style=\"text-align: right;\">0</td></tr>\n",
       "<tr><td>VERB </td><td>0       </td><td>0       </td><td>0 </td><td>0   </td><td>0</td><td style=\"text-align: right;\">0</td></tr>\n",
       "<tr><td>PRT  </td><td>0       </td><td>0       </td><td>0 </td><td>0   </td><td>0</td><td style=\"text-align: right;\">0</td></tr>\n",
       "<tr><td>ADP  </td><td>0       </td><td>0       </td><td>0 </td><td>0   </td><td>0</td><td style=\"text-align: right;\">0</td></tr>\n",
       "<tr><td>NUM  </td><td>0       </td><td>0       </td><td>0 </td><td>0   </td><td>0</td><td style=\"text-align: right;\">0</td></tr>\n",
       "<tr><td>X    </td><td>0       </td><td>0       </td><td>0 </td><td>0   </td><td>0</td><td style=\"text-align: right;\">0</td></tr>\n",
       "<tr><td>ADV  </td><td>0       </td><td>0       </td><td>0 </td><td>0   </td><td>0</td><td style=\"text-align: right;\">0</td></tr>\n",
       "<tr><td>CONJ </td><td>0       </td><td>0       </td><td>0 </td><td>0   </td><td>0</td><td style=\"text-align: right;\">0</td></tr>\n",
       "<tr><td>ADJ  </td><td>0       </td><td>0       </td><td>0 </td><td>0   </td><td>0</td><td style=\"text-align: right;\">0</td></tr>\n",
       "</tbody>\n",
       "</table>"
      ],
      "text/plain": [
       "<IPython.core.display.HTML object>"
      ]
     },
     "metadata": {},
     "output_type": "display_data"
    },
    {
     "data": {
      "text/markdown": [
       "#### Viterbi probabilities at time $t = 2$"
      ],
      "text/plain": [
       "<IPython.core.display.Markdown object>"
      ]
     },
     "metadata": {},
     "output_type": "display_data"
    },
    {
     "data": {
      "text/html": [
       "<table>\n",
       "<tbody>\n",
       "<tr><td>     </td><td>The     </td><td>dog     </td><td>is      </td><td>mine</td><td>.</td><td style=\"text-align: right;\"> </td></tr>\n",
       "<tr><td>.    </td><td>0       </td><td>0       </td><td>0       </td><td>0   </td><td>0</td><td style=\"text-align: right;\">0</td></tr>\n",
       "<tr><td>NOUN </td><td>0       </td><td>1.80e-06</td><td>0       </td><td>0   </td><td>0</td><td style=\"text-align: right;\">0</td></tr>\n",
       "<tr><td>END  </td><td>0       </td><td>0       </td><td>0       </td><td>0   </td><td>0</td><td style=\"text-align: right;\">0</td></tr>\n",
       "<tr><td>DET  </td><td>1.13e-02</td><td>0       </td><td>0       </td><td>0   </td><td>0</td><td style=\"text-align: right;\">0</td></tr>\n",
       "<tr><td>START</td><td>0       </td><td>0       </td><td>0       </td><td>0   </td><td>0</td><td style=\"text-align: right;\">0</td></tr>\n",
       "<tr><td>PRON </td><td>0       </td><td>0       </td><td>0       </td><td>0   </td><td>0</td><td style=\"text-align: right;\">0</td></tr>\n",
       "<tr><td>VERB </td><td>0       </td><td>0       </td><td>1.57e-08</td><td>0   </td><td>0</td><td style=\"text-align: right;\">0</td></tr>\n",
       "<tr><td>PRT  </td><td>0       </td><td>0       </td><td>0       </td><td>0   </td><td>0</td><td style=\"text-align: right;\">0</td></tr>\n",
       "<tr><td>ADP  </td><td>0       </td><td>0       </td><td>0       </td><td>0   </td><td>0</td><td style=\"text-align: right;\">0</td></tr>\n",
       "<tr><td>NUM  </td><td>0       </td><td>0       </td><td>0       </td><td>0   </td><td>0</td><td style=\"text-align: right;\">0</td></tr>\n",
       "<tr><td>X    </td><td>0       </td><td>0       </td><td>4.33e-13</td><td>0   </td><td>0</td><td style=\"text-align: right;\">0</td></tr>\n",
       "<tr><td>ADV  </td><td>0       </td><td>0       </td><td>0       </td><td>0   </td><td>0</td><td style=\"text-align: right;\">0</td></tr>\n",
       "<tr><td>CONJ </td><td>0       </td><td>0       </td><td>0       </td><td>0   </td><td>0</td><td style=\"text-align: right;\">0</td></tr>\n",
       "<tr><td>ADJ  </td><td>0       </td><td>0       </td><td>0       </td><td>0   </td><td>0</td><td style=\"text-align: right;\">0</td></tr>\n",
       "</tbody>\n",
       "</table>"
      ],
      "text/plain": [
       "<IPython.core.display.HTML object>"
      ]
     },
     "metadata": {},
     "output_type": "display_data"
    },
    {
     "data": {
      "text/markdown": [
       "#### Viterbi probabilities at time $t = 3$"
      ],
      "text/plain": [
       "<IPython.core.display.Markdown object>"
      ]
     },
     "metadata": {},
     "output_type": "display_data"
    },
    {
     "data": {
      "text/html": [
       "<table>\n",
       "<tbody>\n",
       "<tr><td>     </td><td>The     </td><td>dog     </td><td>is      </td><td>mine    </td><td>.</td><td style=\"text-align: right;\"> </td></tr>\n",
       "<tr><td>.    </td><td>0       </td><td>0       </td><td>0       </td><td>0       </td><td>0</td><td style=\"text-align: right;\">0</td></tr>\n",
       "<tr><td>NOUN </td><td>0       </td><td>1.80e-06</td><td>0       </td><td>9.97e-14</td><td>0</td><td style=\"text-align: right;\">0</td></tr>\n",
       "<tr><td>END  </td><td>0       </td><td>0       </td><td>0       </td><td>0       </td><td>0</td><td style=\"text-align: right;\">0</td></tr>\n",
       "<tr><td>DET  </td><td>1.13e-02</td><td>0       </td><td>0       </td><td>1.86e-14</td><td>0</td><td style=\"text-align: right;\">0</td></tr>\n",
       "<tr><td>START</td><td>0       </td><td>0       </td><td>0       </td><td>0       </td><td>0</td><td style=\"text-align: right;\">0</td></tr>\n",
       "<tr><td>PRON </td><td>0       </td><td>0       </td><td>0       </td><td>6.29e-13</td><td>0</td><td style=\"text-align: right;\">0</td></tr>\n",
       "<tr><td>VERB </td><td>0       </td><td>0       </td><td>1.57e-08</td><td>0       </td><td>0</td><td style=\"text-align: right;\">0</td></tr>\n",
       "<tr><td>PRT  </td><td>0       </td><td>0       </td><td>0       </td><td>0       </td><td>0</td><td style=\"text-align: right;\">0</td></tr>\n",
       "<tr><td>ADP  </td><td>0       </td><td>0       </td><td>0       </td><td>0       </td><td>0</td><td style=\"text-align: right;\">0</td></tr>\n",
       "<tr><td>NUM  </td><td>0       </td><td>0       </td><td>0       </td><td>0       </td><td>0</td><td style=\"text-align: right;\">0</td></tr>\n",
       "<tr><td>X    </td><td>0       </td><td>0       </td><td>4.33e-13</td><td>0       </td><td>0</td><td style=\"text-align: right;\">0</td></tr>\n",
       "<tr><td>ADV  </td><td>0       </td><td>0       </td><td>0       </td><td>0       </td><td>0</td><td style=\"text-align: right;\">0</td></tr>\n",
       "<tr><td>CONJ </td><td>0       </td><td>0       </td><td>0       </td><td>0       </td><td>0</td><td style=\"text-align: right;\">0</td></tr>\n",
       "<tr><td>ADJ  </td><td>0       </td><td>0       </td><td>0       </td><td>0       </td><td>0</td><td style=\"text-align: right;\">0</td></tr>\n",
       "</tbody>\n",
       "</table>"
      ],
      "text/plain": [
       "<IPython.core.display.HTML object>"
      ]
     },
     "metadata": {},
     "output_type": "display_data"
    },
    {
     "data": {
      "text/markdown": [
       "#### Viterbi probabilities at time $t = 4$"
      ],
      "text/plain": [
       "<IPython.core.display.Markdown object>"
      ]
     },
     "metadata": {},
     "output_type": "display_data"
    },
    {
     "data": {
      "text/html": [
       "<table>\n",
       "<tbody>\n",
       "<tr><td>     </td><td>The     </td><td>dog     </td><td>is      </td><td>mine    </td><td>.       </td><td style=\"text-align: right;\"> </td></tr>\n",
       "<tr><td>.    </td><td>0       </td><td>0       </td><td>0       </td><td>0       </td><td>2.18e-14</td><td style=\"text-align: right;\">0</td></tr>\n",
       "<tr><td>NOUN </td><td>0       </td><td>1.80e-06</td><td>0       </td><td>9.97e-14</td><td>0       </td><td style=\"text-align: right;\">0</td></tr>\n",
       "<tr><td>END  </td><td>0       </td><td>0       </td><td>0       </td><td>0       </td><td>0       </td><td style=\"text-align: right;\">0</td></tr>\n",
       "<tr><td>DET  </td><td>1.13e-02</td><td>0       </td><td>0       </td><td>1.86e-14</td><td>0       </td><td style=\"text-align: right;\">0</td></tr>\n",
       "<tr><td>START</td><td>0       </td><td>0       </td><td>0       </td><td>0       </td><td>0       </td><td style=\"text-align: right;\">0</td></tr>\n",
       "<tr><td>PRON </td><td>0       </td><td>0       </td><td>0       </td><td>6.29e-13</td><td>0       </td><td style=\"text-align: right;\">0</td></tr>\n",
       "<tr><td>VERB </td><td>0       </td><td>0       </td><td>1.57e-08</td><td>0       </td><td>0       </td><td style=\"text-align: right;\">0</td></tr>\n",
       "<tr><td>PRT  </td><td>0       </td><td>0       </td><td>0       </td><td>0       </td><td>0       </td><td style=\"text-align: right;\">0</td></tr>\n",
       "<tr><td>ADP  </td><td>0       </td><td>0       </td><td>0       </td><td>0       </td><td>0       </td><td style=\"text-align: right;\">0</td></tr>\n",
       "<tr><td>NUM  </td><td>0       </td><td>0       </td><td>0       </td><td>0       </td><td>0       </td><td style=\"text-align: right;\">0</td></tr>\n",
       "<tr><td>X    </td><td>0       </td><td>0       </td><td>4.33e-13</td><td>0       </td><td>0       </td><td style=\"text-align: right;\">0</td></tr>\n",
       "<tr><td>ADV  </td><td>0       </td><td>0       </td><td>0       </td><td>0       </td><td>0       </td><td style=\"text-align: right;\">0</td></tr>\n",
       "<tr><td>CONJ </td><td>0       </td><td>0       </td><td>0       </td><td>0       </td><td>0       </td><td style=\"text-align: right;\">0</td></tr>\n",
       "<tr><td>ADJ  </td><td>0       </td><td>0       </td><td>0       </td><td>0       </td><td>0       </td><td style=\"text-align: right;\">0</td></tr>\n",
       "</tbody>\n",
       "</table>"
      ],
      "text/plain": [
       "<IPython.core.display.HTML object>"
      ]
     },
     "metadata": {},
     "output_type": "display_data"
    },
    {
     "data": {
      "text/markdown": [
       "#### Viterbi probabilities at time $t = 5$"
      ],
      "text/plain": [
       "<IPython.core.display.Markdown object>"
      ]
     },
     "metadata": {},
     "output_type": "display_data"
    },
    {
     "data": {
      "text/html": [
       "<table>\n",
       "<tbody>\n",
       "<tr><td>     </td><td>The     </td><td>dog     </td><td>is      </td><td>mine    </td><td>.       </td><td style=\"text-align: right;\">        </td></tr>\n",
       "<tr><td>.    </td><td>0       </td><td>0       </td><td>0       </td><td>0       </td><td>2.18e-14</td><td style=\"text-align: right;\">0       </td></tr>\n",
       "<tr><td>NOUN </td><td>0       </td><td>1.80e-06</td><td>0       </td><td>9.97e-14</td><td>0       </td><td style=\"text-align: right;\">0       </td></tr>\n",
       "<tr><td>END  </td><td>0       </td><td>0       </td><td>0       </td><td>0       </td><td>0       </td><td style=\"text-align: right;\">8.29e-15</td></tr>\n",
       "<tr><td>DET  </td><td>1.13e-02</td><td>0       </td><td>0       </td><td>1.86e-14</td><td>0       </td><td style=\"text-align: right;\">0       </td></tr>\n",
       "<tr><td>START</td><td>0       </td><td>0       </td><td>0       </td><td>0       </td><td>0       </td><td style=\"text-align: right;\">0       </td></tr>\n",
       "<tr><td>PRON </td><td>0       </td><td>0       </td><td>0       </td><td>6.29e-13</td><td>0       </td><td style=\"text-align: right;\">0       </td></tr>\n",
       "<tr><td>VERB </td><td>0       </td><td>0       </td><td>1.57e-08</td><td>0       </td><td>0       </td><td style=\"text-align: right;\">0       </td></tr>\n",
       "<tr><td>PRT  </td><td>0       </td><td>0       </td><td>0       </td><td>0       </td><td>0       </td><td style=\"text-align: right;\">0       </td></tr>\n",
       "<tr><td>ADP  </td><td>0       </td><td>0       </td><td>0       </td><td>0       </td><td>0       </td><td style=\"text-align: right;\">0       </td></tr>\n",
       "<tr><td>NUM  </td><td>0       </td><td>0       </td><td>0       </td><td>0       </td><td>0       </td><td style=\"text-align: right;\">0       </td></tr>\n",
       "<tr><td>X    </td><td>0       </td><td>0       </td><td>4.33e-13</td><td>0       </td><td>0       </td><td style=\"text-align: right;\">0       </td></tr>\n",
       "<tr><td>ADV  </td><td>0       </td><td>0       </td><td>0       </td><td>0       </td><td>0       </td><td style=\"text-align: right;\">0       </td></tr>\n",
       "<tr><td>CONJ </td><td>0       </td><td>0       </td><td>0       </td><td>0       </td><td>0       </td><td style=\"text-align: right;\">0       </td></tr>\n",
       "<tr><td>ADJ  </td><td>0       </td><td>0       </td><td>0       </td><td>0       </td><td>0       </td><td style=\"text-align: right;\">0       </td></tr>\n",
       "</tbody>\n",
       "</table>"
      ],
      "text/plain": [
       "<IPython.core.display.HTML object>"
      ]
     },
     "metadata": {},
     "output_type": "display_data"
    },
    {
     "data": {
      "text/html": [
       "<table>\n",
       "<tbody>\n",
       "<tr><td>The</td><td>dog </td><td>is  </td><td>mine</td><td>.</td></tr>\n",
       "<tr><td>DET</td><td>NOUN</td><td>VERB</td><td>PRON</td><td>.</td></tr>\n",
       "</tbody>\n",
       "</table>"
      ],
      "text/plain": [
       "<IPython.core.display.HTML object>"
      ]
     },
     "metadata": {},
     "output_type": "display_data"
    },
    {
     "name": "stdout",
     "output_type": "stream",
     "text": [
      "The probability of the best tag sequence is: 8.294025685357724e-15\n"
     ]
    }
   ],
   "source": [
    "log_prob = False\n",
    "input_sentence = \"The dog is mine.\"\n",
    "# input_sentence = \"Have a nice day.\"\n",
    "# input_sentence = \"ETH is the best university in the world.\"\n",
    "\n",
    "# Tag the sentence.\n",
    "sentence =  nltk.word_tokenize(input_sentence)\n",
    "best_tagsequence, prob_tagsequence = viterbi(sentence, log_prob=log_prob)\n",
    "\n",
    "# Display the tags and the probability.\n",
    "show_tags(zip(sentence, best_tagsequence))\n",
    "prob_tagsequence = np.exp(prob_tagsequence) if log_prob else prob_tagsequence\n",
    "print (\"The probability of the best tag sequence is:\", prob_tagsequence)"
   ]
  },
  {
   "cell_type": "markdown",
   "metadata": {},
   "source": [
    "#### Solution\n",
    "\n",
    "It fails to label the sentence about ETH since ETH is an unknown word and its conditional probability is 0.\n",
    "Check `cpd_tagwords[\"NOUN\"].prob(\"ETH\")`.\n",
    "To work with unknown words, morphological analysis of words should be used."
   ]
  }
 ],
 "metadata": {
  "kernelspec": {
   "display_name": "Python 3",
   "language": "python",
   "name": "python3"
  },
  "language_info": {
   "codemirror_mode": {
    "name": "ipython",
    "version": 3
   },
   "file_extension": ".py",
   "mimetype": "text/x-python",
   "name": "python",
   "nbconvert_exporter": "python",
   "pygments_lexer": "ipython3",
   "version": "3.7.4"
  }
 },
 "nbformat": 4,
 "nbformat_minor": 2
}
