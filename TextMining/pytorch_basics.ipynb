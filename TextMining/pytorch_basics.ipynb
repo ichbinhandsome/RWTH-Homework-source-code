{
 "cells": [
  {
   "cell_type": "code",
   "execution_count": 1,
   "metadata": {},
   "outputs": [],
   "source": [
    "import numpy as np\n",
    "import torch\n",
    "import torch.nn as nn"
   ]
  },
  {
   "cell_type": "markdown",
   "metadata": {},
   "source": [
    "Only understands tensor....."
   ]
  },
  {
   "cell_type": "code",
   "execution_count": 2,
   "metadata": {},
   "outputs": [],
   "source": [
    "a = np.array([1,2,3,4])"
   ]
  },
  {
   "cell_type": "code",
   "execution_count": 3,
   "metadata": {},
   "outputs": [],
   "source": [
    "b = [1,2,3,4]"
   ]
  },
  {
   "cell_type": "code",
   "execution_count": 4,
   "metadata": {},
   "outputs": [],
   "source": [
    "a_t = torch.tensor(a,dtype=torch.long)"
   ]
  },
  {
   "cell_type": "code",
   "execution_count": 5,
   "metadata": {},
   "outputs": [
    {
     "data": {
      "text/plain": [
       "tensor([1, 2, 3, 4])"
      ]
     },
     "execution_count": 5,
     "metadata": {},
     "output_type": "execute_result"
    }
   ],
   "source": [
    "a_t"
   ]
  },
  {
   "cell_type": "code",
   "execution_count": 6,
   "metadata": {},
   "outputs": [],
   "source": [
    "b_t = torch.tensor(b,dtype=torch.long)"
   ]
  },
  {
   "cell_type": "code",
   "execution_count": 7,
   "metadata": {},
   "outputs": [
    {
     "data": {
      "text/plain": [
       "tensor([1, 2, 3, 4])"
      ]
     },
     "execution_count": 7,
     "metadata": {},
     "output_type": "execute_result"
    }
   ],
   "source": [
    "b_t"
   ]
  },
  {
   "cell_type": "code",
   "execution_count": 8,
   "metadata": {},
   "outputs": [
    {
     "data": {
      "text/plain": [
       "array([1, 2, 3, 4], dtype=int64)"
      ]
     },
     "execution_count": 8,
     "metadata": {},
     "output_type": "execute_result"
    }
   ],
   "source": [
    "b_t.numpy()"
   ]
  },
  {
   "cell_type": "markdown",
   "metadata": {},
   "source": [
    "Reshaping tensors..."
   ]
  },
  {
   "cell_type": "code",
   "execution_count": 13,
   "metadata": {},
   "outputs": [
    {
     "data": {
      "text/plain": [
       "torch.Size([3, 4])"
      ]
     },
     "execution_count": 13,
     "metadata": {},
     "output_type": "execute_result"
    }
   ],
   "source": [
    "a = torch.randn(3,4)\n",
    "a.size()"
   ]
  },
  {
   "cell_type": "code",
   "execution_count": 14,
   "metadata": {},
   "outputs": [
    {
     "data": {
      "text/plain": [
       "torch.Size([12, 1])"
      ]
     },
     "execution_count": 14,
     "metadata": {},
     "output_type": "execute_result"
    }
   ],
   "source": [
    "a.view(-1,1).size()"
   ]
  },
  {
   "cell_type": "code",
   "execution_count": 15,
   "metadata": {},
   "outputs": [],
   "source": [
    "b = a.view(1,-1)"
   ]
  },
  {
   "cell_type": "code",
   "execution_count": 16,
   "metadata": {},
   "outputs": [
    {
     "data": {
      "text/plain": [
       "torch.Size([1, 12])"
      ]
     },
     "execution_count": 16,
     "metadata": {},
     "output_type": "execute_result"
    }
   ],
   "source": [
    "b.shape"
   ]
  },
  {
   "cell_type": "code",
   "execution_count": 25,
   "metadata": {},
   "outputs": [
    {
     "data": {
      "text/plain": [
       "torch.Size([12])"
      ]
     },
     "execution_count": 25,
     "metadata": {},
     "output_type": "execute_result"
    }
   ],
   "source": [
    "s = b.squeeze(0)\n",
    "s.shape\n",
    "# b.unsqueeze(0)"
   ]
  },
  {
   "cell_type": "code",
   "execution_count": 29,
   "metadata": {},
   "outputs": [
    {
     "data": {
      "text/plain": [
       "tensor([[ 0.0763, -0.9103,  0.7906, -0.0368],\n",
       "        [-0.3423, -0.5396,  0.3462,  0.8418],\n",
       "        [-0.5109, -0.5894,  0.3872,  0.2229]])"
      ]
     },
     "execution_count": 29,
     "metadata": {},
     "output_type": "execute_result"
    }
   ],
   "source": [
    "n = a.numpy()\n",
    "m = torch.from_numpy(n)\n",
    "m"
   ]
  },
  {
   "cell_type": "markdown",
   "metadata": {},
   "source": [
    "Variables...."
   ]
  },
  {
   "cell_type": "code",
   "execution_count": 30,
   "metadata": {},
   "outputs": [],
   "source": [
    "from torch.autograd import Variable"
   ]
  },
  {
   "cell_type": "code",
   "execution_count": 31,
   "metadata": {},
   "outputs": [],
   "source": [
    "var = Variable(torch.rand(3,4),requires_grad=True)"
   ]
  },
  {
   "cell_type": "code",
   "execution_count": 32,
   "metadata": {},
   "outputs": [
    {
     "data": {
      "text/plain": [
       "tensor([[0.5689, 0.1197, 0.8649, 0.0994],\n",
       "        [0.3705, 0.3497, 0.7421, 0.7109],\n",
       "        [0.9873, 0.8100, 0.0532, 0.2403]], requires_grad=True)"
      ]
     },
     "execution_count": 32,
     "metadata": {},
     "output_type": "execute_result"
    }
   ],
   "source": [
    "var"
   ]
  },
  {
   "cell_type": "code",
   "execution_count": 33,
   "metadata": {},
   "outputs": [],
   "source": [
    "a = torch.ones((3,4),requires_grad=True)"
   ]
  },
  {
   "cell_type": "code",
   "execution_count": 34,
   "metadata": {},
   "outputs": [
    {
     "data": {
      "text/plain": [
       "tensor([[1., 1., 1., 1.],\n",
       "        [1., 1., 1., 1.],\n",
       "        [1., 1., 1., 1.]], requires_grad=True)"
      ]
     },
     "execution_count": 34,
     "metadata": {},
     "output_type": "execute_result"
    }
   ],
   "source": [
    "a"
   ]
  },
  {
   "cell_type": "code",
   "execution_count": 36,
   "metadata": {},
   "outputs": [
    {
     "data": {
      "text/plain": [
       "tensor(17.9170, grad_fn=<SumBackward0>)"
      ]
     },
     "execution_count": 36,
     "metadata": {},
     "output_type": "execute_result"
    }
   ],
   "source": [
    "op = torch.sum(a+var)\n",
    "op"
   ]
  },
  {
   "cell_type": "code",
   "execution_count": 41,
   "metadata": {},
   "outputs": [],
   "source": [
    "op.backward()"
   ]
  },
  {
   "cell_type": "code",
   "execution_count": 42,
   "metadata": {},
   "outputs": [
    {
     "data": {
      "text/plain": [
       "<SumBackward0 at 0x24834e6a9c8>"
      ]
     },
     "execution_count": 42,
     "metadata": {},
     "output_type": "execute_result"
    }
   ],
   "source": [
    "op.grad_fn"
   ]
  },
  {
   "cell_type": "code",
   "execution_count": 43,
   "metadata": {},
   "outputs": [
    {
     "data": {
      "text/plain": [
       "tensor([[5., 5., 5., 5.],\n",
       "        [5., 5., 5., 5.],\n",
       "        [5., 5., 5., 5.]])"
      ]
     },
     "execution_count": 43,
     "metadata": {},
     "output_type": "execute_result"
    }
   ],
   "source": [
    "var.grad"
   ]
  },
  {
   "cell_type": "code",
   "execution_count": 44,
   "metadata": {},
   "outputs": [],
   "source": [
    "b = var.detach()"
   ]
  },
  {
   "cell_type": "code",
   "execution_count": 45,
   "metadata": {},
   "outputs": [
    {
     "data": {
      "text/plain": [
       "False"
      ]
     },
     "execution_count": 45,
     "metadata": {},
     "output_type": "execute_result"
    }
   ],
   "source": [
    "b.requires_grad"
   ]
  },
  {
   "cell_type": "code",
   "execution_count": 46,
   "metadata": {},
   "outputs": [
    {
     "data": {
      "text/plain": [
       "True"
      ]
     },
     "execution_count": 46,
     "metadata": {},
     "output_type": "execute_result"
    }
   ],
   "source": [
    "var.requires_grad"
   ]
  },
  {
   "cell_type": "markdown",
   "metadata": {},
   "source": [
    "Add paramters to a model"
   ]
  },
  {
   "cell_type": "code",
   "execution_count": 43,
   "metadata": {},
   "outputs": [],
   "source": [
    "class Model(nn.Module):\n",
    "    def __init__(self, input_size, hidden_size, output_size):\n",
    "        super(Model,self).__init__()\n",
    "        \n",
    "        self.input_size = input_size\n",
    "        self.hidden_size = hidden_size\n",
    "        self.output_size = output_size\n",
    "\n",
    "        self.W1 = nn.Parameter(torch.randn(self.input_size, self.hidden_size, requires_grad=True))\n",
    "        self.b1 = nn.Parameter(torch.randn(1, self.hidden_size, requires_grad=True))\n",
    "        #self.relu = nn.ReLU()\n",
    "        self.W2 = nn.Parameter(torch.randn(self.hidden_size, self.hidden_size, requires_grad=True))\n",
    "        self.b2 = nn.Parameter(torch.randn(1, self.hidden_size, requires_grad=True))\n",
    "        #self.W3 = nn.Parameter(torch.randn(self.hidden_size, self.output_size, requires_grad=True))\n",
    "        #self.b3 = nn.Parameter(torch.randn(1, self.output_size, requires_grad=True))\n",
    "        #self.softmax = nn.Softmax(dim=1)\n",
    "        \n",
    "    def forward(self, x):\n",
    "        x = x @ self.W1 + self.b1\n",
    "        x = self.relu(x)\n",
    "        # second hidden layer\n",
    "        x = x @ self.W2 + self.b2\n",
    "        x = self.relu(x)\n",
    "        # output layer\n",
    "        x = x @ self.W3 + self.b3 # => logits\n",
    "        x = self.softmax(x)\n",
    "\n",
    "        return x"
   ]
  },
  {
   "cell_type": "code",
   "execution_count": 44,
   "metadata": {},
   "outputs": [],
   "source": [
    "model = Model(25,50,5)"
   ]
  },
  {
   "cell_type": "code",
   "execution_count": 47,
   "metadata": {},
   "outputs": [],
   "source": [
    "inp = torch.randn(4,25)"
   ]
  },
  {
   "cell_type": "code",
   "execution_count": 48,
   "metadata": {},
   "outputs": [
    {
     "data": {
      "text/plain": [
       "tensor([[2.3556e-42, 1.5756e-34, 0.0000e+00, 0.0000e+00, 1.0000e+00],\n",
       "        [0.0000e+00, 0.0000e+00, 0.0000e+00, 0.0000e+00, 1.0000e+00],\n",
       "        [0.0000e+00, 0.0000e+00, 1.0000e+00, 4.3740e-18, 3.8724e-17],\n",
       "        [0.0000e+00, 0.0000e+00, 0.0000e+00, 3.6242e-12, 1.0000e+00]],\n",
       "       grad_fn=<SoftmaxBackward>)"
      ]
     },
     "execution_count": 48,
     "metadata": {},
     "output_type": "execute_result"
    }
   ],
   "source": [
    "model(inp)"
   ]
  },
  {
   "cell_type": "markdown",
   "metadata": {},
   "source": [
    "Dealing with batches..."
   ]
  },
  {
   "cell_type": "code",
   "execution_count": null,
   "metadata": {},
   "outputs": [],
   "source": []
  },
  {
   "cell_type": "code",
   "execution_count": 47,
   "metadata": {},
   "outputs": [],
   "source": [
    "x_seq = torch.tensor([[1, 2, 4, 4], [2, 3, 4 ,0], [2, 3, 0, 0]],dtype=torch.long)\n",
    "x_len = torch.tensor([4,3,2])"
   ]
  },
  {
   "cell_type": "code",
   "execution_count": 48,
   "metadata": {},
   "outputs": [],
   "source": [
    "embedding = nn.Embedding(5, 10, padding_idx=0)"
   ]
  },
  {
   "cell_type": "code",
   "execution_count": 49,
   "metadata": {},
   "outputs": [
    {
     "data": {
      "text/plain": [
       "torch.Size([3, 4])"
      ]
     },
     "execution_count": 49,
     "metadata": {},
     "output_type": "execute_result"
    }
   ],
   "source": [
    "x_seq.shape"
   ]
  },
  {
   "cell_type": "code",
   "execution_count": 50,
   "metadata": {},
   "outputs": [],
   "source": [
    "from torch import nn\n",
    "from torch.nn.utils.rnn import pad_packed_sequence, pack_padded_sequence"
   ]
  },
  {
   "cell_type": "code",
   "execution_count": 53,
   "metadata": {},
   "outputs": [
    {
     "data": {
      "text/plain": [
       "tensor([[[ 0.9177, -1.4231, -0.8122,  1.7667, -1.0171, -1.3062, -1.0722,\n",
       "           0.1679, -0.2207, -0.0051],\n",
       "         [ 3.0232, -0.0281, -0.0244, -1.1532,  0.7851, -0.5970,  1.0270,\n",
       "          -0.3429, -0.2520, -1.2006],\n",
       "         [ 0.4329, -0.1075,  0.6592, -0.5811,  1.4113,  1.6327,  0.3199,\n",
       "           1.3880, -0.7371,  0.1626],\n",
       "         [ 0.4329, -0.1075,  0.6592, -0.5811,  1.4113,  1.6327,  0.3199,\n",
       "           1.3880, -0.7371,  0.1626]],\n",
       "\n",
       "        [[ 3.0232, -0.0281, -0.0244, -1.1532,  0.7851, -0.5970,  1.0270,\n",
       "          -0.3429, -0.2520, -1.2006],\n",
       "         [-0.4264, -1.4731,  0.3802,  1.4937, -0.7627,  0.8810,  0.4608,\n",
       "          -0.1497, -0.3878,  1.2862],\n",
       "         [ 0.4329, -0.1075,  0.6592, -0.5811,  1.4113,  1.6327,  0.3199,\n",
       "           1.3880, -0.7371,  0.1626],\n",
       "         [ 0.0000,  0.0000,  0.0000,  0.0000,  0.0000,  0.0000,  0.0000,\n",
       "           0.0000,  0.0000,  0.0000]],\n",
       "\n",
       "        [[ 3.0232, -0.0281, -0.0244, -1.1532,  0.7851, -0.5970,  1.0270,\n",
       "          -0.3429, -0.2520, -1.2006],\n",
       "         [-0.4264, -1.4731,  0.3802,  1.4937, -0.7627,  0.8810,  0.4608,\n",
       "          -0.1497, -0.3878,  1.2862],\n",
       "         [ 0.0000,  0.0000,  0.0000,  0.0000,  0.0000,  0.0000,  0.0000,\n",
       "           0.0000,  0.0000,  0.0000],\n",
       "         [ 0.0000,  0.0000,  0.0000,  0.0000,  0.0000,  0.0000,  0.0000,\n",
       "           0.0000,  0.0000,  0.0000]]], grad_fn=<EmbeddingBackward>)"
      ]
     },
     "execution_count": 53,
     "metadata": {},
     "output_type": "execute_result"
    }
   ],
   "source": [
    "inp = embedding(x_seq)\n",
    "inp"
   ]
  },
  {
   "cell_type": "code",
   "execution_count": 52,
   "metadata": {},
   "outputs": [
    {
     "data": {
      "text/plain": [
       "torch.Size([3, 4, 10])"
      ]
     },
     "execution_count": 52,
     "metadata": {},
     "output_type": "execute_result"
    }
   ],
   "source": [
    "inp.shape"
   ]
  },
  {
   "cell_type": "code",
   "execution_count": 121,
   "metadata": {},
   "outputs": [
    {
     "data": {
      "text/plain": [
       "tensor([[[ 0.8704, -0.5220,  0.2783,  1.2949,  2.1186, -1.2534,  0.2117,\n",
       "           1.3384, -1.4492,  0.4275],\n",
       "         [ 0.1250,  1.2673, -2.3303,  0.0739, -0.1839, -1.3386,  0.4062,\n",
       "           0.0080,  0.8248, -0.6236],\n",
       "         [ 1.8905, -0.4285,  1.0940,  0.4310, -0.2811, -1.9780,  2.0421,\n",
       "          -0.0735,  0.3303,  0.1926],\n",
       "         [ 1.8905, -0.4285,  1.0940,  0.4310, -0.2811, -1.9780,  2.0421,\n",
       "          -0.0735,  0.3303,  0.1926]],\n",
       "\n",
       "        [[ 0.1250,  1.2673, -2.3303,  0.0739, -0.1839, -1.3386,  0.4062,\n",
       "           0.0080,  0.8248, -0.6236],\n",
       "         [-2.2452,  1.0721, -1.1496, -1.3051,  0.3180, -0.1924, -1.0166,\n",
       "          -0.7855,  0.1190,  0.0629],\n",
       "         [ 1.8905, -0.4285,  1.0940,  0.4310, -0.2811, -1.9780,  2.0421,\n",
       "          -0.0735,  0.3303,  0.1926],\n",
       "         [ 0.0000,  0.0000,  0.0000,  0.0000,  0.0000,  0.0000,  0.0000,\n",
       "           0.0000,  0.0000,  0.0000]],\n",
       "\n",
       "        [[ 0.1250,  1.2673, -2.3303,  0.0739, -0.1839, -1.3386,  0.4062,\n",
       "           0.0080,  0.8248, -0.6236],\n",
       "         [-2.2452,  1.0721, -1.1496, -1.3051,  0.3180, -0.1924, -1.0166,\n",
       "          -0.7855,  0.1190,  0.0629],\n",
       "         [ 0.0000,  0.0000,  0.0000,  0.0000,  0.0000,  0.0000,  0.0000,\n",
       "           0.0000,  0.0000,  0.0000],\n",
       "         [ 0.0000,  0.0000,  0.0000,  0.0000,  0.0000,  0.0000,  0.0000,\n",
       "           0.0000,  0.0000,  0.0000]]], grad_fn=<EmbeddingBackward>)"
      ]
     },
     "execution_count": 121,
     "metadata": {},
     "output_type": "execute_result"
    }
   ],
   "source": [
    "inp"
   ]
  },
  {
   "cell_type": "code",
   "execution_count": 54,
   "metadata": {},
   "outputs": [],
   "source": [
    "x_padded = pack_padded_sequence(inp, x_len, batch_first=True)"
   ]
  },
  {
   "cell_type": "code",
   "execution_count": 55,
   "metadata": {},
   "outputs": [],
   "source": [
    "gru = nn.GRU(10, 10, batch_first=True)"
   ]
  },
  {
   "cell_type": "code",
   "execution_count": 56,
   "metadata": {},
   "outputs": [],
   "source": [
    "hidden = torch.zeros(1, 3, 10)"
   ]
  },
  {
   "cell_type": "code",
   "execution_count": 57,
   "metadata": {},
   "outputs": [],
   "source": [
    "out, hidden = gru(x_padded, hidden)"
   ]
  },
  {
   "cell_type": "code",
   "execution_count": 58,
   "metadata": {},
   "outputs": [],
   "source": [
    "output,len_ = pad_packed_sequence(out, batch_first=True)"
   ]
  },
  {
   "cell_type": "code",
   "execution_count": 59,
   "metadata": {},
   "outputs": [
    {
     "data": {
      "text/plain": [
       "torch.Size([3, 4, 10])"
      ]
     },
     "execution_count": 59,
     "metadata": {},
     "output_type": "execute_result"
    }
   ],
   "source": [
    "output.shape"
   ]
  },
  {
   "cell_type": "code",
   "execution_count": 60,
   "metadata": {},
   "outputs": [
    {
     "data": {
      "text/plain": [
       "tensor([[[ 0.2696,  0.2997,  0.0895,  0.0050,  0.0496, -0.3096,  0.3624,\n",
       "          -0.4576, -0.2141,  0.3659],\n",
       "         [ 0.2773, -0.0688,  0.1000, -0.1101,  0.2123, -0.0726,  0.5606,\n",
       "           0.2856, -0.5113, -0.2201],\n",
       "         [ 0.4325, -0.3911,  0.3640, -0.1265,  0.5877,  0.0876,  0.6446,\n",
       "           0.3820, -0.2831, -0.3755],\n",
       "         [ 0.4625, -0.5619,  0.5197, -0.1188,  0.7566,  0.1639,  0.6919,\n",
       "           0.4501, -0.1263, -0.4647]],\n",
       "\n",
       "        [[ 0.0839, -0.2508,  0.0065, -0.0645,  0.1801,  0.1025,  0.2999,\n",
       "           0.4622, -0.3415, -0.3251],\n",
       "         [ 0.3483,  0.1941,  0.2423,  0.0744,  0.3573, -0.0199,  0.0944,\n",
       "          -0.1792, -0.1099, -0.0070],\n",
       "         [ 0.4403, -0.2516,  0.4334, -0.0169,  0.6555,  0.0329,  0.3395,\n",
       "           0.1182, -0.1124, -0.2392],\n",
       "         [ 0.0000,  0.0000,  0.0000,  0.0000,  0.0000,  0.0000,  0.0000,\n",
       "           0.0000,  0.0000,  0.0000]],\n",
       "\n",
       "        [[ 0.0839, -0.2508,  0.0065, -0.0645,  0.1801,  0.1025,  0.2999,\n",
       "           0.4622, -0.3415, -0.3251],\n",
       "         [ 0.3483,  0.1941,  0.2423,  0.0744,  0.3573, -0.0199,  0.0944,\n",
       "          -0.1792, -0.1099, -0.0070],\n",
       "         [ 0.0000,  0.0000,  0.0000,  0.0000,  0.0000,  0.0000,  0.0000,\n",
       "           0.0000,  0.0000,  0.0000],\n",
       "         [ 0.0000,  0.0000,  0.0000,  0.0000,  0.0000,  0.0000,  0.0000,\n",
       "           0.0000,  0.0000,  0.0000]]], grad_fn=<TransposeBackward0>)"
      ]
     },
     "execution_count": 60,
     "metadata": {},
     "output_type": "execute_result"
    }
   ],
   "source": [
    "output"
   ]
  },
  {
   "cell_type": "code",
   "execution_count": 61,
   "metadata": {},
   "outputs": [
    {
     "data": {
      "text/plain": [
       "tensor([4, 3, 2])"
      ]
     },
     "execution_count": 61,
     "metadata": {},
     "output_type": "execute_result"
    }
   ],
   "source": [
    "len_"
   ]
  },
  {
   "cell_type": "code",
   "execution_count": null,
   "metadata": {},
   "outputs": [],
   "source": []
  }
 ],
 "metadata": {
  "kernelspec": {
   "display_name": "Python 3",
   "language": "python",
   "name": "python3"
  },
  "language_info": {
   "codemirror_mode": {
    "name": "ipython",
    "version": 3
   },
   "file_extension": ".py",
   "mimetype": "text/x-python",
   "name": "python",
   "nbconvert_exporter": "python",
   "pygments_lexer": "ipython3",
   "version": "3.7.4"
  }
 },
 "nbformat": 4,
 "nbformat_minor": 2
}
