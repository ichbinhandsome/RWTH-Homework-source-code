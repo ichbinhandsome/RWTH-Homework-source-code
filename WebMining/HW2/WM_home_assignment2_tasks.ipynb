{
 "cells": [
  {
   "cell_type": "markdown",
   "metadata": {},
   "source": [
    "# Webmining - Assignment 2\n",
    "\n",
    "This **Home Assignment** is to be submitted and you will be given points for each of the tasks. It familiarizes you with basics of Markov Chain and link prediction on graphs.\n",
    "\n",
    "## Formalities\n",
    "**Submit in a group of 2-3 people until 16.06.2020 23:59CET. The deadline is strict!**\n",
    "\n",
    "## Evaluation and Grading\n",
    "General advice for programming excercises at *CSSH*:\n",
    "Evaluation of your submission is done semi automatically. Think of it as this notebook being \n",
    "executed once. Afterwards, some test functions are appended to this file and executed respectively.\n",
    "\n",
    "Therefore:\n",
    "* Submit valid _Python3_ code only!\n",
    "* Use external libraries only when specified by task.\n",
    "* Ensure your definitions (functions, classes, methods, variables) follow the specification if\n",
    "  given. The concrete signature of e.g. a function usually can be inferred from task description, \n",
    "  code skeletons and test cases.\n",
    "* Ensure the notebook does not rely on current notebook or system state!\n",
    "  * Use `Kernel --> Restart & Run All` to see if you are using any definitions, variables etc. that \n",
    "    are not in scope anymore.\n",
    "  * Double check if your code relies on presence of files or directories other than those mentioned\n",
    "    in given tasks. Tests run under Linux, hence don't use Windows style paths \n",
    "    (`some\\path`, `C:\\another\\path`). Also, use paths only that are relative to and within your\n",
    "    working directory (OK: `some/path`, `./some/path`; NOT OK: `/home/alice/python`, \n",
    "    `../../python`).\n",
    "* Keep your code idempotent! Running it or parts of it multiple times must not yield different\n",
    "  results. Minimize usage of global variables.\n",
    "* Ensure your code / notebook terminates in reasonable time.\n",
    "\n",
    "**There's a story behind each of these points! Don't expect us to fix your stuff!**\n",
    "\n",
    "Regarding the scores, you will get no points for a task if:\n",
    "- your function throws an unexpected error (e.g. takes the wrong number of arguments)\n",
    "- gets stuck in an infinite loop\n",
    "- takes much much longer than expected (e.g. >1s to compute the mean of two numbers)\n",
    "- does not produce the desired output (e.g. returns an descendingly sorted list even though we asked for ascending, returns the mean and the std even though we asked for only the mean, prints an output instead of returning it, ...)"
   ]
  },
  {
   "cell_type": "markdown",
   "metadata": {},
   "source": [
    "# Task 1: Markov chains (6 points total)\n",
    "\n",
    "For this task you are only allowed to use numpy and pandas. For this task always include the RESET states.\n",
    "\n",
    "### Information: data structures for this assignment:\n",
    "A *state* or *item* is always given by a string.\n",
    "A uni-variate sequence is given (or should be implemented as) a list of states (strings).\n",
    "\n",
    "Example:\n",
    "\n",
    "```uni_variate_sequence = [\"a\", \"c\", \"b\", \"a\"]```\n",
    "\n",
    "```list_of_sequences =  [[\"a\"], [\"a\", \"b\", \"c\"], [\"a\", \"c\"], [\"c\"]]```\n",
    "\n",
    "We usually refer to a list of sequences as just `sequences`\n",
    "\n",
    "## 1a) Transitions generator (1)\n",
    "Write a function `generate_transitions(sequences, order, include_RESET=True)` that loops over each of the sequences in the provided list of sequences and `yield`s one transition after another. A transition is a tuple where the first element is a tuple containing the relevant history (i.e. one element for order 1, two elements for order two ...). The second element is the next state. Also include the RESET transitions. Whether reset states should be included can be specified through `include_RESET`. Use `\"RESET\"` as the indicating string of the reset state (you can assume this string does not occur in the data otherwise). If a sequence is shorter than order + 1 and include_RESET = False, omit that sequence.\n",
    "\n",
    "Example:\n",
    "```python\n",
    "test_sequences = [[\"a\", \"b\"]]\n",
    "list(generate_transitions(test_sequences, order))\n",
    "# order=1 [(('RESET',), 'a'), (('a',), 'b'), (('b',), 'RESET')]\n",
    "# order=2 [(('RESET', 'RESET'), 'a'), (('RESET', 'a'), 'b'), (('a', 'b'), 'RESET')]\n",
    "test_sequences = [[\"a\"], [\"b\"]]\n",
    "list(generate_transitions(test_sequences, 1))\n",
    "# order=1 [(('RESET',), 'a'), (('a',), 'RESET'), (('RESET',), 'b'), (('b',), 'RESET')]\n",
    "```\n",
    "\n",
    "\n",
    "## 1b) Fitting the model (1)\n",
    "Implement the function `fit_mc(sequences, order)` that fits a Markov chain of a specific `order` to the given input of a list of sequences.\n",
    "The function should return t_m, row_names, col_names with\n",
    "\n",
    "* `t_m`: transition_probability matrix (2-d numpy array of type float)\n",
    "* `row_names`: List of source state tuples in the ordering used in the array. \n",
    "* `col_names`: List of the target states in the ordering used in the array\n",
    "\n",
    "Do not include empty rows i.e. rows that have not been observed.\n",
    "\n",
    "\n",
    "Example:\n",
    "```python\n",
    "t_m = np.array([[0.0, 0.5, 0.5],\n",
    "                [0.2, 0.8, 0.0],\n",
    "                [0.3, 0.4, 0.4]])\n",
    "row_names = [\"RESET\", \"state_a\", \"state_b\"]\n",
    "col_names = [(\"RESET\",), (\"state_a\",), (\"state_b\",)]\n",
    "```\n",
    "means that the transition probability to go from \"state_a\" to \"RESET\" is 0.2"
   ]
  },
  {
   "cell_type": "code",
   "execution_count": 1,
   "metadata": {},
   "outputs": [],
   "source": [
    "import numpy as np"
   ]
  },
  {
   "cell_type": "code",
   "execution_count": 2,
   "metadata": {},
   "outputs": [],
   "source": [
    "def generate_transitions(sequences, order, include_RESET=True):\n",
    "    for seq in sequences:\n",
    "        if len(seq) < order + 1 and include_RESET == False:\n",
    "            continue\n",
    "        if seq:\n",
    "            if include_RESET == True:\n",
    "                new_seq = ['RESET']*order + seq + ['RESET']\n",
    "            else:\n",
    "                new_seq = seq\n",
    "            #two pointers\n",
    "            i, j = 0, order\n",
    "            while j < len(new_seq):\n",
    "                pre_state = tuple(new_seq[i:j])\n",
    "                next_state = new_seq[j]\n",
    "                yield (pre_state, next_state)\n",
    "                i += 1\n",
    "                j += 1"
   ]
  },
  {
   "cell_type": "code",
   "execution_count": 3,
   "metadata": {},
   "outputs": [],
   "source": [
    "import numpy as np\n",
    "def fit_mc(sequences, order):\n",
    "    markov_chain = list(generate_transitions(sequences, order))\n",
    "    row_names, col_names = [], []\n",
    "    hash_table = {}\n",
    "    cocurrence = {}\n",
    "    for pre, curr in markov_chain:\n",
    "        if (pre,curr) not in cocurrence: cocurrence[(pre,curr)] = 1\n",
    "        else: cocurrence[(pre,curr)] += 1\n",
    "        if pre not in row_names: row_names.append(pre)\n",
    "        if curr not in col_names: col_names.append(curr)\n",
    "        if pre not in hash_table: hash_table[pre] = 1\n",
    "        else: hash_table[pre] += 1\n",
    "    res = [[0]*len(col_names) for i in range(len(row_names))]\n",
    "    for i in range(len(row_names)):\n",
    "        for j in range(len(col_names)):\n",
    "            if (row_names[i], col_names[j]) in cocurrence:\n",
    "                t = cocurrence[(row_names[i], col_names[j])] / hash_table[row_names[i]]\n",
    "            else:\n",
    "                t = 0\n",
    "            res[i][j] = t\n",
    "    t_m = np.array(res, dtype=float)\n",
    "    return t_m, row_names, col_names"
   ]
  },
  {
   "cell_type": "markdown",
   "metadata": {},
   "source": [
    "## 1c) Comparing Markov Models (1.5)\n",
    "Implement three functions\n",
    "* `log_likelihood(sequences, t_m, row_names, col_names)`\n",
    "* `AIC(sequences, t_m, row_names, col_names)`\n",
    "* `BIC(sequences, t_m, row_names, col_names)`\n",
    "\n",
    "That compute the log likelihood, AIC and BIC scores for the provided sequences given the markov model specified through `t_m`, `row_names`, `col_names`. Use the natural logarithm.\n",
    "When calculating the log_likelihood skip transitions that have not been observed."
   ]
  },
  {
   "cell_type": "code",
   "execution_count": 4,
   "metadata": {},
   "outputs": [],
   "source": [
    "def log_likelihood(sequences, t_m, row_names, col_names):\n",
    "    order = len(row_names[0])\n",
    "    markov_chain = list(generate_transitions(sequences, order))\n",
    "    # print(markov_chain)\n",
    "    res = 0\n",
    "    for pre, curr in markov_chain:\n",
    "        res += np.log(t_m[row_names.index(pre), col_names.index(curr)])\n",
    "    # print(prob)\n",
    "    return res\n",
    "\n",
    "def AIC(sequences, t_m, row_names, col_names):\n",
    "    likelihood = log_likelihood(sequences, t_m, row_names, col_names)\n",
    "    #number of different states\n",
    "    order = len(row_names[0])\n",
    "    if order==1:\n",
    "        k= len(row_names)*(len(col_names)-1)-1\n",
    "    else:\n",
    "        k = len(row_names)*(len(col_names)) - (len(col_names)**order - order)- order*len(col_names)-1\n",
    "    return 2*k-2*likelihood\n",
    "\n",
    "def BIC(sequences, t_m, row_names, col_names):\n",
    "    likelihood = log_likelihood(sequences, t_m, row_names, col_names)\n",
    "    order = len(row_names[0])\n",
    "    if order==1:\n",
    "        k= len(row_names)*(len(col_names)-1)-1\n",
    "    else:\n",
    "        k = len(row_names)*(len(col_names)) - (len(col_names)**order - order)- order*len(col_names)-1\n",
    "    n = len(sequences)\n",
    "    return np.log(n)*k-2*likelihood"
   ]
  },
  {
   "cell_type": "markdown",
   "metadata": {},
   "source": [
    "## 1d) Apply your model\n",
    "\n",
    "### d1) Load Sequences (1.5)\n",
    "Write a function `load_sequences(start, end)` that extracts the \"finished paths\" from the data published in https://snap.stanford.edu/data/wikispeedia.html, does preprocessing, cleans up all the files and returns the transitions as a list of sequences. Disregard the rest of the information like ip_hash, time... The start and end variable specify a starting token and an ending token.\n",
    "\n",
    "\n",
    "There should be 1043 univariate sequences for `start, end = ('Asteroid', 'Viking')`. Do all of this task in code. Make sure you **read the comments** at the beginning of the `paths_finished.tsv` file. Do **not** download the wikipedia articles along. After you are done, remove all files that you created during the process.\n",
    "\n",
    "### d2) Eval Dataset (1)\n",
    "Fit a first order and second order model to the sequences from `'Asteroid'` to `'Viking'`. According to AIC and BIC, which model fits the data better?  Make a clear statement (as text), which model is to be preferred. Store that string in the variable `better_model`, also write that string to `better_model.txt`. Make sure you mention the AIC and BIC scores you obtained in the text."
   ]
  },
  {
   "cell_type": "code",
   "execution_count": 5,
   "metadata": {},
   "outputs": [],
   "source": [
    "import requests\n",
    "import pandas as pd\n",
    "import requests\n",
    "import tarfile\n",
    "import os\n",
    "import shutil"
   ]
  },
  {
   "cell_type": "code",
   "execution_count": 6,
   "metadata": {},
   "outputs": [],
   "source": [
    "def load_sequences(start,end):  \n",
    "    url = 'https://snap.stanford.edu/data/wikispeedia/wikispeedia_paths-and-graph.tar.gz'\n",
    "    target_path = 'wikispeedia_paths-and-graph.tar.gz'\n",
    "    response = requests.get(url, stream=True)\n",
    "    if response.status_code == 200:\n",
    "        with open(target_path, 'wb') as f:\n",
    "            f.write(response.raw.read())\n",
    "    tar = tarfile.open('./wikispeedia_paths-and-graph.tar.gz')\n",
    "    \n",
    "    tar.extractall(\"./\")\n",
    "    tar.close()\n",
    "    df1 = pd.read_csv(\"./wikispeedia_paths-and-graph/paths_finished.tsv\", skiprows=range(0, 17),header=None,sep='\\t')\n",
    "    df2 = df1[df1[3].str.match(start+'.*'+end)]\n",
    "    lst1 = []\n",
    "    lst2 = []\n",
    "    for index,row in df2.iterrows():\n",
    "        lst1 = row[3].split(\";\")\n",
    "        lst2.append(lst1)\n",
    "    shutil.rmtree('./wikispeedia_paths-and-graph')\n",
    "    os.remove('./wikispeedia_paths-and-graph.tar.gz')\n",
    "    return lst2"
   ]
  },
  {
   "cell_type": "code",
   "execution_count": 7,
   "metadata": {},
   "outputs": [],
   "source": [
    "sequences = load_sequences('Asteroid', 'Viking')\n",
    "#first_order\n",
    "t_m_1, row_names_1, col_names_1 = fit_mc(sequences,1)\n",
    "aic_1 = AIC(sequences, t_m_1, row_names_1, col_names_1)\n",
    "bic_1 = BIC(sequences, t_m_1, row_names_1, col_names_1)\n",
    "# print(aic_1, bic_1)\n",
    "#second_order\n",
    "t_m_2, row_names_2, col_names_2 = fit_mc(sequences,2)\n",
    "aic_2 = AIC(sequences, t_m_2, row_names_2, col_names_2)\n",
    "bic_2 = BIC(sequences, t_m_2, row_names_2, col_names_2)\n",
    "# print(aic_2, bic_2)"
   ]
  },
  {
   "cell_type": "markdown",
   "metadata": {},
   "source": [
    "According to BIC and AIC score, the first order Markov Chain works better."
   ]
  },
  {
   "cell_type": "code",
   "execution_count": 8,
   "metadata": {},
   "outputs": [],
   "source": [
    "note = 'first order markov chain is better' + '\\n' +'AIC score of first order markov is '+ str(aic_1)+', AIC score of second order markov is '+ str(aic_2)+', BIC score of first order markov chain is '+ str(bic_1)+', BIC score of second order markov chain is '+ str(bic_2) +'\\n'\n",
    "better_model = \"\".join(str(v) for v in t_m_1)\n",
    "better_model = better_model + str(row_names_1)\n",
    "better_model = better_model + str(col_names_1)\n",
    "output_file = open('./better_model.txt','w')\n",
    "output_file.write(note) \n",
    "output_file.write(better_model)               \n",
    "output_file.close()"
   ]
  },
  {
   "cell_type": "markdown",
   "metadata": {},
   "source": [
    "# Task 2 Graphs (7 points total)\n",
    "\n",
    "In this task you are requested to do some basic tasks on graphs.\n",
    "\n",
    "## 2a) Building a graph (1)\n",
    "\n",
    "\n",
    "Represent the sequences for `start, end = (\"Apollo\", \"Skiing\")` from previous task d) as a directed graph in networkx. Use one of the standard networkx drawing functions. Exclude the RESET states. Show the plot here in the notebook and also save it as `apollo_skiing.png`. Include the direction and the node labels. Make sure the labels are at least somewhat readable. Argue whether this is a good visualization. Save this argument in a variable `apollo_skiing` as a string. Also write it to a file `apollo_skiing.txt`.\n",
    "\n",
    "\n",
    "## 2b) Classic link prediction metrics (0.5+0.5+1)\n",
    "\n",
    "In this task you should compute different metrics for link prediction. Do not use functions from networkx. Assume the graph is undirected.\n",
    "\n",
    "Write the functions `Jaccard_link(A)`, `Adamic_Adar_link(A)` and `Katz_link(A, beta)`.\n",
    "The parameter A is a binary adjancency matrix (assume a 2d-numpy array, it can be dense or sparse), beta is defined in the lecture. They both return a matrix with the corresponding scores for all the nodes in the network.\n",
    "Help for Katz: Search for geometric series of matrices ;). Raise a ValueError if the provided `beta` is to large.\n",
    "\n",
    "The package networkx contains the Zachary’s Karate Club graph. It also contains functions that compute link scores. You can use it for testing.\n",
    "\n",
    "## 2c) Evaluate link prediction with mean inverse rank (1.5)\n",
    "\n",
    "To evaluate your link prediction we will use the mean inverse rank (mir). The basic idea is, that edges that really exist should be ranked higher by your metric in comparison with edges that do not exist.\n",
    "\n",
    "Starting from train/test split of the edges you rank the missing edges according to the metric in descending order. Now for all the heldout edges you obtain the place at which this ground truth edge is in the list of edges. This is the rank of the edge. You then calculate the mean of the inverse rank (1/rank) of all heldout edges.\n",
    "\n",
    "Write a function `cross_val_mir(G, func)` that computes the mean inverse rank for function `func` assume that the function takes a binary adjacency matrix and no other parameter. G is an undirected networkx graph. Use 10 fold cross validation on the edge set. Use np.array_split to split the edges in G into the 10 chunks. Return 1) the average mean inverse rank and 2) the standard deviation of the mir.\n",
    "\n",
    "Apply this function to the three link prediction metrics you previously defined. Use the Zachary Karate Club graph as provided in the networkx package. Store the results as a dict \n",
    "```python\n",
    "{\"Jaccard\" : 0.0,\n",
    " \"Adamic\" : 0.0,\n",
    " \"Katz\" : 0.0}\n",
    "```\n",
    "in `results_2c`. Store the beta you used for `Katz` in the variable `beta_2c`.\n",
    "\n",
    "## 2c) Random walks on a graph (1)\n",
    "\n",
    "Write a function `random_walks(A, start_node, length, rng)` that yields random walks of length `length` starting at node_index `start_node` on a graph given by a binary adjacency matrix `A`. Assume the graph is undirected. At each node the walker walks to another node at random. Do not use any restart conditions. At any node determine the k nodes to pick next choose that node with to go next with a call to `rng.randint(0,k)`.\n",
    "\n",
    "\n",
    "\n",
    "## 2d) Node2vec (1.5)\n",
    "\n",
    "Using your function `random_walks` along with the gensim.models.Word2Vec function to train a node2vec model.\n",
    "Write a helper function `get_corpus(A, length, n_per_node, rng)` that takes the binary adjacency matrix and creates a corpus (list of sequence of integers). It thereby uses the random walks function previously defined. To obtain `n_per_node` univariate sequences for each node. Go through the nodes in ascending order. Finally shuffle the list of sequences obtained using `np.permutation`. Return that sequence.\n",
    "\n",
    "Thereafter write a function `node2vec(G, dimensions, length, n_per_node, rng)` that trains Word2Vec embeddings of a specified number of dimensions for the networkx-graph G. It first creates a corpus for graph G, using the helper function. It then relabels the corpus such that the entries are the same as in the graph. It then uses gensim.models.word2vec to train a node embedding. Use default arguments for word2vec unless specified otherwise. (Only provide the corpus and the dimensions)\n",
    "\n",
    "## 2e) Word2Vec/Node2Vec vs Glove (1)\n",
    "\n",
    "Explain the differences and similarities of the Anything2vec approach and Glove. Save your explanation as a string in the variable `glove`. Also write it to a file `glove.txt`"
   ]
  },
  {
   "cell_type": "code",
   "execution_count": 9,
   "metadata": {},
   "outputs": [],
   "source": [
    "import networkx as nx\n",
    "import matplotlib.pyplot as plt"
   ]
  },
  {
   "cell_type": "markdown",
   "metadata": {},
   "source": [
    "## 2 a) Building a graph (1)"
   ]
  },
  {
   "cell_type": "code",
   "execution_count": 10,
   "metadata": {},
   "outputs": [
    {
     "output_type": "display_data",
     "data": {
      "text/plain": "<Figure size 432x288 with 1 Axes>",
      "image/svg+xml": "<?xml version=\"1.0\" encoding=\"utf-8\" standalone=\"no\"?>\r\n<!DOCTYPE svg PUBLIC \"-//W3C//DTD SVG 1.1//EN\"\r\n  \"http://www.w3.org/Graphics/SVG/1.1/DTD/svg11.dtd\">\r\n<!-- Created with matplotlib (https://matplotlib.org/) -->\r\n<svg height=\"302.4pt\" version=\"1.1\" viewBox=\"0 0 446.4 302.4\" width=\"446.4pt\" xmlns=\"http://www.w3.org/2000/svg\" xmlns:xlink=\"http://www.w3.org/1999/xlink\">\r\n <defs>\r\n  <style type=\"text/css\">\r\n*{stroke-linecap:butt;stroke-linejoin:round;}\r\n  </style>\r\n </defs>\r\n <g id=\"figure_1\">\r\n  <g id=\"patch_1\">\r\n   <path d=\"M 0 302.4 \r\nL 446.4 302.4 \r\nL 446.4 0 \r\nL 0 0 \r\nz\r\n\" style=\"fill:#ffffff;\"/>\r\n  </g>\r\n  <g id=\"axes_1\">\r\n   <g id=\"patch_2\">\r\n    <path clip-path=\"url(#p3671af9af1)\" d=\"M 265.645441 179.972687 \r\nQ 182.179475 205.716075 99.781881 231.129946 \r\n\" style=\"fill:none;stroke:#000000;stroke-linecap:round;\"/>\r\n    <path clip-path=\"url(#p3671af9af1)\" d=\"M 104.193663 231.862189 \r\nL 99.781881 231.129946 \r\nL 103.014745 228.039867 \r\nL 104.193663 231.862189 \r\nz\r\n\" style=\"stroke:#000000;stroke-linecap:round;\"/>\r\n   </g>\r\n   <g id=\"patch_3\">\r\n    <path clip-path=\"url(#p3671af9af1)\" d=\"M 265.645441 179.972687 \r\nQ 330.603003 115.624562 394.766279 52.063271 \r\n\" style=\"fill:none;stroke:#000000;stroke-linecap:round;\"/>\r\n    <path clip-path=\"url(#p3671af9af1)\" d=\"M 390.51702 53.457473 \r\nL 394.766279 52.063271 \r\nL 393.332085 56.299199 \r\nL 390.51702 53.457473 \r\nz\r\n\" style=\"stroke:#000000;stroke-linecap:round;\"/>\r\n   </g>\r\n   <g id=\"patch_4\">\r\n    <path clip-path=\"url(#p3671af9af1)\" d=\"M 265.645441 179.972687 \r\nQ 245.48586 200.87103 226.102497 220.96471 \r\n\" style=\"fill:none;stroke:#000000;stroke-linecap:round;\"/>\r\n    <path clip-path=\"url(#p3671af9af1)\" d=\"M 230.319009 219.474399 \r\nL 226.102497 220.96471 \r\nL 227.440156 216.697314 \r\nL 230.319009 219.474399 \r\nz\r\n\" style=\"stroke:#000000;stroke-linecap:round;\"/>\r\n   </g>\r\n   <g id=\"patch_5\">\r\n    <path clip-path=\"url(#p3671af9af1)\" d=\"M 265.645441 179.972687 \r\nQ 288.835912 221.313678 311.479399 261.679576 \r\n\" style=\"fill:none;stroke:#000000;stroke-linecap:round;\"/>\r\n    <path clip-path=\"url(#p3671af9af1)\" d=\"M 311.266748 257.212499 \r\nL 311.479399 261.679576 \r\nL 307.778147 259.16945 \r\nL 311.266748 257.212499 \r\nz\r\n\" style=\"stroke:#000000;stroke-linecap:round;\"/>\r\n   </g>\r\n   <g id=\"patch_6\">\r\n    <path clip-path=\"url(#p3671af9af1)\" d=\"M 90.439229 234.011498 \r\nQ 82.781428 206.749964 75.425982 180.564804 \r\n\" style=\"fill:none;stroke:#000000;stroke-linecap:round;\"/>\r\n    <path clip-path=\"url(#p3671af9af1)\" d=\"M 74.582243 184.956627 \r\nL 75.425982 180.564804 \r\nL 78.433197 183.874889 \r\nL 74.582243 184.956627 \r\nz\r\n\" style=\"stroke:#000000;stroke-linecap:round;\"/>\r\n   </g>\r\n   <g id=\"patch_7\">\r\n    <path clip-path=\"url(#p3671af9af1)\" d=\"M 72.781722 171.151323 \r\nQ 60.628581 146.151146 48.964245 122.156489 \r\n\" style=\"fill:none;stroke:#000000;stroke-linecap:round;\"/>\r\n    <path clip-path=\"url(#p3671af9af1)\" d=\"M 48.91432 126.628346 \r\nL 48.964245 122.156489 \r\nL 52.511776 124.879543 \r\nL 48.91432 126.628346 \r\nz\r\n\" style=\"stroke:#000000;stroke-linecap:round;\"/>\r\n   </g>\r\n   <g id=\"patch_8\">\r\n    <path clip-path=\"url(#p3671af9af1)\" d=\"M 44.687603 113.359027 \r\nQ 61.697414 109.691772 77.614303 106.260147 \r\n\" style=\"fill:none;stroke:#000000;stroke-linecap:round;\"/>\r\n    <path clip-path=\"url(#p3671af9af1)\" d=\"M 73.282639 105.148085 \r\nL 77.614303 106.260147 \r\nL 74.125655 109.058241 \r\nL 73.282639 105.148085 \r\nz\r\n\" style=\"stroke:#000000;stroke-linecap:round;\"/>\r\n   </g>\r\n   <g id=\"patch_9\">\r\n    <path clip-path=\"url(#p3671af9af1)\" d=\"M 87.173882 104.199136 \r\nQ 86.41733 89.967491 85.720129 76.852303 \r\n\" style=\"fill:none;stroke:#000000;stroke-linecap:round;\"/>\r\n    <path clip-path=\"url(#p3671af9af1)\" d=\"M 83.935289 80.952833 \r\nL 85.720129 76.852303 \r\nL 87.929649 80.740493 \r\nL 83.935289 80.952833 \r\nz\r\n\" style=\"stroke:#000000;stroke-linecap:round;\"/>\r\n   </g>\r\n   <g id=\"patch_10\">\r\n    <path clip-path=\"url(#p3671af9af1)\" d=\"M 401.712397 45.182323 \r\nQ 380.871235 44.859629 361.147974 44.554243 \r\n\" style=\"fill:none;stroke:#000000;stroke-linecap:round;\"/>\r\n    <path clip-path=\"url(#p3671af9af1)\" d=\"M 365.116531 46.61593 \r\nL 361.147974 44.554243 \r\nL 365.178458 42.61641 \r\nL 365.116531 46.61593 \r\nz\r\n\" style=\"stroke:#000000;stroke-linecap:round;\"/>\r\n   </g>\r\n   <g id=\"patch_11\">\r\n    <path clip-path=\"url(#p3671af9af1)\" d=\"M 351.367894 44.402813 \r\nQ 330.483071 44.432202 310.716282 44.460017 \r\n\" style=\"fill:none;stroke:#000000;stroke-linecap:round;\"/>\r\n    <path clip-path=\"url(#p3671af9af1)\" d=\"M 314.719092 46.454386 \r\nL 310.716282 44.460017 \r\nL 314.713463 42.45439 \r\nL 314.719092 46.454386 \r\nz\r\n\" style=\"stroke:#000000;stroke-linecap:round;\"/>\r\n   </g>\r\n   <g id=\"patch_12\">\r\n    <path clip-path=\"url(#p3671af9af1)\" d=\"M 300.940227 44.473773 \r\nQ 275.493116 42.010519 251.158838 39.654986 \r\n\" style=\"fill:none;stroke:#000000;stroke-linecap:round;\"/>\r\n    <path clip-path=\"url(#p3671af9af1)\" d=\"M 254.947531 42.031076 \r\nL 251.158838 39.654986 \r\nL 255.332926 38.049685 \r\nL 254.947531 42.031076 \r\nz\r\n\" style=\"stroke:#000000;stroke-linecap:round;\"/>\r\n   </g>\r\n   <g id=\"patch_13\">\r\n    <path clip-path=\"url(#p3671af9af1)\" d=\"M 241.426207 38.712877 \r\nQ 212.419167 42.739579 184.519541 46.612551 \r\n\" style=\"fill:none;stroke:#000000;stroke-linecap:round;\"/>\r\n    <path clip-path=\"url(#p3671af9af1)\" d=\"M 188.756548 48.043557 \r\nL 184.519541 46.612551 \r\nL 188.206549 44.081549 \r\nL 188.756548 48.043557 \r\nz\r\n\" style=\"stroke:#000000;stroke-linecap:round;\"/>\r\n   </g>\r\n   <g id=\"patch_14\">\r\n    <path clip-path=\"url(#p3671af9af1)\" d=\"M 174.831749 47.957392 \r\nQ 151.606687 55.894331 129.439586 63.469722 \r\n\" style=\"fill:none;stroke:#000000;stroke-linecap:round;\"/>\r\n    <path clip-path=\"url(#p3671af9af1)\" d=\"M 133.871421 64.068747 \r\nL 129.439586 63.469722 \r\nL 132.577908 60.283668 \r\nL 133.871421 64.068747 \r\nz\r\n\" style=\"stroke:#000000;stroke-linecap:round;\"/>\r\n   </g>\r\n   <g id=\"patch_15\">\r\n    <path clip-path=\"url(#p3671af9af1)\" d=\"M 120.186897 66.631738 \r\nQ 107.02236 66.8033 94.975761 66.960294 \r\n\" style=\"fill:none;stroke:#000000;stroke-linecap:round;\"/>\r\n    <path clip-path=\"url(#p3671af9af1)\" d=\"M 99.001484 68.908 \r\nL 94.975761 66.960294 \r\nL 98.949359 64.90834 \r\nL 99.001484 68.908 \r\nz\r\n\" style=\"stroke:#000000;stroke-linecap:round;\"/>\r\n   </g>\r\n   <g id=\"patch_16\">\r\n    <path clip-path=\"url(#p3671af9af1)\" d=\"M 219.311068 228.005017 \r\nQ 215.482758 217.240192 212.029072 207.52877 \r\n\" style=\"fill:none;stroke:#000000;stroke-linecap:round;\"/>\r\n    <path clip-path=\"url(#p3671af9af1)\" d=\"M 211.48498 211.967685 \r\nL 212.029072 207.52877 \r\nL 215.253748 210.627392 \r\nL 211.48498 211.967685 \r\nz\r\n\" style=\"stroke:#000000;stroke-linecap:round;\"/>\r\n   </g>\r\n   <g id=\"patch_17\">\r\n    <path clip-path=\"url(#p3671af9af1)\" d=\"M 219.311068 228.005017 \r\nQ 211.396435 229.471952 204.581113 230.735135 \r\n\" style=\"fill:none;stroke:#000000;stroke-linecap:round;\"/>\r\n    <path clip-path=\"url(#p3671af9af1)\" d=\"M 208.87861 231.97268 \r\nL 204.581113 230.735135 \r\nL 208.149647 228.039664 \r\nL 208.87861 231.97268 \r\nz\r\n\" style=\"stroke:#000000;stroke-linecap:round;\"/>\r\n   </g>\r\n   <g id=\"patch_18\">\r\n    <path clip-path=\"url(#p3671af9af1)\" d=\"M 219.311068 228.005017 \r\nQ 215.059767 203.705024 211.001141 180.506339 \r\n\" style=\"fill:none;stroke:#000000;stroke-linecap:round;\"/>\r\n    <path clip-path=\"url(#p3671af9af1)\" d=\"M 209.720397 184.79116 \r\nL 211.001141 180.506339 \r\nL 213.660551 184.101827 \r\nL 209.720397 184.79116 \r\nz\r\n\" style=\"stroke:#000000;stroke-linecap:round;\"/>\r\n   </g>\r\n   <g id=\"patch_19\">\r\n    <path clip-path=\"url(#p3671af9af1)\" d=\"M 208.753413 198.317946 \r\nQ 188.166252 167.791596 168.204222 138.192182 \r\n\" style=\"fill:none;stroke:#000000;stroke-linecap:round;\"/>\r\n    <path clip-path=\"url(#p3671af9af1)\" d=\"M 168.782607 142.626758 \r\nL 168.204222 138.192182 \r\nL 172.098914 140.39022 \r\nL 168.782607 142.626758 \r\nz\r\n\" style=\"stroke:#000000;stroke-linecap:round;\"/>\r\n   </g>\r\n   <g id=\"patch_20\">\r\n    <path clip-path=\"url(#p3671af9af1)\" d=\"M 162.735465 130.083187 \r\nQ 127.329389 101.316303 92.791041 73.254434 \r\n\" style=\"fill:none;stroke:#000000;stroke-linecap:round;\"/>\r\n    <path clip-path=\"url(#p3671af9af1)\" d=\"M 94.63435 77.329015 \r\nL 92.791041 73.254434 \r\nL 97.156691 74.224536 \r\nL 94.63435 77.329015 \r\nz\r\n\" style=\"stroke:#000000;stroke-linecap:round;\"/>\r\n   </g>\r\n   <g id=\"patch_21\">\r\n    <path clip-path=\"url(#p3671af9af1)\" d=\"M 194.968408 232.516799 \r\nQ 201.160808 205.910303 207.09977 180.392736 \r\n\" style=\"fill:none;stroke:#000000;stroke-linecap:round;\"/>\r\n    <path clip-path=\"url(#p3671af9af1)\" d=\"M 204.245106 183.835248 \r\nL 207.09977 180.392736 \r\nL 208.140981 184.741975 \r\nL 204.245106 183.835248 \r\nz\r\n\" style=\"stroke:#000000;stroke-linecap:round;\"/>\r\n   </g>\r\n   <g id=\"patch_22\">\r\n    <path clip-path=\"url(#p3671af9af1)\" d=\"M 209.315616 170.87205 \r\nQ 216.949583 144.474483 224.272952 119.15094 \r\n\" style=\"fill:none;stroke:#000000;stroke-linecap:round;\"/>\r\n    <path clip-path=\"url(#p3671af9af1)\" d=\"M 221.240445 122.437869 \r\nL 224.272952 119.15094 \r\nL 225.082991 123.549102 \r\nL 221.240445 122.437869 \r\nz\r\n\" style=\"stroke:#000000;stroke-linecap:round;\"/>\r\n   </g>\r\n   <g id=\"patch_23\">\r\n    <path clip-path=\"url(#p3671af9af1)\" d=\"M 209.315616 170.87205 \r\nQ 184.244793 171.937385 160.290996 172.955253 \r\n\" style=\"fill:none;stroke:#000000;stroke-linecap:round;\"/>\r\n    <path clip-path=\"url(#p3671af9af1)\" d=\"M 164.372299 174.783631 \r\nL 160.290996 172.955253 \r\nL 164.20248 170.787238 \r\nL 164.372299 174.783631 \r\nz\r\n\" style=\"stroke:#000000;stroke-linecap:round;\"/>\r\n   </g>\r\n   <g id=\"patch_24\">\r\n    <path clip-path=\"url(#p3671af9af1)\" d=\"M 226.990303 109.754585 \r\nQ 196.050415 74.238478 165.844918 39.565385 \r\n\" style=\"fill:none;stroke:#000000;stroke-linecap:round;\"/>\r\n    <path clip-path=\"url(#p3671af9af1)\" d=\"M 166.964329 43.895156 \r\nL 165.844918 39.565385 \r\nL 169.980382 41.267719 \r\nL 166.964329 43.895156 \r\nz\r\n\" style=\"stroke:#000000;stroke-linecap:round;\"/>\r\n   </g>\r\n   <g id=\"patch_25\">\r\n    <path clip-path=\"url(#p3671af9af1)\" d=\"M 159.421357 32.191736 \r\nQ 139.63672 33.758995 120.966625 35.237964 \r\n\" style=\"fill:none;stroke:#000000;stroke-linecap:round;\"/>\r\n    <path clip-path=\"url(#p3671af9af1)\" d=\"M 125.112071 36.915844 \r\nL 120.966625 35.237964 \r\nL 124.796196 32.928336 \r\nL 125.112071 36.915844 \r\nz\r\n\" style=\"stroke:#000000;stroke-linecap:round;\"/>\r\n   </g>\r\n   <g id=\"patch_26\">\r\n    <path clip-path=\"url(#p3671af9af1)\" d=\"M 111.216807 36.010306 \r\nQ 100.989297 48.227674 91.479453 59.587748 \r\n\" style=\"fill:none;stroke:#000000;stroke-linecap:round;\"/>\r\n    <path clip-path=\"url(#p3671af9af1)\" d=\"M 95.58063 57.804396 \r\nL 91.479453 59.587748 \r\nL 92.513478 55.236795 \r\nL 95.58063 57.804396 \r\nz\r\n\" style=\"stroke:#000000;stroke-linecap:round;\"/>\r\n   </g>\r\n   <g id=\"patch_27\">\r\n    <path clip-path=\"url(#p3671af9af1)\" d=\"M 150.522177 173.37036 \r\nQ 155.45289 155.894591 160.080007 139.494846 \r\n\" style=\"fill:none;stroke:#000000;stroke-linecap:round;\"/>\r\n    <path clip-path=\"url(#p3671af9af1)\" d=\"M 157.068977 142.801462 \r\nL 160.080007 139.494846 \r\nL 160.918681 143.887639 \r\nL 157.068977 142.801462 \r\nz\r\n\" style=\"stroke:#000000;stroke-linecap:round;\"/>\r\n   </g>\r\n   <g id=\"patch_28\">\r\n    <path clip-path=\"url(#p3671af9af1)\" d=\"M 316.263617 270.208264 \r\nQ 297.688263 249.428412 279.858026 229.482107 \r\n\" style=\"fill:none;stroke:#000000;stroke-linecap:round;\"/>\r\n    <path clip-path=\"url(#p3671af9af1)\" d=\"M 281.032745 233.797201 \r\nL 279.858026 229.482107 \r\nL 284.014933 231.131389 \r\nL 281.032745 233.797201 \r\nz\r\n\" style=\"stroke:#000000;stroke-linecap:round;\"/>\r\n   </g>\r\n   <g id=\"patch_29\">\r\n    <path clip-path=\"url(#p3671af9af1)\" d=\"M 273.341595 222.192314 \r\nQ 254.964293 203.839418 237.378086 186.276567 \r\n\" style=\"fill:none;stroke:#000000;stroke-linecap:round;\"/>\r\n    <path clip-path=\"url(#p3671af9af1)\" d=\"M 238.795118 190.518267 \r\nL 237.378086 186.276567 \r\nL 241.621665 187.687961 \r\nL 238.795118 190.518267 \r\nz\r\n\" style=\"stroke:#000000;stroke-linecap:round;\"/>\r\n   </g>\r\n   <g id=\"patch_30\">\r\n    <path clip-path=\"url(#p3671af9af1)\" d=\"M 230.459915 179.367584 \r\nQ 200.099859 157.273982 170.643806 135.83824 \r\n\" style=\"fill:none;stroke:#000000;stroke-linecap:round;\"/>\r\n    <path clip-path=\"url(#p3671af9af1)\" d=\"M 172.701247 139.809001 \r\nL 170.643806 135.83824 \r\nL 175.054879 136.574744 \r\nL 172.701247 139.809001 \r\nz\r\n\" style=\"stroke:#000000;stroke-linecap:round;\"/>\r\n   </g>\r\n   <g id=\"PathCollection_1\">\r\n    <defs>\r\n     <path d=\"M 0 8.660254 \r\nC 2.296726 8.660254 4.499694 7.747755 6.123724 6.123724 \r\nC 7.747755 4.499694 8.660254 2.296726 8.660254 0 \r\nC 8.660254 -2.296726 7.747755 -4.499694 6.123724 -6.123724 \r\nC 4.499694 -7.747755 2.296726 -8.660254 0 -8.660254 \r\nC -2.296726 -8.660254 -4.499694 -7.747755 -6.123724 -6.123724 \r\nC -7.747755 -4.499694 -8.660254 -2.296726 -8.660254 0 \r\nC -8.660254 2.296726 -7.747755 4.499694 -6.123724 6.123724 \r\nC -4.499694 7.747755 -2.296726 8.660254 0 8.660254 \r\nz\r\n\" id=\"m82cb5d3931\" style=\"stroke:#a0cbe2;\"/>\r\n    </defs>\r\n    <g clip-path=\"url(#p3671af9af1)\">\r\n     <use style=\"fill:#a0cbe2;stroke:#a0cbe2;\" x=\"265.645441\" xlink:href=\"#m82cb5d3931\" y=\"179.972687\"/>\r\n     <use style=\"fill:#a0cbe2;stroke:#a0cbe2;\" x=\"90.439229\" xlink:href=\"#m82cb5d3931\" y=\"234.011498\"/>\r\n     <use style=\"fill:#a0cbe2;stroke:#a0cbe2;\" x=\"72.781722\" xlink:href=\"#m82cb5d3931\" y=\"171.151323\"/>\r\n     <use style=\"fill:#a0cbe2;stroke:#a0cbe2;\" x=\"44.687603\" xlink:href=\"#m82cb5d3931\" y=\"113.359027\"/>\r\n     <use style=\"fill:#a0cbe2;stroke:#a0cbe2;\" x=\"87.173882\" xlink:href=\"#m82cb5d3931\" y=\"104.199136\"/>\r\n     <use style=\"fill:#a0cbe2;stroke:#a0cbe2;\" x=\"85.201044\" xlink:href=\"#m82cb5d3931\" y=\"67.08768\"/>\r\n     <use style=\"fill:#a0cbe2;stroke:#a0cbe2;\" x=\"401.712397\" xlink:href=\"#m82cb5d3931\" y=\"45.182323\"/>\r\n     <use style=\"fill:#a0cbe2;stroke:#a0cbe2;\" x=\"351.367894\" xlink:href=\"#m82cb5d3931\" y=\"44.402813\"/>\r\n     <use style=\"fill:#a0cbe2;stroke:#a0cbe2;\" x=\"300.940227\" xlink:href=\"#m82cb5d3931\" y=\"44.473773\"/>\r\n     <use style=\"fill:#a0cbe2;stroke:#a0cbe2;\" x=\"241.426207\" xlink:href=\"#m82cb5d3931\" y=\"38.712877\"/>\r\n     <use style=\"fill:#a0cbe2;stroke:#a0cbe2;\" x=\"174.831749\" xlink:href=\"#m82cb5d3931\" y=\"47.957392\"/>\r\n     <use style=\"fill:#a0cbe2;stroke:#a0cbe2;\" x=\"120.186897\" xlink:href=\"#m82cb5d3931\" y=\"66.631738\"/>\r\n     <use style=\"fill:#a0cbe2;stroke:#a0cbe2;\" x=\"219.311068\" xlink:href=\"#m82cb5d3931\" y=\"228.005017\"/>\r\n     <use style=\"fill:#a0cbe2;stroke:#a0cbe2;\" x=\"208.753413\" xlink:href=\"#m82cb5d3931\" y=\"198.317946\"/>\r\n     <use style=\"fill:#a0cbe2;stroke:#a0cbe2;\" x=\"162.735465\" xlink:href=\"#m82cb5d3931\" y=\"130.083187\"/>\r\n     <use style=\"fill:#a0cbe2;stroke:#a0cbe2;\" x=\"194.968408\" xlink:href=\"#m82cb5d3931\" y=\"232.516799\"/>\r\n     <use style=\"fill:#a0cbe2;stroke:#a0cbe2;\" x=\"209.315616\" xlink:href=\"#m82cb5d3931\" y=\"170.87205\"/>\r\n     <use style=\"fill:#a0cbe2;stroke:#a0cbe2;\" x=\"226.990303\" xlink:href=\"#m82cb5d3931\" y=\"109.754585\"/>\r\n     <use style=\"fill:#a0cbe2;stroke:#a0cbe2;\" x=\"159.421357\" xlink:href=\"#m82cb5d3931\" y=\"32.191736\"/>\r\n     <use style=\"fill:#a0cbe2;stroke:#a0cbe2;\" x=\"111.216807\" xlink:href=\"#m82cb5d3931\" y=\"36.010306\"/>\r\n     <use style=\"fill:#a0cbe2;stroke:#a0cbe2;\" x=\"150.522177\" xlink:href=\"#m82cb5d3931\" y=\"173.37036\"/>\r\n     <use style=\"fill:#a0cbe2;stroke:#a0cbe2;\" x=\"316.263617\" xlink:href=\"#m82cb5d3931\" y=\"270.208264\"/>\r\n     <use style=\"fill:#a0cbe2;stroke:#a0cbe2;\" x=\"273.341595\" xlink:href=\"#m82cb5d3931\" y=\"222.192314\"/>\r\n     <use style=\"fill:#a0cbe2;stroke:#a0cbe2;\" x=\"230.459915\" xlink:href=\"#m82cb5d3931\" y=\"179.367584\"/>\r\n    </g>\r\n   </g>\r\n   <g id=\"text_1\">\r\n    <g clip-path=\"url(#p3671af9af1)\">\r\n     <!-- Apollo -->\r\n     <defs>\r\n      <path d=\"M 34.1875 63.1875 \r\nL 20.796875 26.90625 \r\nL 47.609375 26.90625 \r\nz\r\nM 28.609375 72.90625 \r\nL 39.796875 72.90625 \r\nL 67.578125 0 \r\nL 57.328125 0 \r\nL 50.6875 18.703125 \r\nL 17.828125 18.703125 \r\nL 11.1875 0 \r\nL 0.78125 0 \r\nz\r\n\" id=\"DejaVuSans-65\"/>\r\n      <path d=\"M 18.109375 8.203125 \r\nL 18.109375 -20.796875 \r\nL 9.078125 -20.796875 \r\nL 9.078125 54.6875 \r\nL 18.109375 54.6875 \r\nL 18.109375 46.390625 \r\nQ 20.953125 51.265625 25.265625 53.625 \r\nQ 29.59375 56 35.59375 56 \r\nQ 45.5625 56 51.78125 48.09375 \r\nQ 58.015625 40.1875 58.015625 27.296875 \r\nQ 58.015625 14.40625 51.78125 6.484375 \r\nQ 45.5625 -1.421875 35.59375 -1.421875 \r\nQ 29.59375 -1.421875 25.265625 0.953125 \r\nQ 20.953125 3.328125 18.109375 8.203125 \r\nz\r\nM 48.6875 27.296875 \r\nQ 48.6875 37.203125 44.609375 42.84375 \r\nQ 40.53125 48.484375 33.40625 48.484375 \r\nQ 26.265625 48.484375 22.1875 42.84375 \r\nQ 18.109375 37.203125 18.109375 27.296875 \r\nQ 18.109375 17.390625 22.1875 11.75 \r\nQ 26.265625 6.109375 33.40625 6.109375 \r\nQ 40.53125 6.109375 44.609375 11.75 \r\nQ 48.6875 17.390625 48.6875 27.296875 \r\nz\r\n\" id=\"DejaVuSans-112\"/>\r\n      <path d=\"M 30.609375 48.390625 \r\nQ 23.390625 48.390625 19.1875 42.75 \r\nQ 14.984375 37.109375 14.984375 27.296875 \r\nQ 14.984375 17.484375 19.15625 11.84375 \r\nQ 23.34375 6.203125 30.609375 6.203125 \r\nQ 37.796875 6.203125 41.984375 11.859375 \r\nQ 46.1875 17.53125 46.1875 27.296875 \r\nQ 46.1875 37.015625 41.984375 42.703125 \r\nQ 37.796875 48.390625 30.609375 48.390625 \r\nz\r\nM 30.609375 56 \r\nQ 42.328125 56 49.015625 48.375 \r\nQ 55.71875 40.765625 55.71875 27.296875 \r\nQ 55.71875 13.875 49.015625 6.21875 \r\nQ 42.328125 -1.421875 30.609375 -1.421875 \r\nQ 18.84375 -1.421875 12.171875 6.21875 \r\nQ 5.515625 13.875 5.515625 27.296875 \r\nQ 5.515625 40.765625 12.171875 48.375 \r\nQ 18.84375 56 30.609375 56 \r\nz\r\n\" id=\"DejaVuSans-111\"/>\r\n      <path d=\"M 9.421875 75.984375 \r\nL 18.40625 75.984375 \r\nL 18.40625 0 \r\nL 9.421875 0 \r\nz\r\n\" id=\"DejaVuSans-108\"/>\r\n     </defs>\r\n     <g transform=\"translate(253.252316 182.180187)scale(0.08 -0.08)\">\r\n      <use xlink:href=\"#DejaVuSans-65\"/>\r\n      <use x=\"68.408203\" xlink:href=\"#DejaVuSans-112\"/>\r\n      <use x=\"131.884766\" xlink:href=\"#DejaVuSans-111\"/>\r\n      <use x=\"193.066406\" xlink:href=\"#DejaVuSans-108\"/>\r\n      <use x=\"220.849609\" xlink:href=\"#DejaVuSans-108\"/>\r\n      <use x=\"248.632812\" xlink:href=\"#DejaVuSans-111\"/>\r\n     </g>\r\n    </g>\r\n   </g>\r\n   <g id=\"text_2\">\r\n    <g clip-path=\"url(#p3671af9af1)\">\r\n     <!-- Superman -->\r\n     <defs>\r\n      <path d=\"M 53.515625 70.515625 \r\nL 53.515625 60.890625 \r\nQ 47.90625 63.578125 42.921875 64.890625 \r\nQ 37.9375 66.21875 33.296875 66.21875 \r\nQ 25.25 66.21875 20.875 63.09375 \r\nQ 16.5 59.96875 16.5 54.203125 \r\nQ 16.5 49.359375 19.40625 46.890625 \r\nQ 22.3125 44.4375 30.421875 42.921875 \r\nL 36.375 41.703125 \r\nQ 47.40625 39.59375 52.65625 34.296875 \r\nQ 57.90625 29 57.90625 20.125 \r\nQ 57.90625 9.515625 50.796875 4.046875 \r\nQ 43.703125 -1.421875 29.984375 -1.421875 \r\nQ 24.8125 -1.421875 18.96875 -0.25 \r\nQ 13.140625 0.921875 6.890625 3.21875 \r\nL 6.890625 13.375 \r\nQ 12.890625 10.015625 18.65625 8.296875 \r\nQ 24.421875 6.59375 29.984375 6.59375 \r\nQ 38.421875 6.59375 43.015625 9.90625 \r\nQ 47.609375 13.234375 47.609375 19.390625 \r\nQ 47.609375 24.75 44.3125 27.78125 \r\nQ 41.015625 30.8125 33.5 32.328125 \r\nL 27.484375 33.5 \r\nQ 16.453125 35.6875 11.515625 40.375 \r\nQ 6.59375 45.0625 6.59375 53.421875 \r\nQ 6.59375 63.09375 13.40625 68.65625 \r\nQ 20.21875 74.21875 32.171875 74.21875 \r\nQ 37.3125 74.21875 42.625 73.28125 \r\nQ 47.953125 72.359375 53.515625 70.515625 \r\nz\r\n\" id=\"DejaVuSans-83\"/>\r\n      <path d=\"M 8.5 21.578125 \r\nL 8.5 54.6875 \r\nL 17.484375 54.6875 \r\nL 17.484375 21.921875 \r\nQ 17.484375 14.15625 20.5 10.265625 \r\nQ 23.53125 6.390625 29.59375 6.390625 \r\nQ 36.859375 6.390625 41.078125 11.03125 \r\nQ 45.3125 15.671875 45.3125 23.6875 \r\nL 45.3125 54.6875 \r\nL 54.296875 54.6875 \r\nL 54.296875 0 \r\nL 45.3125 0 \r\nL 45.3125 8.40625 \r\nQ 42.046875 3.421875 37.71875 1 \r\nQ 33.40625 -1.421875 27.6875 -1.421875 \r\nQ 18.265625 -1.421875 13.375 4.4375 \r\nQ 8.5 10.296875 8.5 21.578125 \r\nz\r\nM 31.109375 56 \r\nz\r\n\" id=\"DejaVuSans-117\"/>\r\n      <path d=\"M 56.203125 29.59375 \r\nL 56.203125 25.203125 \r\nL 14.890625 25.203125 \r\nQ 15.484375 15.921875 20.484375 11.0625 \r\nQ 25.484375 6.203125 34.421875 6.203125 \r\nQ 39.59375 6.203125 44.453125 7.46875 \r\nQ 49.3125 8.734375 54.109375 11.28125 \r\nL 54.109375 2.78125 \r\nQ 49.265625 0.734375 44.1875 -0.34375 \r\nQ 39.109375 -1.421875 33.890625 -1.421875 \r\nQ 20.796875 -1.421875 13.15625 6.1875 \r\nQ 5.515625 13.8125 5.515625 26.8125 \r\nQ 5.515625 40.234375 12.765625 48.109375 \r\nQ 20.015625 56 32.328125 56 \r\nQ 43.359375 56 49.78125 48.890625 \r\nQ 56.203125 41.796875 56.203125 29.59375 \r\nz\r\nM 47.21875 32.234375 \r\nQ 47.125 39.59375 43.09375 43.984375 \r\nQ 39.0625 48.390625 32.421875 48.390625 \r\nQ 24.90625 48.390625 20.390625 44.140625 \r\nQ 15.875 39.890625 15.1875 32.171875 \r\nz\r\n\" id=\"DejaVuSans-101\"/>\r\n      <path d=\"M 41.109375 46.296875 \r\nQ 39.59375 47.171875 37.8125 47.578125 \r\nQ 36.03125 48 33.890625 48 \r\nQ 26.265625 48 22.1875 43.046875 \r\nQ 18.109375 38.09375 18.109375 28.8125 \r\nL 18.109375 0 \r\nL 9.078125 0 \r\nL 9.078125 54.6875 \r\nL 18.109375 54.6875 \r\nL 18.109375 46.1875 \r\nQ 20.953125 51.171875 25.484375 53.578125 \r\nQ 30.03125 56 36.53125 56 \r\nQ 37.453125 56 38.578125 55.875 \r\nQ 39.703125 55.765625 41.0625 55.515625 \r\nz\r\n\" id=\"DejaVuSans-114\"/>\r\n      <path d=\"M 52 44.1875 \r\nQ 55.375 50.25 60.0625 53.125 \r\nQ 64.75 56 71.09375 56 \r\nQ 79.640625 56 84.28125 50.015625 \r\nQ 88.921875 44.046875 88.921875 33.015625 \r\nL 88.921875 0 \r\nL 79.890625 0 \r\nL 79.890625 32.71875 \r\nQ 79.890625 40.578125 77.09375 44.375 \r\nQ 74.3125 48.1875 68.609375 48.1875 \r\nQ 61.625 48.1875 57.5625 43.546875 \r\nQ 53.515625 38.921875 53.515625 30.90625 \r\nL 53.515625 0 \r\nL 44.484375 0 \r\nL 44.484375 32.71875 \r\nQ 44.484375 40.625 41.703125 44.40625 \r\nQ 38.921875 48.1875 33.109375 48.1875 \r\nQ 26.21875 48.1875 22.15625 43.53125 \r\nQ 18.109375 38.875 18.109375 30.90625 \r\nL 18.109375 0 \r\nL 9.078125 0 \r\nL 9.078125 54.6875 \r\nL 18.109375 54.6875 \r\nL 18.109375 46.1875 \r\nQ 21.1875 51.21875 25.484375 53.609375 \r\nQ 29.78125 56 35.6875 56 \r\nQ 41.65625 56 45.828125 52.96875 \r\nQ 50 49.953125 52 44.1875 \r\nz\r\n\" id=\"DejaVuSans-109\"/>\r\n      <path d=\"M 34.28125 27.484375 \r\nQ 23.390625 27.484375 19.1875 25 \r\nQ 14.984375 22.515625 14.984375 16.5 \r\nQ 14.984375 11.71875 18.140625 8.90625 \r\nQ 21.296875 6.109375 26.703125 6.109375 \r\nQ 34.1875 6.109375 38.703125 11.40625 \r\nQ 43.21875 16.703125 43.21875 25.484375 \r\nL 43.21875 27.484375 \r\nz\r\nM 52.203125 31.203125 \r\nL 52.203125 0 \r\nL 43.21875 0 \r\nL 43.21875 8.296875 \r\nQ 40.140625 3.328125 35.546875 0.953125 \r\nQ 30.953125 -1.421875 24.3125 -1.421875 \r\nQ 15.921875 -1.421875 10.953125 3.296875 \r\nQ 6 8.015625 6 15.921875 \r\nQ 6 25.140625 12.171875 29.828125 \r\nQ 18.359375 34.515625 30.609375 34.515625 \r\nL 43.21875 34.515625 \r\nL 43.21875 35.40625 \r\nQ 43.21875 41.609375 39.140625 45 \r\nQ 35.0625 48.390625 27.6875 48.390625 \r\nQ 23 48.390625 18.546875 47.265625 \r\nQ 14.109375 46.140625 10.015625 43.890625 \r\nL 10.015625 52.203125 \r\nQ 14.9375 54.109375 19.578125 55.046875 \r\nQ 24.21875 56 28.609375 56 \r\nQ 40.484375 56 46.34375 49.84375 \r\nQ 52.203125 43.703125 52.203125 31.203125 \r\nz\r\n\" id=\"DejaVuSans-97\"/>\r\n      <path d=\"M 54.890625 33.015625 \r\nL 54.890625 0 \r\nL 45.90625 0 \r\nL 45.90625 32.71875 \r\nQ 45.90625 40.484375 42.875 44.328125 \r\nQ 39.84375 48.1875 33.796875 48.1875 \r\nQ 26.515625 48.1875 22.3125 43.546875 \r\nQ 18.109375 38.921875 18.109375 30.90625 \r\nL 18.109375 0 \r\nL 9.078125 0 \r\nL 9.078125 54.6875 \r\nL 18.109375 54.6875 \r\nL 18.109375 46.1875 \r\nQ 21.34375 51.125 25.703125 53.5625 \r\nQ 30.078125 56 35.796875 56 \r\nQ 45.21875 56 50.046875 50.171875 \r\nQ 54.890625 44.34375 54.890625 33.015625 \r\nz\r\n\" id=\"DejaVuSans-110\"/>\r\n     </defs>\r\n     <g transform=\"translate(69.837979 236.218998)scale(0.08 -0.08)\">\r\n      <use xlink:href=\"#DejaVuSans-83\"/>\r\n      <use x=\"63.476562\" xlink:href=\"#DejaVuSans-117\"/>\r\n      <use x=\"126.855469\" xlink:href=\"#DejaVuSans-112\"/>\r\n      <use x=\"190.332031\" xlink:href=\"#DejaVuSans-101\"/>\r\n      <use x=\"251.855469\" xlink:href=\"#DejaVuSans-114\"/>\r\n      <use x=\"292.953125\" xlink:href=\"#DejaVuSans-109\"/>\r\n      <use x=\"390.365234\" xlink:href=\"#DejaVuSans-97\"/>\r\n      <use x=\"451.644531\" xlink:href=\"#DejaVuSans-110\"/>\r\n     </g>\r\n    </g>\r\n   </g>\r\n   <g id=\"text_3\">\r\n    <g clip-path=\"url(#p3671af9af1)\">\r\n     <!-- Canada -->\r\n     <defs>\r\n      <path d=\"M 64.40625 67.28125 \r\nL 64.40625 56.890625 \r\nQ 59.421875 61.53125 53.78125 63.8125 \r\nQ 48.140625 66.109375 41.796875 66.109375 \r\nQ 29.296875 66.109375 22.65625 58.46875 \r\nQ 16.015625 50.828125 16.015625 36.375 \r\nQ 16.015625 21.96875 22.65625 14.328125 \r\nQ 29.296875 6.6875 41.796875 6.6875 \r\nQ 48.140625 6.6875 53.78125 8.984375 \r\nQ 59.421875 11.28125 64.40625 15.921875 \r\nL 64.40625 5.609375 \r\nQ 59.234375 2.09375 53.4375 0.328125 \r\nQ 47.65625 -1.421875 41.21875 -1.421875 \r\nQ 24.65625 -1.421875 15.125 8.703125 \r\nQ 5.609375 18.84375 5.609375 36.375 \r\nQ 5.609375 53.953125 15.125 64.078125 \r\nQ 24.65625 74.21875 41.21875 74.21875 \r\nQ 47.75 74.21875 53.53125 72.484375 \r\nQ 59.328125 70.75 64.40625 67.28125 \r\nz\r\n\" id=\"DejaVuSans-67\"/>\r\n      <path d=\"M 45.40625 46.390625 \r\nL 45.40625 75.984375 \r\nL 54.390625 75.984375 \r\nL 54.390625 0 \r\nL 45.40625 0 \r\nL 45.40625 8.203125 \r\nQ 42.578125 3.328125 38.25 0.953125 \r\nQ 33.9375 -1.421875 27.875 -1.421875 \r\nQ 17.96875 -1.421875 11.734375 6.484375 \r\nQ 5.515625 14.40625 5.515625 27.296875 \r\nQ 5.515625 40.1875 11.734375 48.09375 \r\nQ 17.96875 56 27.875 56 \r\nQ 33.9375 56 38.25 53.625 \r\nQ 42.578125 51.265625 45.40625 46.390625 \r\nz\r\nM 14.796875 27.296875 \r\nQ 14.796875 17.390625 18.875 11.75 \r\nQ 22.953125 6.109375 30.078125 6.109375 \r\nQ 37.203125 6.109375 41.296875 11.75 \r\nQ 45.40625 17.390625 45.40625 27.296875 \r\nQ 45.40625 37.203125 41.296875 42.84375 \r\nQ 37.203125 48.484375 30.078125 48.484375 \r\nQ 22.953125 48.484375 18.875 42.84375 \r\nQ 14.796875 37.203125 14.796875 27.296875 \r\nz\r\n\" id=\"DejaVuSans-100\"/>\r\n     </defs>\r\n     <g transform=\"translate(57.560472 173.358823)scale(0.08 -0.08)\">\r\n      <use xlink:href=\"#DejaVuSans-67\"/>\r\n      <use x=\"69.824219\" xlink:href=\"#DejaVuSans-97\"/>\r\n      <use x=\"131.103516\" xlink:href=\"#DejaVuSans-110\"/>\r\n      <use x=\"194.482422\" xlink:href=\"#DejaVuSans-97\"/>\r\n      <use x=\"255.761719\" xlink:href=\"#DejaVuSans-100\"/>\r\n      <use x=\"319.238281\" xlink:href=\"#DejaVuSans-97\"/>\r\n     </g>\r\n    </g>\r\n   </g>\r\n   <g id=\"text_4\">\r\n    <g clip-path=\"url(#p3671af9af1)\">\r\n     <!-- North_America -->\r\n     <defs>\r\n      <path d=\"M 9.8125 72.90625 \r\nL 23.09375 72.90625 \r\nL 55.421875 11.921875 \r\nL 55.421875 72.90625 \r\nL 64.984375 72.90625 \r\nL 64.984375 0 \r\nL 51.703125 0 \r\nL 19.390625 60.984375 \r\nL 19.390625 0 \r\nL 9.8125 0 \r\nz\r\n\" id=\"DejaVuSans-78\"/>\r\n      <path d=\"M 18.3125 70.21875 \r\nL 18.3125 54.6875 \r\nL 36.8125 54.6875 \r\nL 36.8125 47.703125 \r\nL 18.3125 47.703125 \r\nL 18.3125 18.015625 \r\nQ 18.3125 11.328125 20.140625 9.421875 \r\nQ 21.96875 7.515625 27.59375 7.515625 \r\nL 36.8125 7.515625 \r\nL 36.8125 0 \r\nL 27.59375 0 \r\nQ 17.1875 0 13.234375 3.875 \r\nQ 9.28125 7.765625 9.28125 18.015625 \r\nL 9.28125 47.703125 \r\nL 2.6875 47.703125 \r\nL 2.6875 54.6875 \r\nL 9.28125 54.6875 \r\nL 9.28125 70.21875 \r\nz\r\n\" id=\"DejaVuSans-116\"/>\r\n      <path d=\"M 54.890625 33.015625 \r\nL 54.890625 0 \r\nL 45.90625 0 \r\nL 45.90625 32.71875 \r\nQ 45.90625 40.484375 42.875 44.328125 \r\nQ 39.84375 48.1875 33.796875 48.1875 \r\nQ 26.515625 48.1875 22.3125 43.546875 \r\nQ 18.109375 38.921875 18.109375 30.90625 \r\nL 18.109375 0 \r\nL 9.078125 0 \r\nL 9.078125 75.984375 \r\nL 18.109375 75.984375 \r\nL 18.109375 46.1875 \r\nQ 21.34375 51.125 25.703125 53.5625 \r\nQ 30.078125 56 35.796875 56 \r\nQ 45.21875 56 50.046875 50.171875 \r\nQ 54.890625 44.34375 54.890625 33.015625 \r\nz\r\n\" id=\"DejaVuSans-104\"/>\r\n      <path d=\"M 50.984375 -16.609375 \r\nL 50.984375 -23.578125 \r\nL -0.984375 -23.578125 \r\nL -0.984375 -16.609375 \r\nz\r\n\" id=\"DejaVuSans-95\"/>\r\n      <path d=\"M 9.421875 54.6875 \r\nL 18.40625 54.6875 \r\nL 18.40625 0 \r\nL 9.421875 0 \r\nz\r\nM 9.421875 75.984375 \r\nL 18.40625 75.984375 \r\nL 18.40625 64.59375 \r\nL 9.421875 64.59375 \r\nz\r\n\" id=\"DejaVuSans-105\"/>\r\n      <path d=\"M 48.78125 52.59375 \r\nL 48.78125 44.1875 \r\nQ 44.96875 46.296875 41.140625 47.34375 \r\nQ 37.3125 48.390625 33.40625 48.390625 \r\nQ 24.65625 48.390625 19.8125 42.84375 \r\nQ 14.984375 37.3125 14.984375 27.296875 \r\nQ 14.984375 17.28125 19.8125 11.734375 \r\nQ 24.65625 6.203125 33.40625 6.203125 \r\nQ 37.3125 6.203125 41.140625 7.25 \r\nQ 44.96875 8.296875 48.78125 10.40625 \r\nL 48.78125 2.09375 \r\nQ 45.015625 0.34375 40.984375 -0.53125 \r\nQ 36.96875 -1.421875 32.421875 -1.421875 \r\nQ 20.0625 -1.421875 12.78125 6.34375 \r\nQ 5.515625 14.109375 5.515625 27.296875 \r\nQ 5.515625 40.671875 12.859375 48.328125 \r\nQ 20.21875 56 33.015625 56 \r\nQ 37.15625 56 41.109375 55.140625 \r\nQ 45.0625 54.296875 48.78125 52.59375 \r\nz\r\n\" id=\"DejaVuSans-99\"/>\r\n     </defs>\r\n     <g transform=\"translate(15.000103 115.455277)scale(0.08 -0.08)\">\r\n      <use xlink:href=\"#DejaVuSans-78\"/>\r\n      <use x=\"74.804688\" xlink:href=\"#DejaVuSans-111\"/>\r\n      <use x=\"135.986328\" xlink:href=\"#DejaVuSans-114\"/>\r\n      <use x=\"177.099609\" xlink:href=\"#DejaVuSans-116\"/>\r\n      <use x=\"216.308594\" xlink:href=\"#DejaVuSans-104\"/>\r\n      <use x=\"279.6875\" xlink:href=\"#DejaVuSans-95\"/>\r\n      <use x=\"329.6875\" xlink:href=\"#DejaVuSans-65\"/>\r\n      <use x=\"398.095703\" xlink:href=\"#DejaVuSans-109\"/>\r\n      <use x=\"495.507812\" xlink:href=\"#DejaVuSans-101\"/>\r\n      <use x=\"557.03125\" xlink:href=\"#DejaVuSans-114\"/>\r\n      <use x=\"598.144531\" xlink:href=\"#DejaVuSans-105\"/>\r\n      <use x=\"625.927734\" xlink:href=\"#DejaVuSans-99\"/>\r\n      <use x=\"680.908203\" xlink:href=\"#DejaVuSans-97\"/>\r\n     </g>\r\n    </g>\r\n   </g>\r\n   <g id=\"text_5\">\r\n    <g clip-path=\"url(#p3671af9af1)\">\r\n     <!-- Rocky_Mountains -->\r\n     <defs>\r\n      <path d=\"M 44.390625 34.1875 \r\nQ 47.5625 33.109375 50.5625 29.59375 \r\nQ 53.5625 26.078125 56.59375 19.921875 \r\nL 66.609375 0 \r\nL 56 0 \r\nL 46.6875 18.703125 \r\nQ 43.0625 26.03125 39.671875 28.421875 \r\nQ 36.28125 30.8125 30.421875 30.8125 \r\nL 19.671875 30.8125 \r\nL 19.671875 0 \r\nL 9.8125 0 \r\nL 9.8125 72.90625 \r\nL 32.078125 72.90625 \r\nQ 44.578125 72.90625 50.734375 67.671875 \r\nQ 56.890625 62.453125 56.890625 51.90625 \r\nQ 56.890625 45.015625 53.6875 40.46875 \r\nQ 50.484375 35.9375 44.390625 34.1875 \r\nz\r\nM 19.671875 64.796875 \r\nL 19.671875 38.921875 \r\nL 32.078125 38.921875 \r\nQ 39.203125 38.921875 42.84375 42.21875 \r\nQ 46.484375 45.515625 46.484375 51.90625 \r\nQ 46.484375 58.296875 42.84375 61.546875 \r\nQ 39.203125 64.796875 32.078125 64.796875 \r\nz\r\n\" id=\"DejaVuSans-82\"/>\r\n      <path d=\"M 9.078125 75.984375 \r\nL 18.109375 75.984375 \r\nL 18.109375 31.109375 \r\nL 44.921875 54.6875 \r\nL 56.390625 54.6875 \r\nL 27.390625 29.109375 \r\nL 57.625 0 \r\nL 45.90625 0 \r\nL 18.109375 26.703125 \r\nL 18.109375 0 \r\nL 9.078125 0 \r\nz\r\n\" id=\"DejaVuSans-107\"/>\r\n      <path d=\"M 32.171875 -5.078125 \r\nQ 28.375 -14.84375 24.75 -17.8125 \r\nQ 21.140625 -20.796875 15.09375 -20.796875 \r\nL 7.90625 -20.796875 \r\nL 7.90625 -13.28125 \r\nL 13.1875 -13.28125 \r\nQ 16.890625 -13.28125 18.9375 -11.515625 \r\nQ 21 -9.765625 23.484375 -3.21875 \r\nL 25.09375 0.875 \r\nL 2.984375 54.6875 \r\nL 12.5 54.6875 \r\nL 29.59375 11.921875 \r\nL 46.6875 54.6875 \r\nL 56.203125 54.6875 \r\nz\r\n\" id=\"DejaVuSans-121\"/>\r\n      <path d=\"M 9.8125 72.90625 \r\nL 24.515625 72.90625 \r\nL 43.109375 23.296875 \r\nL 61.8125 72.90625 \r\nL 76.515625 72.90625 \r\nL 76.515625 0 \r\nL 66.890625 0 \r\nL 66.890625 64.015625 \r\nL 48.09375 14.015625 \r\nL 38.1875 14.015625 \r\nL 19.390625 64.015625 \r\nL 19.390625 0 \r\nL 9.8125 0 \r\nz\r\n\" id=\"DejaVuSans-77\"/>\r\n      <path d=\"M 44.28125 53.078125 \r\nL 44.28125 44.578125 \r\nQ 40.484375 46.53125 36.375 47.5 \r\nQ 32.28125 48.484375 27.875 48.484375 \r\nQ 21.1875 48.484375 17.84375 46.4375 \r\nQ 14.5 44.390625 14.5 40.28125 \r\nQ 14.5 37.15625 16.890625 35.375 \r\nQ 19.28125 33.59375 26.515625 31.984375 \r\nL 29.59375 31.296875 \r\nQ 39.15625 29.25 43.1875 25.515625 \r\nQ 47.21875 21.78125 47.21875 15.09375 \r\nQ 47.21875 7.46875 41.1875 3.015625 \r\nQ 35.15625 -1.421875 24.609375 -1.421875 \r\nQ 20.21875 -1.421875 15.453125 -0.5625 \r\nQ 10.6875 0.296875 5.421875 2 \r\nL 5.421875 11.28125 \r\nQ 10.40625 8.6875 15.234375 7.390625 \r\nQ 20.0625 6.109375 24.8125 6.109375 \r\nQ 31.15625 6.109375 34.5625 8.28125 \r\nQ 37.984375 10.453125 37.984375 14.40625 \r\nQ 37.984375 18.0625 35.515625 20.015625 \r\nQ 33.0625 21.96875 24.703125 23.78125 \r\nL 21.578125 24.515625 \r\nQ 13.234375 26.265625 9.515625 29.90625 \r\nQ 5.8125 33.546875 5.8125 39.890625 \r\nQ 5.8125 47.609375 11.28125 51.796875 \r\nQ 16.75 56 26.8125 56 \r\nQ 31.78125 56 36.171875 55.265625 \r\nQ 40.578125 54.546875 44.28125 53.078125 \r\nz\r\n\" id=\"DejaVuSans-115\"/>\r\n     </defs>\r\n     <g transform=\"translate(52.350132 106.295386)scale(0.08 -0.08)\">\r\n      <use xlink:href=\"#DejaVuSans-82\"/>\r\n      <use x=\"69.419922\" xlink:href=\"#DejaVuSans-111\"/>\r\n      <use x=\"130.601562\" xlink:href=\"#DejaVuSans-99\"/>\r\n      <use x=\"185.582031\" xlink:href=\"#DejaVuSans-107\"/>\r\n      <use x=\"243.445312\" xlink:href=\"#DejaVuSans-121\"/>\r\n      <use x=\"302.625\" xlink:href=\"#DejaVuSans-95\"/>\r\n      <use x=\"352.625\" xlink:href=\"#DejaVuSans-77\"/>\r\n      <use x=\"438.904297\" xlink:href=\"#DejaVuSans-111\"/>\r\n      <use x=\"500.085938\" xlink:href=\"#DejaVuSans-117\"/>\r\n      <use x=\"563.464844\" xlink:href=\"#DejaVuSans-110\"/>\r\n      <use x=\"626.84375\" xlink:href=\"#DejaVuSans-116\"/>\r\n      <use x=\"666.052734\" xlink:href=\"#DejaVuSans-97\"/>\r\n      <use x=\"727.332031\" xlink:href=\"#DejaVuSans-105\"/>\r\n      <use x=\"755.115234\" xlink:href=\"#DejaVuSans-110\"/>\r\n      <use x=\"818.494141\" xlink:href=\"#DejaVuSans-115\"/>\r\n     </g>\r\n    </g>\r\n   </g>\r\n   <g id=\"text_6\">\r\n    <g clip-path=\"url(#p3671af9af1)\">\r\n     <!-- Skiing -->\r\n     <defs>\r\n      <path d=\"M 45.40625 27.984375 \r\nQ 45.40625 37.75 41.375 43.109375 \r\nQ 37.359375 48.484375 30.078125 48.484375 \r\nQ 22.859375 48.484375 18.828125 43.109375 \r\nQ 14.796875 37.75 14.796875 27.984375 \r\nQ 14.796875 18.265625 18.828125 12.890625 \r\nQ 22.859375 7.515625 30.078125 7.515625 \r\nQ 37.359375 7.515625 41.375 12.890625 \r\nQ 45.40625 18.265625 45.40625 27.984375 \r\nz\r\nM 54.390625 6.78125 \r\nQ 54.390625 -7.171875 48.1875 -13.984375 \r\nQ 42 -20.796875 29.203125 -20.796875 \r\nQ 24.46875 -20.796875 20.265625 -20.09375 \r\nQ 16.0625 -19.390625 12.109375 -17.921875 \r\nL 12.109375 -9.1875 \r\nQ 16.0625 -11.328125 19.921875 -12.34375 \r\nQ 23.78125 -13.375 27.78125 -13.375 \r\nQ 36.625 -13.375 41.015625 -8.765625 \r\nQ 45.40625 -4.15625 45.40625 5.171875 \r\nL 45.40625 9.625 \r\nQ 42.625 4.78125 38.28125 2.390625 \r\nQ 33.9375 0 27.875 0 \r\nQ 17.828125 0 11.671875 7.65625 \r\nQ 5.515625 15.328125 5.515625 27.984375 \r\nQ 5.515625 40.671875 11.671875 48.328125 \r\nQ 17.828125 56 27.875 56 \r\nQ 33.9375 56 38.28125 53.609375 \r\nQ 42.625 51.21875 45.40625 46.390625 \r\nL 45.40625 54.6875 \r\nL 54.390625 54.6875 \r\nz\r\n\" id=\"DejaVuSans-103\"/>\r\n     </defs>\r\n     <g transform=\"translate(73.048544 69.29518)scale(0.08 -0.08)\">\r\n      <use xlink:href=\"#DejaVuSans-83\"/>\r\n      <use x=\"63.476562\" xlink:href=\"#DejaVuSans-107\"/>\r\n      <use x=\"121.386719\" xlink:href=\"#DejaVuSans-105\"/>\r\n      <use x=\"149.169922\" xlink:href=\"#DejaVuSans-105\"/>\r\n      <use x=\"176.953125\" xlink:href=\"#DejaVuSans-110\"/>\r\n      <use x=\"240.332031\" xlink:href=\"#DejaVuSans-103\"/>\r\n     </g>\r\n    </g>\r\n   </g>\r\n   <g id=\"text_7\">\r\n    <g clip-path=\"url(#p3671af9af1)\">\r\n     <!-- Roman_mythology -->\r\n     <g transform=\"translate(364.325522 47.278573)scale(0.08 -0.08)\">\r\n      <use xlink:href=\"#DejaVuSans-82\"/>\r\n      <use x=\"69.419922\" xlink:href=\"#DejaVuSans-111\"/>\r\n      <use x=\"130.601562\" xlink:href=\"#DejaVuSans-109\"/>\r\n      <use x=\"228.013672\" xlink:href=\"#DejaVuSans-97\"/>\r\n      <use x=\"289.292969\" xlink:href=\"#DejaVuSans-110\"/>\r\n      <use x=\"352.671875\" xlink:href=\"#DejaVuSans-95\"/>\r\n      <use x=\"402.671875\" xlink:href=\"#DejaVuSans-109\"/>\r\n      <use x=\"500.083984\" xlink:href=\"#DejaVuSans-121\"/>\r\n      <use x=\"559.263672\" xlink:href=\"#DejaVuSans-116\"/>\r\n      <use x=\"598.472656\" xlink:href=\"#DejaVuSans-104\"/>\r\n      <use x=\"661.851562\" xlink:href=\"#DejaVuSans-111\"/>\r\n      <use x=\"723.033203\" xlink:href=\"#DejaVuSans-108\"/>\r\n      <use x=\"750.816406\" xlink:href=\"#DejaVuSans-111\"/>\r\n      <use x=\"811.998047\" xlink:href=\"#DejaVuSans-103\"/>\r\n      <use x=\"875.474609\" xlink:href=\"#DejaVuSans-121\"/>\r\n     </g>\r\n    </g>\r\n   </g>\r\n   <g id=\"text_8\">\r\n    <g clip-path=\"url(#p3671af9af1)\">\r\n     <!-- Religion -->\r\n     <g transform=\"translate(335.274144 46.610313)scale(0.08 -0.08)\">\r\n      <use xlink:href=\"#DejaVuSans-82\"/>\r\n      <use x=\"69.419922\" xlink:href=\"#DejaVuSans-101\"/>\r\n      <use x=\"130.943359\" xlink:href=\"#DejaVuSans-108\"/>\r\n      <use x=\"158.726562\" xlink:href=\"#DejaVuSans-105\"/>\r\n      <use x=\"186.509766\" xlink:href=\"#DejaVuSans-103\"/>\r\n      <use x=\"249.986328\" xlink:href=\"#DejaVuSans-105\"/>\r\n      <use x=\"277.769531\" xlink:href=\"#DejaVuSans-111\"/>\r\n      <use x=\"338.951172\" xlink:href=\"#DejaVuSans-110\"/>\r\n     </g>\r\n    </g>\r\n   </g>\r\n   <g id=\"text_9\">\r\n    <g clip-path=\"url(#p3671af9af1)\">\r\n     <!-- Soviet_Union -->\r\n     <defs>\r\n      <path d=\"M 2.984375 54.6875 \r\nL 12.5 54.6875 \r\nL 29.59375 8.796875 \r\nL 46.6875 54.6875 \r\nL 56.203125 54.6875 \r\nL 35.6875 0 \r\nL 23.484375 0 \r\nz\r\n\" id=\"DejaVuSans-118\"/>\r\n      <path d=\"M 8.6875 72.90625 \r\nL 18.609375 72.90625 \r\nL 18.609375 28.609375 \r\nQ 18.609375 16.890625 22.84375 11.734375 \r\nQ 27.09375 6.59375 36.625 6.59375 \r\nQ 46.09375 6.59375 50.34375 11.734375 \r\nQ 54.59375 16.890625 54.59375 28.609375 \r\nL 54.59375 72.90625 \r\nL 64.5 72.90625 \r\nL 64.5 27.390625 \r\nQ 64.5 13.140625 57.4375 5.859375 \r\nQ 50.390625 -1.421875 36.625 -1.421875 \r\nQ 22.796875 -1.421875 15.734375 5.859375 \r\nQ 8.6875 13.140625 8.6875 27.390625 \r\nz\r\n\" id=\"DejaVuSans-85\"/>\r\n     </defs>\r\n     <g transform=\"translate(274.888977 46.570023)scale(0.08 -0.08)\">\r\n      <use xlink:href=\"#DejaVuSans-83\"/>\r\n      <use x=\"63.476562\" xlink:href=\"#DejaVuSans-111\"/>\r\n      <use x=\"124.658203\" xlink:href=\"#DejaVuSans-118\"/>\r\n      <use x=\"183.837891\" xlink:href=\"#DejaVuSans-105\"/>\r\n      <use x=\"211.621094\" xlink:href=\"#DejaVuSans-101\"/>\r\n      <use x=\"273.144531\" xlink:href=\"#DejaVuSans-116\"/>\r\n      <use x=\"312.353516\" xlink:href=\"#DejaVuSans-95\"/>\r\n      <use x=\"362.353516\" xlink:href=\"#DejaVuSans-85\"/>\r\n      <use x=\"435.546875\" xlink:href=\"#DejaVuSans-110\"/>\r\n      <use x=\"498.925781\" xlink:href=\"#DejaVuSans-105\"/>\r\n      <use x=\"526.708984\" xlink:href=\"#DejaVuSans-111\"/>\r\n      <use x=\"587.890625\" xlink:href=\"#DejaVuSans-110\"/>\r\n     </g>\r\n    </g>\r\n   </g>\r\n   <g id=\"text_10\">\r\n    <g clip-path=\"url(#p3671af9af1)\">\r\n     <!-- Climate -->\r\n     <g transform=\"translate(226.033707 40.920377)scale(0.08 -0.08)\">\r\n      <use xlink:href=\"#DejaVuSans-67\"/>\r\n      <use x=\"69.824219\" xlink:href=\"#DejaVuSans-108\"/>\r\n      <use x=\"97.607422\" xlink:href=\"#DejaVuSans-105\"/>\r\n      <use x=\"125.390625\" xlink:href=\"#DejaVuSans-109\"/>\r\n      <use x=\"222.802734\" xlink:href=\"#DejaVuSans-97\"/>\r\n      <use x=\"284.082031\" xlink:href=\"#DejaVuSans-116\"/>\r\n      <use x=\"323.291016\" xlink:href=\"#DejaVuSans-101\"/>\r\n     </g>\r\n    </g>\r\n   </g>\r\n   <g id=\"text_11\">\r\n    <g clip-path=\"url(#p3671af9af1)\">\r\n     <!-- Weather -->\r\n     <defs>\r\n      <path d=\"M 3.328125 72.90625 \r\nL 13.28125 72.90625 \r\nL 28.609375 11.28125 \r\nL 43.890625 72.90625 \r\nL 54.984375 72.90625 \r\nL 70.3125 11.28125 \r\nL 85.59375 72.90625 \r\nL 95.609375 72.90625 \r\nL 77.296875 0 \r\nL 64.890625 0 \r\nL 49.515625 63.28125 \r\nL 33.984375 0 \r\nL 21.578125 0 \r\nz\r\n\" id=\"DejaVuSans-87\"/>\r\n     </defs>\r\n     <g transform=\"translate(157.758624 50.164892)scale(0.08 -0.08)\">\r\n      <use xlink:href=\"#DejaVuSans-87\"/>\r\n      <use x=\"98.798828\" xlink:href=\"#DejaVuSans-101\"/>\r\n      <use x=\"160.322266\" xlink:href=\"#DejaVuSans-97\"/>\r\n      <use x=\"221.601562\" xlink:href=\"#DejaVuSans-116\"/>\r\n      <use x=\"260.810547\" xlink:href=\"#DejaVuSans-104\"/>\r\n      <use x=\"324.189453\" xlink:href=\"#DejaVuSans-101\"/>\r\n      <use x=\"385.712891\" xlink:href=\"#DejaVuSans-114\"/>\r\n     </g>\r\n    </g>\r\n   </g>\r\n   <g id=\"text_12\">\r\n    <g clip-path=\"url(#p3671af9af1)\">\r\n     <!-- Snow -->\r\n     <defs>\r\n      <path d=\"M 4.203125 54.6875 \r\nL 13.1875 54.6875 \r\nL 24.421875 12.015625 \r\nL 35.59375 54.6875 \r\nL 46.1875 54.6875 \r\nL 57.421875 12.015625 \r\nL 68.609375 54.6875 \r\nL 77.59375 54.6875 \r\nL 63.28125 0 \r\nL 52.6875 0 \r\nL 40.921875 44.828125 \r\nL 29.109375 0 \r\nL 18.5 0 \r\nz\r\n\" id=\"DejaVuSans-119\"/>\r\n     </defs>\r\n     <g transform=\"translate(109.393772 68.839238)scale(0.08 -0.08)\">\r\n      <use xlink:href=\"#DejaVuSans-83\"/>\r\n      <use x=\"63.476562\" xlink:href=\"#DejaVuSans-110\"/>\r\n      <use x=\"126.855469\" xlink:href=\"#DejaVuSans-111\"/>\r\n      <use x=\"188.037109\" xlink:href=\"#DejaVuSans-119\"/>\r\n     </g>\r\n    </g>\r\n   </g>\r\n   <g id=\"text_13\">\r\n    <g clip-path=\"url(#p3671af9af1)\">\r\n     <!-- Greek_mythology -->\r\n     <defs>\r\n      <path d=\"M 59.515625 10.40625 \r\nL 59.515625 29.984375 \r\nL 43.40625 29.984375 \r\nL 43.40625 38.09375 \r\nL 69.28125 38.09375 \r\nL 69.28125 6.78125 \r\nQ 63.578125 2.734375 56.6875 0.65625 \r\nQ 49.8125 -1.421875 42 -1.421875 \r\nQ 24.90625 -1.421875 15.25 8.5625 \r\nQ 5.609375 18.5625 5.609375 36.375 \r\nQ 5.609375 54.25 15.25 64.234375 \r\nQ 24.90625 74.21875 42 74.21875 \r\nQ 49.125 74.21875 55.546875 72.453125 \r\nQ 61.96875 70.703125 67.390625 67.28125 \r\nL 67.390625 56.78125 \r\nQ 61.921875 61.421875 55.765625 63.765625 \r\nQ 49.609375 66.109375 42.828125 66.109375 \r\nQ 29.4375 66.109375 22.71875 58.640625 \r\nQ 16.015625 51.171875 16.015625 36.375 \r\nQ 16.015625 21.625 22.71875 14.15625 \r\nQ 29.4375 6.6875 42.828125 6.6875 \r\nQ 48.046875 6.6875 52.140625 7.59375 \r\nQ 56.25 8.5 59.515625 10.40625 \r\nz\r\n\" id=\"DejaVuSans-71\"/>\r\n     </defs>\r\n     <g transform=\"translate(184.049818 230.101267)scale(0.08 -0.08)\">\r\n      <use xlink:href=\"#DejaVuSans-71\"/>\r\n      <use x=\"77.490234\" xlink:href=\"#DejaVuSans-114\"/>\r\n      <use x=\"118.572266\" xlink:href=\"#DejaVuSans-101\"/>\r\n      <use x=\"180.095703\" xlink:href=\"#DejaVuSans-101\"/>\r\n      <use x=\"241.619141\" xlink:href=\"#DejaVuSans-107\"/>\r\n      <use x=\"299.529297\" xlink:href=\"#DejaVuSans-95\"/>\r\n      <use x=\"349.529297\" xlink:href=\"#DejaVuSans-109\"/>\r\n      <use x=\"446.941406\" xlink:href=\"#DejaVuSans-121\"/>\r\n      <use x=\"506.121094\" xlink:href=\"#DejaVuSans-116\"/>\r\n      <use x=\"545.330078\" xlink:href=\"#DejaVuSans-104\"/>\r\n      <use x=\"608.708984\" xlink:href=\"#DejaVuSans-111\"/>\r\n      <use x=\"669.890625\" xlink:href=\"#DejaVuSans-108\"/>\r\n      <use x=\"697.673828\" xlink:href=\"#DejaVuSans-111\"/>\r\n      <use x=\"758.855469\" xlink:href=\"#DejaVuSans-103\"/>\r\n      <use x=\"822.332031\" xlink:href=\"#DejaVuSans-121\"/>\r\n     </g>\r\n    </g>\r\n   </g>\r\n   <g id=\"text_14\">\r\n    <g clip-path=\"url(#p3671af9af1)\">\r\n     <!-- Ancient_Greece -->\r\n     <g transform=\"translate(177.281538 200.414196)scale(0.08 -0.08)\">\r\n      <use xlink:href=\"#DejaVuSans-65\"/>\r\n      <use x=\"68.408203\" xlink:href=\"#DejaVuSans-110\"/>\r\n      <use x=\"131.787109\" xlink:href=\"#DejaVuSans-99\"/>\r\n      <use x=\"186.767578\" xlink:href=\"#DejaVuSans-105\"/>\r\n      <use x=\"214.550781\" xlink:href=\"#DejaVuSans-101\"/>\r\n      <use x=\"276.074219\" xlink:href=\"#DejaVuSans-110\"/>\r\n      <use x=\"339.453125\" xlink:href=\"#DejaVuSans-116\"/>\r\n      <use x=\"378.662109\" xlink:href=\"#DejaVuSans-95\"/>\r\n      <use x=\"428.662109\" xlink:href=\"#DejaVuSans-71\"/>\r\n      <use x=\"506.152344\" xlink:href=\"#DejaVuSans-114\"/>\r\n      <use x=\"547.234375\" xlink:href=\"#DejaVuSans-101\"/>\r\n      <use x=\"608.757812\" xlink:href=\"#DejaVuSans-101\"/>\r\n      <use x=\"670.28125\" xlink:href=\"#DejaVuSans-99\"/>\r\n      <use x=\"725.261719\" xlink:href=\"#DejaVuSans-101\"/>\r\n     </g>\r\n    </g>\r\n   </g>\r\n   <g id=\"text_15\">\r\n    <g clip-path=\"url(#p3671af9af1)\">\r\n     <!-- Olympic_Games -->\r\n     <defs>\r\n      <path d=\"M 39.40625 66.21875 \r\nQ 28.65625 66.21875 22.328125 58.203125 \r\nQ 16.015625 50.203125 16.015625 36.375 \r\nQ 16.015625 22.609375 22.328125 14.59375 \r\nQ 28.65625 6.59375 39.40625 6.59375 \r\nQ 50.140625 6.59375 56.421875 14.59375 \r\nQ 62.703125 22.609375 62.703125 36.375 \r\nQ 62.703125 50.203125 56.421875 58.203125 \r\nQ 50.140625 66.21875 39.40625 66.21875 \r\nz\r\nM 39.40625 74.21875 \r\nQ 54.734375 74.21875 63.90625 63.9375 \r\nQ 73.09375 53.65625 73.09375 36.375 \r\nQ 73.09375 19.140625 63.90625 8.859375 \r\nQ 54.734375 -1.421875 39.40625 -1.421875 \r\nQ 24.03125 -1.421875 14.8125 8.828125 \r\nQ 5.609375 19.09375 5.609375 36.375 \r\nQ 5.609375 53.65625 14.8125 63.9375 \r\nQ 24.03125 74.21875 39.40625 74.21875 \r\nz\r\n\" id=\"DejaVuSans-79\"/>\r\n     </defs>\r\n     <g transform=\"translate(130.36984 132.179437)scale(0.08 -0.08)\">\r\n      <use xlink:href=\"#DejaVuSans-79\"/>\r\n      <use x=\"78.710938\" xlink:href=\"#DejaVuSans-108\"/>\r\n      <use x=\"106.494141\" xlink:href=\"#DejaVuSans-121\"/>\r\n      <use x=\"165.673828\" xlink:href=\"#DejaVuSans-109\"/>\r\n      <use x=\"263.085938\" xlink:href=\"#DejaVuSans-112\"/>\r\n      <use x=\"326.5625\" xlink:href=\"#DejaVuSans-105\"/>\r\n      <use x=\"354.345703\" xlink:href=\"#DejaVuSans-99\"/>\r\n      <use x=\"409.326172\" xlink:href=\"#DejaVuSans-95\"/>\r\n      <use x=\"459.326172\" xlink:href=\"#DejaVuSans-71\"/>\r\n      <use x=\"536.816406\" xlink:href=\"#DejaVuSans-97\"/>\r\n      <use x=\"598.095703\" xlink:href=\"#DejaVuSans-109\"/>\r\n      <use x=\"695.507812\" xlink:href=\"#DejaVuSans-101\"/>\r\n      <use x=\"757.03125\" xlink:href=\"#DejaVuSans-115\"/>\r\n     </g>\r\n    </g>\r\n   </g>\r\n   <g id=\"text_16\">\r\n    <g clip-path=\"url(#p3671af9af1)\">\r\n     <!-- France -->\r\n     <defs>\r\n      <path d=\"M 9.8125 72.90625 \r\nL 51.703125 72.90625 \r\nL 51.703125 64.59375 \r\nL 19.671875 64.59375 \r\nL 19.671875 43.109375 \r\nL 48.578125 43.109375 \r\nL 48.578125 34.8125 \r\nL 19.671875 34.8125 \r\nL 19.671875 0 \r\nL 9.8125 0 \r\nz\r\n\" id=\"DejaVuSans-70\"/>\r\n     </defs>\r\n     <g transform=\"translate(181.380908 234.724299)scale(0.08 -0.08)\">\r\n      <use xlink:href=\"#DejaVuSans-70\"/>\r\n      <use x=\"57.410156\" xlink:href=\"#DejaVuSans-114\"/>\r\n      <use x=\"98.523438\" xlink:href=\"#DejaVuSans-97\"/>\r\n      <use x=\"159.802734\" xlink:href=\"#DejaVuSans-110\"/>\r\n      <use x=\"223.181641\" xlink:href=\"#DejaVuSans-99\"/>\r\n      <use x=\"278.162109\" xlink:href=\"#DejaVuSans-101\"/>\r\n     </g>\r\n    </g>\r\n   </g>\r\n   <g id=\"text_17\">\r\n    <g clip-path=\"url(#p3671af9af1)\">\r\n     <!-- Germany -->\r\n     <g transform=\"translate(190.861241 173.07955)scale(0.08 -0.08)\">\r\n      <use xlink:href=\"#DejaVuSans-71\"/>\r\n      <use x=\"77.490234\" xlink:href=\"#DejaVuSans-101\"/>\r\n      <use x=\"139.013672\" xlink:href=\"#DejaVuSans-114\"/>\r\n      <use x=\"180.111328\" xlink:href=\"#DejaVuSans-109\"/>\r\n      <use x=\"277.523438\" xlink:href=\"#DejaVuSans-97\"/>\r\n      <use x=\"338.802734\" xlink:href=\"#DejaVuSans-110\"/>\r\n      <use x=\"402.181641\" xlink:href=\"#DejaVuSans-121\"/>\r\n     </g>\r\n    </g>\r\n   </g>\r\n   <g id=\"text_18\">\r\n    <g clip-path=\"url(#p3671af9af1)\">\r\n     <!-- Norway -->\r\n     <g transform=\"translate(211.815928 111.962085)scale(0.08 -0.08)\">\r\n      <use xlink:href=\"#DejaVuSans-78\"/>\r\n      <use x=\"74.804688\" xlink:href=\"#DejaVuSans-111\"/>\r\n      <use x=\"135.986328\" xlink:href=\"#DejaVuSans-114\"/>\r\n      <use x=\"177.099609\" xlink:href=\"#DejaVuSans-119\"/>\r\n      <use x=\"258.886719\" xlink:href=\"#DejaVuSans-97\"/>\r\n      <use x=\"320.166016\" xlink:href=\"#DejaVuSans-121\"/>\r\n     </g>\r\n    </g>\r\n   </g>\r\n   <g id=\"text_19\">\r\n    <g clip-path=\"url(#p3671af9af1)\">\r\n     <!-- Iceland -->\r\n     <defs>\r\n      <path d=\"M 9.8125 72.90625 \r\nL 19.671875 72.90625 \r\nL 19.671875 0 \r\nL 9.8125 0 \r\nz\r\n\" id=\"DejaVuSans-73\"/>\r\n     </defs>\r\n     <g transform=\"translate(144.943857 34.399236)scale(0.08 -0.08)\">\r\n      <use xlink:href=\"#DejaVuSans-73\"/>\r\n      <use x=\"29.492188\" xlink:href=\"#DejaVuSans-99\"/>\r\n      <use x=\"84.472656\" xlink:href=\"#DejaVuSans-101\"/>\r\n      <use x=\"145.996094\" xlink:href=\"#DejaVuSans-108\"/>\r\n      <use x=\"173.779297\" xlink:href=\"#DejaVuSans-97\"/>\r\n      <use x=\"235.058594\" xlink:href=\"#DejaVuSans-110\"/>\r\n      <use x=\"298.4375\" xlink:href=\"#DejaVuSans-100\"/>\r\n     </g>\r\n    </g>\r\n   </g>\r\n   <g id=\"text_20\">\r\n    <g clip-path=\"url(#p3671af9af1)\">\r\n     <!-- Tourism -->\r\n     <defs>\r\n      <path d=\"M -0.296875 72.90625 \r\nL 61.375 72.90625 \r\nL 61.375 64.59375 \r\nL 35.5 64.59375 \r\nL 35.5 0 \r\nL 25.59375 0 \r\nL 25.59375 64.59375 \r\nL -0.296875 64.59375 \r\nz\r\n\" id=\"DejaVuSans-84\"/>\r\n     </defs>\r\n     <g transform=\"translate(95.066182 38.217806)scale(0.08 -0.08)\">\r\n      <use xlink:href=\"#DejaVuSans-84\"/>\r\n      <use x=\"60.818359\" xlink:href=\"#DejaVuSans-111\"/>\r\n      <use x=\"122\" xlink:href=\"#DejaVuSans-117\"/>\r\n      <use x=\"185.378906\" xlink:href=\"#DejaVuSans-114\"/>\r\n      <use x=\"226.492188\" xlink:href=\"#DejaVuSans-105\"/>\r\n      <use x=\"254.275391\" xlink:href=\"#DejaVuSans-115\"/>\r\n      <use x=\"306.375\" xlink:href=\"#DejaVuSans-109\"/>\r\n     </g>\r\n    </g>\r\n   </g>\r\n   <g id=\"text_21\">\r\n    <g clip-path=\"url(#p3671af9af1)\">\r\n     <!-- Greece -->\r\n     <g transform=\"translate(136.196552 175.57786)scale(0.08 -0.08)\">\r\n      <use xlink:href=\"#DejaVuSans-71\"/>\r\n      <use x=\"77.490234\" xlink:href=\"#DejaVuSans-114\"/>\r\n      <use x=\"118.572266\" xlink:href=\"#DejaVuSans-101\"/>\r\n      <use x=\"180.095703\" xlink:href=\"#DejaVuSans-101\"/>\r\n      <use x=\"241.619141\" xlink:href=\"#DejaVuSans-99\"/>\r\n      <use x=\"296.599609\" xlink:href=\"#DejaVuSans-101\"/>\r\n     </g>\r\n    </g>\r\n   </g>\r\n   <g id=\"text_22\">\r\n    <g clip-path=\"url(#p3671af9af1)\">\r\n     <!-- Athens -->\r\n     <g transform=\"translate(302.344867 272.415764)scale(0.08 -0.08)\">\r\n      <use xlink:href=\"#DejaVuSans-65\"/>\r\n      <use x=\"68.392578\" xlink:href=\"#DejaVuSans-116\"/>\r\n      <use x=\"107.601562\" xlink:href=\"#DejaVuSans-104\"/>\r\n      <use x=\"170.980469\" xlink:href=\"#DejaVuSans-101\"/>\r\n      <use x=\"232.503906\" xlink:href=\"#DejaVuSans-110\"/>\r\n      <use x=\"295.882812\" xlink:href=\"#DejaVuSans-115\"/>\r\n     </g>\r\n    </g>\r\n   </g>\r\n   <g id=\"text_23\">\r\n    <g clip-path=\"url(#p3671af9af1)\">\r\n     <!-- 1896_Summer_Olympics -->\r\n     <defs>\r\n      <path d=\"M 12.40625 8.296875 \r\nL 28.515625 8.296875 \r\nL 28.515625 63.921875 \r\nL 10.984375 60.40625 \r\nL 10.984375 69.390625 \r\nL 28.421875 72.90625 \r\nL 38.28125 72.90625 \r\nL 38.28125 8.296875 \r\nL 54.390625 8.296875 \r\nL 54.390625 0 \r\nL 12.40625 0 \r\nz\r\n\" id=\"DejaVuSans-49\"/>\r\n      <path d=\"M 31.78125 34.625 \r\nQ 24.75 34.625 20.71875 30.859375 \r\nQ 16.703125 27.09375 16.703125 20.515625 \r\nQ 16.703125 13.921875 20.71875 10.15625 \r\nQ 24.75 6.390625 31.78125 6.390625 \r\nQ 38.8125 6.390625 42.859375 10.171875 \r\nQ 46.921875 13.96875 46.921875 20.515625 \r\nQ 46.921875 27.09375 42.890625 30.859375 \r\nQ 38.875 34.625 31.78125 34.625 \r\nz\r\nM 21.921875 38.8125 \r\nQ 15.578125 40.375 12.03125 44.71875 \r\nQ 8.5 49.078125 8.5 55.328125 \r\nQ 8.5 64.0625 14.71875 69.140625 \r\nQ 20.953125 74.21875 31.78125 74.21875 \r\nQ 42.671875 74.21875 48.875 69.140625 \r\nQ 55.078125 64.0625 55.078125 55.328125 \r\nQ 55.078125 49.078125 51.53125 44.71875 \r\nQ 48 40.375 41.703125 38.8125 \r\nQ 48.828125 37.15625 52.796875 32.3125 \r\nQ 56.78125 27.484375 56.78125 20.515625 \r\nQ 56.78125 9.90625 50.3125 4.234375 \r\nQ 43.84375 -1.421875 31.78125 -1.421875 \r\nQ 19.734375 -1.421875 13.25 4.234375 \r\nQ 6.78125 9.90625 6.78125 20.515625 \r\nQ 6.78125 27.484375 10.78125 32.3125 \r\nQ 14.796875 37.15625 21.921875 38.8125 \r\nz\r\nM 18.3125 54.390625 \r\nQ 18.3125 48.734375 21.84375 45.5625 \r\nQ 25.390625 42.390625 31.78125 42.390625 \r\nQ 38.140625 42.390625 41.71875 45.5625 \r\nQ 45.3125 48.734375 45.3125 54.390625 \r\nQ 45.3125 60.0625 41.71875 63.234375 \r\nQ 38.140625 66.40625 31.78125 66.40625 \r\nQ 25.390625 66.40625 21.84375 63.234375 \r\nQ 18.3125 60.0625 18.3125 54.390625 \r\nz\r\n\" id=\"DejaVuSans-56\"/>\r\n      <path d=\"M 10.984375 1.515625 \r\nL 10.984375 10.5 \r\nQ 14.703125 8.734375 18.5 7.8125 \r\nQ 22.3125 6.890625 25.984375 6.890625 \r\nQ 35.75 6.890625 40.890625 13.453125 \r\nQ 46.046875 20.015625 46.78125 33.40625 \r\nQ 43.953125 29.203125 39.59375 26.953125 \r\nQ 35.25 24.703125 29.984375 24.703125 \r\nQ 19.046875 24.703125 12.671875 31.3125 \r\nQ 6.296875 37.9375 6.296875 49.421875 \r\nQ 6.296875 60.640625 12.9375 67.421875 \r\nQ 19.578125 74.21875 30.609375 74.21875 \r\nQ 43.265625 74.21875 49.921875 64.515625 \r\nQ 56.59375 54.828125 56.59375 36.375 \r\nQ 56.59375 19.140625 48.40625 8.859375 \r\nQ 40.234375 -1.421875 26.421875 -1.421875 \r\nQ 22.703125 -1.421875 18.890625 -0.6875 \r\nQ 15.09375 0.046875 10.984375 1.515625 \r\nz\r\nM 30.609375 32.421875 \r\nQ 37.25 32.421875 41.125 36.953125 \r\nQ 45.015625 41.5 45.015625 49.421875 \r\nQ 45.015625 57.28125 41.125 61.84375 \r\nQ 37.25 66.40625 30.609375 66.40625 \r\nQ 23.96875 66.40625 20.09375 61.84375 \r\nQ 16.21875 57.28125 16.21875 49.421875 \r\nQ 16.21875 41.5 20.09375 36.953125 \r\nQ 23.96875 32.421875 30.609375 32.421875 \r\nz\r\n\" id=\"DejaVuSans-57\"/>\r\n      <path d=\"M 33.015625 40.375 \r\nQ 26.375 40.375 22.484375 35.828125 \r\nQ 18.609375 31.296875 18.609375 23.390625 \r\nQ 18.609375 15.53125 22.484375 10.953125 \r\nQ 26.375 6.390625 33.015625 6.390625 \r\nQ 39.65625 6.390625 43.53125 10.953125 \r\nQ 47.40625 15.53125 47.40625 23.390625 \r\nQ 47.40625 31.296875 43.53125 35.828125 \r\nQ 39.65625 40.375 33.015625 40.375 \r\nz\r\nM 52.59375 71.296875 \r\nL 52.59375 62.3125 \r\nQ 48.875 64.0625 45.09375 64.984375 \r\nQ 41.3125 65.921875 37.59375 65.921875 \r\nQ 27.828125 65.921875 22.671875 59.328125 \r\nQ 17.53125 52.734375 16.796875 39.40625 \r\nQ 19.671875 43.65625 24.015625 45.921875 \r\nQ 28.375 48.1875 33.59375 48.1875 \r\nQ 44.578125 48.1875 50.953125 41.515625 \r\nQ 57.328125 34.859375 57.328125 23.390625 \r\nQ 57.328125 12.15625 50.6875 5.359375 \r\nQ 44.046875 -1.421875 33.015625 -1.421875 \r\nQ 20.359375 -1.421875 13.671875 8.265625 \r\nQ 6.984375 17.96875 6.984375 36.375 \r\nQ 6.984375 53.65625 15.1875 63.9375 \r\nQ 23.390625 74.21875 37.203125 74.21875 \r\nQ 40.921875 74.21875 44.703125 73.484375 \r\nQ 48.484375 72.75 52.59375 71.296875 \r\nz\r\n\" id=\"DejaVuSans-54\"/>\r\n     </defs>\r\n     <g transform=\"translate(223.731595 224.288564)scale(0.08 -0.08)\">\r\n      <use xlink:href=\"#DejaVuSans-49\"/>\r\n      <use x=\"63.623047\" xlink:href=\"#DejaVuSans-56\"/>\r\n      <use x=\"127.246094\" xlink:href=\"#DejaVuSans-57\"/>\r\n      <use x=\"190.869141\" xlink:href=\"#DejaVuSans-54\"/>\r\n      <use x=\"254.492188\" xlink:href=\"#DejaVuSans-95\"/>\r\n      <use x=\"304.492188\" xlink:href=\"#DejaVuSans-83\"/>\r\n      <use x=\"367.96875\" xlink:href=\"#DejaVuSans-117\"/>\r\n      <use x=\"431.347656\" xlink:href=\"#DejaVuSans-109\"/>\r\n      <use x=\"528.759766\" xlink:href=\"#DejaVuSans-109\"/>\r\n      <use x=\"626.171875\" xlink:href=\"#DejaVuSans-101\"/>\r\n      <use x=\"687.695312\" xlink:href=\"#DejaVuSans-114\"/>\r\n      <use x=\"728.808594\" xlink:href=\"#DejaVuSans-95\"/>\r\n      <use x=\"778.808594\" xlink:href=\"#DejaVuSans-79\"/>\r\n      <use x=\"857.519531\" xlink:href=\"#DejaVuSans-108\"/>\r\n      <use x=\"885.302734\" xlink:href=\"#DejaVuSans-121\"/>\r\n      <use x=\"944.482422\" xlink:href=\"#DejaVuSans-109\"/>\r\n      <use x=\"1041.894531\" xlink:href=\"#DejaVuSans-112\"/>\r\n      <use x=\"1105.371094\" xlink:href=\"#DejaVuSans-105\"/>\r\n      <use x=\"1133.154297\" xlink:href=\"#DejaVuSans-99\"/>\r\n      <use x=\"1188.134766\" xlink:href=\"#DejaVuSans-115\"/>\r\n     </g>\r\n    </g>\r\n   </g>\r\n   <g id=\"text_24\">\r\n    <g clip-path=\"url(#p3671af9af1)\">\r\n     <!-- Sport -->\r\n     <g transform=\"translate(219.721165 181.575084)scale(0.08 -0.08)\">\r\n      <use xlink:href=\"#DejaVuSans-83\"/>\r\n      <use x=\"63.476562\" xlink:href=\"#DejaVuSans-112\"/>\r\n      <use x=\"126.953125\" xlink:href=\"#DejaVuSans-111\"/>\r\n      <use x=\"188.134766\" xlink:href=\"#DejaVuSans-114\"/>\r\n      <use x=\"229.248047\" xlink:href=\"#DejaVuSans-116\"/>\r\n     </g>\r\n    </g>\r\n   </g>\r\n  </g>\r\n </g>\r\n <defs>\r\n  <clipPath id=\"p3671af9af1\">\r\n   <rect height=\"288\" width=\"432\" x=\"7.2\" y=\"7.2\"/>\r\n  </clipPath>\r\n </defs>\r\n</svg>\r\n",
      "image/png": "[encoded data removed]"
     },
     "metadata": {}
    }
   ],
   "source": [
    "# load the sequences\n",
    "s1 = load_sequences(\"Apollo\", \"Skiing\")\n",
    "\n",
    "# draw the directed graph\n",
    "G = nx.DiGraph()\n",
    "edges = []\n",
    "for i in range(len(s1)):\n",
    "    edges += list(zip(s1[i][:-1],s1[i][1:]))\n",
    "G.add_edges_from(edges)\n",
    "\n",
    "#dfg = plt.figure(3,figsize=(10,10)) \n",
    "pos = nx.spring_layout(G)\n",
    "nx.draw(G,pos,node_color='#A0CBE2',width=1,font_size=8, with_labels=True)\n",
    "plt.savefig(\"apollo_skiing.png\")"
   ]
  },
  {
   "cell_type": "code",
   "execution_count": 11,
   "metadata": {},
   "outputs": [],
   "source": [
    "# argument and write it the txt file\n",
    "apollo_skiing = \"Directed graph is a smiple and good method to visualize the sequential transitions. \\\n",
    "However the layout of the apollo_skiing directed graph is bad, there are many edges crossing each other.\\\n",
    "Besides some of the nodes are too close to each other which leads to overlapping and make it difficult \\\n",
    "to understand the graph \"\n",
    "\n",
    "outF = open(\"apollo_skiing.txt\", \"w\")\n",
    "outF.write(\"apollo_skiing visualisation argument: {0}\".format(apollo_skiing))\n",
    "outF.close()"
   ]
  },
  {
   "cell_type": "markdown",
   "metadata": {},
   "source": [
    "## 2b) Classic link prediction metrics (0.5+0.5+1)\n",
    "\n",
    "In this task you should compute different metrics for link prediction. Do not use functions from networkx. Assume the graph is undirected.\n",
    "\n",
    "Write the functions `Jaccard_link(A)`, `Adamic_Adar_link(A)` and `Katz_link(A, beta)`.\n",
    "The parameter A is a binary adjancency matrix (assume a 2d-numpy array, it can be dense or sparse), beta is defined in the lecture. They both return a matrix with the corresponding scores for all the nodes in the network.\n",
    "Help for Katz: Search for geometric series of matrices ;). Raise a ValueError if the provided `beta` is to large.\n",
    "\n",
    "The package networkx contains the Zachary’s Karate Club graph. It also contains functions that compute link scores. You can use it for testing."
   ]
  },
  {
   "cell_type": "code",
   "execution_count": 12,
   "metadata": {},
   "outputs": [],
   "source": [
    "import numpy as np\n",
    "G = nx.karate_club_graph()\n",
    "A = nx.adjacency_matrix(G).todense()\n",
    "# A = A.A"
   ]
  },
  {
   "cell_type": "code",
   "execution_count": 13,
   "metadata": {},
   "outputs": [],
   "source": [
    "def Jaccard_link(A):\n",
    "    n = len(A)\n",
    "    def calc_Jaccard(node1, node2):\n",
    "        nei1 = set([i for i in range(n) if A[node1,i] == 1])\n",
    "        nei2 = set([i for i in range(n) if A[node2,i] == 1])\n",
    "        com_nei = nei1 & nei2\n",
    "        if not com_nei: return 0\n",
    "        return len(com_nei) / len(nei1|nei2)\n",
    "    res = [[1]*n for i in range(n)]\n",
    "    for i in range(n):\n",
    "        for j in range(n):\n",
    "            if i != j: res[i][j] = calc_Jaccard(i,j)\n",
    "    return np.array(res)\n",
    "\n",
    "def Adamic_Adar_link(A):\n",
    "    n = len(A)\n",
    "    def calc_Adamic_Adar(node1,node2):\n",
    "        nei1 = set([i for i in range(n) if A[node1,i] == 1])\n",
    "        nei2 = set([i for i in range(n) if A[node2,i] == 1])\n",
    "        com_nei = nei1 & nei2\n",
    "        score = 0\n",
    "        if com_nei:\n",
    "            for i in com_nei:\n",
    "                score += 1/np.log(np.sum(A[i]))\n",
    "            return score\n",
    "        return 0\n",
    "    res = [[1]*n for i in range(n)]\n",
    "    for i in range(n):\n",
    "        for j in range(n):\n",
    "            if i ==j : res[i][j] = 0\n",
    "            else: res[i][j] = calc_Adamic_Adar(i,j)\n",
    "    return np.array(res)\n",
    "\n",
    "def Katz_link(A, beta):\n",
    "    I = np.identity(len(A))\n",
    "    try:\n",
    "        if beta >= 1 or beta < 0: raise ValueError('incorrect beta')\n",
    "        else:\n",
    "            return np.linalg.inv(I-beta*A)-I\n",
    "    except ValueError as e:\n",
    "        raise e"
   ]
  },
  {
   "cell_type": "markdown",
   "metadata": {},
   "source": [
    "## 2c) Evaluate link prediction with mean inverse rank (1.5)\n",
    "\n",
    "To evaluate your link prediction we will use the mean inverse rank (mir). The basic idea is, that edges that really exist should be ranked higher by your metric in comparison with edges that do not exist.\n",
    "\n",
    "Starting from train/test split of the edges you rank the missing edges according to the metric in descending order. Now for all the heldout edges you obtain the place at which this ground truth edge is in the list of edges. This is the rank of the edge. You then calculate the mean of the inverse rank (1/rank) of all heldout edges.\n",
    "\n",
    "Write a function `cross_val_mir(G, func)` that computes the mean inverse rank for function `func` assume that the function takes a binary adjacency matrix and no other parameter. G is an undirected networkx graph. Use 10 fold cross validation on the edge set. Use np.array_split to split the edges in G into the 10 chunks. Return 1) the average mean inverse rank and 2) the standard deviation of the mir.\n",
    "\n",
    "Apply this function to the three link prediction metrics you previously defined. Use the Zachary Karate Club graph as provided in the networkx package. Store the results as a dict \n",
    "```python\n",
    "{\"Jaccard\" : 0.0,\n",
    " \"Adamic\" : 0.0,\n",
    " \"Katz\" : 0.0}\n",
    "```\n",
    "in `results_2c`. Store the beta you used for `Katz` in the variable `beta_2c`.\n",
    "\n"
   ]
  },
  {
   "cell_type": "code",
   "execution_count": 14,
   "metadata": {},
   "outputs": [],
   "source": [
    "def cross_val_mir(G, func):\n",
    "    edges = list(G.edges)\n",
    "    split_edges = np.array_split(edges, 10)\n",
    "    mir_list = [] # store mir for each 10-fold\n",
    "    for i in range(10):\n",
    "        test  = split_edges[i]\n",
    "        train = split_edges[:i] + split_edges[i+1:]\n",
    "        #create adjacent matrix\n",
    "        M = np.zeros(shape = (len(G.nodes),len(G.nodes)))\n",
    "\n",
    "        train_edges = [] #collect all trained egdges\n",
    "        for edge_list in train:\n",
    "            for i,j in edge_list:\n",
    "                M[i][j] = 1\n",
    "                M[j][i] = 1\n",
    "                train_edges.append([i,j])\n",
    "        # print(len(train_edges))\n",
    "        M = M.astype(int)\n",
    "        link_score = func(M) #calaulate metric\n",
    "\n",
    "        missing_edges = {} # the edges not in train set. key: edge(i,j), value: score in link_score\n",
    "        for i in range(len(G.nodes)):\n",
    "            for j in range(i+1,len(G.nodes)):\n",
    "                if [i,j] not in train_edges:\n",
    "                    missing_edges[(i,j)] = link_score[i,j]\n",
    "        # print(len(missing_edges))\n",
    "        sorted_missing_edges = [s for s in sorted(list(set(missing_edges.values())),reverse=True)]\n",
    "        # print(sorted_missing_edges)\n",
    "\n",
    "        inverse_rank_list = []\n",
    "        for edge in test:\n",
    "            i,j = edge[0], edge[1]\n",
    "            # print(i,j)\n",
    "            rank = sorted_missing_edges.index(missing_edges[(i,j)])+1\n",
    "            inverse_rank = 1/rank\n",
    "            inverse_rank_list.append(inverse_rank)\n",
    "\n",
    "        mir = np.mean(inverse_rank_list)\n",
    "        mir_list.append(mir)\n",
    "    # print(mir_list)\n",
    "    average_mean = np.mean(mir_list)\n",
    "    std = np.std(mir_list)\n",
    "\n",
    "    return average_mean, std"
   ]
  },
  {
   "cell_type": "code",
   "execution_count": 15,
   "metadata": {},
   "outputs": [
    {
     "output_type": "execute_result",
     "data": {
      "text/plain": "{'Jaccard': [0.14065256087190742, 0.15348233155114244],\n 'Adamic': [0.05817402426547717, 0.05240708041641596],\n 'Katz': [0.02521104665648046, 0.04218175263407232]}"
     },
     "metadata": {},
     "execution_count": 15
    }
   ],
   "source": [
    "G = nx.karate_club_graph()\n",
    "m_1, std_1 = cross_val_mir(G, Jaccard_link)\n",
    "m_2, std_2 = cross_val_mir(G, Adamic_Adar_link)\n",
    "from functools import partial\n",
    "Katz_link = partial(Katz_link,beta=0.1)\n",
    "m_3, std_3 = cross_val_mir(G, Katz_link)\n",
    "results_2c = {}\n",
    "results_2c['Jaccard'] = [m_1, std_1]\n",
    "results_2c['Adamic'] = [m_2, std_2]\n",
    "results_2c['Katz'] = [m_3, std_3]\n",
    "results_2c"
   ]
  },
  {
   "cell_type": "markdown",
   "metadata": {},
   "source": [
    "## 2c) Random walks on a graph (1)\n",
    "\n",
    "Write a function `random_walks(A, start_node, length, rng)` that yields random walks of length `length` starting at node_index `start_node` on a graph given by a binary adjacency matrix `A`. Assume the graph is undirected. At each node the walker walks to another node at random. Do not use any restart conditions. At any node determine the k nodes to pick next choose that node with to go next with a call to `rng.randint(0,k)`."
   ]
  },
  {
   "cell_type": "code",
   "execution_count": 16,
   "metadata": {},
   "outputs": [],
   "source": [
    "def random_walks(A, start_node, length, rng):\n",
    "    yield start_node\n",
    "    for i in range(0,length):\n",
    "        n = len(A)\n",
    "        nei = [i for i in range(n) if A[start_node,i]==1]\n",
    "        if not nei: dest_node = start_node\n",
    "        else:\n",
    "            dest_index = rng.randint(0,len(nei))\n",
    "            dest_node = nei[dest_index]\n",
    "        yield dest_node\n",
    "        start_node = dest_node"
   ]
  },
  {
   "cell_type": "code",
   "execution_count": 17,
   "metadata": {},
   "outputs": [
    {
     "output_type": "execute_result",
     "data": {
      "text/plain": "[0, 1, 19, 1, 19, 0, 19, 0, 10, 4, 10]"
     },
     "metadata": {},
     "execution_count": 17
    }
   ],
   "source": [
    "from numpy import random as rng\n",
    "list(random_walks(A, 0, 10, rng))"
   ]
  },
  {
   "cell_type": "markdown",
   "metadata": {},
   "source": [
    "## 2d) Node2vec (1.5)\n",
    "\n",
    "Using your function `random_walks` along with the gensim.models.Word2Vec function to train a node2vec model.\n",
    "Write a helper function `get_corpus(A, length, n_per_node, rng)` that takes the binary adjacency matrix and creates a corpus (list of sequence of integers). It thereby uses the random walks function previously defined. To obtain `n_per_node` univariate sequences for each node. Go through the nodes in ascending order. Finally shuffle the list of sequences obtained using `np.permutation`. Return that sequence.\n",
    "\n",
    "Thereafter write a function `node2vec(G, dimensions, length, n_per_node, rng)` that trains Word2Vec embeddings of a specified number of dimensions for the networkx-graph G. It first creates a corpus for graph G, using the helper function. It then relabels the corpus such that the entries are the same as in the graph. It then uses gensim.models.word2vec to train a node embedding. Use default arguments for word2vec unless specified otherwise. (Only provide the corpus and the dimensions)"
   ]
  },
  {
   "cell_type": "code",
   "execution_count": 18,
   "metadata": {},
   "outputs": [],
   "source": [
    "from gensim.models import Word2Vec\n",
    "\n",
    "def get_corpus(A, length, n_per_node, rng):\n",
    "    num_nodes = len(A)\n",
    "    corpus = []\n",
    "    for i in range(num_nodes):\n",
    "        for j in range(n_per_node):\n",
    "            seq = list(random_walks(A,i,length,rng))\n",
    "            corpus.append(seq)\n",
    "    return np.random.permutation(corpus)\n",
    "\n",
    "def node2vec(G, dimensions, length, n_per_node, rng):\n",
    "    A = nx.adjacency_matrix(G).todense()\n",
    "    corpus = get_corpus(A, length, n_per_node, rng)\n",
    "    corpus_with_label = [[0]*length for i in range(len(corpus))]\n",
    "    nodes_label = list(G.nodes)\n",
    "    # print(nodes_label)\n",
    "    for i in range(len(corpus)):\n",
    "        for j in range(length):\n",
    "            corpus_with_label[i][j] = str(nodes_label[corpus[i][j]])\n",
    "    # print(corpus_with_label)\n",
    "    model = Word2Vec(corpus_with_label, size=dimensions)\n",
    "    return model"
   ]
  },
  {
   "cell_type": "code",
   "execution_count": 19,
   "metadata": {},
   "outputs": [
    {
     "output_type": "execute_result",
     "data": {
      "text/plain": "array([ 0.04060218, -0.0563339 ,  0.00922851,  0.31044602, -0.03348218,\n        0.39349604, -0.03087212, -0.48987803, -0.0234148 ,  0.16754717],\n      dtype=float32)"
     },
     "metadata": {},
     "execution_count": 19
    }
   ],
   "source": [
    "# load the sequences\n",
    "s1 = load_sequences(\"Apollo\", \"Skiing\")\n",
    "\n",
    "# draw the directed graph\n",
    "G = nx.DiGraph()\n",
    "edges = []\n",
    "for i in range(len(s1)):\n",
    "    edges += list(zip(s1[i][:-1],s1[i][1:]))\n",
    "G.add_edges_from(edges)\n",
    "\n",
    "model = node2vec(G, 10, 20, 5, rng)\n",
    "model.wv['Apollo']"
   ]
  },
  {
   "cell_type": "markdown",
   "metadata": {},
   "source": [
    "## 2e) Word2Vec/Node2Vec vs Glove (1)\n",
    "\n",
    "Explain the differences and similarities of the Anything2vec approach and Glove. Save your explanation as a string in the variable `glove`. Also write it to a file `glove.txt`"
   ]
  },
  {
   "cell_type": "code",
   "execution_count": 20,
   "metadata": {},
   "outputs": [],
   "source": [
    "glove = \"Similarity: Both methods can be used to train the word embedding and provide a vector per word as output. Besides, the word embedding provided\\\n",
    "        by both anthing2vec and Glove capture semantic relatedness and semantic similarity. Additionally both two methods have the drawback that they can not \\\n",
    "        provide embedding to out-of-vocalbulary words.\\\n",
    "        Differences: anthingtovec train the embedding based on prediction and there is a overall loss function. The optimal embedding is found\\\n",
    "        when the overall prediction loss is minimum. On the country, Glove train the embedding based on the cooccurance-matrix, wi * wj.T = p(i]j)\\\n",
    "        the product of two word vectors represents the conditional probability. The optimal embedding is found when the square error between the \\\n",
    "        cocurrence term log(Xij) and word vector product wi * wj.T is minumum. \"\n",
    "\n",
    "outF = open(\"glove.txt\", \"w\")\n",
    "outF.write(\"Explain the differences and similarities of the Anything2vec approach and Glove: {0}\".format(glove))\n",
    "outF.close()"
   ]
  }
 ],
 "metadata": {
  "kernelspec": {
   "display_name": "Python 3",
   "language": "python",
   "name": "python3"
  },
  "language_info": {
   "codemirror_mode": {
    "name": "ipython",
    "version": 3
   },
   "file_extension": ".py",
   "mimetype": "text/x-python",
   "name": "python",
   "nbconvert_exporter": "python",
   "pygments_lexer": "ipython3",
   "version": "3.7.4-final"
  }
 },
 "nbformat": 4,
 "nbformat_minor": 2
}